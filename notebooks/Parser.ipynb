{
 "cells": [
  {
   "cell_type": "code",
   "execution_count": 24,
   "metadata": {
    "ExecuteTime": {
     "end_time": "2017-11-01T20:19:36.428473Z",
     "start_time": "2017-11-01T20:19:36.384029Z"
    }
   },
   "outputs": [],
   "source": [
    "import pandas as pd\n",
    "import numpy as np\n",
    "import os"
   ]
  },
  {
   "cell_type": "code",
   "execution_count": 2,
   "metadata": {
    "ExecuteTime": {
     "end_time": "2017-09-25T02:30:57.584846Z",
     "start_time": "2017-09-25T02:30:57.568146Z"
    },
    "collapsed": true
   },
   "outputs": [],
   "source": [
    "# competencies = pd.read_csv(\"competencies.csv\")\n",
    "# competencies = competencies.dropna()[['Id', 'Интересы']]\n",
    "# social = pd.read_excel(\"social.xlsx\", names=['id', 'name', 'fb', 'ok', 'vk', 'email', 'twitter'])\n",
    "# accepted = social.fb.dropna().index | social.vk.dropna().index\n",
    "# social = social.loc[accepted, ['name', 'id', 'vk', 'fb']]\n",
    "# social.vk = social.vk.apply(lambda x: str(x).split(\"/\")[-1])\n",
    "# social.fb = social.fb.apply(lambda x: str(x).split(\"/\")[-1])\n",
    "# social.fb = social.fb.apply(lambda x: str(x).split(\"id=\")[-1])\n",
    "# social.fb = social.fb.apply(lambda x: str(x).split(\"?ref=\")[0])\n",
    "# social.fb = social.fb.replace('nan', np.nan)\n",
    "# social = social.merge(df[['vk', 'vk_id']], how='outer', on='vk')\n",
    "# social.vk = social.vk_id.fillna(0)\n",
    "# social = social.replace(0, np.nan).drop(labels=['vk_id'], axis=1)\n",
    "# social.set_index('id', inplace=True)\n",
    "# social = social.merge(how='inner', right=competencies, left_index=True, right_on='Id').drop(\"Id\", axis=1)\n",
    "# social.to_msgpack(\"assets/social.msg\")\n",
    "\n",
    "# def get_id(screen_name):\n",
    "#     try:\n",
    "#         item = vk.users.get(user_ids=screen_name)\n",
    "#         if 'deactivated' not in item:\n",
    "#             return item[0]['id']\n",
    "#     except Exception as e:\n",
    "#         print(e.args)\n",
    "# Нужно замапить screen_name с их vk_id, поэтому придется обрабатывать по одному\n",
    "\n",
    "social = pd.read_msgpack(\"social.msg\")"
   ]
  },
  {
   "cell_type": "code",
   "execution_count": 25,
   "metadata": {
    "ExecuteTime": {
     "end_time": "2017-11-01T20:19:51.638999Z",
     "start_time": "2017-11-01T20:19:51.578198Z"
    }
   },
   "outputs": [],
   "source": [
    "social = pd.DataFrame([a.split() for a in \"\"\"Ольга Аврясова https://www.facebook.com/olga.avryasova?fref=ts\n",
    "Василий Быков https://www.facebook.com/vb77box?fref=ts\n",
    "Павел Подлипский https://www.facebook.com/profile.php?id=100001490423411\n",
    "Владимир Лебединский https://www.facebook.com/vlebedinskiy?fref=ts\"\"\".split(\"\\n\")], columns=[\"Ф\", \"И\", \"link\"])"
   ]
  },
  {
   "cell_type": "code",
   "execution_count": 26,
   "metadata": {
    "ExecuteTime": {
     "end_time": "2017-11-01T20:19:52.087054Z",
     "start_time": "2017-11-01T20:19:52.054148Z"
    }
   },
   "outputs": [],
   "source": [
    "social['ФИ'] = social['Ф'] + \" \" + social['И']"
   ]
  },
  {
   "cell_type": "code",
   "execution_count": 27,
   "metadata": {
    "ExecuteTime": {
     "end_time": "2017-11-01T20:19:52.660723Z",
     "start_time": "2017-11-01T20:19:52.624186Z"
    }
   },
   "outputs": [],
   "source": [
    "social = social[['ФИ', 'link']]"
   ]
  },
  {
   "cell_type": "code",
   "execution_count": 28,
   "metadata": {
    "ExecuteTime": {
     "end_time": "2017-11-01T20:19:52.905493Z",
     "start_time": "2017-11-01T20:19:52.891154Z"
    }
   },
   "outputs": [],
   "source": [
    "social = social.set_index('ФИ')"
   ]
  },
  {
   "cell_type": "code",
   "execution_count": 29,
   "metadata": {
    "ExecuteTime": {
     "end_time": "2017-11-01T20:19:54.419383Z",
     "start_time": "2017-11-01T20:19:54.414966Z"
    }
   },
   "outputs": [],
   "source": [
    "from selenium import webdriver\n",
    "from selenium.webdriver.common.keys import Keys\n"
   ]
  },
  {
   "cell_type": "code",
   "execution_count": 30,
   "metadata": {
    "ExecuteTime": {
     "end_time": "2017-11-01T20:19:55.146990Z",
     "start_time": "2017-11-01T20:19:55.093398Z"
    }
   },
   "outputs": [],
   "source": [
    "def parse_link_fb(driver, link):\n",
    "    if driver.current_url != link:\n",
    "        driver.get(link)\n",
    "    n = 0\n",
    "    lh = 0\n",
    "    MAX = 30\n",
    "\n",
    "    while n < MAX:\n",
    "        print('\\t{0}%'.format(round(100*n/MAX)))\n",
    "        n += 1\n",
    "        driver.execute_script(\"window.scrollTo(0, document.body.scrollHeight);\")\n",
    "        time.sleep(2)\n",
    "\n",
    "        q = driver.find_element_by_tag_name('body').size['height']\n",
    "        if lh == q:\n",
    "            break\n",
    "        lh = q\n",
    "\n",
    "    for i in driver.find_elements_by_xpath('//a[@class=\"see_more_link\"]'):\n",
    "        try:\n",
    "            i.click()\n",
    "        except BaseException: pass\n",
    "\n",
    "    q = driver.find_elements_by_xpath('//p')\n",
    "    result = [i.text for i in q]\n",
    "    return result"
   ]
  },
  {
   "cell_type": "code",
   "execution_count": 31,
   "metadata": {
    "ExecuteTime": {
     "end_time": "2017-11-01T20:19:57.966123Z",
     "start_time": "2017-11-01T20:19:56.031463Z"
    }
   },
   "outputs": [],
   "source": [
    "driver = webdriver.Chrome(\"../chromedriver\")"
   ]
  },
  {
   "cell_type": "code",
   "execution_count": 45,
   "metadata": {
    "ExecuteTime": {
     "end_time": "2017-11-01T20:30:29.582216Z",
     "start_time": "2017-11-01T20:24:44.147891Z"
    }
   },
   "outputs": [
    {
     "name": "stdout",
     "output_type": "stream",
     "text": [
      "\t0%\n",
      "\t3%\n",
      "\t0%\n",
      "\t3%\n",
      "\t7%\n",
      "\t10%\n",
      "\t13%\n",
      "\t17%\n",
      "\t20%\n",
      "\t23%\n",
      "\t27%\n",
      "\t30%\n",
      "\t33%\n",
      "\t37%\n",
      "\t40%\n",
      "\t43%\n",
      "\t47%\n",
      "\t50%\n",
      "\t53%\n",
      "\t57%\n",
      "\t60%\n",
      "\t63%\n",
      "\t67%\n",
      "\t70%\n",
      "\t73%\n",
      "\t77%\n",
      "\t80%\n",
      "\t83%\n",
      "\t87%\n",
      "\t90%\n",
      "\t93%\n",
      "\t97%\n",
      "\t0%\n",
      "\t3%\n",
      "\t7%\n",
      "\t10%\n",
      "\t13%\n",
      "\t17%\n",
      "\t20%\n",
      "\t23%\n",
      "\t27%\n",
      "\t30%\n",
      "\t33%\n",
      "\t37%\n",
      "\t40%\n",
      "\t43%\n",
      "\t47%\n",
      "\t50%\n",
      "\t53%\n",
      "\t57%\n",
      "\t60%\n",
      "\t63%\n",
      "\t67%\n",
      "\t70%\n",
      "\t73%\n",
      "\t77%\n",
      "\t80%\n",
      "\t83%\n",
      "\t87%\n",
      "\t90%\n",
      "\t93%\n",
      "\t97%\n",
      "\t0%\n",
      "\t3%\n",
      "\t7%\n",
      "\t10%\n",
      "\t13%\n",
      "\t17%\n",
      "\t20%\n",
      "\t23%\n",
      "\t27%\n",
      "\t30%\n",
      "\t33%\n",
      "\t37%\n",
      "\t40%\n",
      "\t43%\n",
      "\t47%\n",
      "\t50%\n",
      "\t53%\n",
      "\t57%\n",
      "\t60%\n",
      "\t63%\n",
      "\t67%\n",
      "\t70%\n",
      "\t73%\n",
      "\t77%\n",
      "\t80%\n",
      "\t83%\n",
      "\t87%\n",
      "\t90%\n",
      "\t93%\n",
      "\t97%\n"
     ]
    }
   ],
   "source": [
    "import time\n",
    "t = {}\n",
    "# At this time you need to authorize into Facebook in appeared Chrome window\n",
    "# time.sleep(30)\n",
    "for name, link in social.iterrows():\n",
    "    link = link['link']\n",
    "    t[name] = parse_link_fb(driver, link)"
   ]
  },
  {
   "cell_type": "code",
   "execution_count": 46,
   "metadata": {
    "ExecuteTime": {
     "end_time": "2017-11-01T20:32:03.797622Z",
     "start_time": "2017-11-01T20:32:03.774742Z"
    }
   },
   "outputs": [],
   "source": [
    "import json\n",
    "json.dump(t, open(\"t_0111.json\", \"w\"))"
   ]
  },
  {
   "cell_type": "code",
   "execution_count": 47,
   "metadata": {
    "ExecuteTime": {
     "end_time": "2017-11-01T20:32:09.052693Z",
     "start_time": "2017-11-01T20:32:06.619550Z"
    }
   },
   "outputs": [],
   "source": [
    "import itertools\n",
    "import pymorphy2\n",
    "import re\n",
    "import os\n",
    "import pandas as pd\n",
    "import time\n",
    "from nltk.tokenize import RegexpTokenizer\n",
    "\n",
    "import pickle\n",
    "import json\n",
    "import numpy as np\n",
    "from sklearn.preprocessing import normalize\n",
    "from keras.models import load_model\n",
    "\n",
    "from functools import lru_cache\n",
    "import tqdm\n",
    "class CorporaClass:\n",
    "    \"\"\"Class for setting up corpora\"\"\"\n",
    "\n",
    "    def __init__(self):\n",
    "        self.corpora = []\n",
    "        self.vocab = set()\n",
    "        self.labels = []\n",
    "\n",
    "    tokenizer = RegexpTokenizer('\\w+')\n",
    "    morph = pymorphy2.MorphAnalyzer()\n",
    "    ru_pattern = re.compile(\"[а-яА-Я]\")\n",
    "\n",
    "    @staticmethod\n",
    "    @lru_cache(maxsize=100000)\n",
    "    def full_process(text, tokenizer=tokenizer, morph=morph, ru_pattern=ru_pattern):\n",
    "        # Clear text from punctuation etc.'''\n",
    "        tokens = tokenizer.tokenize(text)\n",
    "\n",
    "        # Turn tokens into normal form excluding non-nouns or verbs\n",
    "        processed = []\n",
    "        for token in tokens:\n",
    "            morphed = morph.parse(token)[0].normal_form\n",
    "            nf_tag = str(morph.parse(morphed)[0].tag.POS)\n",
    "            if nf_tag in (\"NOUN\", \"ADJF\", \"INFN\", \"NUMR\") and len(token) < 16:\n",
    "                if len(morphed) == len(re.findall(ru_pattern, morphed)):\n",
    "                    processed.append(morphed)\n",
    "\n",
    "        return processed\n",
    "\n",
    "    def add_to_corpora(self, file_object, label):\n",
    "        doc = []\n",
    "        for line in file_object:\n",
    "            try:\n",
    "                processed = line\n",
    "            except Exception as e:\n",
    "                print(e)\n",
    "                processed = \"\"\n",
    "            if len(processed.split()) > 2:\n",
    "                doc.append(processed)\n",
    "        if len(doc) > 2:\n",
    "            self.corpora.append(doc)\n",
    "            self.labels.append(label)\n",
    "\n",
    "categories = ['art', 'politics', 'finances', 'strateg_management', 'law', 'elaboration', 'industry',\n",
    "                   'education', 'charity', 'public_health', 'agriculture', 'government_management', 'smm',\n",
    "                   'innovations', 'safety', 'military', 'corporative_management', 'social_safety', 'building',\n",
    "                   'entrepreneurship', 'sport', 'investitions']\n",
    "path = \"/Users/thepowerfuldeez/Dropbox/Projects/vk_text_classifier/assets/vk_texts_classifier.h5\"\n",
    "classifier = load_model(path)\n",
    "path = \"/Users/thepowerfuldeez/Dropbox/Projects/vk_text_classifier/assets/vectorizer.p\"\n",
    "vectorizer = pickle.load(open(path, \"rb\"))"
   ]
  },
  {
   "cell_type": "code",
   "execution_count": 48,
   "metadata": {
    "ExecuteTime": {
     "end_time": "2017-11-01T20:32:09.069565Z",
     "start_time": "2017-11-01T20:32:09.055440Z"
    }
   },
   "outputs": [],
   "source": [
    "def get_result(texts):\n",
    "    corpora_class = CorporaClass()\n",
    "    corpora_class.add_to_corpora(texts, '')\n",
    "    print(\"Added to corpora\")\n",
    "    try:\n",
    "        transformed = vectorizer.transform(corpora_class.corpora[0])\n",
    "        print(\"Transformed corpora.\")\n",
    "        predicted = classifier.predict(transformed.toarray())\n",
    "        verdict = normalize(np.sum(predicted, axis=0).reshape(1, -1))[0]\n",
    "        return list(zip(categories, verdict))\n",
    "    except:\n",
    "        return list(zip(categories, np.zeros(len(categories))))\n",
    "    "
   ]
  },
  {
   "cell_type": "code",
   "execution_count": 49,
   "metadata": {
    "ExecuteTime": {
     "end_time": "2017-11-01T20:32:09.107777Z",
     "start_time": "2017-11-01T20:32:09.074123Z"
    }
   },
   "outputs": [],
   "source": [
    "import json\n",
    "t = json.load(open(\"t_0111.json\"))"
   ]
  },
  {
   "cell_type": "code",
   "execution_count": 50,
   "metadata": {
    "ExecuteTime": {
     "end_time": "2017-11-01T20:32:11.543748Z",
     "start_time": "2017-11-01T20:32:11.535286Z"
    }
   },
   "outputs": [],
   "source": [
    "cols = [\"ФИ\"] + categories\n",
    "result = pd.DataFrame(columns=cols)"
   ]
  },
  {
   "cell_type": "code",
   "execution_count": 51,
   "metadata": {
    "ExecuteTime": {
     "end_time": "2017-11-01T20:32:14.286450Z",
     "start_time": "2017-11-01T20:32:12.151654Z"
    }
   },
   "outputs": [
    {
     "name": "stdout",
     "output_type": "stream",
     "text": [
      "Added to corpora\n",
      "Added to corpora\n",
      "Transformed corpora.\n",
      "Added to corpora\n",
      "Transformed corpora.\n",
      "Added to corpora\n",
      "Transformed corpora.\n"
     ]
    }
   ],
   "source": [
    "a = []\n",
    "for name, texts in t.items():\n",
    "    l = [name] + [b for a, b in get_result(texts)]\n",
    "    a.append(l)"
   ]
  },
  {
   "cell_type": "code",
   "execution_count": 52,
   "metadata": {
    "ExecuteTime": {
     "end_time": "2017-11-01T20:32:16.434352Z",
     "start_time": "2017-11-01T20:32:16.429218Z"
    }
   },
   "outputs": [],
   "source": [
    "result = pd.DataFrame(a, columns=cols)"
   ]
  },
  {
   "cell_type": "code",
   "execution_count": 53,
   "metadata": {
    "ExecuteTime": {
     "end_time": "2017-11-01T20:32:18.200647Z",
     "start_time": "2017-11-01T20:32:18.194887Z"
    }
   },
   "outputs": [],
   "source": [
    "result.to_csv(\"result_0111.csv\")"
   ]
  },
  {
   "cell_type": "code",
   "execution_count": 66,
   "metadata": {
    "ExecuteTime": {
     "end_time": "2017-08-24T21:50:45.218488Z",
     "start_time": "2017-08-24T21:15:30.621154Z"
    },
    "collapsed": true
   },
   "outputs": [
    {
     "name": "stdout",
     "output_type": "stream",
     "text": [
      "[maria.morozova.479]: 66%\n",
      "\t0%\n",
      "\t3%\n",
      "\t7%\n",
      "\t10%\n",
      "\t13%\n",
      "\t17%\n",
      "\t20%\n",
      "\t23%\n",
      "\t27%\n",
      "\t30%\n",
      "\t33%\n",
      "\t37%\n",
      "\t40%\n",
      "\t43%\n",
      "\t47%\n",
      "\t50%\n",
      "[kamal.daudov]: 67%\n",
      "\t0%\n",
      "\t3%\n",
      "\t7%\n",
      "\t10%\n",
      "\t13%\n",
      "\t17%\n",
      "\t20%\n",
      "\t23%\n",
      "\t27%\n",
      "\t30%\n",
      "[khomyakov.yuri?fref=ts]: 67%\n",
      "\t0%\n",
      "\t3%\n",
      "[100004412764109]: 67%\n",
      "\t0%\n",
      "\t3%\n",
      "\t7%\n",
      "\t10%\n",
      "\t13%\n",
      "\t17%\n",
      "[sergey kruchinkin]: 67%\n",
      "\t0%\n",
      "\t3%\n",
      "[100010615158719]: 67%\n",
      "\t0%\n",
      "\t3%\n",
      "\t7%\n",
      "\t10%\n",
      "\t13%\n",
      "\t17%\n",
      "\t20%\n",
      "\t23%\n",
      "\t27%\n",
      "\t30%\n",
      "\t33%\n",
      "\t37%\n",
      "\t40%\n",
      "\t43%\n",
      "\t47%\n",
      "\t50%\n",
      "\t53%\n",
      "\t57%\n",
      "\t60%\n",
      "\t63%\n",
      "\t67%\n",
      "\t70%\n",
      "\t73%\n",
      "\t77%\n",
      "\t80%\n",
      "\t83%\n",
      "\t87%\n",
      "\t90%\n",
      "\t93%\n",
      "\t97%\n",
      "[al3ru]: 67%\n",
      "\t0%\n",
      "\t3%\n",
      "\t7%\n",
      "\t10%\n",
      "\t13%\n",
      "\t17%\n",
      "\t20%\n",
      "\t23%\n",
      "\t27%\n",
      "\t30%\n",
      "\t33%\n",
      "\t37%\n",
      "\t40%\n",
      "\t43%\n",
      "\t47%\n",
      "\t50%\n",
      "\t53%\n",
      "\t57%\n",
      "\t60%\n",
      "\t63%\n",
      "\t67%\n",
      "\t70%\n",
      "\t73%\n",
      "\t77%\n",
      "\t80%\n",
      "\t83%\n",
      "\t87%\n",
      "\t90%\n",
      "\t93%\n",
      "[ANMetelkin]: 67%\n",
      "\t0%\n",
      "\t3%\n",
      "\t7%\n",
      "\t10%\n",
      "\t13%\n",
      "\t17%\n",
      "\t20%\n",
      "\t23%\n",
      "\t27%\n",
      "\t30%\n",
      "\t33%\n",
      "\t37%\n",
      "\t40%\n",
      "\t43%\n",
      "\t47%\n",
      "\t50%\n",
      "\t53%\n",
      "\t57%\n",
      "\t60%\n",
      "\t63%\n",
      "\t67%\n",
      "\t70%\n",
      "\t73%\n",
      "\t77%\n",
      "\t80%\n",
      "\t83%\n",
      "\t87%\n",
      "\t90%\n",
      "\t93%\n",
      "\t97%\n",
      "[sveshnikov.ivan]: 67%\n",
      "\t0%\n",
      "\t3%\n",
      "\t7%\n",
      "\t10%\n",
      "\t13%\n",
      "\t17%\n",
      "\t20%\n",
      "\t23%\n",
      "\t27%\n",
      "\t30%\n",
      "\t33%\n",
      "\t37%\n",
      "\t40%\n",
      "\t43%\n",
      "[100001720970510]: 67%\n",
      "\t0%\n",
      "\t3%\n",
      "\t7%\n",
      "\t10%\n",
      "\t13%\n",
      "[nikonorova.ev@gmail.com]: 67%\n",
      "\t0%\n",
      "\t3%\n",
      "[shikate]: 67%\n",
      "\t0%\n",
      "\t3%\n",
      "\t7%\n",
      "\t10%\n",
      "\t13%\n",
      "\t17%\n",
      "\t20%\n",
      "\t23%\n",
      "\t27%\n",
      "\t30%\n",
      "\t33%\n",
      "\t37%\n",
      "\t40%\n",
      "\t43%\n",
      "\t47%\n",
      "\t50%\n",
      "\t53%\n",
      "\t57%\n",
      "\t60%\n",
      "\t63%\n",
      "\t67%\n",
      "\t70%\n",
      "\t73%\n",
      "\t77%\n",
      "\t80%\n",
      "\t83%\n",
      "\t87%\n",
      "\t90%\n",
      "\t93%\n",
      "\t97%\n",
      "[anatoliy.fedorov.3]: 67%\n",
      "\t0%\n",
      "\t3%\n",
      "\t7%\n",
      "\t10%\n",
      "\t13%\n",
      "\t17%\n",
      "\t20%\n",
      "\t23%\n",
      "\t27%\n",
      "\t30%\n",
      "\t33%\n",
      "\t37%\n",
      "\t40%\n",
      "\t43%\n",
      "\t47%\n",
      "\t50%\n",
      "[andrew.sidnev]: 68%\n",
      "\t0%\n",
      "\t3%\n",
      "[ivanov.protein]: 68%\n",
      "\t0%\n",
      "\t3%\n",
      "\t7%\n",
      "\t10%\n",
      "\t13%\n",
      "\t17%\n",
      "\t20%\n",
      "\t23%\n",
      "\t27%\n",
      "\t30%\n",
      "\t33%\n",
      "\t37%\n",
      "\t40%\n",
      "\t43%\n",
      "\t47%\n",
      "\t50%\n",
      "\t53%\n",
      "\t57%\n",
      "\t60%\n",
      "\t63%\n",
      "\t67%\n",
      "\t70%\n",
      "\t73%\n",
      "\t77%\n",
      "\t80%\n",
      "\t83%\n",
      "\t87%\n",
      "\t90%\n",
      "[nikolaev.wsr]: 68%\n",
      "\t0%\n",
      "\t3%\n",
      "\t7%\n",
      "\t10%\n",
      "\t13%\n",
      "\t17%\n",
      "\t20%\n",
      "\t23%\n",
      "\t27%\n",
      "\t30%\n",
      "\t33%\n",
      "\t37%\n",
      "\t40%\n",
      "\t43%\n",
      "\t47%\n",
      "\t50%\n",
      "\t53%\n",
      "\t57%\n",
      "\t60%\n",
      "\t63%\n",
      "\t67%\n",
      "\t70%\n",
      "[aslan.bektemirov]: 68%\n",
      "\t0%\n",
      "\t3%\n",
      "[mv.anisimov]: 68%\n",
      "\t0%\n",
      "\t3%\n",
      "\t7%\n",
      "\t10%\n",
      "\t13%\n",
      "\t17%\n",
      "\t20%\n",
      "\t23%\n",
      "\t27%\n",
      "\t30%\n",
      "\t33%\n",
      "\t37%\n",
      "\t40%\n",
      "\t43%\n",
      "\t47%\n",
      "\t50%\n",
      "\t53%\n",
      "\t57%\n",
      "\t60%\n",
      "\t63%\n",
      "\t67%\n",
      "\t70%\n",
      "\t73%\n",
      "\t77%\n",
      "\t80%\n",
      "\t83%\n",
      "\t87%\n",
      "\t90%\n",
      "\t93%\n",
      "\t97%\n",
      "[100000154224288]: 68%\n",
      "\t0%\n",
      "\t3%\n",
      "[100006156976398&amp;fref=pb&amp;hc_location=profile_browser]: 68%\n",
      "\t0%\n",
      "\t3%\n",
      "[zhanna.nutevgi]: 68%\n",
      "\t0%\n",
      "\t3%\n",
      "\t7%\n",
      "\t10%\n",
      "\t13%\n",
      "\t17%\n",
      "\t20%\n",
      "\t23%\n",
      "\t27%\n",
      "\t30%\n",
      "\t33%\n",
      "\t37%\n",
      "\t40%\n",
      "\t43%\n",
      "\t47%\n",
      "\t50%\n",
      "\t53%\n",
      "\t57%\n",
      "\t60%\n",
      "\t63%\n",
      "\t67%\n",
      "\t70%\n",
      "\t73%\n",
      "\t77%\n",
      "\t80%\n",
      "\t83%\n",
      "\t87%\n",
      "\t90%\n",
      "\t93%\n",
      "\t97%\n",
      "[Alexander Volyansky]: 68%\n",
      "\t0%\n",
      "\t3%\n",
      "[Sunny060684]: 68%\n",
      "\t0%\n",
      "\t3%\n",
      "\t7%\n",
      "\t10%\n",
      "\t13%\n",
      "\t17%\n",
      "\t20%\n",
      "\t23%\n",
      "\t27%\n",
      "\t30%\n",
      "\t33%\n",
      "\t37%\n",
      "\t40%\n",
      "\t43%\n",
      "\t47%\n",
      "\t50%\n",
      "\t53%\n",
      "\t57%\n",
      "\t60%\n",
      "\t63%\n",
      "\t67%\n",
      "\t70%\n",
      "\t73%\n",
      "\t77%\n",
      "\t80%\n",
      "\t83%\n",
      "\t87%\n",
      "\t90%\n",
      "\t93%\n",
      "\t97%\n",
      "[alla.magelyas]: 68%\n",
      "\t0%\n",
      "\t3%\n",
      "\t7%\n",
      "\t10%\n",
      "\t13%\n",
      "\t17%\n",
      "\t20%\n",
      "\t23%\n",
      "\t27%\n",
      "\t30%\n",
      "\t33%\n",
      "\t37%\n",
      "\t40%\n",
      "\t43%\n",
      "\t47%\n",
      "\t50%\n",
      "\t53%\n",
      "\t57%\n",
      "\t60%\n",
      "\t63%\n",
      "\t67%\n",
      "\t70%\n",
      "\t73%\n",
      "\t77%\n",
      "\t80%\n",
      "\t83%\n",
      "\t87%\n",
      "\t90%\n",
      "\t93%\n",
      "\t97%\n",
      "[r.davletbaev]: 68%\n",
      "\t0%\n",
      "\t3%\n",
      "\t7%\n",
      "\t10%\n",
      "\t13%\n",
      "\t17%\n",
      "\t20%\n",
      "\t23%\n",
      "\t27%\n",
      "\t30%\n",
      "\t33%\n",
      "\t37%\n",
      "\t40%\n",
      "\t43%\n",
      "\t47%\n",
      "\t50%\n",
      "\t53%\n",
      "\t57%\n",
      "\t60%\n",
      "\t63%\n",
      "\t67%\n",
      "\t70%\n",
      "\t73%\n",
      "\t77%\n",
      "\t80%\n",
      "\t83%\n",
      "\t87%\n",
      "\t90%\n",
      "\t93%\n",
      "\t97%\n",
      "[amolotnikov]: 68%\n",
      "\t0%\n",
      "\t3%\n",
      "\t7%\n",
      "\t10%\n",
      "\t13%\n",
      "\t17%\n",
      "\t20%\n",
      "\t23%\n",
      "\t27%\n",
      "\t30%\n",
      "\t33%\n",
      "\t37%\n",
      "\t40%\n",
      "\t43%\n",
      "\t47%\n",
      "\t50%\n",
      "\t53%\n",
      "\t57%\n",
      "\t60%\n",
      "\t63%\n",
      "\t67%\n",
      "\t70%\n",
      "\t73%\n",
      "\t77%\n",
      "\t80%\n",
      "\t83%\n",
      "\t87%\n",
      "\t90%\n",
      "\t93%\n",
      "\t97%\n",
      "[100001540785693]: 69%\n",
      "\t0%\n",
      "\t3%\n",
      "\t7%\n",
      "\t10%\n",
      "\t13%\n",
      "\t17%\n",
      "\t20%\n",
      "\t23%\n",
      "\t27%\n",
      "\t30%\n",
      "\t33%\n",
      "\t37%\n",
      "\t40%\n",
      "\t43%\n",
      "\t47%\n",
      "\t50%\n",
      "\t53%\n",
      "\t57%\n",
      "\t60%\n",
      "\t63%\n",
      "\t67%\n",
      "\t70%\n",
      "\t73%\n",
      "\t77%\n",
      "\t80%\n",
      "\t83%\n",
      "\t87%\n",
      "\t90%\n",
      "\t93%\n",
      "\t97%\n",
      "[nan]: 69%\n"
     ]
    },
    {
     "ename": "TypeError",
     "evalue": "must be str, not float",
     "output_type": "error",
     "traceback": [
      "\u001b[0;31m---------------------------------------------------------------------------\u001b[0m",
      "\u001b[0;31mTypeError\u001b[0m                                 Traceback (most recent call last)",
      "\u001b[0;32m<ipython-input-66-2ef102113445>\u001b[0m in \u001b[0;36m<module>\u001b[0;34m()\u001b[0m\n\u001b[1;32m      8\u001b[0m     \u001b[0;32mif\u001b[0m \u001b[0;32mnot\u001b[0m \u001b[0mos\u001b[0m\u001b[0;34m.\u001b[0m\u001b[0mpath\u001b[0m\u001b[0;34m.\u001b[0m\u001b[0mexists\u001b[0m\u001b[0;34m(\u001b[0m\u001b[0mpath\u001b[0m\u001b[0;34m)\u001b[0m\u001b[0;34m:\u001b[0m\u001b[0;34m\u001b[0m\u001b[0m\n\u001b[1;32m      9\u001b[0m         \u001b[0mprint\u001b[0m\u001b[0;34m(\u001b[0m\u001b[0;34m'[{0}]: {1}%'\u001b[0m\u001b[0;34m.\u001b[0m\u001b[0mformat\u001b[0m\u001b[0;34m(\u001b[0m\u001b[0muser\u001b[0m\u001b[0;34m,\u001b[0m \u001b[0mround\u001b[0m\u001b[0;34m(\u001b[0m\u001b[0;36m100\u001b[0m\u001b[0;34m*\u001b[0m\u001b[0mpg\u001b[0m\u001b[0;34m/\u001b[0m\u001b[0mlen\u001b[0m\u001b[0;34m(\u001b[0m\u001b[0msocial\u001b[0m\u001b[0;34m.\u001b[0m\u001b[0mfb\u001b[0m\u001b[0;34m)\u001b[0m\u001b[0;34m)\u001b[0m\u001b[0;34m)\u001b[0m\u001b[0;34m)\u001b[0m\u001b[0;34m\u001b[0m\u001b[0m\n\u001b[0;32m---> 10\u001b[0;31m         \u001b[0mz\u001b[0m \u001b[0;34m=\u001b[0m \u001b[0;34m\"https://www.facebook.com/\"\u001b[0m \u001b[0;34m+\u001b[0m \u001b[0muser\u001b[0m\u001b[0;34m\u001b[0m\u001b[0m\n\u001b[0m\u001b[1;32m     11\u001b[0m         \u001b[0;32mif\u001b[0m \u001b[0mdriver\u001b[0m\u001b[0;34m.\u001b[0m\u001b[0mcurrent_url\u001b[0m \u001b[0;34m!=\u001b[0m \u001b[0mz\u001b[0m\u001b[0;34m:\u001b[0m\u001b[0;34m\u001b[0m\u001b[0m\n\u001b[1;32m     12\u001b[0m             \u001b[0mdriver\u001b[0m\u001b[0;34m.\u001b[0m\u001b[0mget\u001b[0m\u001b[0;34m(\u001b[0m\u001b[0mz\u001b[0m\u001b[0;34m)\u001b[0m\u001b[0;34m\u001b[0m\u001b[0m\n",
      "\u001b[0;31mTypeError\u001b[0m: must be str, not float"
     ]
    }
   ],
   "source": [
    "import time\n",
    "MAX = 30\n",
    "lh = 0\n",
    "# At this time you need to authorize into Facebook in appeared Chrome window\n",
    "time.sleep(30)\n",
    "\n",
    "# TODO: Replace files with new Redis\n",
    "for pg, user in enumerate(social.fb):\n",
    "    path = f\"assets/corpora_cached_fb_users/{user}.txt\"\n",
    "    if not os.path.exists(path):\n",
    "        print('[{0}]: {1}%'.format(user, round(100*pg/len(social.fb))))\n",
    "        z = \"https://www.facebook.com/\" + user\n",
    "        if driver.current_url != z:\n",
    "            driver.get(z)\n",
    "        n = 0\n",
    "\n",
    "        while n < MAX:\n",
    "            print('\\t{0}%'.format(round(100*n/MAX)))\n",
    "            n += 1\n",
    "            driver.execute_script(\"window.scrollTo(0, document.body.scrollHeight);\")\n",
    "            time.sleep(2)\n",
    "\n",
    "            q = driver.find_element_by_tag_name('body').size['height']\n",
    "            if lh == q:\n",
    "                break\n",
    "\n",
    "            lh = q\n",
    "\n",
    "        for i in driver.find_elements_by_xpath('//a[@class=\"see_more_link\"]'):\n",
    "            try:\n",
    "                i.click()\n",
    "            except BaseException: pass\n",
    "\n",
    "        q = driver.find_elements_by_xpath('//p')\n",
    "    #     text[user] = []\n",
    "        with open(path, \"w\") as f:\n",
    "            for i in q:\n",
    "                _ = f.write(i.text)\n"
   ]
  },
  {
   "cell_type": "code",
   "execution_count": 61,
   "metadata": {
    "ExecuteTime": {
     "end_time": "2017-10-31T01:44:26.465776Z",
     "start_time": "2017-10-31T01:44:26.311263Z"
    }
   },
   "outputs": [],
   "source": [
    "%matplotlib inline\n",
    "import matplotlib.pyplot as plt\n",
    "import seaborn\n",
    "import numpy as np"
   ]
  },
  {
   "cell_type": "code",
   "execution_count": 62,
   "metadata": {
    "ExecuteTime": {
     "end_time": "2017-10-31T01:45:12.794367Z",
     "start_time": "2017-10-31T01:45:12.784963Z"
    }
   },
   "outputs": [],
   "source": [
    "values = [0.0, 0.00020327999999999999, 0.00079889000000000002, 0.0017945700000000001, 0.0031978900000000001, 0.0049998600000000001, 0.0071999500000000001, 0.0097946600000000002, 0.01279538, 0.01619427, 0.01999888, 0.024198799999999999, 0.028797300000000001, 0.033804220000000003, 0.03920469, 0.044998549999999998, 0.051196110000000003, 0.057786879999999999, 0.064777520000000005, 0.072173360000000006, 0.079974939999999994, 0.088165880000000002, 0.096761089999999994, 0.10577214, 0.1151765, 0.12496259, 0.135162, 0.14577203, 0.15676870000000001, 0.16817628000000001, 0.17998386, 0.19218045, 0.20480998, 0.21781874000000001, 0.23122633000000001, 0.24501508999999999, 0.25921522000000002, 0.27381072000000001, 0.28881902999999998, 0.30423603999999999, 0.32006068999999998, 0.33624767, 0.35284788, 0.36984424999999999, 0.38724442999999997, 0.40503294000000001, 0.42325791000000001, 0.44186361000000002, 0.46085747999999999, 0.48026213000000001, 0.50006307999999999, 0.51986668999999996, 0.53925557999999996, 0.55826167999999998, 0.57683446000000005, 0.59501444999999997, 0.61282563000000001, 0.63023797000000004, 0.64722204000000005, 0.66382236999999999, 0.68001602000000005, 0.69579921, 0.71122026000000005, 0.72622180999999997, 0.7408207, 0.75501907999999995, 0.76880990999999999, 0.78219848999999997, 0.79519837000000004, 0.80779615000000005, 0.81998987999999995, 0.83178331999999999, 0.84317829, 0.85419529999999999, 0.86479486000000005, 0.87498916000000004, 0.88479467000000001, 0.89419208999999999, 0.90318049, 0.91178185, 0.91999454000000003, 0.92779310000000004, 0.93519143999999998, 0.94219509999999995, 0.94878748999999996, 0.95499458999999998, 0.96078463000000003, 0.96618519000000003, 0.97118837000000002, 0.97579413000000004, 0.97999437, 0.98380230000000002, 0.98720991000000002, 0.99020830999999998, 0.99280265999999995, 0.99500158000000005, 0.99680073999999996, 0.99820505000000004, 0.99920310000000001, 0.99979954000000004, 1.0]"
   ]
  },
  {
   "cell_type": "code",
   "execution_count": 68,
   "metadata": {
    "ExecuteTime": {
     "end_time": "2017-10-31T01:48:37.777652Z",
     "start_time": "2017-10-31T01:48:37.769484Z"
    }
   },
   "outputs": [],
   "source": [
    "import math\n",
    "\n",
    "def sigmoid(x):\n",
    "    return 1 / (1 + math.exp(-x))"
   ]
  },
  {
   "cell_type": "code",
   "execution_count": 71,
   "metadata": {
    "ExecuteTime": {
     "end_time": "2017-10-31T01:49:54.950187Z",
     "start_time": "2017-10-31T01:49:54.945354Z"
    }
   },
   "outputs": [
    {
     "data": {
      "text/plain": [
       "0.6224593312018546"
      ]
     },
     "execution_count": 71,
     "metadata": {},
     "output_type": "execute_result"
    }
   ],
   "source": [
    "sigmoid(0.5)"
   ]
  },
  {
   "cell_type": "code",
   "execution_count": 63,
   "metadata": {
    "ExecuteTime": {
     "end_time": "2017-10-31T01:45:33.666305Z",
     "start_time": "2017-10-31T01:45:33.240502Z"
    }
   },
   "outputs": [
    {
     "data": {
      "text/plain": [
       "[<matplotlib.lines.Line2D at 0x11e006978>]"
      ]
     },
     "execution_count": 63,
     "metadata": {},
     "output_type": "execute_result"
    },
    {
     "data": {
      "image/png": "[encoded data removed]",
      "text/plain": [
       "<matplotlib.figure.Figure at 0x11db51b00>"
      ]
     },
     "metadata": {},
     "output_type": "display_data"
    }
   ],
   "source": [
    "plt.plot(np.arange(0, 2.02, 0.02), values)"
   ]
  },
  {
   "cell_type": "code",
   "execution_count": 107,
   "metadata": {
    "ExecuteTime": {
     "end_time": "2017-10-31T02:06:02.079553Z",
     "start_time": "2017-10-31T02:06:01.668939Z"
    }
   },
   "outputs": [
    {
     "data": {
      "text/plain": [
       "[<matplotlib.lines.Line2D at 0x120580b70>]"
      ]
     },
     "execution_count": 107,
     "metadata": {},
     "output_type": "execute_result"
    },
    {
     "data": {
      "image/png": "[encoded data removed]",
      "text/plain": [
       "<matplotlib.figure.Figure at 0x1204fb898>"
      ]
     },
     "metadata": {},
     "output_type": "display_data"
    }
   ],
   "source": [
    "plt.plot(np.arange(0, 2.02, 0.02), np.arange(0, 2.02, 0.02)**2 / 2)"
   ]
  },
  {
   "cell_type": "code",
   "execution_count": null,
   "metadata": {},
   "outputs": [],
   "source": []
  }
 ],
 "metadata": {
  "hide_input": false,
  "kernelspec": {
   "display_name": "Python 3",
   "language": "python",
   "name": "python3"
  },
  "language_info": {
   "codemirror_mode": {
    "name": "ipython",
    "version": 3
   },
   "file_extension": ".py",
   "mimetype": "text/x-python",
   "name": "python",
   "nbconvert_exporter": "python",
   "pygments_lexer": "ipython3",
   "version": "3.6.2"
  }
 },
 "nbformat": 4,
 "nbformat_minor": 2
}
