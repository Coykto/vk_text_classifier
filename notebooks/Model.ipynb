{
 "cells": [
  {
   "cell_type": "code",
   "execution_count": 1,
   "metadata": {
    "ExecuteTime": {
     "end_time": "2018-01-01T21:02:36.933073Z",
     "start_time": "2018-01-01T21:02:33.816492Z"
    },
    "scrolled": true
   },
   "outputs": [
    {
     "name": "stderr",
     "output_type": "stream",
     "text": [
      "Using TensorFlow backend.\n"
     ]
    }
   ],
   "source": [
    "import itertools\n",
    "import sys\n",
    "import json\n",
    "import warnings\n",
    "import os\n",
    "warnings.filterwarnings(\"ignore\")\n",
    "\n",
    "sys.path.append('..') # for importing from parent module\n",
    "from util import *\n",
    "from config import VK_TOKEN # only when creating corpora\n",
    "from scipy.sparse import vstack, csr_matrix, coo_matrix\n",
    "from sklearn.model_selection import train_test_split\n",
    "import tqdm\n",
    "\n",
    "import pandas as pd\n",
    "import numpy as np\n",
    "from sklearn.feature_extraction.text import TfidfVectorizer\n",
    "from sklearn.preprocessing import LabelEncoder\n",
    "from keras.models import load_model\n",
    "from sklearn.utils import class_weight\n",
    "from keras.layers import *\n",
    "from keras.models import Sequential\n",
    "from keras.callbacks import EarlyStopping, ReduceLROnPlateau, ModelCheckpoint, TensorBoard, CSVLogger"
   ]
  },
  {
   "cell_type": "markdown",
   "metadata": {},
   "source": [
    "# Corpora for training model"
   ]
  },
  {
   "cell_type": "code",
   "execution_count": 2,
   "metadata": {
    "ExecuteTime": {
     "end_time": "2018-01-01T21:02:38.374568Z",
     "start_time": "2018-01-01T21:02:38.356930Z"
    }
   },
   "outputs": [],
   "source": [
    "sources = {'art': [60114472, 19191317, \"https://blog.mann-ivanov-ferber.ru/category/tvorchestvo/\"], \n",
    "           'politics': [29534144, 23482909, 76982440], \n",
    "           'finances': [62438886, 81354264, 18925793],\n",
    "           'strateg_management': [68241326, \"http://www.stplan.ru/\", \"http://www.30n.ru/2/1.html\"], \n",
    "           'law': [702176, \"https://pravo.ru\", 79084019],\n",
    "           'elaboration': [\"http://www.km.ru/category/tegi/nauchnye-issledovaniya-i-otkrytiya-v-rossii\"], \n",
    "           'industry': [67183197, 66233468, \"http://government.ru/department/54/events/\"], \n",
    "           'education': [30558759, 98643656, 74404187],\n",
    "           'charity': [133169189, 35966541, 15274000],\n",
    "           'public_health': [78860407, 61490488, \"http://rusrand.ru/analytics/analyticszdravoohranenie-rossii-mify-realnost-reshenija\"],\n",
    "           'agriculture': [\"http://www.nsh.ru/\", \"http://россельхоз.рф/\"],\n",
    "           'government_management': [\"http://be5.biz/upravlenie/gosudarstvennoe_upravlenie.html\", 97296142],\n",
    "           'smm': [74686342, 79925455, 40018862],\n",
    "           'innovations': [98643656, 63337812, 34737049],\n",
    "           'safety': [37959220, 10933209],\n",
    "           'military': [\"http://www.soldiering.ru\", 75106422],\n",
    "           'corporative_management': [\"http://www.cfin.ru/management/\", \"https://psyera.ru/2984/ponyatie-korporativnogo-menedzhmenta\"],\n",
    "           'social_safety': [49582956, 72388807],\n",
    "           'building': [30713157, 26978036],\n",
    "           'entrepreneurship': [69560028, 73537456],\n",
    "           'sport': [29809500, 128350290],\n",
    "           'investitions': [37876217, 3800580]\n",
    "          }"
   ]
  },
  {
   "cell_type": "code",
   "execution_count": 3,
   "metadata": {
    "ExecuteTime": {
     "end_time": "2018-01-01T21:02:40.058465Z",
     "start_time": "2018-01-01T21:02:39.998165Z"
    },
    "scrolled": false
   },
   "outputs": [],
   "source": [
    "# getting data for corpora\n",
    "\n",
    "for tag, ids_ in sources.items():\n",
    "    path = f\"corpora/{tag}.txt\"\n",
    "    s = set()\n",
    "    if not os.path.exists(path):\n",
    "        with open(path, \"w\") as f:\n",
    "            for id_ in ids_: # iterating through available links/ids\n",
    "                if isinstance(id_, int): # if it's vk public id\n",
    "                    wall = ParseClass.get_wall_vk(-id_, 1000, VK_TOKEN)\n",
    "                    for post in tqdm.tqdm(wall):\n",
    "                        if len(post) and post not in s: # write unique posts\n",
    "                            s.add(post)\n",
    "                            _ = f.write(f\"{post}\\n\")\n",
    "                elif isinstance(id_, str):\n",
    "                    links = np.random.choice(\n",
    "                        list(ParseClass.get_all_links(id_)), 666)\n",
    "                    for link in tqdm.tqdm(links):\n",
    "                        try:\n",
    "                            r = requests.get(link)\n",
    "                        except requests.RequestException:\n",
    "                            continue\n",
    "                        if r.ok and r.encoding == \"utf-8\":\n",
    "                            page = r.text\n",
    "                            soup = BeautifulSoup(page, \"lxml\")\n",
    "                            for text in soup.text.strip().split(\"\\n\"):\n",
    "                                if len(text) and len(text.split()) > 2 and text not in s:\n",
    "                                    s.add(text)\n",
    "                                    _ = f.write(f\"{text}\\n\")"
   ]
  },
  {
   "cell_type": "markdown",
   "metadata": {},
   "source": [
    "Normalizing file sizes"
   ]
  },
  {
   "cell_type": "code",
   "execution_count": 4,
   "metadata": {
    "ExecuteTime": {
     "end_time": "2018-01-01T21:02:41.610199Z",
     "start_time": "2018-01-01T21:02:41.605734Z"
    }
   },
   "outputs": [],
   "source": [
    "file_paths = [path for path in os.listdir(\"corpora\") if path.endswith(\"txt\")]\n",
    "lengths = [os.path.getsize(f\"corpora/{filepath}\") for filepath in file_paths]"
   ]
  },
  {
   "cell_type": "code",
   "execution_count": 5,
   "metadata": {
    "ExecuteTime": {
     "end_time": "2018-01-01T21:02:42.513508Z",
     "start_time": "2018-01-01T21:02:42.509139Z"
    }
   },
   "outputs": [],
   "source": [
    "indexes = np.array(lengths).argsort()\n",
    "first_half = indexes[:len(lengths) // 2]\n",
    "second_half = indexes[len(lengths) // 2:]"
   ]
  },
  {
   "cell_type": "code",
   "execution_count": 6,
   "metadata": {
    "ExecuteTime": {
     "end_time": "2018-01-01T21:02:44.230705Z",
     "start_time": "2018-01-01T21:02:43.836374Z"
    }
   },
   "outputs": [],
   "source": [
    "for i, ind_file in enumerate(first_half):\n",
    "    sym_length = os.path.getsize(f\"corpora/{file_paths[ind_file]}\") // 2 # length of a file in first_half\n",
    "    path = f\"corpora/{file_paths[second_half[i]]}\"\n",
    "    all_symbols = \"\".join(open(path))\n",
    "    with open(path, \"w\") as f:\n",
    "        _ = f.write(all_symbols[:sym_length])"
   ]
  },
  {
   "cell_type": "code",
   "execution_count": 7,
   "metadata": {
    "ExecuteTime": {
     "end_time": "2018-01-01T21:02:44.798523Z",
     "start_time": "2018-01-01T21:02:44.793818Z"
    }
   },
   "outputs": [],
   "source": [
    "categories = list(sources.keys())"
   ]
  },
  {
   "cell_type": "code",
   "execution_count": 8,
   "metadata": {
    "ExecuteTime": {
     "end_time": "2018-01-01T21:02:46.193637Z",
     "start_time": "2018-01-01T21:02:46.182989Z"
    }
   },
   "outputs": [],
   "source": [
    "labels = [\"Искусство\", \"Политика\", \"Финансы\", \"Стратегическое управление\", \"Юриспруденция\", \"Исследования и разработки\",\n",
    "          \"Промышленность\", \"Образование\", \"Благотворительность\", \"Здравоохранение\", \"Сельское хозяйство\", \n",
    "          \"Государственное управление\", \"Реклама и маркетинг\", \"Инновации и модернизация\", \"Безопасность\", \n",
    "          \"Военное дело\", \"Корпоративное управление\", \"Социальная защита\", \"Строительство\", \"Предпринимательство\",\n",
    "          \"Спорт\", \"Инвестиции\"]\n",
    "norm_names = dict(zip(categories, labels))\n",
    "norm_names_reversed = dict([(a[1], a[0]) for a in norm_names.items()])"
   ]
  },
  {
   "cell_type": "markdown",
   "metadata": {},
   "source": [
    "Using labeled data from LEADER-ID"
   ]
  },
  {
   "cell_type": "code",
   "execution_count": 9,
   "metadata": {
    "ExecuteTime": {
     "end_time": "2018-01-01T21:03:00.076132Z",
     "start_time": "2018-01-01T21:03:00.052288Z"
    }
   },
   "outputs": [],
   "source": [
    "# df = pd.read_msgpack(\"df.msg\")\n",
    "# competencies = pd.read_csv(\"competencies.csv\")\n",
    "# competencies = competencies.dropna()[['Id', 'Интересы']]\n",
    "# social = pd.read_excel(\"assets/social.xlsx\", names=['id', 'name', 'fb', 'ok', 'vk', 'email', 'twitter'])\n",
    "# accepted = social.fb.dropna().index | social.vk.dropna().index\n",
    "# social = social.loc[accepted, ['name', 'id', 'vk', 'fb']]\n",
    "# social.vk = social.vk.apply(lambda x: str(x).split(\"/\")[-1])\n",
    "# social.fb = social.fb.apply(lambda x: str(x).split(\"/\")[-1])\n",
    "# social.fb = social.fb.apply(lambda x: str(x).split(\"id=\")[-1])\n",
    "# social.fb = social.fb.apply(lambda x: str(x).split(\"?ref=\")[0])\n",
    "# social.fb = social.fb.replace('nan', np.nan)\n",
    "# social = social.merge(df[['vk', 'vk_id']], how='outer', on='vk')\n",
    "# social.vk = social.vk_id.fillna(0)\n",
    "# social = social.replace(0, np.nan).drop(labels=['vk_id'], axis=1)\n",
    "# social = social.set_index('id').merge(how='inner', right=competencies.set_index('Id'), left_index=True, right_index=True)\n",
    "# to_exclude = pd.read_csv(\"assets/known_users.csv\")['Leader-ID'].dropna().astype('int').values\n",
    "# social = social.loc[~social.index.isin(to_exclude), :]\n",
    "# social.to_msgpack(\"assets/social.msg\")\n",
    "\n",
    "# def get_id(screen_name):\n",
    "#     try:\n",
    "#         item = vk.users.get(user_ids=screen_name)\n",
    "#         if 'deactivated' not in item:\n",
    "#             return item[0]['id']\n",
    "#     except Exception as e:\n",
    "#         print(e.args)\n",
    "# Нужно замапить screen_name с их vk_id, поэтому придется обрабатывать по одному\n",
    "\n",
    "social = pd.read_msgpack(\"social.msg\")\n",
    "d = json.load(open(\"d.json\"))"
   ]
  },
  {
   "cell_type": "code",
   "execution_count": 10,
   "metadata": {
    "ExecuteTime": {
     "end_time": "2018-01-01T21:03:03.202037Z",
     "start_time": "2018-01-01T21:03:03.051420Z"
    }
   },
   "outputs": [],
   "source": [
    "label_encoder = LabelEncoder()\n",
    "int_labels = label_encoder.fit_transform(labels)\n",
    "\n",
    "def f(x):\n",
    "    b = []\n",
    "    for a in x.split(\",\"):\n",
    "        t = a.strip()\n",
    "        if t == \"Частный бизнес\" or t == \"Социальное предпринимательство\":\n",
    "            b.append(\"Предпринимательство\")\n",
    "        elif t == \"Дошкольное образование/детский отдых\":\n",
    "            b.append(\"Образование\")\n",
    "        elif t in {'Журналистика', 'Управление персоналом', 'Управление рисками'}:\n",
    "            pass\n",
    "        else:\n",
    "            b.append(t)\n",
    "    return b[:6]\n",
    "social.Интересы = social.Интересы.apply(f)\n",
    "def g(x):\n",
    "    if not x:\n",
    "        return np.in1d(int_labels, []).astype('int')\n",
    "    return np.in1d(int_labels, label_encoder.transform(x)).astype('int')\n",
    "social['y'] = social.Интересы.apply(g)"
   ]
  },
  {
   "cell_type": "markdown",
   "metadata": {},
   "source": [
    "### Corpora from created texts"
   ]
  },
  {
   "cell_type": "code",
   "execution_count": 11,
   "metadata": {
    "ExecuteTime": {
     "end_time": "2018-01-01T21:03:06.409178Z",
     "start_time": "2018-01-01T21:03:06.081979Z"
    }
   },
   "outputs": [],
   "source": [
    "corpora_class = CorporaClass()\n",
    "\n",
    "for filename in categories:\n",
    "    with open(f\"corpora/{filename}.txt\") as f:\n",
    "        corpora_class.add_to_corpora(f, filename)"
   ]
  },
  {
   "cell_type": "code",
   "execution_count": 12,
   "metadata": {
    "ExecuteTime": {
     "end_time": "2018-01-01T21:04:32.962025Z",
     "start_time": "2018-01-01T21:03:07.874083Z"
    }
   },
   "outputs": [],
   "source": [
    "vectorizer = TfidfVectorizer(tokenizer=corpora_class.full_process, \n",
    "                             max_df=0.55, \n",
    "                             min_df=5, \n",
    "                             sublinear_tf=True, \n",
    "                             ngram_range=(1, 2))\n",
    "\n",
    "docterm_matrix = vectorizer.fit_transform(list(itertools.chain(*(doc for doc in corpora_class.corpora))))"
   ]
  },
  {
   "cell_type": "code",
   "execution_count": 13,
   "metadata": {
    "ExecuteTime": {
     "end_time": "2018-01-01T21:04:35.489649Z",
     "start_time": "2018-01-01T21:04:35.485973Z"
    }
   },
   "outputs": [],
   "source": [
    "DELIM = 1300\n",
    "NUM_OF_CLASSES = 22\n",
    "vector_size = docterm_matrix[0].shape[1]"
   ]
  },
  {
   "cell_type": "markdown",
   "metadata": {},
   "source": [
    "#### y for created texts"
   ]
  },
  {
   "cell_type": "code",
   "execution_count": 14,
   "metadata": {
    "ExecuteTime": {
     "end_time": "2018-01-01T21:05:21.718388Z",
     "start_time": "2018-01-01T21:04:37.226509Z"
    }
   },
   "outputs": [],
   "source": [
    "y = []\n",
    "for (i, x), cat in zip( zip(range(len(corpora_class.corpora)), corpora_class.corpora), \n",
    "                       categories ):\n",
    "    for _ in range(len(x)):\n",
    "        y_ = np.zeros(NUM_OF_CLASSES)\n",
    "        t = np.zeros(NUM_OF_CLASSES)\n",
    "        for arr in (social.loc[d[norm_names[cat]], 'y'] * 0.016):\n",
    "            t = t + arr\n",
    "        y_ = y_ + t\n",
    "        y_[i] = 1\n",
    "        y.append(y_)\n",
    "y = np.array(y)"
   ]
  },
  {
   "cell_type": "code",
   "execution_count": 15,
   "metadata": {
    "ExecuteTime": {
     "end_time": "2018-01-01T21:05:23.770867Z",
     "start_time": "2018-01-01T21:05:23.719205Z"
    }
   },
   "outputs": [],
   "source": [
    "X_train, X_test, y_train, y_test = train_test_split(docterm_matrix, y, test_size=0.2)"
   ]
  },
  {
   "cell_type": "code",
   "execution_count": 18,
   "metadata": {
    "ExecuteTime": {
     "end_time": "2018-01-01T21:06:21.164448Z",
     "start_time": "2018-01-01T21:06:19.286497Z"
    },
    "collapsed": true
   },
   "outputs": [
    {
     "ename": "AttributeError",
     "evalue": "'numpy.ndarray' object has no attribute 'toarray'",
     "output_type": "error",
     "traceback": [
      "\u001b[0;31m---------------------------------------------------------------------------\u001b[0m",
      "\u001b[0;31mAttributeError\u001b[0m                            Traceback (most recent call last)",
      "\u001b[0;32m<ipython-input-18-eda054603726>\u001b[0m in \u001b[0;36m<module>\u001b[0;34m()\u001b[0m\n\u001b[1;32m      1\u001b[0m \u001b[0mX_train\u001b[0m \u001b[0;34m=\u001b[0m \u001b[0mnp\u001b[0m\u001b[0;34m.\u001b[0m\u001b[0mexpand_dims\u001b[0m\u001b[0;34m(\u001b[0m\u001b[0mX_train\u001b[0m\u001b[0;34m.\u001b[0m\u001b[0mtoarray\u001b[0m\u001b[0;34m(\u001b[0m\u001b[0;34m)\u001b[0m\u001b[0;34m,\u001b[0m \u001b[0maxis\u001b[0m\u001b[0;34m=\u001b[0m\u001b[0;36m2\u001b[0m\u001b[0;34m)\u001b[0m\u001b[0;34m\u001b[0m\u001b[0m\n\u001b[0;32m----> 2\u001b[0;31m \u001b[0mX_test\u001b[0m \u001b[0;34m=\u001b[0m \u001b[0mnp\u001b[0m\u001b[0;34m.\u001b[0m\u001b[0mexpand_dims\u001b[0m\u001b[0;34m(\u001b[0m\u001b[0mX_test\u001b[0m\u001b[0;34m.\u001b[0m\u001b[0mtoarray\u001b[0m\u001b[0;34m(\u001b[0m\u001b[0;34m)\u001b[0m\u001b[0;34m,\u001b[0m \u001b[0maxis\u001b[0m\u001b[0;34m=\u001b[0m\u001b[0;36m2\u001b[0m\u001b[0;34m)\u001b[0m\u001b[0;34m\u001b[0m\u001b[0m\n\u001b[0m",
      "\u001b[0;31mAttributeError\u001b[0m: 'numpy.ndarray' object has no attribute 'toarray'"
     ]
    }
   ],
   "source": [
    "X_train = np.expand_dims(X_train.toarray(), axis=2)\n",
    "X_test = np.expand_dims(X_test.toarray(), axis=2)"
   ]
  },
  {
   "cell_type": "code",
   "execution_count": 23,
   "metadata": {
    "ExecuteTime": {
     "end_time": "2018-01-01T21:07:25.067262Z",
     "start_time": "2018-01-01T21:07:24.820997Z"
    }
   },
   "outputs": [],
   "source": [
    "STRIDE = 5\n",
    "classifier = Sequential((\n",
    "    Conv1D(filters=1, kernel_size=STRIDE, activation='relu', input_shape=(vector_size, 1)),\n",
    "    MaxPooling1D(),\n",
    "    Conv1D(filters=1, kernel_size=STRIDE, activation='relu'),\n",
    "    MaxPooling1D(),\n",
    "    Flatten(),\n",
    "    Dense(128, activation='relu'),\n",
    "    Dropout(0.2),\n",
    "    Dense(64, activation='sigmoid'),\n",
    "    Dense(NUM_OF_CLASSES, activation='sigmoid')\n",
    "))\n",
    "\n",
    "classifier.compile(optimizer='adadelta', loss='categorical_crossentropy', metrics=['categorical_accuracy'])"
   ]
  },
  {
   "cell_type": "code",
   "execution_count": 25,
   "metadata": {
    "ExecuteTime": {
     "end_time": "2018-01-01T21:55:58.967340Z",
     "start_time": "2018-01-01T21:07:42.479775Z"
    },
    "collapsed": true
   },
   "outputs": [
    {
     "name": "stdout",
     "output_type": "stream",
     "text": [
      "Train on 49947 samples, validate on 12487 samples\n",
      "Epoch 1/60\n",
      "49947/49947 [==============================] - 238s 5ms/step - loss: 4.4883 - categorical_accuracy: 0.0730 - val_loss: 4.4483 - val_categorical_accuracy: 0.0765\n",
      "Epoch 2/60\n",
      "49947/49947 [==============================] - 235s 5ms/step - loss: 4.4452 - categorical_accuracy: 0.0797 - val_loss: 4.4471 - val_categorical_accuracy: 0.0765\n",
      "Epoch 3/60\n",
      "49947/49947 [==============================] - 215s 4ms/step - loss: 4.4440 - categorical_accuracy: 0.0797 - val_loss: 4.4461 - val_categorical_accuracy: 0.0765\n",
      "Epoch 4/60\n",
      "49947/49947 [==============================] - 218s 4ms/step - loss: 4.4376 - categorical_accuracy: 0.0797 - val_loss: 4.4280 - val_categorical_accuracy: 0.0765\n",
      "Epoch 5/60\n",
      "49947/49947 [==============================] - 237s 5ms/step - loss: 4.2613 - categorical_accuracy: 0.1661 - val_loss: 3.8916 - val_categorical_accuracy: 0.4036\n",
      "Epoch 6/60\n",
      "49947/49947 [==============================] - 220s 4ms/step - loss: 3.5539 - categorical_accuracy: 0.5161 - val_loss: 3.3550 - val_categorical_accuracy: 0.5613\n",
      "Epoch 7/60\n",
      "49947/49947 [==============================] - 224s 4ms/step - loss: 3.1772 - categorical_accuracy: 0.6223 - val_loss: 3.2010 - val_categorical_accuracy: 0.6080\n",
      "Epoch 8/60\n",
      "49947/49947 [==============================] - 218s 4ms/step - loss: 3.0065 - categorical_accuracy: 0.6768 - val_loss: 3.1384 - val_categorical_accuracy: 0.6213\n",
      "Epoch 9/60\n",
      "49947/49947 [==============================] - 217s 4ms/step - loss: 2.8986 - categorical_accuracy: 0.7138 - val_loss: 3.1050 - val_categorical_accuracy: 0.6302\n",
      "Epoch 10/60\n",
      "49947/49947 [==============================] - 217s 4ms/step - loss: 2.8148 - categorical_accuracy: 0.7441 - val_loss: 3.0900 - val_categorical_accuracy: 0.6381\n",
      "Epoch 11/60\n",
      "49947/49947 [==============================] - 217s 4ms/step - loss: 2.7495 - categorical_accuracy: 0.7684 - val_loss: 3.0779 - val_categorical_accuracy: 0.6404\n",
      "Epoch 12/60\n",
      "49947/49947 [==============================] - 217s 4ms/step - loss: 2.6907 - categorical_accuracy: 0.7904 - val_loss: 3.0753 - val_categorical_accuracy: 0.6429\n",
      "Epoch 13/60\n",
      "49947/49947 [==============================] - 218s 4ms/step - loss: 2.6433 - categorical_accuracy: 0.8082 - val_loss: 3.0741 - val_categorical_accuracy: 0.6453\n",
      "Epoch 14/60\n",
      "  196/49947 [..............................] - ETA: 3:46 - loss: 2.5862 - categorical_accuracy: 0.8214"
     ]
    },
    {
     "ename": "KeyboardInterrupt",
     "evalue": "",
     "output_type": "error",
     "traceback": [
      "\u001b[0;31m---------------------------------------------------------------------------\u001b[0m",
      "\u001b[0;31mKeyboardInterrupt\u001b[0m                         Traceback (most recent call last)",
      "\u001b[0;32m<ipython-input-25-7e8116829202>\u001b[0m in \u001b[0;36m<module>\u001b[0;34m()\u001b[0m\n\u001b[1;32m     25\u001b[0m                \u001b[0mepochs\u001b[0m\u001b[0;34m=\u001b[0m\u001b[0;36m60\u001b[0m\u001b[0;34m,\u001b[0m\u001b[0;34m\u001b[0m\u001b[0m\n\u001b[1;32m     26\u001b[0m                \u001b[0mclass_weight\u001b[0m\u001b[0;34m=\u001b[0m\u001b[0;34m'balanced'\u001b[0m\u001b[0;34m,\u001b[0m\u001b[0;34m\u001b[0m\u001b[0m\n\u001b[0;32m---> 27\u001b[0;31m                \u001b[0mcallbacks\u001b[0m\u001b[0;34m=\u001b[0m\u001b[0;34m[\u001b[0m\u001b[0mtbCallBack\u001b[0m\u001b[0;34m]\u001b[0m\u001b[0;34m\u001b[0m\u001b[0m\n\u001b[0m\u001b[1;32m     28\u001b[0m               )\n\u001b[1;32m     29\u001b[0m \u001b[0;31m# classifier.fit_generator(nn_batch_generator(X_train, y_train, 196),\u001b[0m\u001b[0;34m\u001b[0m\u001b[0;34m\u001b[0m\u001b[0m\n",
      "\u001b[0;32m~/.virtualenvs/vk_text_classifier-CgDYx6B0/lib/python3.6/site-packages/keras/models.py\u001b[0m in \u001b[0;36mfit\u001b[0;34m(self, x, y, batch_size, epochs, verbose, callbacks, validation_split, validation_data, shuffle, class_weight, sample_weight, initial_epoch, steps_per_epoch, validation_steps, **kwargs)\u001b[0m\n\u001b[1;32m    958\u001b[0m                               \u001b[0minitial_epoch\u001b[0m\u001b[0;34m=\u001b[0m\u001b[0minitial_epoch\u001b[0m\u001b[0;34m,\u001b[0m\u001b[0;34m\u001b[0m\u001b[0m\n\u001b[1;32m    959\u001b[0m                               \u001b[0msteps_per_epoch\u001b[0m\u001b[0;34m=\u001b[0m\u001b[0msteps_per_epoch\u001b[0m\u001b[0;34m,\u001b[0m\u001b[0;34m\u001b[0m\u001b[0m\n\u001b[0;32m--> 960\u001b[0;31m                               validation_steps=validation_steps)\n\u001b[0m\u001b[1;32m    961\u001b[0m \u001b[0;34m\u001b[0m\u001b[0m\n\u001b[1;32m    962\u001b[0m     def evaluate(self, x, y, batch_size=32, verbose=1,\n",
      "\u001b[0;32m~/.virtualenvs/vk_text_classifier-CgDYx6B0/lib/python3.6/site-packages/keras/engine/training.py\u001b[0m in \u001b[0;36mfit\u001b[0;34m(self, x, y, batch_size, epochs, verbose, callbacks, validation_split, validation_data, shuffle, class_weight, sample_weight, initial_epoch, steps_per_epoch, validation_steps, **kwargs)\u001b[0m\n\u001b[1;32m   1655\u001b[0m                               \u001b[0minitial_epoch\u001b[0m\u001b[0;34m=\u001b[0m\u001b[0minitial_epoch\u001b[0m\u001b[0;34m,\u001b[0m\u001b[0;34m\u001b[0m\u001b[0m\n\u001b[1;32m   1656\u001b[0m                               \u001b[0msteps_per_epoch\u001b[0m\u001b[0;34m=\u001b[0m\u001b[0msteps_per_epoch\u001b[0m\u001b[0;34m,\u001b[0m\u001b[0;34m\u001b[0m\u001b[0m\n\u001b[0;32m-> 1657\u001b[0;31m                               validation_steps=validation_steps)\n\u001b[0m\u001b[1;32m   1658\u001b[0m \u001b[0;34m\u001b[0m\u001b[0m\n\u001b[1;32m   1659\u001b[0m     def evaluate(self, x=None, y=None,\n",
      "\u001b[0;32m~/.virtualenvs/vk_text_classifier-CgDYx6B0/lib/python3.6/site-packages/keras/engine/training.py\u001b[0m in \u001b[0;36m_fit_loop\u001b[0;34m(self, f, ins, out_labels, batch_size, epochs, verbose, callbacks, val_f, val_ins, shuffle, callback_metrics, initial_epoch, steps_per_epoch, validation_steps)\u001b[0m\n\u001b[1;32m   1211\u001b[0m                     \u001b[0mbatch_logs\u001b[0m\u001b[0;34m[\u001b[0m\u001b[0;34m'size'\u001b[0m\u001b[0;34m]\u001b[0m \u001b[0;34m=\u001b[0m \u001b[0mlen\u001b[0m\u001b[0;34m(\u001b[0m\u001b[0mbatch_ids\u001b[0m\u001b[0;34m)\u001b[0m\u001b[0;34m\u001b[0m\u001b[0m\n\u001b[1;32m   1212\u001b[0m                     \u001b[0mcallbacks\u001b[0m\u001b[0;34m.\u001b[0m\u001b[0mon_batch_begin\u001b[0m\u001b[0;34m(\u001b[0m\u001b[0mbatch_index\u001b[0m\u001b[0;34m,\u001b[0m \u001b[0mbatch_logs\u001b[0m\u001b[0;34m)\u001b[0m\u001b[0;34m\u001b[0m\u001b[0m\n\u001b[0;32m-> 1213\u001b[0;31m                     \u001b[0mouts\u001b[0m \u001b[0;34m=\u001b[0m \u001b[0mf\u001b[0m\u001b[0;34m(\u001b[0m\u001b[0mins_batch\u001b[0m\u001b[0;34m)\u001b[0m\u001b[0;34m\u001b[0m\u001b[0m\n\u001b[0m\u001b[1;32m   1214\u001b[0m                     \u001b[0;32mif\u001b[0m \u001b[0;32mnot\u001b[0m \u001b[0misinstance\u001b[0m\u001b[0;34m(\u001b[0m\u001b[0mouts\u001b[0m\u001b[0;34m,\u001b[0m \u001b[0mlist\u001b[0m\u001b[0;34m)\u001b[0m\u001b[0;34m:\u001b[0m\u001b[0;34m\u001b[0m\u001b[0m\n\u001b[1;32m   1215\u001b[0m                         \u001b[0mouts\u001b[0m \u001b[0;34m=\u001b[0m \u001b[0;34m[\u001b[0m\u001b[0mouts\u001b[0m\u001b[0;34m]\u001b[0m\u001b[0;34m\u001b[0m\u001b[0m\n",
      "\u001b[0;32m~/.virtualenvs/vk_text_classifier-CgDYx6B0/lib/python3.6/site-packages/keras/backend/tensorflow_backend.py\u001b[0m in \u001b[0;36m__call__\u001b[0;34m(self, inputs)\u001b[0m\n\u001b[1;32m   2355\u001b[0m         \u001b[0msession\u001b[0m \u001b[0;34m=\u001b[0m \u001b[0mget_session\u001b[0m\u001b[0;34m(\u001b[0m\u001b[0;34m)\u001b[0m\u001b[0;34m\u001b[0m\u001b[0m\n\u001b[1;32m   2356\u001b[0m         updated = session.run(fetches=fetches, feed_dict=feed_dict,\n\u001b[0;32m-> 2357\u001b[0;31m                               **self.session_kwargs)\n\u001b[0m\u001b[1;32m   2358\u001b[0m         \u001b[0;32mreturn\u001b[0m \u001b[0mupdated\u001b[0m\u001b[0;34m[\u001b[0m\u001b[0;34m:\u001b[0m\u001b[0mlen\u001b[0m\u001b[0;34m(\u001b[0m\u001b[0mself\u001b[0m\u001b[0;34m.\u001b[0m\u001b[0moutputs\u001b[0m\u001b[0;34m)\u001b[0m\u001b[0;34m]\u001b[0m\u001b[0;34m\u001b[0m\u001b[0m\n\u001b[1;32m   2359\u001b[0m \u001b[0;34m\u001b[0m\u001b[0m\n",
      "\u001b[0;32m~/.virtualenvs/vk_text_classifier-CgDYx6B0/lib/python3.6/site-packages/tensorflow/python/client/session.py\u001b[0m in \u001b[0;36mrun\u001b[0;34m(self, fetches, feed_dict, options, run_metadata)\u001b[0m\n\u001b[1;32m    887\u001b[0m     \u001b[0;32mtry\u001b[0m\u001b[0;34m:\u001b[0m\u001b[0;34m\u001b[0m\u001b[0m\n\u001b[1;32m    888\u001b[0m       result = self._run(None, fetches, feed_dict, options_ptr,\n\u001b[0;32m--> 889\u001b[0;31m                          run_metadata_ptr)\n\u001b[0m\u001b[1;32m    890\u001b[0m       \u001b[0;32mif\u001b[0m \u001b[0mrun_metadata\u001b[0m\u001b[0;34m:\u001b[0m\u001b[0;34m\u001b[0m\u001b[0m\n\u001b[1;32m    891\u001b[0m         \u001b[0mproto_data\u001b[0m \u001b[0;34m=\u001b[0m \u001b[0mtf_session\u001b[0m\u001b[0;34m.\u001b[0m\u001b[0mTF_GetBuffer\u001b[0m\u001b[0;34m(\u001b[0m\u001b[0mrun_metadata_ptr\u001b[0m\u001b[0;34m)\u001b[0m\u001b[0;34m\u001b[0m\u001b[0m\n",
      "\u001b[0;32m~/.virtualenvs/vk_text_classifier-CgDYx6B0/lib/python3.6/site-packages/tensorflow/python/client/session.py\u001b[0m in \u001b[0;36m_run\u001b[0;34m(self, handle, fetches, feed_dict, options, run_metadata)\u001b[0m\n\u001b[1;32m   1118\u001b[0m     \u001b[0;32mif\u001b[0m \u001b[0mfinal_fetches\u001b[0m \u001b[0;32mor\u001b[0m \u001b[0mfinal_targets\u001b[0m \u001b[0;32mor\u001b[0m \u001b[0;34m(\u001b[0m\u001b[0mhandle\u001b[0m \u001b[0;32mand\u001b[0m \u001b[0mfeed_dict_tensor\u001b[0m\u001b[0;34m)\u001b[0m\u001b[0;34m:\u001b[0m\u001b[0;34m\u001b[0m\u001b[0m\n\u001b[1;32m   1119\u001b[0m       results = self._do_run(handle, final_targets, final_fetches,\n\u001b[0;32m-> 1120\u001b[0;31m                              feed_dict_tensor, options, run_metadata)\n\u001b[0m\u001b[1;32m   1121\u001b[0m     \u001b[0;32melse\u001b[0m\u001b[0;34m:\u001b[0m\u001b[0;34m\u001b[0m\u001b[0m\n\u001b[1;32m   1122\u001b[0m       \u001b[0mresults\u001b[0m \u001b[0;34m=\u001b[0m \u001b[0;34m[\u001b[0m\u001b[0;34m]\u001b[0m\u001b[0;34m\u001b[0m\u001b[0m\n",
      "\u001b[0;32m~/.virtualenvs/vk_text_classifier-CgDYx6B0/lib/python3.6/site-packages/tensorflow/python/client/session.py\u001b[0m in \u001b[0;36m_do_run\u001b[0;34m(self, handle, target_list, fetch_list, feed_dict, options, run_metadata)\u001b[0m\n\u001b[1;32m   1315\u001b[0m     \u001b[0;32mif\u001b[0m \u001b[0mhandle\u001b[0m \u001b[0;32mis\u001b[0m \u001b[0;32mNone\u001b[0m\u001b[0;34m:\u001b[0m\u001b[0;34m\u001b[0m\u001b[0m\n\u001b[1;32m   1316\u001b[0m       return self._do_call(_run_fn, self._session, feeds, fetches, targets,\n\u001b[0;32m-> 1317\u001b[0;31m                            options, run_metadata)\n\u001b[0m\u001b[1;32m   1318\u001b[0m     \u001b[0;32melse\u001b[0m\u001b[0;34m:\u001b[0m\u001b[0;34m\u001b[0m\u001b[0m\n\u001b[1;32m   1319\u001b[0m       \u001b[0;32mreturn\u001b[0m \u001b[0mself\u001b[0m\u001b[0;34m.\u001b[0m\u001b[0m_do_call\u001b[0m\u001b[0;34m(\u001b[0m\u001b[0m_prun_fn\u001b[0m\u001b[0;34m,\u001b[0m \u001b[0mself\u001b[0m\u001b[0;34m.\u001b[0m\u001b[0m_session\u001b[0m\u001b[0;34m,\u001b[0m \u001b[0mhandle\u001b[0m\u001b[0;34m,\u001b[0m \u001b[0mfeeds\u001b[0m\u001b[0;34m,\u001b[0m \u001b[0mfetches\u001b[0m\u001b[0;34m)\u001b[0m\u001b[0;34m\u001b[0m\u001b[0m\n",
      "\u001b[0;32m~/.virtualenvs/vk_text_classifier-CgDYx6B0/lib/python3.6/site-packages/tensorflow/python/client/session.py\u001b[0m in \u001b[0;36m_do_call\u001b[0;34m(self, fn, *args)\u001b[0m\n\u001b[1;32m   1321\u001b[0m   \u001b[0;32mdef\u001b[0m \u001b[0m_do_call\u001b[0m\u001b[0;34m(\u001b[0m\u001b[0mself\u001b[0m\u001b[0;34m,\u001b[0m \u001b[0mfn\u001b[0m\u001b[0;34m,\u001b[0m \u001b[0;34m*\u001b[0m\u001b[0margs\u001b[0m\u001b[0;34m)\u001b[0m\u001b[0;34m:\u001b[0m\u001b[0;34m\u001b[0m\u001b[0m\n\u001b[1;32m   1322\u001b[0m     \u001b[0;32mtry\u001b[0m\u001b[0;34m:\u001b[0m\u001b[0;34m\u001b[0m\u001b[0m\n\u001b[0;32m-> 1323\u001b[0;31m       \u001b[0;32mreturn\u001b[0m \u001b[0mfn\u001b[0m\u001b[0;34m(\u001b[0m\u001b[0;34m*\u001b[0m\u001b[0margs\u001b[0m\u001b[0;34m)\u001b[0m\u001b[0;34m\u001b[0m\u001b[0m\n\u001b[0m\u001b[1;32m   1324\u001b[0m     \u001b[0;32mexcept\u001b[0m \u001b[0merrors\u001b[0m\u001b[0;34m.\u001b[0m\u001b[0mOpError\u001b[0m \u001b[0;32mas\u001b[0m \u001b[0me\u001b[0m\u001b[0;34m:\u001b[0m\u001b[0;34m\u001b[0m\u001b[0m\n\u001b[1;32m   1325\u001b[0m       \u001b[0mmessage\u001b[0m \u001b[0;34m=\u001b[0m \u001b[0mcompat\u001b[0m\u001b[0;34m.\u001b[0m\u001b[0mas_text\u001b[0m\u001b[0;34m(\u001b[0m\u001b[0me\u001b[0m\u001b[0;34m.\u001b[0m\u001b[0mmessage\u001b[0m\u001b[0;34m)\u001b[0m\u001b[0;34m\u001b[0m\u001b[0m\n",
      "\u001b[0;32m~/.virtualenvs/vk_text_classifier-CgDYx6B0/lib/python3.6/site-packages/tensorflow/python/client/session.py\u001b[0m in \u001b[0;36m_run_fn\u001b[0;34m(session, feed_dict, fetch_list, target_list, options, run_metadata)\u001b[0m\n\u001b[1;32m   1300\u001b[0m           return tf_session.TF_Run(session, options,\n\u001b[1;32m   1301\u001b[0m                                    \u001b[0mfeed_dict\u001b[0m\u001b[0;34m,\u001b[0m \u001b[0mfetch_list\u001b[0m\u001b[0;34m,\u001b[0m \u001b[0mtarget_list\u001b[0m\u001b[0;34m,\u001b[0m\u001b[0;34m\u001b[0m\u001b[0m\n\u001b[0;32m-> 1302\u001b[0;31m                                    status, run_metadata)\n\u001b[0m\u001b[1;32m   1303\u001b[0m \u001b[0;34m\u001b[0m\u001b[0m\n\u001b[1;32m   1304\u001b[0m     \u001b[0;32mdef\u001b[0m \u001b[0m_prun_fn\u001b[0m\u001b[0;34m(\u001b[0m\u001b[0msession\u001b[0m\u001b[0;34m,\u001b[0m \u001b[0mhandle\u001b[0m\u001b[0;34m,\u001b[0m \u001b[0mfeed_dict\u001b[0m\u001b[0;34m,\u001b[0m \u001b[0mfetch_list\u001b[0m\u001b[0;34m)\u001b[0m\u001b[0;34m:\u001b[0m\u001b[0;34m\u001b[0m\u001b[0m\n",
      "\u001b[0;31mKeyboardInterrupt\u001b[0m: "
     ]
    }
   ],
   "source": [
    "tbCallBack = TensorBoard(log_dir='./Graph', histogram_freq=0, write_graph=True, write_images=True)\n",
    "\n",
    "classifier.fit(X_train, \n",
    "               y_train, \n",
    "               validation_data=(X_test, y_test), \n",
    "               batch_size=196, \n",
    "               epochs=60, \n",
    "               class_weight='balanced',\n",
    "               callbacks=[tbCallBack]\n",
    "              )"
   ]
  },
  {
   "cell_type": "code",
   "execution_count": 26,
   "metadata": {
    "ExecuteTime": {
     "end_time": "2018-01-01T21:56:06.860114Z",
     "start_time": "2018-01-01T21:56:06.644327Z"
    }
   },
   "outputs": [],
   "source": [
    "classifier.save(\"../assets/vk_texts_classifier-dev.h5\")"
   ]
  },
  {
   "cell_type": "code",
   "execution_count": 19,
   "metadata": {
    "ExecuteTime": {
     "end_time": "2017-09-12T23:53:31.307688Z",
     "start_time": "2017-09-12T23:53:29.093622Z"
    },
    "collapsed": true
   },
   "outputs": [],
   "source": [
    "classifier = load_model(\"../assets/vk_texts_classifier.h5\")"
   ]
  },
  {
   "cell_type": "markdown",
   "metadata": {},
   "source": [
    "# Result"
   ]
  },
  {
   "cell_type": "code",
   "execution_count": 1,
   "metadata": {
    "ExecuteTime": {
     "end_time": "2017-09-25T02:28:42.472881Z",
     "start_time": "2017-09-25T02:28:12.184566Z"
    }
   },
   "outputs": [
    {
     "name": "stderr",
     "output_type": "stream",
     "text": [
      "Using TensorFlow backend.\n"
     ]
    }
   ],
   "source": [
    "import sys\n",
    "sys.path.append('..')\n",
    "from util import ResultClass"
   ]
  },
  {
   "cell_type": "code",
   "execution_count": 2,
   "metadata": {
    "ExecuteTime": {
     "end_time": "2017-09-25T02:28:42.500056Z",
     "start_time": "2017-09-25T02:28:42.475092Z"
    },
    "collapsed": true
   },
   "outputs": [],
   "source": [
    "import redis\n",
    "redis_obj = redis.Redis()"
   ]
  },
  {
   "cell_type": "code",
   "execution_count": 3,
   "metadata": {
    "ExecuteTime": {
     "end_time": "2017-09-25T02:28:43.952342Z",
     "start_time": "2017-09-25T02:28:42.503307Z"
    },
    "collapsed": true
   },
   "outputs": [],
   "source": [
    "result_class = ResultClass(redis_obj)"
   ]
  },
  {
   "cell_type": "code",
   "execution_count": 4,
   "metadata": {
    "ExecuteTime": {
     "end_time": "2017-09-25T02:28:51.897065Z",
     "start_time": "2017-09-25T02:28:44.776208Z"
    }
   },
   "outputs": [
    {
     "name": "stdout",
     "output_type": "stream",
     "text": [
      "VK Parsing 78543018\n",
      "dict_keys(['users_vk:78543018', 'publics_vk:76982440', 'publics_vk:74404187', 'publics_vk:40886007', 'publics_vk:46860100', 'publics_vk:20629724', 'publics_vk:9471321', 'publics_vk:32896153', 'publics_vk:25336774', 'publics_vk:52298374'])\n",
      "1-th public have been parsed. (76982440)\n",
      "2-th public have been parsed. (74404187)\n",
      "3-th public have been parsed. (40886007)\n",
      "4-th public have been parsed. (46860100)\n",
      "5-th public have been parsed. (20629724)\n",
      "6-th public have been parsed. (9471321)\n",
      "7-th public have been parsed. (32896153)\n",
      "8-th public have been parsed. (25336774)\n",
      "9-th public have been parsed. (52298374)\n",
      "VK Parse completed in 3.0752711296081543 sec.\n",
      "Added to corpora\n",
      "Transformed corpora.\n"
     ]
    }
   ],
   "source": [
    "verdict = result_class.get_result(78543018, None)"
   ]
  },
  {
   "cell_type": "code",
   "execution_count": 5,
   "metadata": {
    "ExecuteTime": {
     "end_time": "2017-09-25T02:29:04.442827Z",
     "start_time": "2017-09-25T02:29:04.428375Z"
    }
   },
   "outputs": [
    {
     "data": {
      "text/plain": [
       "[('art', 0.12067863),\n",
       " ('politics', 0.11904053),\n",
       " ('finances', 0.11047247),\n",
       " ('strateg_management', 0.24823546),\n",
       " ('law', 0.099051803),\n",
       " ('elaboration', 0.35977983),\n",
       " ('industry', 0.20506588),\n",
       " ('education', 0.42244613),\n",
       " ('charity', 0.063216761),\n",
       " ('public_health', 0.093201287),\n",
       " ('agriculture', 0.070799313),\n",
       " ('government_management', 0.15874875),\n",
       " ('smm', 0.2779991),\n",
       " ('innovations', 0.28204551),\n",
       " ('safety', 0.16917785),\n",
       " ('military', 0.10215277),\n",
       " ('corporative_management', 0.23524198),\n",
       " ('social_safety', 0.14480668),\n",
       " ('building', 0.21360886),\n",
       " ('entrepreneurship', 0.35831749),\n",
       " ('sport', 0.11745396),\n",
       " ('investitions', 0.18645653)]"
      ]
     },
     "execution_count": 5,
     "metadata": {},
     "output_type": "execute_result"
    }
   ],
   "source": [
    "verdict"
   ]
  },
  {
   "cell_type": "code",
   "execution_count": 5,
   "metadata": {
    "ExecuteTime": {
     "end_time": "2017-09-25T02:25:25.410688Z",
     "start_time": "2017-09-25T02:25:25.407459Z"
    },
    "collapsed": true
   },
   "outputs": [],
   "source": [
    "from config import VK_TOKEN"
   ]
  },
  {
   "cell_type": "code",
   "execution_count": 7,
   "metadata": {
    "ExecuteTime": {
     "end_time": "2017-09-25T02:25:31.664153Z",
     "start_time": "2017-09-25T02:25:31.661279Z"
    },
    "collapsed": true
   },
   "outputs": [],
   "source": [
    "import vk_api"
   ]
  },
  {
   "cell_type": "code",
   "execution_count": 8,
   "metadata": {
    "ExecuteTime": {
     "end_time": "2017-09-25T02:25:31.818987Z",
     "start_time": "2017-09-25T02:25:31.815777Z"
    },
    "collapsed": true
   },
   "outputs": [],
   "source": [
    "vk_session = vk_api.VkApi(token=VK_TOKEN)"
   ]
  },
  {
   "cell_type": "code",
   "execution_count": 9,
   "metadata": {
    "ExecuteTime": {
     "end_time": "2017-09-25T02:25:38.814287Z",
     "start_time": "2017-09-25T02:25:38.811158Z"
    },
    "collapsed": true
   },
   "outputs": [],
   "source": [
    "vk = vk_session.get_api()"
   ]
  },
  {
   "cell_type": "code",
   "execution_count": 22,
   "metadata": {
    "ExecuteTime": {
     "end_time": "2017-09-25T01:30:16.280365Z",
     "start_time": "2017-09-25T01:30:16.276890Z"
    },
    "collapsed": true
   },
   "outputs": [],
   "source": [
    "pool_data = {}\n",
    "publics=[-58219172, -28905875, -84926122, -55284725, -139246969, -29534144, -54530371]"
   ]
  },
  {
   "cell_type": "code",
   "execution_count": 33,
   "metadata": {
    "ExecuteTime": {
     "end_time": "2017-09-25T01:43:19.082187Z",
     "start_time": "2017-09-25T01:43:14.448676Z"
    },
    "collapsed": true
   },
   "outputs": [],
   "source": [
    "with vk_api.VkRequestsPool(vk_session) as pool:\n",
    "    for owner_id in publics:\n",
    "        pool_data[owner_id] = pool.method(\"wall.get\", {\"owner_id\": owner_id, \"count\": 100})"
   ]
  },
  {
   "cell_type": "code",
   "execution_count": 34,
   "metadata": {
    "ExecuteTime": {
     "end_time": "2017-09-25T01:43:29.740538Z",
     "start_time": "2017-09-25T01:43:29.732948Z"
    }
   },
   "outputs": [
    {
     "name": "stdout",
     "output_type": "stream",
     "text": [
      "-58219172\n",
      "-28905875\n",
      "-84926122\n",
      "-55284725\n",
      "-139246969\n",
      "-29534144\n",
      "-54530371\n"
     ]
    }
   ],
   "source": [
    "for pub in publics:\n",
    "    wall = [a.get('text', '') for a in pool_data[pub].result.get('items', [])]\n",
    "    print(pub)"
   ]
  },
  {
   "cell_type": "code",
   "execution_count": 29,
   "metadata": {
    "ExecuteTime": {
     "end_time": "2017-09-12T23:56:01.888990Z",
     "start_time": "2017-09-12T23:55:59.729605Z"
    }
   },
   "outputs": [
    {
     "data": {
      "text/plain": [
       "array([  1.58050482e-03,   6.46794308e-03,   7.65688455e-05,\n",
       "         1.75090730e-01,   1.35872543e-01,   8.20550978e-01,\n",
       "         5.53579675e-03,   4.65691447e-01,   8.31513375e-07,\n",
       "         3.94662988e-04,   1.56653114e-05,   7.64702559e-02,\n",
       "         4.29760478e-02,   1.14148781e-01,   3.48257017e-03,\n",
       "         8.69610987e-04,   1.33026719e-01,   6.09717565e-03,\n",
       "         5.01470780e-03,   1.34844348e-01,   3.38851464e-06,\n",
       "         6.28931075e-02], dtype=float32)"
      ]
     },
     "execution_count": 29,
     "metadata": {},
     "output_type": "execute_result"
    }
   ],
   "source": [
    "t = \" \".join(corpora_class.corpora[0])\n",
    "normalize(result_class.classifier.predict(np.sum(result_class.vectorizer.transform([t]), axis=0)).reshape(1, -1))[0]"
   ]
  },
  {
   "cell_type": "code",
   "execution_count": 32,
   "metadata": {
    "ExecuteTime": {
     "end_time": "2017-09-12T23:57:12.591853Z",
     "start_time": "2017-09-12T23:56:55.386247Z"
    }
   },
   "outputs": [
    {
     "name": "stdout",
     "output_type": "stream",
     "text": [
      "2.13 s ± 170 ms per loop (mean ± std. dev. of 7 runs, 1 loop each)\n"
     ]
    }
   ],
   "source": [
    "%%timeit\n",
    "normalize(result_class.classifier.predict(np.sum(result_class.vectorizer.transform([\" \".join(corpora_class.corpora[0])]), axis=0)).reshape(1, -1))[0]"
   ]
  },
  {
   "cell_type": "code",
   "execution_count": 22,
   "metadata": {
    "ExecuteTime": {
     "end_time": "2017-09-12T23:53:37.679324Z",
     "start_time": "2017-09-12T23:53:37.674998Z"
    },
    "collapsed": true
   },
   "outputs": [],
   "source": [
    "norm_categories = np.array(list(norm_names.values()))"
   ]
  },
  {
   "cell_type": "code",
   "execution_count": 39,
   "metadata": {
    "ExecuteTime": {
     "end_time": "2017-09-11T00:20:30.575987Z",
     "start_time": "2017-09-11T00:19:09.682307Z"
    },
    "scrolled": true
   },
   "outputs": [
    {
     "data": {
      "text/plain": [
       "('Искусство', 9, 0.2222222222222222, 0.2222222222222222, 0.3333333333333333)"
      ]
     },
     "execution_count": 39,
     "metadata": {},
     "output_type": "execute_result"
    },
    {
     "data": {
      "text/plain": [
       "('Политика', 17, 0.23529411764705882, 0.23529411764705882, 0.29411764705882354)"
      ]
     },
     "execution_count": 39,
     "metadata": {},
     "output_type": "execute_result"
    },
    {
     "data": {
      "text/plain": [
       "('Финансы', 6, 0.3333333333333333, 0.3333333333333333, 0.3333333333333333)"
      ]
     },
     "execution_count": 39,
     "metadata": {},
     "output_type": "execute_result"
    },
    {
     "data": {
      "text/plain": [
       "('Стратегическое управление',\n",
       " 27,\n",
       " 0.25925925925925924,\n",
       " 0.6666666666666666,\n",
       " 0.8888888888888888)"
      ]
     },
     "execution_count": 39,
     "metadata": {},
     "output_type": "execute_result"
    },
    {
     "data": {
      "text/plain": [
       "('Юриспруденция',\n",
       " 6,\n",
       " 0.3333333333333333,\n",
       " 0.3333333333333333,\n",
       " 0.3333333333333333)"
      ]
     },
     "execution_count": 39,
     "metadata": {},
     "output_type": "execute_result"
    },
    {
     "data": {
      "text/plain": [
       "('Исследования и разработки',\n",
       " 35,\n",
       " 0.11428571428571428,\n",
       " 0.45714285714285713,\n",
       " 0.8)"
      ]
     },
     "execution_count": 39,
     "metadata": {},
     "output_type": "execute_result"
    },
    {
     "data": {
      "text/plain": [
       "('Промышленность', 17, 0.0, 0.11764705882352941, 0.23529411764705882)"
      ]
     },
     "execution_count": 39,
     "metadata": {},
     "output_type": "execute_result"
    },
    {
     "data": {
      "text/plain": [
       "('Образование', 33, 0.3333333333333333, 0.7272727272727273, 0.9090909090909091)"
      ]
     },
     "execution_count": 39,
     "metadata": {},
     "output_type": "execute_result"
    },
    {
     "data": {
      "text/plain": [
       "('Благотворительность', 1, 0.0, 0.0, 0.0)"
      ]
     },
     "execution_count": 39,
     "metadata": {},
     "output_type": "execute_result"
    },
    {
     "data": {
      "text/plain": [
       "('Здравоохранение', 10, 0.4, 0.4, 0.4)"
      ]
     },
     "execution_count": 39,
     "metadata": {},
     "output_type": "execute_result"
    },
    {
     "data": {
      "text/plain": [
       "('Сельское хозяйство', 4, 0.5, 0.5, 0.5)"
      ]
     },
     "execution_count": 39,
     "metadata": {},
     "output_type": "execute_result"
    },
    {
     "data": {
      "text/plain": [
       "('Государственное управление',\n",
       " 23,\n",
       " 0.21739130434782608,\n",
       " 0.30434782608695654,\n",
       " 0.6086956521739131)"
      ]
     },
     "execution_count": 39,
     "metadata": {},
     "output_type": "execute_result"
    },
    {
     "data": {
      "text/plain": [
       "('Реклама и маркетинг',\n",
       " 9,\n",
       " 0.2222222222222222,\n",
       " 0.3333333333333333,\n",
       " 0.3333333333333333)"
      ]
     },
     "execution_count": 39,
     "metadata": {},
     "output_type": "execute_result"
    },
    {
     "data": {
      "text/plain": [
       "('Инновации и модернизация',\n",
       " 29,\n",
       " 0.10344827586206896,\n",
       " 0.3448275862068966,\n",
       " 0.9310344827586207)"
      ]
     },
     "execution_count": 39,
     "metadata": {},
     "output_type": "execute_result"
    },
    {
     "data": {
      "text/plain": [
       "('Безопасность', 9, 0.3333333333333333, 0.4444444444444444, 0.4444444444444444)"
      ]
     },
     "execution_count": 39,
     "metadata": {},
     "output_type": "execute_result"
    },
    {
     "data": {
      "text/plain": [
       "('Военное дело', 4, 0.0, 0.0, 0.25)"
      ]
     },
     "execution_count": 39,
     "metadata": {},
     "output_type": "execute_result"
    },
    {
     "data": {
      "text/plain": [
       "('Корпоративное управление',\n",
       " 17,\n",
       " 0.11764705882352941,\n",
       " 0.4117647058823529,\n",
       " 0.6470588235294118)"
      ]
     },
     "execution_count": 39,
     "metadata": {},
     "output_type": "execute_result"
    },
    {
     "data": {
      "text/plain": [
       "('Социальная защита',\n",
       " 3,\n",
       " 0.3333333333333333,\n",
       " 0.3333333333333333,\n",
       " 0.3333333333333333)"
      ]
     },
     "execution_count": 39,
     "metadata": {},
     "output_type": "execute_result"
    },
    {
     "data": {
      "text/plain": [
       "('Строительство', 8, 0.125, 0.125, 0.125)"
      ]
     },
     "execution_count": 39,
     "metadata": {},
     "output_type": "execute_result"
    },
    {
     "data": {
      "text/plain": [
       "('Предпринимательство', 36, 0.25, 0.6666666666666666, 0.9722222222222222)"
      ]
     },
     "execution_count": 39,
     "metadata": {},
     "output_type": "execute_result"
    },
    {
     "data": {
      "text/plain": [
       "('Спорт', 1, 0.0, 0.0, 0.0)"
      ]
     },
     "execution_count": 39,
     "metadata": {},
     "output_type": "execute_result"
    },
    {
     "data": {
      "text/plain": [
       "('Инвестиции',\n",
       " 21,\n",
       " 0.19047619047619047,\n",
       " 0.19047619047619047,\n",
       " 0.3333333333333333)"
      ]
     },
     "execution_count": 39,
     "metadata": {},
     "output_type": "execute_result"
    }
   ],
   "source": [
    "dict_for_mean = []\n",
    "\n",
    "labels_ = np.array(test_labels)\n",
    "corpora_ = np.array(test_corpora)\n",
    "\n",
    "acc_d = {}\n",
    "for col in norm_names.values():\n",
    "    t = social.Интересы.apply(lambda s: col in s)\n",
    "    col_labels = np.array(list(set(t[t == True].index).intersection(labels_)))\n",
    "    c_0 = 0\n",
    "    c_1 = 0\n",
    "    c_2 = 0\n",
    "    for item in corpora_[np.in1d(labels_, col_labels)]:\n",
    "        t = np.sum(classifier.predict(vectorizer.transform(item).toarray()), axis=0)\n",
    "        dict_for_mean.append(t)\n",
    "        pred_categories = norm_categories[t.argsort()[::-1][:8]]\n",
    "        if col in pred_categories[:2]:\n",
    "            c_0 += 1\n",
    "        if col in pred_categories[:5]:\n",
    "            c_1 += 1\n",
    "        if col in pred_categories:\n",
    "            c_2 += 1\n",
    "    l = len(col_labels)\n",
    "    if l == 0:\n",
    "        l = 1\n",
    "    col, l, c_0 / l, c_1 / l, c_2 / l\n",
    "    acc_d[col] = c_2 / l\n",
    "    \n",
    "    \n",
    "#     sorted(np.sum(classifier.predict(vectorizer.transform(corpora_user_gen.corpora[5]).toarray()), axis=0), reverse=True)[:3]"
   ]
  },
  {
   "cell_type": "code",
   "execution_count": 40,
   "metadata": {
    "ExecuteTime": {
     "end_time": "2017-09-11T00:20:30.591145Z",
     "start_time": "2017-09-11T00:20:30.579096Z"
    }
   },
   "outputs": [
    {
     "data": {
      "text/plain": [
       "0.45481123580974059"
      ]
     },
     "execution_count": 40,
     "metadata": {},
     "output_type": "execute_result"
    }
   ],
   "source": [
    "np.mean(list(acc_d.values()))"
   ]
  },
  {
   "cell_type": "code",
   "execution_count": 41,
   "metadata": {
    "ExecuteTime": {
     "end_time": "2017-09-11T00:20:30.609074Z",
     "start_time": "2017-09-11T00:20:30.594530Z"
    }
   },
   "outputs": [
    {
     "data": {
      "text/plain": [
       "[('art', 0.11978178),\n",
       " ('politics', 0.2571713),\n",
       " ('finances', 0.15092145),\n",
       " ('strateg_management', 0.27437153),\n",
       " ('law', 0.14367713),\n",
       " ('elaboration', 0.2649323),\n",
       " ('industry', 0.14514737),\n",
       " ('education', 0.29252267),\n",
       " ('charity', 0.11408015),\n",
       " ('public_health', 0.16153345),\n",
       " ('agriculture', 0.21364743),\n",
       " ('government_management', 0.26083517),\n",
       " ('smm', 0.23419189),\n",
       " ('innovations', 0.23632175),\n",
       " ('safety', 0.15871054),\n",
       " ('military', 0.059539381),\n",
       " ('corporative_management', 0.25076938),\n",
       " ('social_safety', 0.12933674),\n",
       " ('building', 0.14101389),\n",
       " ('entrepreneurship', 0.26689848),\n",
       " ('sport', 0.21294023),\n",
       " ('investitions', 0.18971834)]"
      ]
     },
     "execution_count": 41,
     "metadata": {},
     "output_type": "execute_result"
    }
   ],
   "source": [
    "list(zip(categories, [np.mean(a) for a in np.array([np.array(b) for b in dict_for_mean]).T]))"
   ]
  },
  {
   "cell_type": "code",
   "execution_count": 23,
   "metadata": {
    "ExecuteTime": {
     "end_time": "2017-09-12T23:53:37.735139Z",
     "start_time": "2017-09-12T23:53:37.683113Z"
    },
    "collapsed": true
   },
   "outputs": [],
   "source": [
    "# social = pd.read_excel(\"social.xlsx\", names=['id', 'name', 'fb', 'ok', 'vk', 'email', 'twitter'])\n",
    "# social.set_index('id', inplace=True)\n",
    "# social = social[social.vk.notnull()]\n",
    "# social.vk = social.vk.apply(lambda x: str(x).split(\"/\")[-1])\n",
    "# df = social[social.vk.notnull()]\n",
    "# df = df[['name', 'vk']]\n",
    "\n",
    "# def get_id(screen_name):\n",
    "#     try:\n",
    "#         item = vk.users.get(user_ids=screen_name)\n",
    "#         if 'deactivated' not in item:\n",
    "#             return item[0]['id']\n",
    "#     except Exception as e:\n",
    "#         print(e.args)\n",
    "# # Нужно замапить screen_name с их vk_id, поэтому придется обрабатывать по одному\n",
    "\n",
    "# df['vk_id'] = df.vk.progress_apply(get_id)\n",
    "# df.dropna(inplace=True)\n",
    "# df.vk_id = df.vk_id.astype('int')\n",
    "# df.to_msgpack(\"df.msg\")\n",
    "df = pd.read_msgpack(\"assets/df.msg\")\n",
    "known = pd.read_csv(\"assets/known_users.csv\")\n",
    "known = known.merge(df[['vk_id']], left_on='Leader-ID', right_index=True, how='left')"
   ]
  },
  {
   "cell_type": "code",
   "execution_count": 83,
   "metadata": {
    "ExecuteTime": {
     "end_time": "2017-09-13T00:39:59.233384Z",
     "start_time": "2017-09-13T00:39:59.229318Z"
    },
    "collapsed": true
   },
   "outputs": [],
   "source": [
    "from line_profiler import LineProfiler"
   ]
  },
  {
   "cell_type": "code",
   "execution_count": 88,
   "metadata": {
    "ExecuteTime": {
     "end_time": "2017-09-13T00:40:40.983908Z",
     "start_time": "2017-09-13T00:40:40.980340Z"
    },
    "collapsed": true
   },
   "outputs": [],
   "source": [
    "lp = LineProfiler()"
   ]
  },
  {
   "cell_type": "code",
   "execution_count": 89,
   "metadata": {
    "ExecuteTime": {
     "end_time": "2017-09-13T00:40:41.306698Z",
     "start_time": "2017-09-13T00:40:41.303604Z"
    },
    "collapsed": true
   },
   "outputs": [],
   "source": [
    "lp.add_function(corpora_class.full_process)"
   ]
  },
  {
   "cell_type": "code",
   "execution_count": 91,
   "metadata": {
    "ExecuteTime": {
     "end_time": "2017-09-13T00:40:47.667590Z",
     "start_time": "2017-09-13T00:40:47.644252Z"
    }
   },
   "outputs": [
    {
     "data": {
      "text/plain": [
       "<line_profiler.LineProfiler at 0x12eff8e88>"
      ]
     },
     "execution_count": 91,
     "metadata": {},
     "output_type": "execute_result"
    }
   ],
   "source": [
    "lp.run(\"corpora_class.full_process(corpora[0][0])\")"
   ]
  },
  {
   "cell_type": "code",
   "execution_count": 93,
   "metadata": {
    "ExecuteTime": {
     "end_time": "2017-09-13T00:41:03.383585Z",
     "start_time": "2017-09-13T00:41:03.345261Z"
    }
   },
   "outputs": [
    {
     "name": "stdout",
     "output_type": "stream",
     "text": [
      "Timer unit: 1e-06 s\n",
      "\n",
      "Total time: 0.017674 s\n",
      "File: /Users/george/Dropbox/Projects/vk_text_classifier/util.py\n",
      "Function: full_process at line 36\n",
      "\n",
      "Line #      Hits         Time  Per Hit   % Time  Line Contents\n",
      "==============================================================\n",
      "    36                                               @staticmethod\n",
      "    37                                               def full_process(text, tokenizer=tokenizer, morph=morph, ru_pattern=ru_pattern):\n",
      "    38                                                   # Clear text from punctuation etc.'''\n",
      "    39         1          110    110.0      0.6          tokens = tokenizer.tokenize(text)\n",
      "    40                                           \n",
      "    41                                                   # Turn tokens into normal form excluding non-nouns or verbs\n",
      "    42         1            1      1.0      0.0          processed = []\n",
      "    43       102           77      0.8      0.4          for token in tokens:\n",
      "    44       101         8888     88.0     50.3              morphed = morph.parse(token)[0].normal_form\n",
      "    45       101         7591     75.2     43.0              nf_tag = str(morph.parse(morphed)[0].tag.POS)\n",
      "    46       101          129      1.3      0.7              if nf_tag in (\"NOUN\", \"ADJF\", \"INFN\", \"NUMR\") and len(token) < 16:\n",
      "    47        66          811     12.3      4.6                  if len(morphed) == len(re.findall(ru_pattern, morphed)):\n",
      "    48        66           67      1.0      0.4                      processed.append(morphed)\n",
      "    49                                           \n",
      "    50         1            0      0.0      0.0          return processed\n",
      "\n"
     ]
    }
   ],
   "source": [
    "lp.print_stats()"
   ]
  },
  {
   "cell_type": "code",
   "execution_count": 109,
   "metadata": {
    "ExecuteTime": {
     "end_time": "2017-09-13T10:48:32.241543Z",
     "start_time": "2017-09-13T10:48:32.155743Z"
    },
    "collapsed": true
   },
   "outputs": [],
   "source": [
    "import requests\n",
    "import vk_api\n",
    "vk_s = vk_api.VkApi()\n",
    "vk = vk_s.get_api()\n",
    "t = vk.friends.get(user_id=134070307)['items']"
   ]
  },
  {
   "cell_type": "code",
   "execution_count": 119,
   "metadata": {
    "ExecuteTime": {
     "end_time": "2017-09-13T10:48:38.849904Z",
     "start_time": "2017-09-13T10:48:38.469268Z"
    }
   },
   "outputs": [
    {
     "data": {
      "text/plain": [
       "{'name': '', 'user_vk': 61356}"
      ]
     },
     "execution_count": 119,
     "metadata": {},
     "output_type": "execute_result"
    }
   ],
   "source": [
    "{\"name\": \"\", \"user_vk\": int(np.random.choice(vk.friends.get(user_id=np.random.choice(t))['items']))}"
   ]
  },
  {
   "cell_type": "code",
   "execution_count": 57,
   "metadata": {
    "ExecuteTime": {
     "end_time": "2017-09-13T00:19:56.875011Z",
     "start_time": "2017-09-13T00:19:56.872121Z"
    },
    "collapsed": true
   },
   "outputs": [],
   "source": [
    "requests.post(\"http://78.155.197.212:9999/get_result\", json={\"name\": \"\", \"user_vk\": int(np.random.choice(vk.friends.get(user_id=np.random.choice(t))['items']))}).json()"
   ]
  },
  {
   "cell_type": "code",
   "execution_count": 104,
   "metadata": {
    "ExecuteTime": {
     "end_time": "2017-09-13T10:17:11.030964Z",
     "start_time": "2017-09-13T10:14:20.030762Z"
    }
   },
   "outputs": [
    {
     "name": "stdout",
     "output_type": "stream",
     "text": [
      "The slowest run took 34.22 times longer than the fastest. This could mean that an intermediate result is being cached.\n",
      "19.3 s ± 17.5 s per loop (mean ± std. dev. of 7 runs, 1 loop each)\n"
     ]
    }
   ],
   "source": [
    "import requests\n",
    "import vk_api\n",
    "vk_s = vk_api.VkApi()\n",
    "vk = vk_s.get_api()\n",
    "t = vk.friends.get(user_id=134070307)['items']\n",
    "\n",
    "while 1:\n",
    "    requests.post(\"http://78.155.197.212:9999/get_result\", json={\"name\": \"\", \"user_vk\": int(np.random.choice(vk.friends.get(user_id=np.random.choice(t))['items']))}).json()"
   ]
  },
  {
   "cell_type": "code",
   "execution_count": 105,
   "metadata": {
    "ExecuteTime": {
     "end_time": "2017-09-13T10:19:49.858360Z",
     "start_time": "2017-09-13T10:19:49.775863Z"
    },
    "collapsed": true
   },
   "outputs": [],
   "source": [
    "import vk_api\n",
    "vk_s = vk_api.VkApi()\n",
    "vk = vk_s.get_api()\n",
    "t = vk.friends.get(user_id=134070307)['items']"
   ]
  },
  {
   "cell_type": "code",
   "execution_count": 56,
   "metadata": {
    "ExecuteTime": {
     "end_time": "2017-09-13T00:19:35.540895Z",
     "start_time": "2017-09-13T00:19:35.525167Z"
    }
   },
   "outputs": [
    {
     "data": {
      "text/plain": [
       "<1518x19770 sparse matrix of type '<class 'numpy.float64'>'\n",
       "\twith 13149 stored elements in Compressed Sparse Row format>"
      ]
     },
     "execution_count": 56,
     "metadata": {},
     "output_type": "execute_result"
    }
   ],
   "source": [
    "transformed"
   ]
  },
  {
   "cell_type": "code",
   "execution_count": 37,
   "metadata": {
    "ExecuteTime": {
     "end_time": "2017-09-12T23:59:38.014533Z",
     "start_time": "2017-09-12T23:58:52.196019Z"
    },
    "collapsed": true
   },
   "outputs": [
    {
     "name": "stderr",
     "output_type": "stream",
     "text": [
      "\r",
      "  0%|          | 0/44 [00:00<?, ?it/s]"
     ]
    },
    {
     "name": "stdout",
     "output_type": "stream",
     "text": [
      "FB Parsing alya.blesk\n",
      "FB Parse completed.\n",
      "Added to corpora\n",
      "Transformed corpora.\n"
     ]
    },
    {
     "name": "stderr",
     "output_type": "stream",
     "text": [
      "\r",
      "  2%|▏         | 1/44 [00:01<00:52,  1.21s/it]"
     ]
    },
    {
     "name": "stdout",
     "output_type": "stream",
     "text": [
      "FB Parsing zonovaangelina\n",
      "FB Parse completed.\n",
      "Added to corpora\n"
     ]
    },
    {
     "name": "stderr",
     "output_type": "stream",
     "text": [
      "\r",
      "  5%|▍         | 2/44 [00:01<00:38,  1.09it/s]"
     ]
    },
    {
     "name": "stdout",
     "output_type": "stream",
     "text": [
      "Transformed corpora.\n",
      "FB Parsing 100018653177414\n",
      "FB Parse completed.\n"
     ]
    },
    {
     "name": "stderr",
     "output_type": "stream",
     "text": [
      "\r",
      "  7%|▋         | 3/44 [00:01<00:28,  1.43it/s]"
     ]
    },
    {
     "name": "stdout",
     "output_type": "stream",
     "text": [
      "Added to corpora\n",
      "FB Parsing 1088734051\n",
      "FB Parse completed."
     ]
    },
    {
     "name": "stderr",
     "output_type": "stream",
     "text": [
      "\r",
      "  9%|▉         | 4/44 [00:02<00:29,  1.35it/s]"
     ]
    },
    {
     "name": "stdout",
     "output_type": "stream",
     "text": [
      "\n",
      "Added to corpora\n",
      "Transformed corpora.\n",
      "FB Parsing kadilevazm\n",
      "FB Parse completed.\n",
      "Added to corpora\n"
     ]
    },
    {
     "name": "stderr",
     "output_type": "stream",
     "text": [
      "\r",
      " 11%|█▏        | 5/44 [00:03<00:33,  1.16it/s]"
     ]
    },
    {
     "name": "stdout",
     "output_type": "stream",
     "text": [
      "Transformed corpora.\n",
      "FB Parsing 100013685044932\n"
     ]
    },
    {
     "name": "stderr",
     "output_type": "stream",
     "text": [
      "\r",
      " 14%|█▎        | 6/44 [00:03<00:26,  1.45it/s]"
     ]
    },
    {
     "name": "stdout",
     "output_type": "stream",
     "text": [
      "FB Parse completed.\n",
      "Added to corpora\n",
      "Transformed corpora.\n",
      "FB Parsing i.g.grigorenko\n"
     ]
    },
    {
     "name": "stderr",
     "output_type": "stream",
     "text": [
      "\r",
      " 16%|█▌        | 7/44 [00:04<00:20,  1.77it/s]"
     ]
    },
    {
     "name": "stdout",
     "output_type": "stream",
     "text": [
      "FB Parse completed.\n",
      "Added to corpora\n",
      "Transformed corpora.\n",
      "FB Parsing nvkulbyatskaya\n",
      "FB Parse completed.\n",
      "Added to corpora\n",
      "Transformed corpora.\n"
     ]
    },
    {
     "name": "stderr",
     "output_type": "stream",
     "text": [
      "\r",
      " 18%|█▊        | 8/44 [00:05<00:32,  1.10it/s]"
     ]
    },
    {
     "name": "stdout",
     "output_type": "stream",
     "text": [
      "FB Parsing 100017461808545\n",
      "FB Parse completed."
     ]
    },
    {
     "name": "stderr",
     "output_type": "stream",
     "text": [
      "\r",
      " 20%|██        | 9/44 [00:06<00:25,  1.37it/s]"
     ]
    },
    {
     "name": "stdout",
     "output_type": "stream",
     "text": [
      "\n",
      "Added to corpora\n",
      "Transformed corpora.\n",
      "FB Parsing 1496282246\n"
     ]
    },
    {
     "name": "stderr",
     "output_type": "stream",
     "text": [
      "\r",
      " 23%|██▎       | 10/44 [00:06<00:25,  1.34it/s]"
     ]
    },
    {
     "name": "stdout",
     "output_type": "stream",
     "text": [
      "FB Parse completed.\n",
      "Added to corpora\n",
      "Transformed corpora.\n",
      "FB Parsing khoryushin\n"
     ]
    },
    {
     "name": "stderr",
     "output_type": "stream",
     "text": [
      "\r",
      " 25%|██▌       | 11/44 [00:07<00:21,  1.55it/s]"
     ]
    },
    {
     "name": "stdout",
     "output_type": "stream",
     "text": [
      "FB Parse completed.\n",
      "Added to corpora\n",
      "Transformed corpora.\n",
      "VK Parsing 222216857.0\n",
      "VK Parse completed.\n",
      "FB Parsing andrey.siling\n",
      "FB Parse completed.\n",
      "Added to corpora\n",
      "Transformed corpora.\n"
     ]
    },
    {
     "name": "stderr",
     "output_type": "stream",
     "text": [
      "\r",
      " 27%|██▋       | 12/44 [00:09<00:35,  1.10s/it]"
     ]
    },
    {
     "name": "stdout",
     "output_type": "stream",
     "text": [
      "FB Parsing devident\n",
      "FB Parse completed.\n",
      "Added to corpora\n"
     ]
    },
    {
     "name": "stderr",
     "output_type": "stream",
     "text": [
      "\r",
      " 30%|██▉       | 13/44 [00:10<00:30,  1.00it/s]"
     ]
    },
    {
     "name": "stdout",
     "output_type": "stream",
     "text": [
      "Transformed corpora.\n",
      "FB Parsing denis.unzhakov\n",
      "FB Parse completed.\n",
      "Added to corpora\n"
     ]
    },
    {
     "name": "stderr",
     "output_type": "stream",
     "text": [
      "\r",
      " 32%|███▏      | 14/44 [00:11<00:28,  1.06it/s]"
     ]
    },
    {
     "name": "stdout",
     "output_type": "stream",
     "text": [
      "Transformed corpora.\n",
      "FB Parsing blag54\n"
     ]
    },
    {
     "name": "stderr",
     "output_type": "stream",
     "text": [
      "\r",
      " 34%|███▍      | 15/44 [00:11<00:21,  1.32it/s]"
     ]
    },
    {
     "name": "stdout",
     "output_type": "stream",
     "text": [
      "FB Parse completed.\n",
      "Added to corpora\n",
      "Transformed corpora.\n",
      "FB Parsing aksenova0\n"
     ]
    },
    {
     "name": "stderr",
     "output_type": "stream",
     "text": [
      "\r",
      " 36%|███▋      | 16/44 [00:11<00:16,  1.69it/s]"
     ]
    },
    {
     "name": "stdout",
     "output_type": "stream",
     "text": [
      "FB Parse completed.\n",
      "Added to corpora\n",
      "FB Parsing ekaterina.shakina.73\n",
      "FB Parse completed."
     ]
    },
    {
     "name": "stderr",
     "output_type": "stream",
     "text": [
      "\r",
      " 39%|███▊      | 17/44 [00:12<00:14,  1.82it/s]"
     ]
    },
    {
     "name": "stdout",
     "output_type": "stream",
     "text": [
      "\n",
      "Added to corpora\n",
      "Transformed corpora.\n",
      "FB Parsing eugene.colchev\n",
      "FB Parse completed.\n",
      "Added to corpora\n",
      "Transformed corpora.\n"
     ]
    },
    {
     "name": "stderr",
     "output_type": "stream",
     "text": [
      "\r",
      " 41%|████      | 18/44 [00:12<00:16,  1.55it/s]"
     ]
    },
    {
     "name": "stdout",
     "output_type": "stream",
     "text": [
      "FB Parsing eugene.kolganov\n"
     ]
    },
    {
     "name": "stderr",
     "output_type": "stream",
     "text": [
      "\r",
      " 43%|████▎     | 19/44 [00:13<00:14,  1.71it/s]"
     ]
    },
    {
     "name": "stdout",
     "output_type": "stream",
     "text": [
      "FB Parse completed.\n",
      "Added to corpora\n",
      "Transformed corpora.\n",
      "FB Parsing ekovnir\n",
      "FB Parse completed.\n",
      "Added to corpora\n",
      "Transformed corpora.\n"
     ]
    },
    {
     "name": "stderr",
     "output_type": "stream",
     "text": [
      "\r",
      " 45%|████▌     | 20/44 [00:15<00:26,  1.09s/it]"
     ]
    },
    {
     "name": "stdout",
     "output_type": "stream",
     "text": [
      "FB Parsing GeorgeBoissonade\n",
      "FB Parse completed."
     ]
    },
    {
     "name": "stderr",
     "output_type": "stream",
     "text": [
      "\r",
      " 48%|████▊     | 21/44 [00:16<00:19,  1.16it/s]"
     ]
    },
    {
     "name": "stdout",
     "output_type": "stream",
     "text": [
      "\n",
      "Added to corpora\n",
      "Transformed corpora.\n",
      "VK Parsing 4842118.0\n",
      "1-th public have been parsed. (23868023)\n",
      "2-th public have been parsed. (45938293)\n",
      "3-th public have been parsed. (88640919)\n",
      "4-th public have been parsed. (40393408)\n",
      "5-th public have been parsed. (30525261)\n",
      "VK Parse completed.\n",
      "FB Parsing iruzhentsev\n",
      "FB Parse completed.\n",
      "Added to corpora\n",
      "Transformed corpora.\n"
     ]
    },
    {
     "name": "stderr",
     "output_type": "stream",
     "text": [
      "\r",
      " 50%|█████     | 22/44 [00:20<00:40,  1.86s/it]"
     ]
    },
    {
     "name": "stdout",
     "output_type": "stream",
     "text": [
      "FB Parsing irina.gordinanevmerzhitskaya\n",
      "FB Parse completed.\n",
      "Added to corpora\n",
      "Transformed corpora.\n"
     ]
    },
    {
     "name": "stderr",
     "output_type": "stream",
     "text": [
      "\r",
      " 52%|█████▏    | 23/44 [00:21<00:35,  1.71s/it]"
     ]
    },
    {
     "name": "stdout",
     "output_type": "stream",
     "text": [
      "FB Parsing 100006012883228\n",
      "FB Parse completed."
     ]
    },
    {
     "name": "stderr",
     "output_type": "stream",
     "text": [
      "\r",
      " 55%|█████▍    | 24/44 [00:21<00:25,  1.29s/it]"
     ]
    },
    {
     "name": "stdout",
     "output_type": "stream",
     "text": [
      "\n",
      "Added to corpora\n",
      "Transformed corpora.\n",
      "FB Parsing 710434546\n"
     ]
    },
    {
     "name": "stderr",
     "output_type": "stream",
     "text": [
      "\r",
      " 57%|█████▋    | 25/44 [00:22<00:19,  1.02s/it]"
     ]
    },
    {
     "name": "stdout",
     "output_type": "stream",
     "text": [
      "FB Parse completed.\n",
      "Added to corpora\n",
      "Transformed corpora.\n",
      "FB Parsing 100007301839238\n"
     ]
    },
    {
     "name": "stderr",
     "output_type": "stream",
     "text": [
      "\r",
      " 59%|█████▉    | 26/44 [00:22<00:13,  1.29it/s]"
     ]
    },
    {
     "name": "stdout",
     "output_type": "stream",
     "text": [
      "FB Parse completed.\n",
      "Added to corpora\n",
      "Transformed corpora.\n",
      "FB Parsing ksusha.andreeva.14\n",
      "FB Parse completed.\n",
      "Added to corpora\n",
      "Transformed corpora.\n"
     ]
    },
    {
     "name": "stderr",
     "output_type": "stream",
     "text": [
      "\r",
      " 61%|██████▏   | 27/44 [00:24<00:20,  1.20s/it]"
     ]
    },
    {
     "name": "stdout",
     "output_type": "stream",
     "text": [
      "FB Parsing liubov.kirienko\n",
      "FB Parse completed."
     ]
    },
    {
     "name": "stderr",
     "output_type": "stream",
     "text": [
      "\r",
      " 64%|██████▎   | 28/44 [00:25<00:16,  1.06s/it]"
     ]
    },
    {
     "name": "stdout",
     "output_type": "stream",
     "text": [
      "\n",
      "Added to corpora\n",
      "Transformed corpora.\n",
      "FB Parsing maria.dolgikh.7\n",
      "FB Parse completed.\n",
      "Added to corpora\n",
      "Transformed corpora.\n"
     ]
    },
    {
     "name": "stderr",
     "output_type": "stream",
     "text": [
      "\r",
      " 66%|██████▌   | 29/44 [00:26<00:18,  1.21s/it]"
     ]
    },
    {
     "name": "stdout",
     "output_type": "stream",
     "text": [
      "FB Parsing nikita.lebedev.9484\n",
      "FB Parse completed.\n",
      "Added to corpora\n"
     ]
    },
    {
     "name": "stderr",
     "output_type": "stream",
     "text": [
      "\r",
      " 68%|██████▊   | 30/44 [00:28<00:17,  1.28s/it]"
     ]
    },
    {
     "name": "stdout",
     "output_type": "stream",
     "text": [
      "Transformed corpora.\n",
      "FB Parsing oleg.podolskiy\n"
     ]
    },
    {
     "name": "stderr",
     "output_type": "stream",
     "text": [
      "\r",
      " 70%|███████   | 31/44 [00:28<00:12,  1.00it/s]"
     ]
    },
    {
     "name": "stdout",
     "output_type": "stream",
     "text": [
      "FB Parse completed.\n",
      "Added to corpora\n",
      "Transformed corpora.\n",
      "FB Parsing olga.potemkina.125\n",
      "FB Parse completed.\n",
      "Added to corpora\n",
      "Transformed corpora.\n"
     ]
    },
    {
     "name": "stderr",
     "output_type": "stream",
     "text": [
      "\r",
      " 73%|███████▎  | 32/44 [00:29<00:12,  1.02s/it]"
     ]
    },
    {
     "name": "stdout",
     "output_type": "stream",
     "text": [
      "FB Parsing 100004241860483\n",
      "FB Parse completed."
     ]
    },
    {
     "name": "stderr",
     "output_type": "stream",
     "text": [
      "\r",
      " 75%|███████▌  | 33/44 [00:30<00:09,  1.20it/s]"
     ]
    },
    {
     "name": "stdout",
     "output_type": "stream",
     "text": [
      "\n",
      "Added to corpora\n",
      "Transformed corpora.\n",
      "FB Parsing ruslan.karmanny.57\n"
     ]
    },
    {
     "name": "stderr",
     "output_type": "stream",
     "text": [
      "\r",
      " 77%|███████▋  | 34/44 [00:31<00:10,  1.05s/it]"
     ]
    },
    {
     "name": "stdout",
     "output_type": "stream",
     "text": [
      "FB Parse completed.\n",
      "Added to corpora\n",
      "Transformed corpora.\n",
      "FB Parsing nacvasin\n",
      "FB Parse completed.\n",
      "Added to corpora"
     ]
    },
    {
     "name": "stderr",
     "output_type": "stream",
     "text": [
      "\r",
      " 80%|███████▉  | 35/44 [00:32<00:09,  1.04s/it]"
     ]
    },
    {
     "name": "stdout",
     "output_type": "stream",
     "text": [
      "\n",
      "Transformed corpora.\n",
      "FB Parsing tatiana.anisimova.50\n"
     ]
    },
    {
     "name": "stderr",
     "output_type": "stream",
     "text": [
      "\r",
      " 82%|████████▏ | 36/44 [00:33<00:07,  1.07it/s]"
     ]
    },
    {
     "name": "stdout",
     "output_type": "stream",
     "text": [
      "FB Parse completed.\n",
      "Added to corpora\n",
      "Transformed corpora.\n",
      "FB Parsing 1660860881\n",
      "FB Parse completed.\n",
      "Added to corpora\n",
      "Transformed corpora.\n"
     ]
    },
    {
     "name": "stderr",
     "output_type": "stream",
     "text": [
      "\r",
      " 84%|████████▍ | 37/44 [00:34<00:07,  1.07s/it]"
     ]
    },
    {
     "name": "stdout",
     "output_type": "stream",
     "text": [
      "FB Parsing tretyakov.vasily\n",
      "FB Parse completed.\n",
      "Added to corpora"
     ]
    },
    {
     "name": "stderr",
     "output_type": "stream",
     "text": [
      "\r",
      " 86%|████████▋ | 38/44 [00:35<00:06,  1.00s/it]"
     ]
    },
    {
     "name": "stdout",
     "output_type": "stream",
     "text": [
      "\n",
      "Transformed corpora.\n",
      "FB Parsing luckashinav\n",
      "FB Parse completed.\n",
      "Added to corpora"
     ]
    },
    {
     "name": "stderr",
     "output_type": "stream",
     "text": [
      "\r",
      " 89%|████████▊ | 39/44 [00:36<00:04,  1.00it/s]"
     ]
    },
    {
     "name": "stdout",
     "output_type": "stream",
     "text": [
      "\n",
      "Transformed corpora.\n",
      "FB Parsing yulia.gudach\n",
      "FB Parse completed.\n",
      "Added to corpora\n",
      "Transformed corpora.\n"
     ]
    },
    {
     "name": "stderr",
     "output_type": "stream",
     "text": [
      "\r",
      " 91%|█████████ | 40/44 [00:37<00:04,  1.05s/it]"
     ]
    },
    {
     "name": "stdout",
     "output_type": "stream",
     "text": [
      "FB Parsing yury.sushinov\n",
      "FB Parse completed.\n",
      "Added to corpora\n",
      "Transformed corpora.\n"
     ]
    },
    {
     "name": "stderr",
     "output_type": "stream",
     "text": [
      "\r",
      " 93%|█████████▎| 41/44 [00:39<00:03,  1.17s/it]"
     ]
    },
    {
     "name": "stdout",
     "output_type": "stream",
     "text": [
      "FB Parsing peskov\n"
     ]
    },
    {
     "name": "stderr",
     "output_type": "stream",
     "text": [
      "\r",
      " 95%|█████████▌| 42/44 [00:40<00:02,  1.32s/it]"
     ]
    },
    {
     "name": "stdout",
     "output_type": "stream",
     "text": [
      "FB Parse completed.\n",
      "Added to corpora\n",
      "Transformed corpora.\n",
      "FB Parsing 100007131103601\n",
      "FB Parse completed.\n"
     ]
    },
    {
     "name": "stderr",
     "output_type": "stream",
     "text": [
      "\r",
      " 98%|█████████▊| 43/44 [00:42<00:01,  1.26s/it]"
     ]
    },
    {
     "name": "stdout",
     "output_type": "stream",
     "text": [
      "Added to corpora\n",
      "Transformed corpora.\n",
      "VK Parsing 2416234.0\n",
      "1-th public have been parsed. (31920990)\n",
      "2-th public have been parsed. (1967021)\n",
      "3-th public have been parsed. (227)\n",
      "4-th public have been parsed. (8179697)\n",
      "VK Parse completed.\n",
      "FB Parsing dmitry.zemtsov\n",
      "FB Parse completed.\n",
      "Added to corpora\n",
      "Transformed corpora.\n"
     ]
    },
    {
     "name": "stderr",
     "output_type": "stream",
     "text": [
      "100%|██████████| 44/44 [00:45<00:00,  1.98s/it]\n"
     ]
    }
   ],
   "source": [
    "offset = 0\n",
    "for index, row in tqdm.tqdm(known.iloc[offset:, :].iterrows(), total=len(known) - offset):\n",
    "    user_vk = row['vk_id']\n",
    "    if str(user_vk) == \"nan\":\n",
    "        user_vk = None\n",
    "    user_fb = row['FB']\n",
    "    if str(user_fb) == \"nan\":\n",
    "        user_fb = None\n",
    "    try:\n",
    "        verdict = result_class.get_result(user_vk, user_fb)\n",
    "        result_class.texts = []\n",
    "        for cat, value in verdict:\n",
    "            known.loc[index, cat] = value\n",
    "    except ValueError:\n",
    "        for cat in categories:\n",
    "            known.loc[index, cat] = 0\n",
    "    except IndexError:\n",
    "        for cat in categories:\n",
    "            known.loc[index, cat] = 0"
   ]
  },
  {
   "cell_type": "code",
   "execution_count": 38,
   "metadata": {
    "ExecuteTime": {
     "end_time": "2017-09-12T23:59:44.105751Z",
     "start_time": "2017-09-12T23:59:43.582881Z"
    },
    "collapsed": true
   },
   "outputs": [],
   "source": [
    "norm_dict = {\"values\": []}\n",
    "for name in known.ФИ:\n",
    "    results = []\n",
    "    for col in known[known.ФИ == name].iloc[:, 4:].columns:\n",
    "        results.append({\"name\": norm_names[col], \"value\": float(known.loc[known.ФИ == name, col].values[0])})\n",
    "    norm_dict['values'].append({\"name\": name, \"results\": results})"
   ]
  },
  {
   "cell_type": "code",
   "execution_count": 42,
   "metadata": {
    "ExecuteTime": {
     "end_time": "2017-09-13T00:00:50.038475Z",
     "start_time": "2017-09-13T00:00:50.026769Z"
    },
    "scrolled": false
   },
   "outputs": [
    {
     "data": {
      "text/plain": [
       "[('Образование', 'Предпринимательство'),\n",
       " ('Строительство', 'Образование'),\n",
       " ('Инвестиции', 'Спорт'),\n",
       " ('Спорт', 'Предпринимательство'),\n",
       " ('Реклама и маркетинг', 'Образование'),\n",
       " ('Образование', 'Здравоохранение'),\n",
       " ('Государственное управление', 'Корпоративное управление'),\n",
       " ('Образование', 'Предпринимательство'),\n",
       " ('Образование', 'Промышленность'),\n",
       " ('Образование', 'Реклама и маркетинг'),\n",
       " ('Искусство', 'Исследования и разработки'),\n",
       " ('Спорт', 'Образование'),\n",
       " ('Образование', 'Предпринимательство'),\n",
       " ('Спорт', 'Предпринимательство'),\n",
       " ('Образование', 'Предпринимательство'),\n",
       " ('Инвестиции', 'Спорт'),\n",
       " ('Образование', 'Предпринимательство'),\n",
       " ('Образование', 'Предпринимательство'),\n",
       " ('Социальная защита', 'Образование'),\n",
       " ('Реклама и маркетинг', 'Образование'),\n",
       " ('Здравоохранение', 'Благотворительность'),\n",
       " ('Предпринимательство', 'Образование'),\n",
       " ('Предпринимательство', 'Образование'),\n",
       " ('Образование', 'Строительство'),\n",
       " ('Строительство', 'Исследования и разработки'),\n",
       " ('Здравоохранение', 'Безопасность'),\n",
       " ('Образование', 'Предпринимательство'),\n",
       " ('Предпринимательство', 'Образование'),\n",
       " ('Образование', 'Предпринимательство'),\n",
       " ('Предпринимательство', 'Образование'),\n",
       " ('Строительство', 'Образование'),\n",
       " ('Образование', 'Предпринимательство'),\n",
       " ('Здравоохранение', 'Государственное управление'),\n",
       " ('Предпринимательство', 'Образование'),\n",
       " ('Образование', 'Предпринимательство'),\n",
       " ('Образование', 'Предпринимательство'),\n",
       " ('Благотворительность', 'Предпринимательство'),\n",
       " ('Образование', 'Предпринимательство'),\n",
       " ('Образование', 'Предпринимательство'),\n",
       " ('Реклама и маркетинг', 'Образование'),\n",
       " ('Реклама и маркетинг', 'Образование'),\n",
       " ('Образование', 'Предпринимательство'),\n",
       " ('Образование', 'Исследования и разработки'),\n",
       " ('Образование', 'Предпринимательство')]"
      ]
     },
     "execution_count": 42,
     "metadata": {},
     "output_type": "execute_result"
    }
   ],
   "source": [
    "[(norm_categories[x.argsort()[-1]], norm_categories[x.argsort()[-2]]) for x in known.loc[:, categories].values]"
   ]
  },
  {
   "cell_type": "code",
   "execution_count": 43,
   "metadata": {
    "ExecuteTime": {
     "end_time": "2017-09-13T00:01:08.518349Z",
     "start_time": "2017-09-13T00:01:08.428095Z"
    }
   },
   "outputs": [
    {
     "data": {
      "text/plain": [
       "('Искусство', 0.11816754192113876)"
      ]
     },
     "execution_count": 43,
     "metadata": {},
     "output_type": "execute_result"
    },
    {
     "data": {
      "text/plain": [
       "('Политика', 0.1563805639743805)"
      ]
     },
     "execution_count": 43,
     "metadata": {},
     "output_type": "execute_result"
    },
    {
     "data": {
      "text/plain": [
       "('Финансы', 0.13835492730140686)"
      ]
     },
     "execution_count": 43,
     "metadata": {},
     "output_type": "execute_result"
    },
    {
     "data": {
      "text/plain": [
       "('Стратегическое управление', 0.2304811328649521)"
      ]
     },
     "execution_count": 43,
     "metadata": {},
     "output_type": "execute_result"
    },
    {
     "data": {
      "text/plain": [
       "('Юриспруденция', 0.07182104140520096)"
      ]
     },
     "execution_count": 43,
     "metadata": {},
     "output_type": "execute_result"
    },
    {
     "data": {
      "text/plain": [
       "('Исследования и разработки', 0.2729760706424713)"
      ]
     },
     "execution_count": 43,
     "metadata": {},
     "output_type": "execute_result"
    },
    {
     "data": {
      "text/plain": [
       "('Промышленность', 0.23073923587799072)"
      ]
     },
     "execution_count": 43,
     "metadata": {},
     "output_type": "execute_result"
    },
    {
     "data": {
      "text/plain": [
       "('Образование', 0.36262887716293335)"
      ]
     },
     "execution_count": 43,
     "metadata": {},
     "output_type": "execute_result"
    },
    {
     "data": {
      "text/plain": [
       "('Благотворительность', 0.059181734919548035)"
      ]
     },
     "execution_count": 43,
     "metadata": {},
     "output_type": "execute_result"
    },
    {
     "data": {
      "text/plain": [
       "('Здравоохранение', 0.16277647018432617)"
      ]
     },
     "execution_count": 43,
     "metadata": {},
     "output_type": "execute_result"
    },
    {
     "data": {
      "text/plain": [
       "('Сельское хозяйство', 0.10010015964508057)"
      ]
     },
     "execution_count": 43,
     "metadata": {},
     "output_type": "execute_result"
    },
    {
     "data": {
      "text/plain": [
       "('Государственное управление', 0.1793888360261917)"
      ]
     },
     "execution_count": 43,
     "metadata": {},
     "output_type": "execute_result"
    },
    {
     "data": {
      "text/plain": [
       "('Реклама и маркетинг', 0.20943303406238556)"
      ]
     },
     "execution_count": 43,
     "metadata": {},
     "output_type": "execute_result"
    },
    {
     "data": {
      "text/plain": [
       "('Инновации и модернизация', 0.237436905503273)"
      ]
     },
     "execution_count": 43,
     "metadata": {},
     "output_type": "execute_result"
    },
    {
     "data": {
      "text/plain": [
       "('Безопасность', 0.11387616395950317)"
      ]
     },
     "execution_count": 43,
     "metadata": {},
     "output_type": "execute_result"
    },
    {
     "data": {
      "text/plain": [
       "('Военное дело', 0.043465837836265564)"
      ]
     },
     "execution_count": 43,
     "metadata": {},
     "output_type": "execute_result"
    },
    {
     "data": {
      "text/plain": [
       "('Корпоративное управление', 0.1961883306503296)"
      ]
     },
     "execution_count": 43,
     "metadata": {},
     "output_type": "execute_result"
    },
    {
     "data": {
      "text/plain": [
       "('Социальная защита', 0.1679375171661377)"
      ]
     },
     "execution_count": 43,
     "metadata": {},
     "output_type": "execute_result"
    },
    {
     "data": {
      "text/plain": [
       "('Строительство', 0.19163548946380615)"
      ]
     },
     "execution_count": 43,
     "metadata": {},
     "output_type": "execute_result"
    },
    {
     "data": {
      "text/plain": [
       "('Предпринимательство', 0.3297472596168518)"
      ]
     },
     "execution_count": 43,
     "metadata": {},
     "output_type": "execute_result"
    },
    {
     "data": {
      "text/plain": [
       "('Спорт', 0.022987650707364082)"
      ]
     },
     "execution_count": 43,
     "metadata": {},
     "output_type": "execute_result"
    },
    {
     "data": {
      "text/plain": [
       "('Инвестиции', 0.20343999564647675)"
      ]
     },
     "execution_count": 43,
     "metadata": {},
     "output_type": "execute_result"
    }
   ],
   "source": [
    "means = []\n",
    "for col in known.iloc[:, 4:].columns:\n",
    "    norm_names[col], known.loc[:, col].median()\n",
    "    means.append(known.loc[:, col].median())"
   ]
  },
  {
   "cell_type": "code",
   "execution_count": 53,
   "metadata": {
    "ExecuteTime": {
     "end_time": "2017-09-11T01:42:14.791267Z",
     "start_time": "2017-09-11T01:42:14.787347Z"
    },
    "collapsed": true
   },
   "outputs": [],
   "source": [
    "# t is from user-gen up\n",
    "means_2 = [(a + b) / 2 for a, b in zip([z[1] for z in t], [b for b in means])]"
   ]
  },
  {
   "cell_type": "code",
   "execution_count": 54,
   "metadata": {
    "ExecuteTime": {
     "end_time": "2017-09-11T01:42:16.418738Z",
     "start_time": "2017-09-11T01:42:16.413160Z"
    },
    "collapsed": true
   },
   "outputs": [],
   "source": [
    "json.dump(dict(zip(categories, means_2)), open(\"margins.json\", \"w\"))"
   ]
  },
  {
   "cell_type": "code",
   "execution_count": 27,
   "metadata": {
    "ExecuteTime": {
     "end_time": "2017-09-11T00:39:56.711929Z",
     "start_time": "2017-09-11T00:39:56.681528Z"
    },
    "collapsed": true
   },
   "outputs": [],
   "source": [
    "known.to_csv(\"assets/known.csv\")\n",
    "json.dump(norm_dict, open(\"assets/temporary_result.json\", \"w\"))"
   ]
  },
  {
   "cell_type": "code",
   "execution_count": 51,
   "metadata": {
    "ExecuteTime": {
     "end_time": "2017-09-11T00:53:20.743312Z",
     "start_time": "2017-09-11T00:53:20.401232Z"
    }
   },
   "outputs": [
    {
     "name": "stdout",
     "output_type": "stream",
     "text": [
      "Александрина Клюс "
     ]
    },
    {
     "data": {
      "text/plain": [
       "array(['education', 'smm', 'entrepreneurship', 'strateg_management',\n",
       "       'politics'],\n",
       "      dtype='<U18')"
      ]
     },
     "execution_count": 51,
     "metadata": {},
     "output_type": "execute_result"
    },
    {
     "name": "stdout",
     "output_type": "stream",
     "text": [
      "Ангелина Зонова "
     ]
    },
    {
     "data": {
      "text/plain": [
       "array(['education', 'entrepreneurship', 'smm', 'corporative_management',\n",
       "       'building'],\n",
       "      dtype='<U22')"
      ]
     },
     "execution_count": 51,
     "metadata": {},
     "output_type": "execute_result"
    },
    {
     "name": "stdout",
     "output_type": "stream",
     "text": [
      "Владислав Широков "
     ]
    },
    {
     "data": {
      "text/plain": [
       "array([], dtype=float64)"
      ]
     },
     "execution_count": 51,
     "metadata": {},
     "output_type": "execute_result"
    },
    {
     "name": "stdout",
     "output_type": "stream",
     "text": [
      "Галина Жукова "
     ]
    },
    {
     "data": {
      "text/plain": [
       "array(['sport'],\n",
       "      dtype='<U5')"
      ]
     },
     "execution_count": 51,
     "metadata": {},
     "output_type": "execute_result"
    },
    {
     "name": "stdout",
     "output_type": "stream",
     "text": [
      "Жанна Кадылева "
     ]
    },
    {
     "data": {
      "text/plain": [
       "array(['education', 'smm', 'entrepreneurship', 'law',\n",
       "       'corporative_management'],\n",
       "      dtype='<U22')"
      ]
     },
     "execution_count": 51,
     "metadata": {},
     "output_type": "execute_result"
    },
    {
     "name": "stdout",
     "output_type": "stream",
     "text": [
      "Ирина Горькова "
     ]
    },
    {
     "data": {
      "text/plain": [
       "array(['elaboration', 'corporative_management', 'strateg_management',\n",
       "       'education', 'innovations'],\n",
       "      dtype='<U22')"
      ]
     },
     "execution_count": 51,
     "metadata": {},
     "output_type": "execute_result"
    },
    {
     "name": "stdout",
     "output_type": "stream",
     "text": [
      "Ирина Григоренко "
     ]
    },
    {
     "data": {
      "text/plain": [
       "array(['law', 'education', 'government_management',\n",
       "       'corporative_management', 'public_health'],\n",
       "      dtype='<U22')"
      ]
     },
     "execution_count": 51,
     "metadata": {},
     "output_type": "execute_result"
    },
    {
     "name": "stdout",
     "output_type": "stream",
     "text": [
      "Наталья Кульбятская "
     ]
    },
    {
     "data": {
      "text/plain": [
       "array(['education', 'elaboration', 'strateg_management',\n",
       "       'entrepreneurship', 'corporative_management'],\n",
       "      dtype='<U22')"
      ]
     },
     "execution_count": 51,
     "metadata": {},
     "output_type": "execute_result"
    },
    {
     "name": "stdout",
     "output_type": "stream",
     "text": [
      "Нелли Бадалян "
     ]
    },
    {
     "data": {
      "text/plain": [
       "array(['industry', 'education', 'elaboration', 'corporative_management',\n",
       "       'law'],\n",
       "      dtype='<U22')"
      ]
     },
     "execution_count": 51,
     "metadata": {},
     "output_type": "execute_result"
    },
    {
     "name": "stdout",
     "output_type": "stream",
     "text": [
      "Юлия Ханьжина "
     ]
    },
    {
     "data": {
      "text/plain": [
       "array(['education', 'smm', 'strateg_management', 'corporative_management',\n",
       "       'finances'],\n",
       "      dtype='<U22')"
      ]
     },
     "execution_count": 51,
     "metadata": {},
     "output_type": "execute_result"
    },
    {
     "name": "stdout",
     "output_type": "stream",
     "text": [
      "Alexey Khoryushin "
     ]
    },
    {
     "data": {
      "text/plain": [
       "array(['smm', 'strateg_management', 'charity', 'art'],\n",
       "      dtype='<U18')"
      ]
     },
     "execution_count": 51,
     "metadata": {},
     "output_type": "execute_result"
    },
    {
     "name": "stdout",
     "output_type": "stream",
     "text": [
      "Andrey Siling "
     ]
    },
    {
     "data": {
      "text/plain": [
       "array(['sport', 'art', 'military'],\n",
       "      dtype='<U8')"
      ]
     },
     "execution_count": 51,
     "metadata": {},
     "output_type": "execute_result"
    },
    {
     "name": "stdout",
     "output_type": "stream",
     "text": [
      "Denis  Trunov "
     ]
    },
    {
     "data": {
      "text/plain": [
       "array(['education', 'entrepreneurship', 'elaboration', 'industry',\n",
       "       'innovations'],\n",
       "      dtype='<U16')"
      ]
     },
     "execution_count": 51,
     "metadata": {},
     "output_type": "execute_result"
    },
    {
     "name": "stdout",
     "output_type": "stream",
     "text": [
      "Denis Unzhakov "
     ]
    },
    {
     "data": {
      "text/plain": [
       "array(['sport', 'charity', 'industry', 'military'],\n",
       "      dtype='<U8')"
      ]
     },
     "execution_count": 51,
     "metadata": {},
     "output_type": "execute_result"
    },
    {
     "name": "stdout",
     "output_type": "stream",
     "text": [
      "Dima Blaginin "
     ]
    },
    {
     "data": {
      "text/plain": [
       "array(['charity', 'politics', 'education', 'law', 'industry'],\n",
       "      dtype='<U11')"
      ]
     },
     "execution_count": 51,
     "metadata": {},
     "output_type": "execute_result"
    },
    {
     "name": "stdout",
     "output_type": "stream",
     "text": [
      "Ekaterina Aksenova "
     ]
    },
    {
     "data": {
      "text/plain": [
       "array([], dtype=float64)"
      ]
     },
     "execution_count": 51,
     "metadata": {},
     "output_type": "execute_result"
    },
    {
     "name": "stdout",
     "output_type": "stream",
     "text": [
      "Ekaterina Shakina "
     ]
    },
    {
     "data": {
      "text/plain": [
       "array(['education', 'corporative_management', 'strateg_management',\n",
       "       'elaboration', 'entrepreneurship'],\n",
       "      dtype='<U22')"
      ]
     },
     "execution_count": 51,
     "metadata": {},
     "output_type": "execute_result"
    },
    {
     "name": "stdout",
     "output_type": "stream",
     "text": [
      "Eugene Colchev "
     ]
    },
    {
     "data": {
      "text/plain": [
       "array(['corporative_management', 'education', 'strateg_management',\n",
       "       'entrepreneurship', 'law'],\n",
       "      dtype='<U22')"
      ]
     },
     "execution_count": 51,
     "metadata": {},
     "output_type": "execute_result"
    },
    {
     "name": "stdout",
     "output_type": "stream",
     "text": [
      "Eugene Kolganov "
     ]
    },
    {
     "data": {
      "text/plain": [
       "array(['entrepreneurship', 'social_safety', 'elaboration', 'finances',\n",
       "       'investitions'],\n",
       "      dtype='<U16')"
      ]
     },
     "execution_count": 51,
     "metadata": {},
     "output_type": "execute_result"
    },
    {
     "name": "stdout",
     "output_type": "stream",
     "text": [
      "Evgeny Kovnir "
     ]
    },
    {
     "data": {
      "text/plain": [
       "array(['smm', 'education', 'corporative_management', 'industry'],\n",
       "      dtype='<U22')"
      ]
     },
     "execution_count": 51,
     "metadata": {},
     "output_type": "execute_result"
    },
    {
     "name": "stdout",
     "output_type": "stream",
     "text": [
      "George Boissonade "
     ]
    },
    {
     "data": {
      "text/plain": [
       "array(['charity', 'public_health'],\n",
       "      dtype='<U13')"
      ]
     },
     "execution_count": 51,
     "metadata": {},
     "output_type": "execute_result"
    },
    {
     "name": "stdout",
     "output_type": "stream",
     "text": [
      "Igor  Ruzhentsev "
     ]
    },
    {
     "data": {
      "text/plain": [
       "array(['sport', 'charity'],\n",
       "      dtype='<U7')"
      ]
     },
     "execution_count": 51,
     "metadata": {},
     "output_type": "execute_result"
    },
    {
     "name": "stdout",
     "output_type": "stream",
     "text": [
      "Irina Gordina-Nevmerzhitskaya "
     ]
    },
    {
     "data": {
      "text/plain": [
       "array(['smm', 'entrepreneurship', 'strateg_management',\n",
       "       'corporative_management', 'industry'],\n",
       "      dtype='<U22')"
      ]
     },
     "execution_count": 51,
     "metadata": {},
     "output_type": "execute_result"
    },
    {
     "name": "stdout",
     "output_type": "stream",
     "text": [
      "Ivan  Aristov "
     ]
    },
    {
     "data": {
      "text/plain": [
       "array(['sport'],\n",
       "      dtype='<U5')"
      ]
     },
     "execution_count": 51,
     "metadata": {},
     "output_type": "execute_result"
    },
    {
     "name": "stdout",
     "output_type": "stream",
     "text": [
      "Katerina  Novikova "
     ]
    },
    {
     "data": {
      "text/plain": [
       "array(['entrepreneurship', 'elaboration', 'sport', 'industry',\n",
       "       'agriculture'],\n",
       "      dtype='<U16')"
      ]
     },
     "execution_count": 51,
     "metadata": {},
     "output_type": "execute_result"
    },
    {
     "name": "stdout",
     "output_type": "stream",
     "text": [
      "Kirill Konev "
     ]
    },
    {
     "data": {
      "text/plain": [
       "array(['safety', 'elaboration', 'innovations', 'building'],\n",
       "      dtype='<U11')"
      ]
     },
     "execution_count": 51,
     "metadata": {},
     "output_type": "execute_result"
    },
    {
     "name": "stdout",
     "output_type": "stream",
     "text": [
      "Ksusha Andreeva "
     ]
    },
    {
     "data": {
      "text/plain": [
       "array(['education', 'elaboration', 'entrepreneurship', 'smm', 'innovations'],\n",
       "      dtype='<U16')"
      ]
     },
     "execution_count": 51,
     "metadata": {},
     "output_type": "execute_result"
    },
    {
     "name": "stdout",
     "output_type": "stream",
     "text": [
      "Liubov Kirienko "
     ]
    },
    {
     "data": {
      "text/plain": [
       "array(['entrepreneurship', 'strateg_management', 'elaboration', 'politics',\n",
       "       'innovations'],\n",
       "      dtype='<U18')"
      ]
     },
     "execution_count": 51,
     "metadata": {},
     "output_type": "execute_result"
    },
    {
     "name": "stdout",
     "output_type": "stream",
     "text": [
      "Maria Dolgikh "
     ]
    },
    {
     "data": {
      "text/plain": [
       "array(['politics', 'smm', 'industry', 'art'],\n",
       "      dtype='<U8')"
      ]
     },
     "execution_count": 51,
     "metadata": {},
     "output_type": "execute_result"
    },
    {
     "name": "stdout",
     "output_type": "stream",
     "text": [
      "Nikita Lebedev "
     ]
    },
    {
     "data": {
      "text/plain": [
       "array(['charity', 'smm', 'sport', 'social_safety'],\n",
       "      dtype='<U13')"
      ]
     },
     "execution_count": 51,
     "metadata": {},
     "output_type": "execute_result"
    },
    {
     "name": "stdout",
     "output_type": "stream",
     "text": [
      "Oleg Podolskiy "
     ]
    },
    {
     "data": {
      "text/plain": [
       "array(['building', 'social_safety', 'entrepreneurship', 'agriculture',\n",
       "       'investitions'],\n",
       "      dtype='<U16')"
      ]
     },
     "execution_count": 51,
     "metadata": {},
     "output_type": "execute_result"
    },
    {
     "name": "stdout",
     "output_type": "stream",
     "text": [
      "Olga Potemkina "
     ]
    },
    {
     "data": {
      "text/plain": [
       "array(['smm', 'strateg_management', 'corporative_management', 'sport',\n",
       "       'finances'],\n",
       "      dtype='<U22')"
      ]
     },
     "execution_count": 51,
     "metadata": {},
     "output_type": "execute_result"
    },
    {
     "name": "stdout",
     "output_type": "stream",
     "text": [
      "Olya  Zaytseva "
     ]
    },
    {
     "data": {
      "text/plain": [
       "array(['strateg_management', 'entrepreneurship', 'smm',\n",
       "       'corporative_management', 'innovations'],\n",
       "      dtype='<U22')"
      ]
     },
     "execution_count": 51,
     "metadata": {},
     "output_type": "execute_result"
    },
    {
     "name": "stdout",
     "output_type": "stream",
     "text": [
      "Ruslan Karmannyy "
     ]
    },
    {
     "data": {
      "text/plain": [
       "array(['strateg_management', 'smm', 'entrepreneurship',\n",
       "       'corporative_management', 'innovations'],\n",
       "      dtype='<U22')"
      ]
     },
     "execution_count": 51,
     "metadata": {},
     "output_type": "execute_result"
    },
    {
     "name": "stdout",
     "output_type": "stream",
     "text": [
      "Sergey Nakvasin "
     ]
    },
    {
     "data": {
      "text/plain": [
       "array(['education', 'entrepreneurship', 'elaboration',\n",
       "       'corporative_management', 'strateg_management'],\n",
       "      dtype='<U22')"
      ]
     },
     "execution_count": 51,
     "metadata": {},
     "output_type": "execute_result"
    },
    {
     "name": "stdout",
     "output_type": "stream",
     "text": [
      "Tatiana Anisimova "
     ]
    },
    {
     "data": {
      "text/plain": [
       "array(['sport', 'strateg_management', 'entrepreneurship', 'smm', 'charity'],\n",
       "      dtype='<U18')"
      ]
     },
     "execution_count": 51,
     "metadata": {},
     "output_type": "execute_result"
    },
    {
     "name": "stdout",
     "output_type": "stream",
     "text": [
      "Tatyana Mazhutis "
     ]
    },
    {
     "data": {
      "text/plain": [
       "array(['charity', 'law', 'finances', 'social_safety'],\n",
       "      dtype='<U13')"
      ]
     },
     "execution_count": 51,
     "metadata": {},
     "output_type": "execute_result"
    },
    {
     "name": "stdout",
     "output_type": "stream",
     "text": [
      "Tretyakov Vasily "
     ]
    },
    {
     "data": {
      "text/plain": [
       "array(['education', 'elaboration', 'strateg_management',\n",
       "       'entrepreneurship', 'smm'],\n",
       "      dtype='<U22')"
      ]
     },
     "execution_count": 51,
     "metadata": {},
     "output_type": "execute_result"
    },
    {
     "name": "stdout",
     "output_type": "stream",
     "text": [
      "Varvara  Lukashina "
     ]
    },
    {
     "data": {
      "text/plain": [
       "array(['education', 'entrepreneurship', 'charity', 'elaboration',\n",
       "       'corporative_management'],\n",
       "      dtype='<U22')"
      ]
     },
     "execution_count": 51,
     "metadata": {},
     "output_type": "execute_result"
    },
    {
     "name": "stdout",
     "output_type": "stream",
     "text": [
      "Yulia  Gudach "
     ]
    },
    {
     "data": {
      "text/plain": [
       "array(['smm', 'education', 'politics', 'elaboration', 'industry'],\n",
       "      dtype='<U11')"
      ]
     },
     "execution_count": 51,
     "metadata": {},
     "output_type": "execute_result"
    },
    {
     "name": "stdout",
     "output_type": "stream",
     "text": [
      "Yury Sushinov "
     ]
    },
    {
     "data": {
      "text/plain": [
       "array(['smm', 'education', 'strateg_management', 'entrepreneurship',\n",
       "       'industry'],\n",
       "      dtype='<U18')"
      ]
     },
     "execution_count": 51,
     "metadata": {},
     "output_type": "execute_result"
    },
    {
     "name": "stdout",
     "output_type": "stream",
     "text": [
      "Песков Дмитрий "
     ]
    },
    {
     "data": {
      "text/plain": [
       "array(['smm', 'education', 'strateg_management', 'entrepreneurship',\n",
       "       'corporative_management'],\n",
       "      dtype='<U22')"
      ]
     },
     "execution_count": 51,
     "metadata": {},
     "output_type": "execute_result"
    },
    {
     "name": "stdout",
     "output_type": "stream",
     "text": [
      "Гнитько Ксения "
     ]
    },
    {
     "data": {
      "text/plain": [
       "array(['charity', 'education', 'law', 'smm', 'industry'],\n",
       "      dtype='<U9')"
      ]
     },
     "execution_count": 51,
     "metadata": {},
     "output_type": "execute_result"
    },
    {
     "name": "stdout",
     "output_type": "stream",
     "text": [
      "Дмитрий Земцов "
     ]
    },
    {
     "data": {
      "text/plain": [
       "array(['strateg_management', 'entrepreneurship', 'elaboration', 'smm',\n",
       "       'innovations'],\n",
       "      dtype='<U18')"
      ]
     },
     "execution_count": 51,
     "metadata": {},
     "output_type": "execute_result"
    }
   ],
   "source": [
    "tt = []\n",
    "for i, item in known.iterrows():\n",
    "    print(item['ФИ'], end=\" \")\n",
    "    accepted_cols = []\n",
    "    for col, margin in dict(zip(categories, means_2)).items():\n",
    "        if item[col] > 1.1 * margin:\n",
    "            accepted_cols.append(col)\n",
    "    np.array(accepted_cols)[item[accepted_cols].argsort()[::-1]][:5]"
   ]
  },
  {
   "cell_type": "code",
   "execution_count": null,
   "metadata": {
    "collapsed": true
   },
   "outputs": [],
   "source": []
  },
  {
   "cell_type": "code",
   "execution_count": null,
   "metadata": {
    "collapsed": true
   },
   "outputs": [],
   "source": []
  },
  {
   "cell_type": "code",
   "execution_count": null,
   "metadata": {
    "ExecuteTime": {
     "end_time": "2017-08-20T22:09:41.691154Z",
     "start_time": "2017-08-20T22:09:41.651791Z"
    },
    "collapsed": true
   },
   "outputs": [],
   "source": [
    "import vk_api\n",
    "from config import VK_TOKEN"
   ]
  },
  {
   "cell_type": "code",
   "execution_count": null,
   "metadata": {
    "ExecuteTime": {
     "end_time": "2017-08-20T22:09:41.764581Z",
     "start_time": "2017-08-20T22:09:41.722894Z"
    },
    "collapsed": true
   },
   "outputs": [],
   "source": [
    "vk = vk_api.VkApi(token=VK_TOKEN)\n",
    "vk = vk.get_api()"
   ]
  },
  {
   "cell_type": "code",
   "execution_count": null,
   "metadata": {
    "ExecuteTime": {
     "end_time": "2017-08-20T22:09:43.840139Z",
     "start_time": "2017-08-20T22:09:41.768188Z"
    },
    "collapsed": true,
    "scrolled": false
   },
   "outputs": [],
   "source": [
    "t = [a['text'] for a in vk.newsfeed.search(q=\"корпоративное управление\", count=200)['items']]"
   ]
  },
  {
   "cell_type": "code",
   "execution_count": null,
   "metadata": {
    "ExecuteTime": {
     "end_time": "2017-08-20T22:09:43.864179Z",
     "start_time": "2017-08-20T22:09:43.843135Z"
    },
    "collapsed": true,
    "scrolled": false
   },
   "outputs": [],
   "source": [
    "with open('t.txt', 'w') as f:\n",
    "    for line in t:\n",
    "        _ = f.write(f'{line}\\n')"
   ]
  },
  {
   "cell_type": "code",
   "execution_count": null,
   "metadata": {
    "collapsed": true
   },
   "outputs": [],
   "source": []
  }
 ],
 "metadata": {
  "hide_input": false,
  "kernelspec": {
   "display_name": "Python 3",
   "language": "python",
   "name": "python3"
  },
  "language_info": {
   "codemirror_mode": {
    "name": "ipython",
    "version": 3
   },
   "file_extension": ".py",
   "mimetype": "text/x-python",
   "name": "python",
   "nbconvert_exporter": "python",
   "pygments_lexer": "ipython3",
   "version": "3.6.3"
  },
  "varInspector": {
   "cols": {
    "lenName": 16,
    "lenType": 16,
    "lenVar": 40
   },
   "kernels_config": {
    "python": {
     "delete_cmd_postfix": "",
     "delete_cmd_prefix": "del ",
     "library": "var_list.py",
     "varRefreshCmd": "print(var_dic_list())"
    },
    "r": {
     "delete_cmd_postfix": ") ",
     "delete_cmd_prefix": "rm(",
     "library": "var_list.r",
     "varRefreshCmd": "cat(var_dic_list()) "
    }
   },
   "types_to_exclude": [
    "module",
    "function",
    "builtin_function_or_method",
    "instance",
    "_Feature"
   ],
   "window_display": false
  }
 },
 "nbformat": 4,
 "nbformat_minor": 1
}
