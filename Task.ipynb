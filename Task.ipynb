{
 "cells": [
  {
   "cell_type": "code",
   "execution_count": 1,
   "metadata": {
    "ExecuteTime": {
     "end_time": "2017-09-06T10:24:23.481071Z",
     "start_time": "2017-09-06T10:23:57.746712Z"
    },
    "scrolled": true
   },
   "outputs": [
    {
     "name": "stderr",
     "output_type": "stream",
     "text": [
      "Using TensorFlow backend.\n"
     ]
    }
   ],
   "source": [
    "import itertools\n",
    "import sys\n",
    "import json\n",
    "import warnings\n",
    "warnings.filterwarnings(\"ignore\")\n",
    "\n",
    "from util import *\n",
    "from scipy.sparse import vstack, csr_matrix, coo_matrix\n",
    "from sklearn.model_selection import train_test_split\n",
    "\n",
    "import pandas as pd\n",
    "import numpy as np\n",
    "from sklearn.feature_extraction.text import TfidfVectorizer\n",
    "from sklearn.preprocessing import LabelEncoder\n",
    "from keras.models import load_model\n",
    "from sklearn.utils import class_weight\n",
    "from keras.layers import *\n",
    "from keras.models import Model\n",
    "from keras.callbacks import EarlyStopping, ReduceLROnPlateau, ModelCheckpoint, TensorBoard, CSVLogger"
   ]
  },
  {
   "cell_type": "code",
   "execution_count": 2,
   "metadata": {
    "ExecuteTime": {
     "end_time": "2017-09-06T10:24:23.490280Z",
     "start_time": "2017-09-06T10:24:23.483564Z"
    },
    "collapsed": true,
    "scrolled": false
   },
   "outputs": [],
   "source": [
    "# for file in tqdm.tqdm(os.listdir(\"assets/corpora_cached_vk_publics\")):\n",
    "#     path = f\"assets/corpora_cached_vk_publics/{file}\"\n",
    "#     with open(path) as f:\n",
    "#         try:\n",
    "#             fo = [a.strip() for a in f]\n",
    "#         except:\n",
    "#             fo = []\n",
    "#     mb = len(\"\".join(fo)) * 2/1024/1024\n",
    "#     if mb > 1:\n",
    "#         with open(path, \"w\") as g:\n",
    "#             for line in fo[:int(len(fo)/mb)]:\n",
    "#                 _ = g.write(f\"{line}\\n\")"
   ]
  },
  {
   "cell_type": "markdown",
   "metadata": {},
   "source": [
    "# Corpora for training model"
   ]
  },
  {
   "cell_type": "code",
   "execution_count": 3,
   "metadata": {
    "ExecuteTime": {
     "end_time": "2017-09-06T10:24:23.519749Z",
     "start_time": "2017-09-06T10:24:23.493086Z"
    },
    "collapsed": true
   },
   "outputs": [],
   "source": [
    "sources = {'art': [60114472, 19191317], \n",
    "           'politics': [29534144, 23482909], \n",
    "           'finances': [62438886, 81354264],\n",
    "           'strateg_management': [\"http://www.stplan.ru/\", \"http://www.30n.ru/2/1.html\"], \n",
    "           'law': [65974416, 79084019],\n",
    "           'elaboration': [\"https://vk.com/\"], \n",
    "           'industry': [67183197, 66233468], \n",
    "           'education': [30558759, 98643656],\n",
    "#            'social_business': [23509868, 56821139],\n",
    "           'charity': [],\n",
    "           'public_health': [78860407, 61490488],\n",
    "           'agriculture': [\"http://www.nsh.ru/\", \"http://россельхоз.рф/\"],\n",
    "           'government_management': [\"http://be5.biz/upravlenie/gosudarstvennoe_upravlenie.html\", 97296142],\n",
    "           'smm': [74686342, 79925455],\n",
    "           'innovations': [98643656, 63337812],\n",
    "           'safety': [37959220, 10933209],\n",
    "           'military': [\"http://www.soldiering.ru\", \"https://voennoe-delo.com\"],\n",
    "           'corporative_management': [\"http://www.cfin.ru/management/\"],\n",
    "           'social_safety': [49582956, 72388807],\n",
    "           'building': [30713157, 26978036],\n",
    "           'entrepreneurship': [69560028, 73537456],\n",
    "           'sport': [29809500, 128350290],\n",
    "           'investitions': [37876217, 3800580]\n",
    "          }"
   ]
  },
  {
   "cell_type": "code",
   "execution_count": 4,
   "metadata": {
    "ExecuteTime": {
     "end_time": "2017-09-06T10:24:23.565905Z",
     "start_time": "2017-09-06T10:24:23.523045Z"
    },
    "collapsed": true,
    "scrolled": true
   },
   "outputs": [],
   "source": [
    "# getting data for corpora\n",
    "for tag, ids_ in sources.items():\n",
    "    path = f\"assets/corpora/{tag}.txt\"\n",
    "    s = set()\n",
    "    if not os.path.exists(path):\n",
    "        with open(path, \"w\") as f:\n",
    "            for id_ in ids_:\n",
    "                if isinstance(id_, int):\n",
    "                    wall = ParseClass.getallwall({\"owner_id\": -id_}, 1000)\n",
    "                    for post in tqdm.tqdm(wall):\n",
    "                        if len(post) and post not in s:\n",
    "                            s.add(post)\n",
    "                            _ = f.write(f\"{post}\\n\")\n",
    "                elif isinstance(id_, str):\n",
    "                    links = np.random.choice(\n",
    "                        list(ParseClass.get_all_links(id_)), 1000)\n",
    "                    for link in tqdm.tqdm(links):\n",
    "                        try:\n",
    "                            page = requests.get(link).text\n",
    "                            soup = BeautifulSoup(page, \"lxml\")\n",
    "                            for text in soup.text.strip().split(\"\\n\"):\n",
    "                                if len(text) and text not in s:\n",
    "                                    s.add(text)\n",
    "                                    _ = f.write(f\"{text}\\n\")\n",
    "                        except:\n",
    "                            pass"
   ]
  },
  {
   "cell_type": "markdown",
   "metadata": {},
   "source": [
    "Manual processing"
   ]
  },
  {
   "cell_type": "code",
   "execution_count": 5,
   "metadata": {
    "ExecuteTime": {
     "end_time": "2017-09-06T10:24:23.571925Z",
     "start_time": "2017-09-06T10:24:23.568058Z"
    },
    "collapsed": true
   },
   "outputs": [],
   "source": [
    "categories = list(sources.keys())"
   ]
  },
  {
   "cell_type": "code",
   "execution_count": 6,
   "metadata": {
    "ExecuteTime": {
     "end_time": "2017-09-06T10:24:23.583781Z",
     "start_time": "2017-09-06T10:24:23.575097Z"
    },
    "collapsed": true
   },
   "outputs": [],
   "source": [
    "labels = [\"Искусство\", \"Политика\", \"Финансы\", \"Стратегическое управление\", \"Юриспруденция\", \"Исследования и разработки\",\n",
    "          \"Промышленность\", \"Образование\", \"Благотворительность\", \"Здравоохранение\", \"Сельское хозяйство\", \n",
    "          \"Государственное управление\", \"Реклама и маркетинг\", \"Инновации и модернизация\", \"Безопасность\", \n",
    "          \"Военное дело\", \"Корпоративное управление\", \"Социальная защита\", \"Строительство\", \"Предпринимательство\",\n",
    "          \"Спорт\", \"Инвестиции\"]\n",
    "norm_names = dict(zip(categories, labels))\n",
    "norm_names_reversed = dict([(a[1], a[0]) for a in norm_names.items()])"
   ]
  },
  {
   "cell_type": "code",
   "execution_count": 7,
   "metadata": {
    "ExecuteTime": {
     "end_time": "2017-09-06T10:24:23.609783Z",
     "start_time": "2017-09-06T10:24:23.587402Z"
    },
    "collapsed": true
   },
   "outputs": [],
   "source": [
    "# df = pd.read_msgpack(\"assets/df.msg\")\n",
    "# competencies = pd.read_csv(\"assets/competencies.csv\")\n",
    "# competencies = competencies.dropna()[['Id', 'Интересы']]\n",
    "# social = pd.read_excel(\"assets/social.xlsx\", names=['id', 'name', 'fb', 'ok', 'vk', 'email', 'twitter'])\n",
    "# accepted = social.fb.dropna().index | social.vk.dropna().index\n",
    "# social = social.loc[accepted, ['name', 'id', 'vk', 'fb']]\n",
    "# social.vk = social.vk.apply(lambda x: str(x).split(\"/\")[-1])\n",
    "# social.fb = social.fb.apply(lambda x: str(x).split(\"/\")[-1])\n",
    "# social.fb = social.fb.apply(lambda x: str(x).split(\"id=\")[-1])\n",
    "# social.fb = social.fb.apply(lambda x: str(x).split(\"?ref=\")[0])\n",
    "# social.fb = social.fb.replace('nan', np.nan)\n",
    "# social = social.merge(df[['vk', 'vk_id']], how='outer', on='vk')\n",
    "# social.vk = social.vk_id.fillna(0)\n",
    "# social = social.replace(0, np.nan).drop(labels=['vk_id'], axis=1)\n",
    "# social = social.set_index('id').merge(how='inner', right=competencies.set_index('Id'), left_index=True, right_index=True)\n",
    "# to_exclude = pd.read_csv(\"assets/known_users.csv\")['Leader-ID'].dropna().astype('int').values\n",
    "# social = social.loc[~social.index.isin(to_exclude), :]\n",
    "# social.to_msgpack(\"assets/social.msg\")\n",
    "\n",
    "# def get_id(screen_name):\n",
    "#     try:\n",
    "#         item = vk.users.get(user_ids=screen_name)\n",
    "#         if 'deactivated' not in item:\n",
    "#             return item[0]['id']\n",
    "#     except Exception as e:\n",
    "#         print(e.args)\n",
    "# Нужно замапить screen_name с их vk_id, поэтому придется обрабатывать по одному\n",
    "\n",
    "social = pd.read_msgpack(\"assets/social.msg\")"
   ]
  },
  {
   "cell_type": "code",
   "execution_count": 8,
   "metadata": {
    "ExecuteTime": {
     "end_time": "2017-09-06T10:24:23.785430Z",
     "start_time": "2017-09-06T10:24:23.614532Z"
    },
    "collapsed": true
   },
   "outputs": [],
   "source": [
    "label_encoder = LabelEncoder()\n",
    "# labels_trunc = [\"Искусство\", \"Политика\", \"Финансы\", \"Стратегическое управление\", \"Юриспруденция\", \"Исследования и разработки\",\n",
    "#           \"Промышленность\", \"Образование\", \"Здравоохранение\", \"Сельское хозяйство\", \n",
    "#           \"Государственное управление\", \"Реклама и маркетинг\", \"Инновации и модернизация\", \"Безопасность\", \n",
    "#           \"Военное дело\", \"Корпоративное управление\", \"Социальная защита\", \"Строительство\", \"Предпринимательство\",\n",
    "#           \"Инвестиции\"]\n",
    "labels_trunc = labels\n",
    "int_labels = label_encoder.fit_transform(labels_trunc)\n",
    "\n",
    "def f(x):\n",
    "    b = []\n",
    "    for a in x.split(\",\"):\n",
    "        t = a.strip()\n",
    "        if t == \"Частный бизнес\" or t == \"Социальное предпринимательство\":\n",
    "            b.append(\"Предпринимательство\")\n",
    "        elif t == \"Дошкольное образование/детский отдых\":\n",
    "            b.append(\"Образование\")\n",
    "        elif t in {'Журналистика', 'Управление персоналом', 'Управление рисками'}:\n",
    "            pass\n",
    "        else:\n",
    "            b.append(t)\n",
    "    return b[:6]\n",
    "social.Интересы = social.Интересы.apply(f)\n",
    "def g(x):\n",
    "    if not x:\n",
    "        return np.in1d(int_labels, []).astype('int')\n",
    "    return np.in1d(int_labels, label_encoder.transform(x)).astype('int')\n",
    "social['y'] = social.Интересы.apply(g)"
   ]
  },
  {
   "cell_type": "markdown",
   "metadata": {},
   "source": [
    "### Corpora from created texts"
   ]
  },
  {
   "cell_type": "code",
   "execution_count": 9,
   "metadata": {
    "ExecuteTime": {
     "end_time": "2017-09-06T10:24:31.330507Z",
     "start_time": "2017-09-06T10:24:30.891548Z"
    },
    "collapsed": true
   },
   "outputs": [],
   "source": [
    "corpora_class = CorporaClass()\n",
    "\n",
    "for filename in categories:\n",
    "    with open(f\"assets/corpora/{filename}.txt\") as f:\n",
    "        corpora_class.add_to_corpora(f, filename)\n",
    "\n",
    "pickle.dump(corpora_class.corpora, open(\"assets/corpora.p\", \"wb\"))\n",
    "pickle.dump(corpora_class.labels, open(\"assets/labels.p\", \"wb\"))"
   ]
  },
  {
   "cell_type": "markdown",
   "metadata": {},
   "source": [
    "### Corpora from user-generated content"
   ]
  },
  {
   "cell_type": "code",
   "execution_count": 66,
   "metadata": {
    "ExecuteTime": {
     "end_time": "2017-08-28T21:35:01.911101Z",
     "start_time": "2017-08-28T21:34:47.288345Z"
    },
    "collapsed": true
   },
   "outputs": [],
   "source": [
    "corpora_user_gen = CorporaClass()\n",
    "corpora_user_gen.labels = pickle.load(open(\"assets/labels_user_gen.p\", \"rb\"))\n",
    "corpora_user_gen.corpora = pickle.load(open(\"assets/corpora_user_gen.p\", \"rb\"))\n",
    "\n",
    "# r = ResultClass()\n",
    "# r.publics_dict = json.load(open(\"assets/publics_dict.json\"))\n",
    "# delimiter = 0\n",
    "# for i, row in tqdm.tqdm(list(social.iterrows())[delimiter:], total=len(social) - delimiter):\n",
    "#     user_vk, user_fb = row.vk, row.fb\n",
    "#     if str(user_vk) != \"nan\":\n",
    "#         try:\n",
    "#             r.parse_vk(user_vk, parse=True)\n",
    "#         except: pass\n",
    "#     if str(user_fb) != \"nan\":\n",
    "#         try:\n",
    "#             r.parse_fb(user_fb)\n",
    "#         except KeyError:\n",
    "#             pass\n",
    "#     corpora_user_gen.add_to_corpora(r.texts, i)\n",
    "#     r.texts = []\n",
    "\n",
    "# pickle.dump(corpora_user_gen.corpora, open(\"assets/corpora_user_gen.p\", \"wb\"))\n",
    "# pickle.dump(corpora_user_gen.labels, open(\"assets/labels_user_gen.p\", \"wb\"))"
   ]
  },
  {
   "cell_type": "code",
   "execution_count": 10,
   "metadata": {
    "ExecuteTime": {
     "end_time": "2017-08-29T08:40:11.890767Z",
     "start_time": "2017-08-29T08:40:11.790796Z"
    },
    "collapsed": true
   },
   "outputs": [],
   "source": [
    "corpora = pickle.load(open(\"assets/corpora.p\", \"rb\"))\n",
    "labels = pickle.load(open(\"assets/labels.p\", \"rb\"))"
   ]
  },
  {
   "cell_type": "code",
   "execution_count": 68,
   "metadata": {
    "ExecuteTime": {
     "end_time": "2017-08-28T21:35:31.300382Z",
     "start_time": "2017-08-28T21:35:31.275750Z"
    },
    "collapsed": true
   },
   "outputs": [],
   "source": [
    "def filter_corpora(corpora, labels=corpora_user_gen.labels, DELIM=200, k=0.8):\n",
    "    indexes = np.array(list(range(len(corpora))))\n",
    "    all_indexes = set()\n",
    "    for col in norm_names.values():\n",
    "        t = social.Интересы.apply(lambda s: col in s)\n",
    "        col_labels = list(set(t[t == True].index).intersection(labels))[:50]\n",
    "        all_indexes = all_indexes.union(indexes[np.in1d(labels, col_labels)])\n",
    "    all_indexes = list(all_indexes)\n",
    "    new_corpora = list(np.array(corpora)[all_indexes])\n",
    "    new_labels = list(np.array(labels)[all_indexes])\n",
    "    new_corpora = [a[:DELIM] for a in new_corpora]\n",
    "    new_corpora, test_corpora, new_labels, test_labels = train_test_split(new_corpora, new_labels, train_size=k)\n",
    "    return new_corpora, test_corpora, new_labels, test_labels"
   ]
  },
  {
   "cell_type": "code",
   "execution_count": 11,
   "metadata": {
    "ExecuteTime": {
     "end_time": "2017-08-29T08:40:11.903871Z",
     "start_time": "2017-08-29T08:40:11.893481Z"
    },
    "collapsed": true
   },
   "outputs": [],
   "source": [
    "# d = {}\n",
    "# for col in norm_names.values():\n",
    "#     t = social.Интересы.apply(lambda s: col in s[:3])\n",
    "#     col_labels = list(set(t[t == True].index).intersection(new_labels))\n",
    "#     d[col] = [label for label in col_labels if label not in list(itertools.chain(*(v for v in d.values())))][:10]\n",
    "# d = {a: [int(c) for c in b] for (a, b) in d.items()}\n",
    "# json.dump(d, open(\"assets/d.json\", \"w\"))\n",
    "    \n",
    "# new_corpora = np.array(new_corpora)\n",
    "# for col, labels in d.items():\n",
    "#     with open(f\"assets/corpora/{norm_names_reversed[col]}.txt\", \"a\") as f:\n",
    "#         for line in list(itertools.chain(*(item for item in new_corpora[np.in1d(new_labels, d[col])]))):\n",
    "#             _ = f.write(line)\n",
    "\n",
    "# Это те labels, которые мы приписали к corpora и должны учесть в y\n",
    "d = json.load(open(\"assets/d.json\"))"
   ]
  },
  {
   "cell_type": "code",
   "execution_count": 12,
   "metadata": {
    "ExecuteTime": {
     "end_time": "2017-08-29T08:41:19.344102Z",
     "start_time": "2017-08-29T08:40:11.908527Z"
    },
    "collapsed": true
   },
   "outputs": [],
   "source": [
    "vectorizer = TfidfVectorizer(tokenizer=corpora_class.full_process, \n",
    "                             max_df=0.55, \n",
    "                             min_df=2, \n",
    "                             sublinear_tf=True, \n",
    "                             ngram_range=(1, 1))\n",
    "docterm_matrix = vectorizer.fit_transform(list(itertools.chain(*(doc for doc in corpora))))\n",
    "\n",
    "\n",
    "# new_corpora, test_corpora, new_labels, test_labels = filter_corpora(corpora_user_gen.corpora, corpora_user_gen.labels)\n",
    "# docterm_matrix_user_gen = vectorizer.transform(list(itertools.chain(*(doc for doc in new_corpora))))\n",
    "\n",
    "pickle.dump(docterm_matrix, open(\"assets/docterm_matrix.p\", \"wb\"))\n",
    "pickle.dump(vectorizer, open(\"assets/vectorizer.p\", \"wb\"))"
   ]
  },
  {
   "cell_type": "code",
   "execution_count": 37,
   "metadata": {
    "ExecuteTime": {
     "end_time": "2017-08-28T23:05:59.266212Z",
     "start_time": "2017-08-28T23:05:59.200258Z"
    },
    "collapsed": true
   },
   "outputs": [],
   "source": [
    "docterm_matrix = pickle.load(open(\"assets/docterm_matrix.p\", 'rb'))\n",
    "vectorizer = pickle.load(open(\"assets/vectorizer.p\", \"rb\"))"
   ]
  },
  {
   "cell_type": "code",
   "execution_count": 13,
   "metadata": {
    "ExecuteTime": {
     "end_time": "2017-08-29T08:41:19.358288Z",
     "start_time": "2017-08-29T08:41:19.346621Z"
    },
    "collapsed": true
   },
   "outputs": [],
   "source": [
    "DELIM = 1300\n",
    "NUM_OF_CLASSES = 22\n",
    "# NUM_OF_CLASSES = 20\n",
    "vector_size = docterm_matrix[0].shape[1]\n",
    "# vector_size = docterm_matrix_user_gen[0].shape[1]"
   ]
  },
  {
   "cell_type": "code",
   "execution_count": 14,
   "metadata": {
    "ExecuteTime": {
     "end_time": "2017-08-29T08:41:19.373311Z",
     "start_time": "2017-08-29T08:41:19.362446Z"
    },
    "collapsed": true
   },
   "outputs": [],
   "source": [
    "corpora_lengths = []\n",
    "for i, x in enumerate(corpora):\n",
    "    corpora_lengths.append(len(x))\n",
    "    \n",
    "# corpora_lengths_user_gen = []\n",
    "# for i, x in enumerate(new_corpora):\n",
    "#     corpora_lengths_user_gen.append(len(x))"
   ]
  },
  {
   "cell_type": "markdown",
   "metadata": {},
   "source": [
    "#### y for created texts"
   ]
  },
  {
   "cell_type": "code",
   "execution_count": 15,
   "metadata": {
    "ExecuteTime": {
     "end_time": "2017-08-29T08:41:47.222376Z",
     "start_time": "2017-08-29T08:41:19.376831Z"
    },
    "collapsed": true
   },
   "outputs": [],
   "source": [
    "y = []\n",
    "for (i, item), cat in zip(zip(range(len(corpora)), corpora_lengths), categories):\n",
    "    for _ in range(item):\n",
    "        y_ = np.zeros(NUM_OF_CLASSES)\n",
    "        t = np.zeros(NUM_OF_CLASSES)\n",
    "        for arr in (social.loc[d[norm_names[cat]], 'y'] * 0.016):\n",
    "            t = t + arr\n",
    "        y_ = y_ + t\n",
    "        y_[i] = 1\n",
    "        y.append(y_)\n",
    "y = np.array(y)"
   ]
  },
  {
   "cell_type": "markdown",
   "metadata": {},
   "source": [
    "#### y for user-gen"
   ]
  },
  {
   "cell_type": "code",
   "execution_count": 52,
   "metadata": {
    "ExecuteTime": {
     "end_time": "2017-08-27T17:48:57.355005Z",
     "start_time": "2017-08-27T17:48:57.268162Z"
    },
    "collapsed": true
   },
   "outputs": [],
   "source": [
    "y_user_gen = np.empty((docterm_matrix_user_gen.shape[0], NUM_OF_CLASSES))\n",
    "y_ = np.array([np.array(a) for a in social.loc[new_labels, 'y']])\n",
    "ind_arr = np.cumsum(np.array(corpora_lengths_user_gen))\n",
    "int_a, int_b = 0, ind_arr[0]\n",
    "for i in range(len(ind_arr) - 1):\n",
    "    y_user_gen[int_a:int_b] = np.array([y_[i] for _ in range(int_b - int_a)])\n",
    "    int_a, int_b = int_b, ind_arr[i + 1]"
   ]
  },
  {
   "cell_type": "code",
   "execution_count": 42,
   "metadata": {
    "ExecuteTime": {
     "end_time": "2017-08-28T14:47:45.714318Z",
     "start_time": "2017-08-28T14:47:45.629574Z"
    },
    "collapsed": true
   },
   "outputs": [
    {
     "ename": "ValueError",
     "evalue": "Unknown label type: 'continuous'",
     "output_type": "error",
     "traceback": [
      "\u001b[0;31m---------------------------------------------------------------------------\u001b[0m",
      "\u001b[0;31mValueError\u001b[0m                                Traceback (most recent call last)",
      "\u001b[0;32m<ipython-input-42-be1873b6375e>\u001b[0m in \u001b[0;36m<module>\u001b[0;34m()\u001b[0m\n\u001b[1;32m      6\u001b[0m \u001b[0mX_train\u001b[0m\u001b[0;34m,\u001b[0m \u001b[0mX_test\u001b[0m\u001b[0;34m,\u001b[0m \u001b[0my_train\u001b[0m\u001b[0;34m,\u001b[0m \u001b[0my_test\u001b[0m \u001b[0;34m=\u001b[0m \u001b[0mtrain_test_split\u001b[0m\u001b[0;34m(\u001b[0m\u001b[0mdocterm_matrix\u001b[0m\u001b[0;34m,\u001b[0m \u001b[0my\u001b[0m\u001b[0;34m,\u001b[0m \u001b[0mtest_size\u001b[0m\u001b[0;34m=\u001b[0m\u001b[0;36m0.2\u001b[0m\u001b[0;34m)\u001b[0m\u001b[0;34m\u001b[0m\u001b[0m\n\u001b[1;32m      7\u001b[0m \u001b[0;31m# X_train, X_test, y_train, y_test = train_test_split(docterm_matrix_user_gen, y_user_gen, test_size=0.2)\u001b[0m\u001b[0;34m\u001b[0m\u001b[0;34m\u001b[0m\u001b[0m\n\u001b[0;32m----> 8\u001b[0;31m \u001b[0msvm\u001b[0m\u001b[0;34m.\u001b[0m\u001b[0mfit\u001b[0m\u001b[0;34m(\u001b[0m\u001b[0mX_train\u001b[0m\u001b[0;34m,\u001b[0m \u001b[0my_train\u001b[0m\u001b[0;34m)\u001b[0m\u001b[0;34m\u001b[0m\u001b[0m\n\u001b[0m\u001b[1;32m      9\u001b[0m \u001b[0mf1_score\u001b[0m\u001b[0;34m(\u001b[0m\u001b[0my_test\u001b[0m\u001b[0;34m,\u001b[0m \u001b[0msvm\u001b[0m\u001b[0;34m.\u001b[0m\u001b[0mpredict\u001b[0m\u001b[0;34m(\u001b[0m\u001b[0mX_test\u001b[0m\u001b[0;34m)\u001b[0m\u001b[0;34m,\u001b[0m \u001b[0maverage\u001b[0m\u001b[0;34m=\u001b[0m\u001b[0;34m'weighted'\u001b[0m\u001b[0;34m)\u001b[0m\u001b[0;34m\u001b[0m\u001b[0m\n",
      "\u001b[0;32m/usr/local/lib/python3.6/site-packages/sklearn/multioutput.py\u001b[0m in \u001b[0;36mfit\u001b[0;34m(self, X, y, sample_weight)\u001b[0m\n\u001b[1;32m     85\u001b[0m \u001b[0;34m\u001b[0m\u001b[0m\n\u001b[1;32m     86\u001b[0m         self.estimators_ = Parallel(n_jobs=self.n_jobs)(delayed(_fit_estimator)(\n\u001b[0;32m---> 87\u001b[0;31m             self.estimator, X, y[:, i], sample_weight) for i in range(y.shape[1]))\n\u001b[0m\u001b[1;32m     88\u001b[0m         \u001b[0;32mreturn\u001b[0m \u001b[0mself\u001b[0m\u001b[0;34m\u001b[0m\u001b[0m\n\u001b[1;32m     89\u001b[0m \u001b[0;34m\u001b[0m\u001b[0m\n",
      "\u001b[0;32m/usr/local/lib/python3.6/site-packages/sklearn/externals/joblib/parallel.py\u001b[0m in \u001b[0;36m__call__\u001b[0;34m(self, iterable)\u001b[0m\n\u001b[1;32m    756\u001b[0m             \u001b[0;31m# was dispatched. In particular this covers the edge\u001b[0m\u001b[0;34m\u001b[0m\u001b[0;34m\u001b[0m\u001b[0m\n\u001b[1;32m    757\u001b[0m             \u001b[0;31m# case of Parallel used with an exhausted iterator.\u001b[0m\u001b[0;34m\u001b[0m\u001b[0;34m\u001b[0m\u001b[0m\n\u001b[0;32m--> 758\u001b[0;31m             \u001b[0;32mwhile\u001b[0m \u001b[0mself\u001b[0m\u001b[0;34m.\u001b[0m\u001b[0mdispatch_one_batch\u001b[0m\u001b[0;34m(\u001b[0m\u001b[0miterator\u001b[0m\u001b[0;34m)\u001b[0m\u001b[0;34m:\u001b[0m\u001b[0;34m\u001b[0m\u001b[0m\n\u001b[0m\u001b[1;32m    759\u001b[0m                 \u001b[0mself\u001b[0m\u001b[0;34m.\u001b[0m\u001b[0m_iterating\u001b[0m \u001b[0;34m=\u001b[0m \u001b[0;32mTrue\u001b[0m\u001b[0;34m\u001b[0m\u001b[0m\n\u001b[1;32m    760\u001b[0m             \u001b[0;32melse\u001b[0m\u001b[0;34m:\u001b[0m\u001b[0;34m\u001b[0m\u001b[0m\n",
      "\u001b[0;32m/usr/local/lib/python3.6/site-packages/sklearn/externals/joblib/parallel.py\u001b[0m in \u001b[0;36mdispatch_one_batch\u001b[0;34m(self, iterator)\u001b[0m\n\u001b[1;32m    606\u001b[0m                 \u001b[0;32mreturn\u001b[0m \u001b[0;32mFalse\u001b[0m\u001b[0;34m\u001b[0m\u001b[0m\n\u001b[1;32m    607\u001b[0m             \u001b[0;32melse\u001b[0m\u001b[0;34m:\u001b[0m\u001b[0;34m\u001b[0m\u001b[0m\n\u001b[0;32m--> 608\u001b[0;31m                 \u001b[0mself\u001b[0m\u001b[0;34m.\u001b[0m\u001b[0m_dispatch\u001b[0m\u001b[0;34m(\u001b[0m\u001b[0mtasks\u001b[0m\u001b[0;34m)\u001b[0m\u001b[0;34m\u001b[0m\u001b[0m\n\u001b[0m\u001b[1;32m    609\u001b[0m                 \u001b[0;32mreturn\u001b[0m \u001b[0;32mTrue\u001b[0m\u001b[0;34m\u001b[0m\u001b[0m\n\u001b[1;32m    610\u001b[0m \u001b[0;34m\u001b[0m\u001b[0m\n",
      "\u001b[0;32m/usr/local/lib/python3.6/site-packages/sklearn/externals/joblib/parallel.py\u001b[0m in \u001b[0;36m_dispatch\u001b[0;34m(self, batch)\u001b[0m\n\u001b[1;32m    569\u001b[0m         \u001b[0mdispatch_timestamp\u001b[0m \u001b[0;34m=\u001b[0m \u001b[0mtime\u001b[0m\u001b[0;34m.\u001b[0m\u001b[0mtime\u001b[0m\u001b[0;34m(\u001b[0m\u001b[0;34m)\u001b[0m\u001b[0;34m\u001b[0m\u001b[0m\n\u001b[1;32m    570\u001b[0m         \u001b[0mcb\u001b[0m \u001b[0;34m=\u001b[0m \u001b[0mBatchCompletionCallBack\u001b[0m\u001b[0;34m(\u001b[0m\u001b[0mdispatch_timestamp\u001b[0m\u001b[0;34m,\u001b[0m \u001b[0mlen\u001b[0m\u001b[0;34m(\u001b[0m\u001b[0mbatch\u001b[0m\u001b[0;34m)\u001b[0m\u001b[0;34m,\u001b[0m \u001b[0mself\u001b[0m\u001b[0;34m)\u001b[0m\u001b[0;34m\u001b[0m\u001b[0m\n\u001b[0;32m--> 571\u001b[0;31m         \u001b[0mjob\u001b[0m \u001b[0;34m=\u001b[0m \u001b[0mself\u001b[0m\u001b[0;34m.\u001b[0m\u001b[0m_backend\u001b[0m\u001b[0;34m.\u001b[0m\u001b[0mapply_async\u001b[0m\u001b[0;34m(\u001b[0m\u001b[0mbatch\u001b[0m\u001b[0;34m,\u001b[0m \u001b[0mcallback\u001b[0m\u001b[0;34m=\u001b[0m\u001b[0mcb\u001b[0m\u001b[0;34m)\u001b[0m\u001b[0;34m\u001b[0m\u001b[0m\n\u001b[0m\u001b[1;32m    572\u001b[0m         \u001b[0mself\u001b[0m\u001b[0;34m.\u001b[0m\u001b[0m_jobs\u001b[0m\u001b[0;34m.\u001b[0m\u001b[0mappend\u001b[0m\u001b[0;34m(\u001b[0m\u001b[0mjob\u001b[0m\u001b[0;34m)\u001b[0m\u001b[0;34m\u001b[0m\u001b[0m\n\u001b[1;32m    573\u001b[0m \u001b[0;34m\u001b[0m\u001b[0m\n",
      "\u001b[0;32m/usr/local/lib/python3.6/site-packages/sklearn/externals/joblib/_parallel_backends.py\u001b[0m in \u001b[0;36mapply_async\u001b[0;34m(self, func, callback)\u001b[0m\n\u001b[1;32m    107\u001b[0m     \u001b[0;32mdef\u001b[0m \u001b[0mapply_async\u001b[0m\u001b[0;34m(\u001b[0m\u001b[0mself\u001b[0m\u001b[0;34m,\u001b[0m \u001b[0mfunc\u001b[0m\u001b[0;34m,\u001b[0m \u001b[0mcallback\u001b[0m\u001b[0;34m=\u001b[0m\u001b[0;32mNone\u001b[0m\u001b[0;34m)\u001b[0m\u001b[0;34m:\u001b[0m\u001b[0;34m\u001b[0m\u001b[0m\n\u001b[1;32m    108\u001b[0m         \u001b[0;34m\"\"\"Schedule a func to be run\"\"\"\u001b[0m\u001b[0;34m\u001b[0m\u001b[0m\n\u001b[0;32m--> 109\u001b[0;31m         \u001b[0mresult\u001b[0m \u001b[0;34m=\u001b[0m \u001b[0mImmediateResult\u001b[0m\u001b[0;34m(\u001b[0m\u001b[0mfunc\u001b[0m\u001b[0;34m)\u001b[0m\u001b[0;34m\u001b[0m\u001b[0m\n\u001b[0m\u001b[1;32m    110\u001b[0m         \u001b[0;32mif\u001b[0m \u001b[0mcallback\u001b[0m\u001b[0;34m:\u001b[0m\u001b[0;34m\u001b[0m\u001b[0m\n\u001b[1;32m    111\u001b[0m             \u001b[0mcallback\u001b[0m\u001b[0;34m(\u001b[0m\u001b[0mresult\u001b[0m\u001b[0;34m)\u001b[0m\u001b[0;34m\u001b[0m\u001b[0m\n",
      "\u001b[0;32m/usr/local/lib/python3.6/site-packages/sklearn/externals/joblib/_parallel_backends.py\u001b[0m in \u001b[0;36m__init__\u001b[0;34m(self, batch)\u001b[0m\n\u001b[1;32m    324\u001b[0m         \u001b[0;31m# Don't delay the application, to avoid keeping the input\u001b[0m\u001b[0;34m\u001b[0m\u001b[0;34m\u001b[0m\u001b[0m\n\u001b[1;32m    325\u001b[0m         \u001b[0;31m# arguments in memory\u001b[0m\u001b[0;34m\u001b[0m\u001b[0;34m\u001b[0m\u001b[0m\n\u001b[0;32m--> 326\u001b[0;31m         \u001b[0mself\u001b[0m\u001b[0;34m.\u001b[0m\u001b[0mresults\u001b[0m \u001b[0;34m=\u001b[0m \u001b[0mbatch\u001b[0m\u001b[0;34m(\u001b[0m\u001b[0;34m)\u001b[0m\u001b[0;34m\u001b[0m\u001b[0m\n\u001b[0m\u001b[1;32m    327\u001b[0m \u001b[0;34m\u001b[0m\u001b[0m\n\u001b[1;32m    328\u001b[0m     \u001b[0;32mdef\u001b[0m \u001b[0mget\u001b[0m\u001b[0;34m(\u001b[0m\u001b[0mself\u001b[0m\u001b[0;34m)\u001b[0m\u001b[0;34m:\u001b[0m\u001b[0;34m\u001b[0m\u001b[0m\n",
      "\u001b[0;32m/usr/local/lib/python3.6/site-packages/sklearn/externals/joblib/parallel.py\u001b[0m in \u001b[0;36m__call__\u001b[0;34m(self)\u001b[0m\n\u001b[1;32m    129\u001b[0m \u001b[0;34m\u001b[0m\u001b[0m\n\u001b[1;32m    130\u001b[0m     \u001b[0;32mdef\u001b[0m \u001b[0m__call__\u001b[0m\u001b[0;34m(\u001b[0m\u001b[0mself\u001b[0m\u001b[0;34m)\u001b[0m\u001b[0;34m:\u001b[0m\u001b[0;34m\u001b[0m\u001b[0m\n\u001b[0;32m--> 131\u001b[0;31m         \u001b[0;32mreturn\u001b[0m \u001b[0;34m[\u001b[0m\u001b[0mfunc\u001b[0m\u001b[0;34m(\u001b[0m\u001b[0;34m*\u001b[0m\u001b[0margs\u001b[0m\u001b[0;34m,\u001b[0m \u001b[0;34m**\u001b[0m\u001b[0mkwargs\u001b[0m\u001b[0;34m)\u001b[0m \u001b[0;32mfor\u001b[0m \u001b[0mfunc\u001b[0m\u001b[0;34m,\u001b[0m \u001b[0margs\u001b[0m\u001b[0;34m,\u001b[0m \u001b[0mkwargs\u001b[0m \u001b[0;32min\u001b[0m \u001b[0mself\u001b[0m\u001b[0;34m.\u001b[0m\u001b[0mitems\u001b[0m\u001b[0;34m]\u001b[0m\u001b[0;34m\u001b[0m\u001b[0m\n\u001b[0m\u001b[1;32m    132\u001b[0m \u001b[0;34m\u001b[0m\u001b[0m\n\u001b[1;32m    133\u001b[0m     \u001b[0;32mdef\u001b[0m \u001b[0m__len__\u001b[0m\u001b[0;34m(\u001b[0m\u001b[0mself\u001b[0m\u001b[0;34m)\u001b[0m\u001b[0;34m:\u001b[0m\u001b[0;34m\u001b[0m\u001b[0m\n",
      "\u001b[0;32m/usr/local/lib/python3.6/site-packages/sklearn/externals/joblib/parallel.py\u001b[0m in \u001b[0;36m<listcomp>\u001b[0;34m(.0)\u001b[0m\n\u001b[1;32m    129\u001b[0m \u001b[0;34m\u001b[0m\u001b[0m\n\u001b[1;32m    130\u001b[0m     \u001b[0;32mdef\u001b[0m \u001b[0m__call__\u001b[0m\u001b[0;34m(\u001b[0m\u001b[0mself\u001b[0m\u001b[0;34m)\u001b[0m\u001b[0;34m:\u001b[0m\u001b[0;34m\u001b[0m\u001b[0m\n\u001b[0;32m--> 131\u001b[0;31m         \u001b[0;32mreturn\u001b[0m \u001b[0;34m[\u001b[0m\u001b[0mfunc\u001b[0m\u001b[0;34m(\u001b[0m\u001b[0;34m*\u001b[0m\u001b[0margs\u001b[0m\u001b[0;34m,\u001b[0m \u001b[0;34m**\u001b[0m\u001b[0mkwargs\u001b[0m\u001b[0;34m)\u001b[0m \u001b[0;32mfor\u001b[0m \u001b[0mfunc\u001b[0m\u001b[0;34m,\u001b[0m \u001b[0margs\u001b[0m\u001b[0;34m,\u001b[0m \u001b[0mkwargs\u001b[0m \u001b[0;32min\u001b[0m \u001b[0mself\u001b[0m\u001b[0;34m.\u001b[0m\u001b[0mitems\u001b[0m\u001b[0;34m]\u001b[0m\u001b[0;34m\u001b[0m\u001b[0m\n\u001b[0m\u001b[1;32m    132\u001b[0m \u001b[0;34m\u001b[0m\u001b[0m\n\u001b[1;32m    133\u001b[0m     \u001b[0;32mdef\u001b[0m \u001b[0m__len__\u001b[0m\u001b[0;34m(\u001b[0m\u001b[0mself\u001b[0m\u001b[0;34m)\u001b[0m\u001b[0;34m:\u001b[0m\u001b[0;34m\u001b[0m\u001b[0m\n",
      "\u001b[0;32m/usr/local/lib/python3.6/site-packages/sklearn/multioutput.py\u001b[0m in \u001b[0;36m_fit_estimator\u001b[0;34m(estimator, X, y, sample_weight)\u001b[0m\n\u001b[1;32m     34\u001b[0m         \u001b[0mestimator\u001b[0m\u001b[0;34m.\u001b[0m\u001b[0mfit\u001b[0m\u001b[0;34m(\u001b[0m\u001b[0mX\u001b[0m\u001b[0;34m,\u001b[0m \u001b[0my\u001b[0m\u001b[0;34m,\u001b[0m \u001b[0msample_weight\u001b[0m\u001b[0;34m=\u001b[0m\u001b[0msample_weight\u001b[0m\u001b[0;34m)\u001b[0m\u001b[0;34m\u001b[0m\u001b[0m\n\u001b[1;32m     35\u001b[0m     \u001b[0;32melse\u001b[0m\u001b[0;34m:\u001b[0m\u001b[0;34m\u001b[0m\u001b[0m\n\u001b[0;32m---> 36\u001b[0;31m         \u001b[0mestimator\u001b[0m\u001b[0;34m.\u001b[0m\u001b[0mfit\u001b[0m\u001b[0;34m(\u001b[0m\u001b[0mX\u001b[0m\u001b[0;34m,\u001b[0m \u001b[0my\u001b[0m\u001b[0;34m)\u001b[0m\u001b[0;34m\u001b[0m\u001b[0m\n\u001b[0m\u001b[1;32m     37\u001b[0m     \u001b[0;32mreturn\u001b[0m \u001b[0mestimator\u001b[0m\u001b[0;34m\u001b[0m\u001b[0m\n\u001b[1;32m     38\u001b[0m \u001b[0;34m\u001b[0m\u001b[0m\n",
      "\u001b[0;32m/usr/local/lib/python3.6/site-packages/sklearn/svm/classes.py\u001b[0m in \u001b[0;36mfit\u001b[0;34m(self, X, y, sample_weight)\u001b[0m\n\u001b[1;32m    206\u001b[0m         X, y = check_X_y(X, y, accept_sparse='csr',\n\u001b[1;32m    207\u001b[0m                          dtype=np.float64, order=\"C\")\n\u001b[0;32m--> 208\u001b[0;31m         \u001b[0mcheck_classification_targets\u001b[0m\u001b[0;34m(\u001b[0m\u001b[0my\u001b[0m\u001b[0;34m)\u001b[0m\u001b[0;34m\u001b[0m\u001b[0m\n\u001b[0m\u001b[1;32m    209\u001b[0m         \u001b[0mself\u001b[0m\u001b[0;34m.\u001b[0m\u001b[0mclasses_\u001b[0m \u001b[0;34m=\u001b[0m \u001b[0mnp\u001b[0m\u001b[0;34m.\u001b[0m\u001b[0munique\u001b[0m\u001b[0;34m(\u001b[0m\u001b[0my\u001b[0m\u001b[0;34m)\u001b[0m\u001b[0;34m\u001b[0m\u001b[0m\n\u001b[1;32m    210\u001b[0m \u001b[0;34m\u001b[0m\u001b[0m\n",
      "\u001b[0;32m/usr/local/lib/python3.6/site-packages/sklearn/utils/multiclass.py\u001b[0m in \u001b[0;36mcheck_classification_targets\u001b[0;34m(y)\u001b[0m\n\u001b[1;32m    170\u001b[0m     if y_type not in ['binary', 'multiclass', 'multiclass-multioutput',\n\u001b[1;32m    171\u001b[0m             'multilabel-indicator', 'multilabel-sequences']:\n\u001b[0;32m--> 172\u001b[0;31m         \u001b[0;32mraise\u001b[0m \u001b[0mValueError\u001b[0m\u001b[0;34m(\u001b[0m\u001b[0;34m\"Unknown label type: %r\"\u001b[0m \u001b[0;34m%\u001b[0m \u001b[0my_type\u001b[0m\u001b[0;34m)\u001b[0m\u001b[0;34m\u001b[0m\u001b[0m\n\u001b[0m\u001b[1;32m    173\u001b[0m \u001b[0;34m\u001b[0m\u001b[0m\n\u001b[1;32m    174\u001b[0m \u001b[0;34m\u001b[0m\u001b[0m\n",
      "\u001b[0;31mValueError\u001b[0m: Unknown label type: 'continuous'"
     ]
    }
   ],
   "source": [
    "from sklearn.metrics import f1_score\n",
    "from sklearn.multioutput import MultiOutputClassifier\n",
    "from sklearn.svm import LinearSVC\n",
    "svm = MultiOutputClassifier(LinearSVC())\n",
    "\n",
    "X_train, X_test, y_train, y_test = train_test_split(docterm_matrix, y, test_size=0.2)\n",
    "# X_train, X_test, y_train, y_test = train_test_split(docterm_matrix_user_gen, y_user_gen, test_size=0.2)\n",
    "svm.fit(X_train, y_train)\n",
    "f1_score(y_test, svm.predict(X_test), average='weighted')"
   ]
  },
  {
   "cell_type": "code",
   "execution_count": 16,
   "metadata": {
    "ExecuteTime": {
     "end_time": "2017-08-29T08:41:48.479647Z",
     "start_time": "2017-08-29T08:41:47.224718Z"
    },
    "collapsed": true
   },
   "outputs": [],
   "source": [
    "# X = docterm_matrix_user_gen.toarray()\n",
    "# y = y_user_gen\n",
    "\n",
    "X = docterm_matrix.toarray()"
   ]
  },
  {
   "cell_type": "code",
   "execution_count": 17,
   "metadata": {
    "ExecuteTime": {
     "end_time": "2017-08-29T08:42:00.860144Z",
     "start_time": "2017-08-29T08:41:48.483253Z"
    },
    "collapsed": true
   },
   "outputs": [],
   "source": [
    "X_train, X_test, y_train, y_test = train_test_split(X, y, test_size=0.2)"
   ]
  },
  {
   "cell_type": "code",
   "execution_count": 18,
   "metadata": {
    "ExecuteTime": {
     "end_time": "2017-08-29T08:42:01.358228Z",
     "start_time": "2017-08-29T08:42:00.862385Z"
    },
    "collapsed": true
   },
   "outputs": [],
   "source": [
    "input_vec = Input(shape=(vector_size,))\n",
    "l1 = Dense(128, activation='relu')(input_vec)\n",
    "l2 = Dense(28, activation='relu')(l1)\n",
    "l3 = Dropout(0.15)(l2)\n",
    "l4 = Dense(96, activation='sigmoid')(l3)\n",
    "output = Dense(NUM_OF_CLASSES, activation='sigmoid')(l4)\n",
    "\n",
    "classifier = Model(input_vec, output)\n",
    "classifier.compile(optimizer='adadelta', loss='categorical_crossentropy', metrics=['categorical_accuracy'])"
   ]
  },
  {
   "cell_type": "code",
   "execution_count": 30,
   "metadata": {
    "ExecuteTime": {
     "end_time": "2017-08-29T15:02:17.092451Z",
     "start_time": "2017-08-29T14:59:43.412216Z"
    },
    "scrolled": true
   },
   "outputs": [
    {
     "name": "stdout",
     "output_type": "stream",
     "text": [
      "Train on 34588 samples, validate on 8647 samples\n",
      "Epoch 1/50\n",
      "34588/34588 [==============================] - 42s - loss: 3.0449 - categorical_accuracy: 0.7115 - val_loss: 3.9459 - val_categorical_accuracy: 0.4309\n",
      "Epoch 2/50\n",
      "34588/34588 [==============================] - 37s - loss: 3.0343 - categorical_accuracy: 0.7157 - val_loss: 3.9447 - val_categorical_accuracy: 0.4292\n",
      "Epoch 3/50\n",
      "34588/34588 [==============================] - 34s - loss: 3.0187 - categorical_accuracy: 0.7210 - val_loss: 3.9562 - val_categorical_accuracy: 0.4266\n",
      "Epoch 4/50\n",
      "34588/34588 [==============================] - 36s - loss: 3.0063 - categorical_accuracy: 0.7250 - val_loss: 3.9580 - val_categorical_accuracy: 0.4288\n",
      "Epoch 5/50\n",
      " 2352/34588 [=>............................] - ETA: 25s - loss: 3.0320 - categorical_accuracy: 0.7117"
     ]
    },
    {
     "ename": "KeyboardInterrupt",
     "evalue": "",
     "output_type": "error",
     "traceback": [
      "\u001b[0;31m---------------------------------------------------------------------------\u001b[0m",
      "\u001b[0;31mKeyboardInterrupt\u001b[0m                         Traceback (most recent call last)",
      "\u001b[0;32m<ipython-input-30-5c68e308ff45>\u001b[0m in \u001b[0;36m<module>\u001b[0;34m()\u001b[0m\n\u001b[1;32m     41\u001b[0m                \u001b[0mbatch_size\u001b[0m\u001b[0;34m=\u001b[0m\u001b[0;36m196\u001b[0m\u001b[0;34m,\u001b[0m\u001b[0;34m\u001b[0m\u001b[0m\n\u001b[1;32m     42\u001b[0m                \u001b[0mepochs\u001b[0m\u001b[0;34m=\u001b[0m\u001b[0;36m50\u001b[0m\u001b[0;34m,\u001b[0m\u001b[0;34m\u001b[0m\u001b[0m\n\u001b[0;32m---> 43\u001b[0;31m                \u001b[0mclass_weight\u001b[0m\u001b[0;34m=\u001b[0m\u001b[0;34m'balanced'\u001b[0m\u001b[0;34m\u001b[0m\u001b[0m\n\u001b[0m\u001b[1;32m     44\u001b[0m \u001b[0;31m#                callbacks=callbacks\u001b[0m\u001b[0;34m\u001b[0m\u001b[0;34m\u001b[0m\u001b[0m\n\u001b[1;32m     45\u001b[0m               )\n",
      "\u001b[0;32m/usr/local/lib/python3.6/site-packages/keras/engine/training.py\u001b[0m in \u001b[0;36mfit\u001b[0;34m(self, x, y, batch_size, epochs, verbose, callbacks, validation_split, validation_data, shuffle, class_weight, sample_weight, initial_epoch, **kwargs)\u001b[0m\n\u001b[1;32m   1428\u001b[0m                               \u001b[0mval_f\u001b[0m\u001b[0;34m=\u001b[0m\u001b[0mval_f\u001b[0m\u001b[0;34m,\u001b[0m \u001b[0mval_ins\u001b[0m\u001b[0;34m=\u001b[0m\u001b[0mval_ins\u001b[0m\u001b[0;34m,\u001b[0m \u001b[0mshuffle\u001b[0m\u001b[0;34m=\u001b[0m\u001b[0mshuffle\u001b[0m\u001b[0;34m,\u001b[0m\u001b[0;34m\u001b[0m\u001b[0m\n\u001b[1;32m   1429\u001b[0m                               \u001b[0mcallback_metrics\u001b[0m\u001b[0;34m=\u001b[0m\u001b[0mcallback_metrics\u001b[0m\u001b[0;34m,\u001b[0m\u001b[0;34m\u001b[0m\u001b[0m\n\u001b[0;32m-> 1430\u001b[0;31m                               initial_epoch=initial_epoch)\n\u001b[0m\u001b[1;32m   1431\u001b[0m \u001b[0;34m\u001b[0m\u001b[0m\n\u001b[1;32m   1432\u001b[0m     \u001b[0;32mdef\u001b[0m \u001b[0mevaluate\u001b[0m\u001b[0;34m(\u001b[0m\u001b[0mself\u001b[0m\u001b[0;34m,\u001b[0m \u001b[0mx\u001b[0m\u001b[0;34m,\u001b[0m \u001b[0my\u001b[0m\u001b[0;34m,\u001b[0m \u001b[0mbatch_size\u001b[0m\u001b[0;34m=\u001b[0m\u001b[0;36m32\u001b[0m\u001b[0;34m,\u001b[0m \u001b[0mverbose\u001b[0m\u001b[0;34m=\u001b[0m\u001b[0;36m1\u001b[0m\u001b[0;34m,\u001b[0m \u001b[0msample_weight\u001b[0m\u001b[0;34m=\u001b[0m\u001b[0;32mNone\u001b[0m\u001b[0;34m)\u001b[0m\u001b[0;34m:\u001b[0m\u001b[0;34m\u001b[0m\u001b[0m\n",
      "\u001b[0;32m/usr/local/lib/python3.6/site-packages/keras/engine/training.py\u001b[0m in \u001b[0;36m_fit_loop\u001b[0;34m(self, f, ins, out_labels, batch_size, epochs, verbose, callbacks, val_f, val_ins, shuffle, callback_metrics, initial_epoch)\u001b[0m\n\u001b[1;32m   1068\u001b[0m                         \u001b[0mins_batch\u001b[0m \u001b[0;34m=\u001b[0m \u001b[0m_slice_arrays\u001b[0m\u001b[0;34m(\u001b[0m\u001b[0mins\u001b[0m\u001b[0;34m[\u001b[0m\u001b[0;34m:\u001b[0m\u001b[0;34m-\u001b[0m\u001b[0;36m1\u001b[0m\u001b[0;34m]\u001b[0m\u001b[0;34m,\u001b[0m \u001b[0mbatch_ids\u001b[0m\u001b[0;34m)\u001b[0m \u001b[0;34m+\u001b[0m \u001b[0;34m[\u001b[0m\u001b[0mins\u001b[0m\u001b[0;34m[\u001b[0m\u001b[0;34m-\u001b[0m\u001b[0;36m1\u001b[0m\u001b[0;34m]\u001b[0m\u001b[0;34m]\u001b[0m\u001b[0;34m\u001b[0m\u001b[0m\n\u001b[1;32m   1069\u001b[0m                     \u001b[0;32melse\u001b[0m\u001b[0;34m:\u001b[0m\u001b[0;34m\u001b[0m\u001b[0m\n\u001b[0;32m-> 1070\u001b[0;31m                         \u001b[0mins_batch\u001b[0m \u001b[0;34m=\u001b[0m \u001b[0m_slice_arrays\u001b[0m\u001b[0;34m(\u001b[0m\u001b[0mins\u001b[0m\u001b[0;34m,\u001b[0m \u001b[0mbatch_ids\u001b[0m\u001b[0;34m)\u001b[0m\u001b[0;34m\u001b[0m\u001b[0m\n\u001b[0m\u001b[1;32m   1071\u001b[0m                 \u001b[0;32mexcept\u001b[0m \u001b[0mTypeError\u001b[0m\u001b[0;34m:\u001b[0m\u001b[0;34m\u001b[0m\u001b[0m\n\u001b[1;32m   1072\u001b[0m                     raise TypeError('TypeError while preparing batch. '\n",
      "\u001b[0;31mKeyboardInterrupt\u001b[0m: "
     ]
    }
   ],
   "source": [
    "# callbacks = [EarlyStopping(monitor='val_acc',\n",
    "#                            patience=8,\n",
    "#                            verbose=1,\n",
    "#                            min_delta=1e-4,\n",
    "#                            mode='max'),\n",
    "#              ReduceLROnPlateau(monitor='val_acc',\n",
    "#                                factor=0.1,\n",
    "#                                patience=4,\n",
    "#                                verbose=1,\n",
    "#                                epsilon=1e-4,\n",
    "#                                mode='max'),\n",
    "#              ModelCheckpoint(monitor='val_acc',\n",
    "#                              filepath='assets/vk_texts_classifier.h5',\n",
    "#                              save_best_only=True,\n",
    "#                              save_weights_only=False,\n",
    "#                              mode='max'),\n",
    "#              # TensorBoard(log_dir='logs'),\n",
    "#              CSVLogger('assets/last_training_log.csv', separator=',', append=False)\n",
    "#             ]\n",
    "\n",
    "# classifier.load_weights('vk_texts_classifier.h5')\n",
    "\n",
    "# for using sparse vectors\n",
    "def nn_batch_generator(X_data, y_data, batch_size):\n",
    "    samples_per_epoch = X_data.shape[0]\n",
    "    number_of_batches = samples_per_epoch/batch_size\n",
    "    counter=0\n",
    "    index = np.arange(np.shape(y_data)[0])\n",
    "    while 1:\n",
    "        index_batch = index[batch_size*counter:batch_size*(counter+1)]\n",
    "        X_batch = X_data[index_batch,:].todense()\n",
    "        y_batch = y_data[index_batch]\n",
    "        counter += 1\n",
    "        yield np.array(X_batch),y_batch\n",
    "        if (counter > number_of_batches):\n",
    "            counter=0\n",
    "\n",
    "classifier.fit(X_train, \n",
    "               y_train, \n",
    "               validation_data=(X_test, y_test), \n",
    "               batch_size=196, \n",
    "               epochs=50, \n",
    "               class_weight='balanced'\n",
    "#                callbacks=callbacks\n",
    "              )"
   ]
  },
  {
   "cell_type": "code",
   "execution_count": 31,
   "metadata": {
    "ExecuteTime": {
     "end_time": "2017-08-29T15:02:20.700563Z",
     "start_time": "2017-08-29T15:02:20.481460Z"
    },
    "collapsed": true
   },
   "outputs": [],
   "source": [
    "classifier.save(\"assets/vk_texts_classifier.h5\")"
   ]
  },
  {
   "cell_type": "code",
   "execution_count": 10,
   "metadata": {
    "ExecuteTime": {
     "end_time": "2017-08-28T22:46:19.381038Z",
     "start_time": "2017-08-28T22:46:17.552226Z"
    },
    "collapsed": true
   },
   "outputs": [],
   "source": [
    "classifier = load_model(\"assets/vk_texts_classifier.h5\")"
   ]
  },
  {
   "cell_type": "markdown",
   "metadata": {},
   "source": [
    "# Result"
   ]
  },
  {
   "cell_type": "code",
   "execution_count": 32,
   "metadata": {
    "ExecuteTime": {
     "end_time": "2017-08-29T15:02:22.414050Z",
     "start_time": "2017-08-29T15:02:22.405938Z"
    },
    "collapsed": true
   },
   "outputs": [],
   "source": [
    "norm_categories = np.array(list(norm_names.values()))"
   ]
  },
  {
   "cell_type": "code",
   "execution_count": 33,
   "metadata": {
    "ExecuteTime": {
     "end_time": "2017-08-29T15:02:22.720792Z",
     "start_time": "2017-08-29T15:02:22.717060Z"
    },
    "collapsed": true
   },
   "outputs": [],
   "source": [
    "# corpora_user_gen.corpora = np.array(corpora_user_gen.corpora)\n",
    "# corpora_user_gen.labels = np.array(corpora_user_gen.labels)"
   ]
  },
  {
   "cell_type": "code",
   "execution_count": null,
   "metadata": {
    "ExecuteTime": {
     "start_time": "2017-08-29T08:39:27.824Z"
    },
    "collapsed": true
   },
   "outputs": [],
   "source": [
    "labels_ = np.array(test_labels)\n",
    "corpora_ = np.array(test_corpora)\n",
    "\n",
    "d = {}\n",
    "for col in norm_names.values():\n",
    "    t = social.Интересы.apply(lambda s: col in s)\n",
    "    col_labels = np.array(list(set(t[t == True].index).intersection(labels_)))\n",
    "    c_0 = 0\n",
    "    c_1 = 0\n",
    "    c_2 = 0\n",
    "    for item in corpora_[np.in1d(labels_, col_labels)]:\n",
    "        pred_categories = norm_categories[np.sum(classifier.predict(vectorizer.transform(item).toarray()), axis=0).argsort()[::-1][:8]]\n",
    "        if col in pred_categories[:2]:\n",
    "            c_0 += 1\n",
    "        if col in pred_categories[:5]:\n",
    "            c_1 += 1\n",
    "        if col in pred_categories:\n",
    "            c_2 += 1\n",
    "    l = len(col_labels)\n",
    "    if l == 0:\n",
    "        l = 1\n",
    "    col, l, c_0 / l, c_1 / l, c_2 / l\n",
    "    d[col] = c_2 / l\n",
    "    \n",
    "    \n",
    "#     sorted(np.sum(classifier.predict(vectorizer.transform(corpora_user_gen.corpora[5]).toarray()), axis=0), reverse=True)[:3]"
   ]
  },
  {
   "cell_type": "code",
   "execution_count": 76,
   "metadata": {
    "ExecuteTime": {
     "end_time": "2017-08-28T21:42:47.171060Z",
     "start_time": "2017-08-28T21:42:47.152152Z"
    }
   },
   "outputs": [
    {
     "data": {
      "text/plain": [
       "0.48736079218666928"
      ]
     },
     "execution_count": 76,
     "metadata": {},
     "output_type": "execute_result"
    }
   ],
   "source": [
    "np.mean(list(d.values()))"
   ]
  },
  {
   "cell_type": "code",
   "execution_count": 34,
   "metadata": {
    "ExecuteTime": {
     "end_time": "2017-08-29T15:02:26.093171Z",
     "start_time": "2017-08-29T15:02:26.046018Z"
    },
    "collapsed": true
   },
   "outputs": [],
   "source": [
    "# social = pd.read_excel(\"social.xlsx\", names=['id', 'name', 'fb', 'ok', 'vk', 'email', 'twitter'])\n",
    "# social.set_index('id', inplace=True)\n",
    "# social = social[social.vk.notnull()]\n",
    "# social.vk = social.vk.apply(lambda x: str(x).split(\"/\")[-1])\n",
    "# df = social[social.vk.notnull()]\n",
    "# df = df[['name', 'vk']]\n",
    "\n",
    "# def get_id(screen_name):\n",
    "#     try:\n",
    "#         item = vk.users.get(user_ids=screen_name)\n",
    "#         if 'deactivated' not in item:\n",
    "#             return item[0]['id']\n",
    "#     except Exception as e:\n",
    "#         print(e.args)\n",
    "# # Нужно замапить screen_name с их vk_id, поэтому придется обрабатывать по одному\n",
    "\n",
    "# df['vk_id'] = df.vk.progress_apply(get_id)\n",
    "# df.dropna(inplace=True)\n",
    "# df.vk_id = df.vk_id.astype('int')\n",
    "# df.to_msgpack(\"df.msg\")\n",
    "df = pd.read_msgpack(\"assets/df.msg\")\n",
    "known = pd.read_csv(\"assets/known_users.csv\")\n",
    "known = known.merge(df[['vk_id']], left_on='Leader-ID', right_index=True, how='left')"
   ]
  },
  {
   "cell_type": "code",
   "execution_count": 35,
   "metadata": {
    "ExecuteTime": {
     "end_time": "2017-08-29T15:02:28.957381Z",
     "start_time": "2017-08-29T15:02:26.295946Z"
    },
    "collapsed": true
   },
   "outputs": [],
   "source": [
    "result_class = ResultClass()"
   ]
  },
  {
   "cell_type": "code",
   "execution_count": 36,
   "metadata": {
    "ExecuteTime": {
     "end_time": "2017-08-29T15:04:30.091580Z",
     "start_time": "2017-08-29T15:02:28.959603Z"
    },
    "scrolled": true
   },
   "outputs": [
    {
     "name": "stderr",
     "output_type": "stream",
     "text": [
      "100%|██████████| 44/44 [02:01<00:00, 10.44s/it]\n"
     ]
    }
   ],
   "source": [
    "offset = 0\n",
    "for index, row in tqdm.tqdm(known.iloc[offset:, :].iterrows(), total=len(known) - offset):\n",
    "    user_vk = row['vk_id']\n",
    "    if str(user_vk) == \"nan\":\n",
    "        user_vk = None\n",
    "    user_fb = row['FB']\n",
    "    if str(user_fb) == \"nan\":\n",
    "        user_fb = None\n",
    "    try:\n",
    "        verdict = result_class.get_result(user_vk, user_fb)\n",
    "        result_class.texts = []\n",
    "        for cat, value in verdict:\n",
    "            known.loc[index, cat] = value\n",
    "    except ValueError:\n",
    "        for cat in categories:\n",
    "            known.loc[index, cat] = 0\n",
    "    except IndexError:\n",
    "        for cat in categories:\n",
    "            known.loc[index, cat] = 0"
   ]
  },
  {
   "cell_type": "code",
   "execution_count": 37,
   "metadata": {
    "ExecuteTime": {
     "end_time": "2017-08-29T15:04:30.622005Z",
     "start_time": "2017-08-29T15:04:30.095126Z"
    },
    "collapsed": true
   },
   "outputs": [],
   "source": [
    "norm_dict = {\"values\": []}\n",
    "for name in known.ФИ:\n",
    "    results = []\n",
    "    for col in known[known.ФИ == name].iloc[:, 4:].columns:\n",
    "        results.append({\"name\": norm_names[col], \"value\": float(known.loc[known.ФИ == name, col].values[0])})\n",
    "    norm_dict['values'].append({\"name\": name, \"results\": results})"
   ]
  },
  {
   "cell_type": "code",
   "execution_count": 38,
   "metadata": {
    "ExecuteTime": {
     "end_time": "2017-08-29T15:04:30.640554Z",
     "start_time": "2017-08-29T15:04:30.624357Z"
    }
   },
   "outputs": [
    {
     "data": {
      "text/plain": [
       "[('Образование', 'Предпринимательство'),\n",
       " ('Образование', 'Политика'),\n",
       " ('Инвестиции', 'Спорт'),\n",
       " ('Спорт', 'Благотворительность'),\n",
       " ('Промышленность', 'Образование'),\n",
       " ('Промышленность', 'Стратегическое управление'),\n",
       " ('Корпоративное управление', 'Юриспруденция'),\n",
       " ('Образование', 'Исследования и разработки'),\n",
       " ('Промышленность', 'Образование'),\n",
       " ('Промышленность', 'Образование'),\n",
       " ('Стратегическое управление', 'Исследования и разработки'),\n",
       " ('Спорт', 'Юриспруденция'),\n",
       " ('Благотворительность', 'Стратегическое управление'),\n",
       " ('Спорт', 'Промышленность'),\n",
       " ('Благотворительность', 'Образование'),\n",
       " ('Инвестиции', 'Спорт'),\n",
       " ('Образование', 'Промышленность'),\n",
       " ('Юриспруденция', 'Образование'),\n",
       " ('Предпринимательство', 'Строительство'),\n",
       " ('Промышленность', 'Образование'),\n",
       " ('Благотворительность', 'Исследования и разработки'),\n",
       " ('Спорт', 'Предпринимательство'),\n",
       " ('Образование', 'Стратегическое управление'),\n",
       " ('Стратегическое управление', 'Предпринимательство'),\n",
       " ('Стратегическое управление', 'Промышленность'),\n",
       " ('Безопасность', 'Строительство'),\n",
       " ('Образование', 'Стратегическое управление'),\n",
       " ('Исследования и разработки', 'Образование'),\n",
       " ('Политика', 'Образование'),\n",
       " ('Благотворительность', 'Промышленность'),\n",
       " ('Юриспруденция', 'Стратегическое управление'),\n",
       " ('Образование', 'Исследования и разработки'),\n",
       " ('Социальная защита', 'Предпринимательство'),\n",
       " ('Стратегическое управление', 'Инновации и модернизация'),\n",
       " ('Образование', 'Промышленность'),\n",
       " ('Стратегическое управление', 'Предпринимательство'),\n",
       " ('Благотворительность', 'Юриспруденция'),\n",
       " ('Образование', 'Исследования и разработки'),\n",
       " ('Образование', 'Предпринимательство'),\n",
       " ('Образование', 'Исследования и разработки'),\n",
       " ('Образование', 'Промышленность'),\n",
       " ('Образование', 'Стратегическое управление'),\n",
       " ('Юриспруденция', 'Образование'),\n",
       " ('Образование', 'Исследования и разработки')]"
      ]
     },
     "execution_count": 38,
     "metadata": {},
     "output_type": "execute_result"
    }
   ],
   "source": [
    "[(norm_categories[x.argsort()[-1]], norm_categories[x.argsort()[-2]]) for x in known.loc[:, categories].values]"
   ]
  },
  {
   "cell_type": "code",
   "execution_count": 40,
   "metadata": {
    "ExecuteTime": {
     "end_time": "2017-08-29T15:04:34.628047Z",
     "start_time": "2017-08-29T15:04:34.601048Z"
    }
   },
   "outputs": [
    {
     "data": {
      "text/plain": [
       "{'Безопасность',\n",
       " 'Благотворительность',\n",
       " 'Инвестиции',\n",
       " 'Инновации и модернизация',\n",
       " 'Исследования и разработки',\n",
       " 'Корпоративное управление',\n",
       " 'Образование',\n",
       " 'Политика',\n",
       " 'Предпринимательство',\n",
       " 'Промышленность',\n",
       " 'Социальная защита',\n",
       " 'Спорт',\n",
       " 'Стратегическое управление',\n",
       " 'Строительство',\n",
       " 'Юриспруденция'}"
      ]
     },
     "execution_count": 40,
     "metadata": {},
     "output_type": "execute_result"
    },
    {
     "data": {
      "text/plain": [
       "15"
      ]
     },
     "execution_count": 40,
     "metadata": {},
     "output_type": "execute_result"
    },
    {
     "data": {
      "text/plain": [
       "{'Безопасность',\n",
       " 'Благотворительность',\n",
       " 'Инвестиции',\n",
       " 'Исследования и разработки',\n",
       " 'Корпоративное управление',\n",
       " 'Образование',\n",
       " 'Политика',\n",
       " 'Предпринимательство',\n",
       " 'Промышленность',\n",
       " 'Социальная защита',\n",
       " 'Спорт',\n",
       " 'Стратегическое управление',\n",
       " 'Юриспруденция'}"
      ]
     },
     "execution_count": 40,
     "metadata": {},
     "output_type": "execute_result"
    },
    {
     "data": {
      "text/plain": [
       "13"
      ]
     },
     "execution_count": 40,
     "metadata": {},
     "output_type": "execute_result"
    }
   ],
   "source": [
    "t = [(norm_categories[x.argsort()[-1]], norm_categories[x.argsort()[-2]]) for x in known.loc[:, categories].values]\n",
    "a = set()\n",
    "b = set()\n",
    "for x, y in t:\n",
    "    a.add(x)\n",
    "    a.add(y)\n",
    "    b.add(x)\n",
    "a\n",
    "len(a)\n",
    "b\n",
    "len(b)"
   ]
  },
  {
   "cell_type": "code",
   "execution_count": 28,
   "metadata": {
    "ExecuteTime": {
     "end_time": "2017-08-29T09:09:30.685899Z",
     "start_time": "2017-08-29T09:09:30.615720Z"
    }
   },
   "outputs": [
    {
     "data": {
      "text/plain": [
       "('Искусство', 0.14584748)"
      ]
     },
     "execution_count": 28,
     "metadata": {},
     "output_type": "execute_result"
    },
    {
     "data": {
      "text/plain": [
       "('Политика', 0.186913)"
      ]
     },
     "execution_count": 28,
     "metadata": {},
     "output_type": "execute_result"
    },
    {
     "data": {
      "text/plain": [
       "('Финансы', 0.1182816)"
      ]
     },
     "execution_count": 28,
     "metadata": {},
     "output_type": "execute_result"
    },
    {
     "data": {
      "text/plain": [
       "('Стратегическое управление', 0.24085398)"
      ]
     },
     "execution_count": 28,
     "metadata": {},
     "output_type": "execute_result"
    },
    {
     "data": {
      "text/plain": [
       "('Юриспруденция', 0.16420017)"
      ]
     },
     "execution_count": 28,
     "metadata": {},
     "output_type": "execute_result"
    },
    {
     "data": {
      "text/plain": [
       "('Исследования и разработки', 0.26864001)"
      ]
     },
     "execution_count": 28,
     "metadata": {},
     "output_type": "execute_result"
    },
    {
     "data": {
      "text/plain": [
       "('Промышленность', 0.2313747)"
      ]
     },
     "execution_count": 28,
     "metadata": {},
     "output_type": "execute_result"
    },
    {
     "data": {
      "text/plain": [
       "('Образование', 0.3164269)"
      ]
     },
     "execution_count": 28,
     "metadata": {},
     "output_type": "execute_result"
    },
    {
     "data": {
      "text/plain": [
       "('Благотворительность', 0.15638363)"
      ]
     },
     "execution_count": 28,
     "metadata": {},
     "output_type": "execute_result"
    },
    {
     "data": {
      "text/plain": [
       "('Здравоохранение', 0.15626086)"
      ]
     },
     "execution_count": 28,
     "metadata": {},
     "output_type": "execute_result"
    },
    {
     "data": {
      "text/plain": [
       "('Сельское хозяйство', 0.11457076)"
      ]
     },
     "execution_count": 28,
     "metadata": {},
     "output_type": "execute_result"
    },
    {
     "data": {
      "text/plain": [
       "('Государственное управление', 0.17382421)"
      ]
     },
     "execution_count": 28,
     "metadata": {},
     "output_type": "execute_result"
    },
    {
     "data": {
      "text/plain": [
       "('Реклама и маркетинг', 0.18865262)"
      ]
     },
     "execution_count": 28,
     "metadata": {},
     "output_type": "execute_result"
    },
    {
     "data": {
      "text/plain": [
       "('Инновации и модернизация', 0.23616634)"
      ]
     },
     "execution_count": 28,
     "metadata": {},
     "output_type": "execute_result"
    },
    {
     "data": {
      "text/plain": [
       "('Безопасность', 0.10876513)"
      ]
     },
     "execution_count": 28,
     "metadata": {},
     "output_type": "execute_result"
    },
    {
     "data": {
      "text/plain": [
       "('Военное дело', 0.037557732)"
      ]
     },
     "execution_count": 28,
     "metadata": {},
     "output_type": "execute_result"
    },
    {
     "data": {
      "text/plain": [
       "('Корпоративное управление', 0.19872026)"
      ]
     },
     "execution_count": 28,
     "metadata": {},
     "output_type": "execute_result"
    },
    {
     "data": {
      "text/plain": [
       "('Социальная защита', 0.1651298)"
      ]
     },
     "execution_count": 28,
     "metadata": {},
     "output_type": "execute_result"
    },
    {
     "data": {
      "text/plain": [
       "('Строительство', 0.14696449)"
      ]
     },
     "execution_count": 28,
     "metadata": {},
     "output_type": "execute_result"
    },
    {
     "data": {
      "text/plain": [
       "('Предпринимательство', 0.27060661)"
      ]
     },
     "execution_count": 28,
     "metadata": {},
     "output_type": "execute_result"
    },
    {
     "data": {
      "text/plain": [
       "('Спорт', 0.11807771)"
      ]
     },
     "execution_count": 28,
     "metadata": {},
     "output_type": "execute_result"
    },
    {
     "data": {
      "text/plain": [
       "('Инвестиции', 0.17204103)"
      ]
     },
     "execution_count": 28,
     "metadata": {},
     "output_type": "execute_result"
    }
   ],
   "source": [
    "for col in known.iloc[:, 4:].columns:\n",
    "    norm_names[col], known.loc[:, col].mean()"
   ]
  },
  {
   "cell_type": "code",
   "execution_count": null,
   "metadata": {
    "ExecuteTime": {
     "end_time": "2017-08-21T17:18:24.341722Z",
     "start_time": "2017-08-21T17:18:24.271307Z"
    },
    "collapsed": true,
    "scrolled": false
   },
   "outputs": [],
   "source": [
    "for fb in known.loc[known['education'] < 0.1, 'FB']:\n",
    "    with open(f\"assets/corpora_cached_fb_users/{fb}.txt\") as f:\n",
    "        for line in f:\n",
    "            print(line)\n",
    "    print([a.values for a in known.loc[known['FB'] == fb, :].items()])\n",
    "    print(\"End of file\")"
   ]
  },
  {
   "cell_type": "code",
   "execution_count": 41,
   "metadata": {
    "ExecuteTime": {
     "end_time": "2017-08-29T15:07:19.972914Z",
     "start_time": "2017-08-29T15:07:19.949585Z"
    },
    "collapsed": true
   },
   "outputs": [],
   "source": [
    "known.to_csv(\"assets/known.csv\")\n",
    "json.dump(norm_dict, open(\"assets/temporary_result.json\", \"w\"))"
   ]
  },
  {
   "cell_type": "code",
   "execution_count": 42,
   "metadata": {
    "ExecuteTime": {
     "end_time": "2017-08-29T15:09:35.352515Z",
     "start_time": "2017-08-29T15:09:35.278461Z"
    }
   },
   "outputs": [
    {
     "data": {
      "text/html": [
       "<div>\n",
       "<style>\n",
       "    .dataframe thead tr:only-child th {\n",
       "        text-align: right;\n",
       "    }\n",
       "\n",
       "    .dataframe thead th {\n",
       "        text-align: left;\n",
       "    }\n",
       "\n",
       "    .dataframe tbody tr th {\n",
       "        vertical-align: top;\n",
       "    }\n",
       "</style>\n",
       "<table border=\"1\" class=\"dataframe\">\n",
       "  <thead>\n",
       "    <tr style=\"text-align: right;\">\n",
       "      <th></th>\n",
       "      <th>ФИ</th>\n",
       "      <th>Leader-ID</th>\n",
       "      <th>FB</th>\n",
       "      <th>vk_id</th>\n",
       "      <th>art</th>\n",
       "      <th>politics</th>\n",
       "      <th>finances</th>\n",
       "      <th>strateg_management</th>\n",
       "      <th>law</th>\n",
       "      <th>elaboration</th>\n",
       "      <th>...</th>\n",
       "      <th>smm</th>\n",
       "      <th>innovations</th>\n",
       "      <th>safety</th>\n",
       "      <th>military</th>\n",
       "      <th>corporative_management</th>\n",
       "      <th>social_safety</th>\n",
       "      <th>building</th>\n",
       "      <th>entrepreneurship</th>\n",
       "      <th>sport</th>\n",
       "      <th>investitions</th>\n",
       "    </tr>\n",
       "  </thead>\n",
       "  <tbody>\n",
       "    <tr>\n",
       "      <th>0</th>\n",
       "      <td>Александрина Клюс</td>\n",
       "      <td>91500</td>\n",
       "      <td>alya.blesk</td>\n",
       "      <td>NaN</td>\n",
       "      <td>0.147960</td>\n",
       "      <td>0.286034</td>\n",
       "      <td>0.153695</td>\n",
       "      <td>0.293025</td>\n",
       "      <td>0.179433</td>\n",
       "      <td>0.293728</td>\n",
       "      <td>...</td>\n",
       "      <td>0.235376</td>\n",
       "      <td>0.273451</td>\n",
       "      <td>0.110621</td>\n",
       "      <td>0.030168</td>\n",
       "      <td>0.198494</td>\n",
       "      <td>0.242707</td>\n",
       "      <td>0.137618</td>\n",
       "      <td>0.309871</td>\n",
       "      <td>0.047589</td>\n",
       "      <td>0.200477</td>\n",
       "    </tr>\n",
       "    <tr>\n",
       "      <th>1</th>\n",
       "      <td>Ангелина Зонова</td>\n",
       "      <td>82050</td>\n",
       "      <td>zonovaangelina</td>\n",
       "      <td>NaN</td>\n",
       "      <td>0.165989</td>\n",
       "      <td>0.315646</td>\n",
       "      <td>0.066060</td>\n",
       "      <td>0.232903</td>\n",
       "      <td>0.082071</td>\n",
       "      <td>0.220440</td>\n",
       "      <td>...</td>\n",
       "      <td>0.112356</td>\n",
       "      <td>0.221370</td>\n",
       "      <td>0.075173</td>\n",
       "      <td>0.015599</td>\n",
       "      <td>0.157111</td>\n",
       "      <td>0.133208</td>\n",
       "      <td>0.247279</td>\n",
       "      <td>0.308281</td>\n",
       "      <td>0.001195</td>\n",
       "      <td>0.150876</td>\n",
       "    </tr>\n",
       "    <tr>\n",
       "      <th>2</th>\n",
       "      <td>Владислав Широков</td>\n",
       "      <td>102575</td>\n",
       "      <td>100018653177414</td>\n",
       "      <td>NaN</td>\n",
       "      <td>0.000000</td>\n",
       "      <td>0.000000</td>\n",
       "      <td>0.000000</td>\n",
       "      <td>0.000000</td>\n",
       "      <td>0.000000</td>\n",
       "      <td>0.000000</td>\n",
       "      <td>...</td>\n",
       "      <td>0.000000</td>\n",
       "      <td>0.000000</td>\n",
       "      <td>0.000000</td>\n",
       "      <td>0.000000</td>\n",
       "      <td>0.000000</td>\n",
       "      <td>0.000000</td>\n",
       "      <td>0.000000</td>\n",
       "      <td>0.000000</td>\n",
       "      <td>0.000000</td>\n",
       "      <td>0.000000</td>\n",
       "    </tr>\n",
       "    <tr>\n",
       "      <th>3</th>\n",
       "      <td>Галина Жукова</td>\n",
       "      <td>44515</td>\n",
       "      <td>1088734051</td>\n",
       "      <td>NaN</td>\n",
       "      <td>0.040098</td>\n",
       "      <td>0.068370</td>\n",
       "      <td>0.054805</td>\n",
       "      <td>0.092547</td>\n",
       "      <td>0.081119</td>\n",
       "      <td>0.099949</td>\n",
       "      <td>...</td>\n",
       "      <td>0.089165</td>\n",
       "      <td>0.093899</td>\n",
       "      <td>0.039961</td>\n",
       "      <td>0.051536</td>\n",
       "      <td>0.069879</td>\n",
       "      <td>0.058820</td>\n",
       "      <td>0.057405</td>\n",
       "      <td>0.096900</td>\n",
       "      <td>0.936942</td>\n",
       "      <td>0.079743</td>\n",
       "    </tr>\n",
       "    <tr>\n",
       "      <th>4</th>\n",
       "      <td>Жанна Кадылева</td>\n",
       "      <td>584</td>\n",
       "      <td>kadilevazm</td>\n",
       "      <td>NaN</td>\n",
       "      <td>0.083260</td>\n",
       "      <td>0.194544</td>\n",
       "      <td>0.152178</td>\n",
       "      <td>0.307747</td>\n",
       "      <td>0.278098</td>\n",
       "      <td>0.273974</td>\n",
       "      <td>...</td>\n",
       "      <td>0.174241</td>\n",
       "      <td>0.274315</td>\n",
       "      <td>0.102637</td>\n",
       "      <td>0.050129</td>\n",
       "      <td>0.209883</td>\n",
       "      <td>0.119914</td>\n",
       "      <td>0.135892</td>\n",
       "      <td>0.269630</td>\n",
       "      <td>0.016108</td>\n",
       "      <td>0.193767</td>\n",
       "    </tr>\n",
       "    <tr>\n",
       "      <th>5</th>\n",
       "      <td>Ирина Горькова</td>\n",
       "      <td>NaN</td>\n",
       "      <td>100013685044932</td>\n",
       "      <td>NaN</td>\n",
       "      <td>0.099126</td>\n",
       "      <td>0.166760</td>\n",
       "      <td>0.141316</td>\n",
       "      <td>0.377137</td>\n",
       "      <td>0.139501</td>\n",
       "      <td>0.334648</td>\n",
       "      <td>...</td>\n",
       "      <td>0.134651</td>\n",
       "      <td>0.304084</td>\n",
       "      <td>0.040975</td>\n",
       "      <td>0.030190</td>\n",
       "      <td>0.212257</td>\n",
       "      <td>0.081585</td>\n",
       "      <td>0.060936</td>\n",
       "      <td>0.244287</td>\n",
       "      <td>0.005564</td>\n",
       "      <td>0.181229</td>\n",
       "    </tr>\n",
       "    <tr>\n",
       "      <th>6</th>\n",
       "      <td>Ирина Григоренко</td>\n",
       "      <td>39</td>\n",
       "      <td>i.g.grigorenko</td>\n",
       "      <td>NaN</td>\n",
       "      <td>0.077221</td>\n",
       "      <td>0.209093</td>\n",
       "      <td>0.185684</td>\n",
       "      <td>0.356599</td>\n",
       "      <td>0.393341</td>\n",
       "      <td>0.133644</td>\n",
       "      <td>...</td>\n",
       "      <td>0.178274</td>\n",
       "      <td>0.203708</td>\n",
       "      <td>0.082853</td>\n",
       "      <td>0.006745</td>\n",
       "      <td>0.432483</td>\n",
       "      <td>0.297196</td>\n",
       "      <td>0.027408</td>\n",
       "      <td>0.221565</td>\n",
       "      <td>0.000485</td>\n",
       "      <td>0.135039</td>\n",
       "    </tr>\n",
       "    <tr>\n",
       "      <th>7</th>\n",
       "      <td>Наталья Кульбятская</td>\n",
       "      <td>12271</td>\n",
       "      <td>nvkulbyatskaya</td>\n",
       "      <td>NaN</td>\n",
       "      <td>0.133501</td>\n",
       "      <td>0.271950</td>\n",
       "      <td>0.154335</td>\n",
       "      <td>0.311959</td>\n",
       "      <td>0.209328</td>\n",
       "      <td>0.335171</td>\n",
       "      <td>...</td>\n",
       "      <td>0.178992</td>\n",
       "      <td>0.282007</td>\n",
       "      <td>0.103857</td>\n",
       "      <td>0.030836</td>\n",
       "      <td>0.212135</td>\n",
       "      <td>0.182290</td>\n",
       "      <td>0.120737</td>\n",
       "      <td>0.286425</td>\n",
       "      <td>0.082703</td>\n",
       "      <td>0.183488</td>\n",
       "    </tr>\n",
       "    <tr>\n",
       "      <th>8</th>\n",
       "      <td>Нелли Бадалян</td>\n",
       "      <td>16662</td>\n",
       "      <td>100017461808545</td>\n",
       "      <td>NaN</td>\n",
       "      <td>0.108668</td>\n",
       "      <td>0.179303</td>\n",
       "      <td>0.113212</td>\n",
       "      <td>0.238921</td>\n",
       "      <td>0.066939</td>\n",
       "      <td>0.237324</td>\n",
       "      <td>...</td>\n",
       "      <td>0.086330</td>\n",
       "      <td>0.201496</td>\n",
       "      <td>0.053071</td>\n",
       "      <td>0.016555</td>\n",
       "      <td>0.138569</td>\n",
       "      <td>0.052335</td>\n",
       "      <td>0.050337</td>\n",
       "      <td>0.169174</td>\n",
       "      <td>0.002338</td>\n",
       "      <td>0.107098</td>\n",
       "    </tr>\n",
       "    <tr>\n",
       "      <th>9</th>\n",
       "      <td>Юлия Ханьжина</td>\n",
       "      <td>1419</td>\n",
       "      <td>1496282246</td>\n",
       "      <td>NaN</td>\n",
       "      <td>0.160274</td>\n",
       "      <td>0.199412</td>\n",
       "      <td>0.173784</td>\n",
       "      <td>0.318182</td>\n",
       "      <td>0.225450</td>\n",
       "      <td>0.260965</td>\n",
       "      <td>...</td>\n",
       "      <td>0.189487</td>\n",
       "      <td>0.263427</td>\n",
       "      <td>0.087761</td>\n",
       "      <td>0.029548</td>\n",
       "      <td>0.206687</td>\n",
       "      <td>0.134140</td>\n",
       "      <td>0.078669</td>\n",
       "      <td>0.258955</td>\n",
       "      <td>0.009292</td>\n",
       "      <td>0.172436</td>\n",
       "    </tr>\n",
       "    <tr>\n",
       "      <th>10</th>\n",
       "      <td>Alexey Khoryushin</td>\n",
       "      <td>NaN</td>\n",
       "      <td>khoryushin</td>\n",
       "      <td>NaN</td>\n",
       "      <td>0.176023</td>\n",
       "      <td>0.345501</td>\n",
       "      <td>0.183324</td>\n",
       "      <td>0.396434</td>\n",
       "      <td>0.150382</td>\n",
       "      <td>0.359170</td>\n",
       "      <td>...</td>\n",
       "      <td>0.217330</td>\n",
       "      <td>0.298941</td>\n",
       "      <td>0.066224</td>\n",
       "      <td>0.014409</td>\n",
       "      <td>0.224953</td>\n",
       "      <td>0.176472</td>\n",
       "      <td>0.108353</td>\n",
       "      <td>0.255224</td>\n",
       "      <td>0.004036</td>\n",
       "      <td>0.168788</td>\n",
       "    </tr>\n",
       "    <tr>\n",
       "      <th>11</th>\n",
       "      <td>Andrey Siling</td>\n",
       "      <td>222</td>\n",
       "      <td>andrey.siling</td>\n",
       "      <td>222216857.0</td>\n",
       "      <td>0.113829</td>\n",
       "      <td>0.187915</td>\n",
       "      <td>0.114210</td>\n",
       "      <td>0.249878</td>\n",
       "      <td>0.342062</td>\n",
       "      <td>0.234227</td>\n",
       "      <td>...</td>\n",
       "      <td>0.166354</td>\n",
       "      <td>0.227615</td>\n",
       "      <td>0.109189</td>\n",
       "      <td>0.056588</td>\n",
       "      <td>0.172202</td>\n",
       "      <td>0.189931</td>\n",
       "      <td>0.129501</td>\n",
       "      <td>0.227994</td>\n",
       "      <td>0.533856</td>\n",
       "      <td>0.162824</td>\n",
       "    </tr>\n",
       "    <tr>\n",
       "      <th>12</th>\n",
       "      <td>Denis  Trunov</td>\n",
       "      <td>19982</td>\n",
       "      <td>devident</td>\n",
       "      <td>NaN</td>\n",
       "      <td>0.119415</td>\n",
       "      <td>0.216257</td>\n",
       "      <td>0.135082</td>\n",
       "      <td>0.326888</td>\n",
       "      <td>0.170796</td>\n",
       "      <td>0.290659</td>\n",
       "      <td>...</td>\n",
       "      <td>0.118522</td>\n",
       "      <td>0.276634</td>\n",
       "      <td>0.134316</td>\n",
       "      <td>0.015706</td>\n",
       "      <td>0.187248</td>\n",
       "      <td>0.123806</td>\n",
       "      <td>0.101790</td>\n",
       "      <td>0.257448</td>\n",
       "      <td>0.166538</td>\n",
       "      <td>0.148371</td>\n",
       "    </tr>\n",
       "    <tr>\n",
       "      <th>13</th>\n",
       "      <td>Denis Unzhakov</td>\n",
       "      <td>27492</td>\n",
       "      <td>denis.unzhakov</td>\n",
       "      <td>NaN</td>\n",
       "      <td>0.100217</td>\n",
       "      <td>0.134188</td>\n",
       "      <td>0.142848</td>\n",
       "      <td>0.224325</td>\n",
       "      <td>0.096006</td>\n",
       "      <td>0.230528</td>\n",
       "      <td>...</td>\n",
       "      <td>0.128080</td>\n",
       "      <td>0.213327</td>\n",
       "      <td>0.057577</td>\n",
       "      <td>0.047716</td>\n",
       "      <td>0.149359</td>\n",
       "      <td>0.096534</td>\n",
       "      <td>0.088746</td>\n",
       "      <td>0.213537</td>\n",
       "      <td>0.692326</td>\n",
       "      <td>0.144665</td>\n",
       "    </tr>\n",
       "    <tr>\n",
       "      <th>14</th>\n",
       "      <td>Dima Blaginin</td>\n",
       "      <td>87059</td>\n",
       "      <td>blag54</td>\n",
       "      <td>NaN</td>\n",
       "      <td>0.136694</td>\n",
       "      <td>0.187801</td>\n",
       "      <td>0.096569</td>\n",
       "      <td>0.238053</td>\n",
       "      <td>0.169567</td>\n",
       "      <td>0.276045</td>\n",
       "      <td>...</td>\n",
       "      <td>0.286999</td>\n",
       "      <td>0.231279</td>\n",
       "      <td>0.108094</td>\n",
       "      <td>0.026497</td>\n",
       "      <td>0.184033</td>\n",
       "      <td>0.127617</td>\n",
       "      <td>0.127706</td>\n",
       "      <td>0.229498</td>\n",
       "      <td>0.013712</td>\n",
       "      <td>0.133493</td>\n",
       "    </tr>\n",
       "    <tr>\n",
       "      <th>15</th>\n",
       "      <td>Ekaterina Aksenova</td>\n",
       "      <td>119128</td>\n",
       "      <td>aksenova0</td>\n",
       "      <td>NaN</td>\n",
       "      <td>0.000000</td>\n",
       "      <td>0.000000</td>\n",
       "      <td>0.000000</td>\n",
       "      <td>0.000000</td>\n",
       "      <td>0.000000</td>\n",
       "      <td>0.000000</td>\n",
       "      <td>...</td>\n",
       "      <td>0.000000</td>\n",
       "      <td>0.000000</td>\n",
       "      <td>0.000000</td>\n",
       "      <td>0.000000</td>\n",
       "      <td>0.000000</td>\n",
       "      <td>0.000000</td>\n",
       "      <td>0.000000</td>\n",
       "      <td>0.000000</td>\n",
       "      <td>0.000000</td>\n",
       "      <td>0.000000</td>\n",
       "    </tr>\n",
       "    <tr>\n",
       "      <th>16</th>\n",
       "      <td>Ekaterina Shakina</td>\n",
       "      <td>40</td>\n",
       "      <td>ekaterina.shakina.73</td>\n",
       "      <td>NaN</td>\n",
       "      <td>0.147254</td>\n",
       "      <td>0.169878</td>\n",
       "      <td>0.149652</td>\n",
       "      <td>0.341596</td>\n",
       "      <td>0.170917</td>\n",
       "      <td>0.287350</td>\n",
       "      <td>...</td>\n",
       "      <td>0.128949</td>\n",
       "      <td>0.288357</td>\n",
       "      <td>0.097734</td>\n",
       "      <td>0.028710</td>\n",
       "      <td>0.233313</td>\n",
       "      <td>0.096880</td>\n",
       "      <td>0.109182</td>\n",
       "      <td>0.301424</td>\n",
       "      <td>0.005612</td>\n",
       "      <td>0.177869</td>\n",
       "    </tr>\n",
       "    <tr>\n",
       "      <th>17</th>\n",
       "      <td>Eugene Colchev</td>\n",
       "      <td>111187</td>\n",
       "      <td>eugene.colchev</td>\n",
       "      <td>NaN</td>\n",
       "      <td>0.113285</td>\n",
       "      <td>0.161989</td>\n",
       "      <td>0.138040</td>\n",
       "      <td>0.309510</td>\n",
       "      <td>0.364022</td>\n",
       "      <td>0.287255</td>\n",
       "      <td>...</td>\n",
       "      <td>0.165923</td>\n",
       "      <td>0.298120</td>\n",
       "      <td>0.108666</td>\n",
       "      <td>0.041274</td>\n",
       "      <td>0.197257</td>\n",
       "      <td>0.152205</td>\n",
       "      <td>0.150434</td>\n",
       "      <td>0.314785</td>\n",
       "      <td>0.031622</td>\n",
       "      <td>0.220239</td>\n",
       "    </tr>\n",
       "    <tr>\n",
       "      <th>18</th>\n",
       "      <td>Eugene Kolganov</td>\n",
       "      <td>15861</td>\n",
       "      <td>eugene.kolganov</td>\n",
       "      <td>NaN</td>\n",
       "      <td>0.209043</td>\n",
       "      <td>0.161370</td>\n",
       "      <td>0.211721</td>\n",
       "      <td>0.224679</td>\n",
       "      <td>0.054498</td>\n",
       "      <td>0.347141</td>\n",
       "      <td>...</td>\n",
       "      <td>0.084884</td>\n",
       "      <td>0.297812</td>\n",
       "      <td>0.129722</td>\n",
       "      <td>0.011913</td>\n",
       "      <td>0.132937</td>\n",
       "      <td>0.081950</td>\n",
       "      <td>0.361911</td>\n",
       "      <td>0.399975</td>\n",
       "      <td>0.002834</td>\n",
       "      <td>0.172029</td>\n",
       "    </tr>\n",
       "    <tr>\n",
       "      <th>19</th>\n",
       "      <td>Evgeny Kovnir</td>\n",
       "      <td>26450</td>\n",
       "      <td>ekovnir</td>\n",
       "      <td>NaN</td>\n",
       "      <td>0.087763</td>\n",
       "      <td>0.152295</td>\n",
       "      <td>0.180724</td>\n",
       "      <td>0.321879</td>\n",
       "      <td>0.178255</td>\n",
       "      <td>0.291016</td>\n",
       "      <td>...</td>\n",
       "      <td>0.271911</td>\n",
       "      <td>0.273665</td>\n",
       "      <td>0.070122</td>\n",
       "      <td>0.035633</td>\n",
       "      <td>0.196029</td>\n",
       "      <td>0.115689</td>\n",
       "      <td>0.082298</td>\n",
       "      <td>0.271423</td>\n",
       "      <td>0.051114</td>\n",
       "      <td>0.178468</td>\n",
       "    </tr>\n",
       "    <tr>\n",
       "      <th>20</th>\n",
       "      <td>George Boissonade</td>\n",
       "      <td>NaN</td>\n",
       "      <td>GeorgeBoissonade</td>\n",
       "      <td>NaN</td>\n",
       "      <td>0.087179</td>\n",
       "      <td>0.125344</td>\n",
       "      <td>0.100197</td>\n",
       "      <td>0.190160</td>\n",
       "      <td>0.150196</td>\n",
       "      <td>0.204506</td>\n",
       "      <td>...</td>\n",
       "      <td>0.125761</td>\n",
       "      <td>0.197241</td>\n",
       "      <td>0.082895</td>\n",
       "      <td>0.013474</td>\n",
       "      <td>0.152770</td>\n",
       "      <td>0.124942</td>\n",
       "      <td>0.099399</td>\n",
       "      <td>0.179751</td>\n",
       "      <td>0.005320</td>\n",
       "      <td>0.126826</td>\n",
       "    </tr>\n",
       "    <tr>\n",
       "      <th>21</th>\n",
       "      <td>Igor  Ruzhentsev</td>\n",
       "      <td>40022</td>\n",
       "      <td>iruzhentsev</td>\n",
       "      <td>4842118.0</td>\n",
       "      <td>0.086271</td>\n",
       "      <td>0.130248</td>\n",
       "      <td>0.144488</td>\n",
       "      <td>0.199393</td>\n",
       "      <td>0.169189</td>\n",
       "      <td>0.234518</td>\n",
       "      <td>...</td>\n",
       "      <td>0.201684</td>\n",
       "      <td>0.229936</td>\n",
       "      <td>0.103722</td>\n",
       "      <td>0.061006</td>\n",
       "      <td>0.174165</td>\n",
       "      <td>0.157600</td>\n",
       "      <td>0.151514</td>\n",
       "      <td>0.245292</td>\n",
       "      <td>0.630497</td>\n",
       "      <td>0.190331</td>\n",
       "    </tr>\n",
       "    <tr>\n",
       "      <th>22</th>\n",
       "      <td>Irina Gordina-Nevmerzhitskaya</td>\n",
       "      <td>NaN</td>\n",
       "      <td>irina.gordinanevmerzhitskaya</td>\n",
       "      <td>NaN</td>\n",
       "      <td>0.129566</td>\n",
       "      <td>0.220836</td>\n",
       "      <td>0.169451</td>\n",
       "      <td>0.311712</td>\n",
       "      <td>0.263075</td>\n",
       "      <td>0.294841</td>\n",
       "      <td>...</td>\n",
       "      <td>0.205478</td>\n",
       "      <td>0.284693</td>\n",
       "      <td>0.089789</td>\n",
       "      <td>0.045058</td>\n",
       "      <td>0.206167</td>\n",
       "      <td>0.232183</td>\n",
       "      <td>0.153708</td>\n",
       "      <td>0.293239</td>\n",
       "      <td>0.085628</td>\n",
       "      <td>0.200397</td>\n",
       "    </tr>\n",
       "    <tr>\n",
       "      <th>23</th>\n",
       "      <td>Ivan  Aristov</td>\n",
       "      <td>88448</td>\n",
       "      <td>100006012883228</td>\n",
       "      <td>NaN</td>\n",
       "      <td>0.097131</td>\n",
       "      <td>0.194602</td>\n",
       "      <td>0.220432</td>\n",
       "      <td>0.344354</td>\n",
       "      <td>0.139830</td>\n",
       "      <td>0.290296</td>\n",
       "      <td>...</td>\n",
       "      <td>0.139797</td>\n",
       "      <td>0.299735</td>\n",
       "      <td>0.119903</td>\n",
       "      <td>0.034774</td>\n",
       "      <td>0.247476</td>\n",
       "      <td>0.107956</td>\n",
       "      <td>0.279442</td>\n",
       "      <td>0.323329</td>\n",
       "      <td>0.128095</td>\n",
       "      <td>0.209121</td>\n",
       "    </tr>\n",
       "    <tr>\n",
       "      <th>24</th>\n",
       "      <td>Katerina  Novikova</td>\n",
       "      <td>26810</td>\n",
       "      <td>710434546</td>\n",
       "      <td>NaN</td>\n",
       "      <td>0.097207</td>\n",
       "      <td>0.244029</td>\n",
       "      <td>0.162434</td>\n",
       "      <td>0.332033</td>\n",
       "      <td>0.232754</td>\n",
       "      <td>0.310175</td>\n",
       "      <td>...</td>\n",
       "      <td>0.172094</td>\n",
       "      <td>0.304265</td>\n",
       "      <td>0.116425</td>\n",
       "      <td>0.026281</td>\n",
       "      <td>0.215774</td>\n",
       "      <td>0.175695</td>\n",
       "      <td>0.120969</td>\n",
       "      <td>0.305550</td>\n",
       "      <td>0.120025</td>\n",
       "      <td>0.196803</td>\n",
       "    </tr>\n",
       "    <tr>\n",
       "      <th>25</th>\n",
       "      <td>Kirill Konev</td>\n",
       "      <td>101257</td>\n",
       "      <td>100007301839238</td>\n",
       "      <td>NaN</td>\n",
       "      <td>0.207540</td>\n",
       "      <td>0.128335</td>\n",
       "      <td>0.078166</td>\n",
       "      <td>0.137683</td>\n",
       "      <td>0.052514</td>\n",
       "      <td>0.259943</td>\n",
       "      <td>...</td>\n",
       "      <td>0.109790</td>\n",
       "      <td>0.239040</td>\n",
       "      <td>0.458641</td>\n",
       "      <td>0.049178</td>\n",
       "      <td>0.127619</td>\n",
       "      <td>0.148785</td>\n",
       "      <td>0.394156</td>\n",
       "      <td>0.362287</td>\n",
       "      <td>0.015686</td>\n",
       "      <td>0.207472</td>\n",
       "    </tr>\n",
       "    <tr>\n",
       "      <th>26</th>\n",
       "      <td>Ksusha Andreeva</td>\n",
       "      <td>16143</td>\n",
       "      <td>ksusha.andreeva.14</td>\n",
       "      <td>NaN</td>\n",
       "      <td>0.152649</td>\n",
       "      <td>0.221520</td>\n",
       "      <td>0.169440</td>\n",
       "      <td>0.309639</td>\n",
       "      <td>0.186130</td>\n",
       "      <td>0.303058</td>\n",
       "      <td>...</td>\n",
       "      <td>0.220656</td>\n",
       "      <td>0.278588</td>\n",
       "      <td>0.091861</td>\n",
       "      <td>0.035574</td>\n",
       "      <td>0.217399</td>\n",
       "      <td>0.179108</td>\n",
       "      <td>0.108661</td>\n",
       "      <td>0.299680</td>\n",
       "      <td>0.127856</td>\n",
       "      <td>0.184977</td>\n",
       "    </tr>\n",
       "    <tr>\n",
       "      <th>27</th>\n",
       "      <td>Liubov Kirienko</td>\n",
       "      <td>93756</td>\n",
       "      <td>liubov.kirienko</td>\n",
       "      <td>NaN</td>\n",
       "      <td>0.131929</td>\n",
       "      <td>0.208877</td>\n",
       "      <td>0.173344</td>\n",
       "      <td>0.298718</td>\n",
       "      <td>0.225383</td>\n",
       "      <td>0.344937</td>\n",
       "      <td>...</td>\n",
       "      <td>0.190135</td>\n",
       "      <td>0.310461</td>\n",
       "      <td>0.124152</td>\n",
       "      <td>0.023551</td>\n",
       "      <td>0.192964</td>\n",
       "      <td>0.135174</td>\n",
       "      <td>0.133449</td>\n",
       "      <td>0.307381</td>\n",
       "      <td>0.010488</td>\n",
       "      <td>0.203814</td>\n",
       "    </tr>\n",
       "    <tr>\n",
       "      <th>28</th>\n",
       "      <td>Maria Dolgikh</td>\n",
       "      <td>49213</td>\n",
       "      <td>maria.dolgikh.7</td>\n",
       "      <td>NaN</td>\n",
       "      <td>0.155460</td>\n",
       "      <td>0.366355</td>\n",
       "      <td>0.161400</td>\n",
       "      <td>0.287975</td>\n",
       "      <td>0.170593</td>\n",
       "      <td>0.287498</td>\n",
       "      <td>...</td>\n",
       "      <td>0.186778</td>\n",
       "      <td>0.263707</td>\n",
       "      <td>0.088106</td>\n",
       "      <td>0.043036</td>\n",
       "      <td>0.195320</td>\n",
       "      <td>0.120909</td>\n",
       "      <td>0.126535</td>\n",
       "      <td>0.287740</td>\n",
       "      <td>0.201157</td>\n",
       "      <td>0.186035</td>\n",
       "    </tr>\n",
       "    <tr>\n",
       "      <th>29</th>\n",
       "      <td>Nikita Lebedev</td>\n",
       "      <td>21569</td>\n",
       "      <td>nikita.lebedev.9484</td>\n",
       "      <td>NaN</td>\n",
       "      <td>0.103447</td>\n",
       "      <td>0.158809</td>\n",
       "      <td>0.131045</td>\n",
       "      <td>0.263784</td>\n",
       "      <td>0.218958</td>\n",
       "      <td>0.271736</td>\n",
       "      <td>...</td>\n",
       "      <td>0.161184</td>\n",
       "      <td>0.264758</td>\n",
       "      <td>0.100687</td>\n",
       "      <td>0.031120</td>\n",
       "      <td>0.176294</td>\n",
       "      <td>0.171804</td>\n",
       "      <td>0.111824</td>\n",
       "      <td>0.242076</td>\n",
       "      <td>0.256185</td>\n",
       "      <td>0.174485</td>\n",
       "    </tr>\n",
       "    <tr>\n",
       "      <th>30</th>\n",
       "      <td>Oleg Podolskiy</td>\n",
       "      <td>120013</td>\n",
       "      <td>oleg.podolskiy</td>\n",
       "      <td>NaN</td>\n",
       "      <td>0.174205</td>\n",
       "      <td>0.235640</td>\n",
       "      <td>0.105990</td>\n",
       "      <td>0.366138</td>\n",
       "      <td>0.535359</td>\n",
       "      <td>0.201070</td>\n",
       "      <td>...</td>\n",
       "      <td>0.101976</td>\n",
       "      <td>0.271962</td>\n",
       "      <td>0.072544</td>\n",
       "      <td>0.008135</td>\n",
       "      <td>0.108826</td>\n",
       "      <td>0.176736</td>\n",
       "      <td>0.112724</td>\n",
       "      <td>0.304873</td>\n",
       "      <td>0.000992</td>\n",
       "      <td>0.210498</td>\n",
       "    </tr>\n",
       "    <tr>\n",
       "      <th>31</th>\n",
       "      <td>Olga Potemkina</td>\n",
       "      <td>NaN</td>\n",
       "      <td>olga.potemkina.125</td>\n",
       "      <td>NaN</td>\n",
       "      <td>0.145070</td>\n",
       "      <td>0.223005</td>\n",
       "      <td>0.181395</td>\n",
       "      <td>0.293750</td>\n",
       "      <td>0.256709</td>\n",
       "      <td>0.300144</td>\n",
       "      <td>...</td>\n",
       "      <td>0.232230</td>\n",
       "      <td>0.286139</td>\n",
       "      <td>0.104760</td>\n",
       "      <td>0.039764</td>\n",
       "      <td>0.206708</td>\n",
       "      <td>0.219999</td>\n",
       "      <td>0.155648</td>\n",
       "      <td>0.294791</td>\n",
       "      <td>0.046400</td>\n",
       "      <td>0.208579</td>\n",
       "    </tr>\n",
       "    <tr>\n",
       "      <th>32</th>\n",
       "      <td>Olya  Zaytseva</td>\n",
       "      <td>NaN</td>\n",
       "      <td>100004241860483</td>\n",
       "      <td>NaN</td>\n",
       "      <td>0.145198</td>\n",
       "      <td>0.237194</td>\n",
       "      <td>0.262736</td>\n",
       "      <td>0.260920</td>\n",
       "      <td>0.144851</td>\n",
       "      <td>0.306034</td>\n",
       "      <td>...</td>\n",
       "      <td>0.161536</td>\n",
       "      <td>0.289244</td>\n",
       "      <td>0.095631</td>\n",
       "      <td>0.020562</td>\n",
       "      <td>0.194920</td>\n",
       "      <td>0.339776</td>\n",
       "      <td>0.188762</td>\n",
       "      <td>0.321747</td>\n",
       "      <td>0.003367</td>\n",
       "      <td>0.183034</td>\n",
       "    </tr>\n",
       "    <tr>\n",
       "      <th>33</th>\n",
       "      <td>Ruslan Karmannyy</td>\n",
       "      <td>83246</td>\n",
       "      <td>ruslan.karmanny.57</td>\n",
       "      <td>NaN</td>\n",
       "      <td>0.096314</td>\n",
       "      <td>0.155227</td>\n",
       "      <td>0.218939</td>\n",
       "      <td>0.358603</td>\n",
       "      <td>0.230749</td>\n",
       "      <td>0.300958</td>\n",
       "      <td>...</td>\n",
       "      <td>0.233160</td>\n",
       "      <td>0.321640</td>\n",
       "      <td>0.094063</td>\n",
       "      <td>0.051068</td>\n",
       "      <td>0.225884</td>\n",
       "      <td>0.130254</td>\n",
       "      <td>0.138029</td>\n",
       "      <td>0.312370</td>\n",
       "      <td>0.087927</td>\n",
       "      <td>0.243537</td>\n",
       "    </tr>\n",
       "    <tr>\n",
       "      <th>34</th>\n",
       "      <td>Sergey Nakvasin</td>\n",
       "      <td>NaN</td>\n",
       "      <td>nacvasin</td>\n",
       "      <td>NaN</td>\n",
       "      <td>0.119400</td>\n",
       "      <td>0.181429</td>\n",
       "      <td>0.172149</td>\n",
       "      <td>0.313404</td>\n",
       "      <td>0.131985</td>\n",
       "      <td>0.318879</td>\n",
       "      <td>...</td>\n",
       "      <td>0.196591</td>\n",
       "      <td>0.294773</td>\n",
       "      <td>0.114695</td>\n",
       "      <td>0.048257</td>\n",
       "      <td>0.229786</td>\n",
       "      <td>0.137360</td>\n",
       "      <td>0.138121</td>\n",
       "      <td>0.297279</td>\n",
       "      <td>0.040126</td>\n",
       "      <td>0.194559</td>\n",
       "    </tr>\n",
       "    <tr>\n",
       "      <th>35</th>\n",
       "      <td>Tatiana Anisimova</td>\n",
       "      <td>NaN</td>\n",
       "      <td>tatiana.anisimova.50</td>\n",
       "      <td>NaN</td>\n",
       "      <td>0.113626</td>\n",
       "      <td>0.200872</td>\n",
       "      <td>0.164594</td>\n",
       "      <td>0.328489</td>\n",
       "      <td>0.249844</td>\n",
       "      <td>0.276314</td>\n",
       "      <td>...</td>\n",
       "      <td>0.199066</td>\n",
       "      <td>0.291159</td>\n",
       "      <td>0.107049</td>\n",
       "      <td>0.025894</td>\n",
       "      <td>0.207308</td>\n",
       "      <td>0.158389</td>\n",
       "      <td>0.173568</td>\n",
       "      <td>0.310770</td>\n",
       "      <td>0.217945</td>\n",
       "      <td>0.191329</td>\n",
       "    </tr>\n",
       "    <tr>\n",
       "      <th>36</th>\n",
       "      <td>Tatyana Mazhutis</td>\n",
       "      <td>40696</td>\n",
       "      <td>1660860881</td>\n",
       "      <td>NaN</td>\n",
       "      <td>0.067401</td>\n",
       "      <td>0.139574</td>\n",
       "      <td>0.142888</td>\n",
       "      <td>0.194005</td>\n",
       "      <td>0.271216</td>\n",
       "      <td>0.153484</td>\n",
       "      <td>...</td>\n",
       "      <td>0.127987</td>\n",
       "      <td>0.171936</td>\n",
       "      <td>0.078755</td>\n",
       "      <td>0.026344</td>\n",
       "      <td>0.122851</td>\n",
       "      <td>0.137941</td>\n",
       "      <td>0.078942</td>\n",
       "      <td>0.202144</td>\n",
       "      <td>0.072354</td>\n",
       "      <td>0.132154</td>\n",
       "    </tr>\n",
       "    <tr>\n",
       "      <th>37</th>\n",
       "      <td>Tretyakov Vasily</td>\n",
       "      <td>NaN</td>\n",
       "      <td>tretyakov.vasily</td>\n",
       "      <td>NaN</td>\n",
       "      <td>0.111821</td>\n",
       "      <td>0.142642</td>\n",
       "      <td>0.166392</td>\n",
       "      <td>0.306271</td>\n",
       "      <td>0.219119</td>\n",
       "      <td>0.334211</td>\n",
       "      <td>...</td>\n",
       "      <td>0.219854</td>\n",
       "      <td>0.290506</td>\n",
       "      <td>0.093507</td>\n",
       "      <td>0.034433</td>\n",
       "      <td>0.231472</td>\n",
       "      <td>0.156069</td>\n",
       "      <td>0.096800</td>\n",
       "      <td>0.282011</td>\n",
       "      <td>0.018977</td>\n",
       "      <td>0.206120</td>\n",
       "    </tr>\n",
       "    <tr>\n",
       "      <th>38</th>\n",
       "      <td>Varvara  Lukashina</td>\n",
       "      <td>12658</td>\n",
       "      <td>luckashinav</td>\n",
       "      <td>NaN</td>\n",
       "      <td>0.137745</td>\n",
       "      <td>0.213535</td>\n",
       "      <td>0.149449</td>\n",
       "      <td>0.280774</td>\n",
       "      <td>0.192543</td>\n",
       "      <td>0.276394</td>\n",
       "      <td>...</td>\n",
       "      <td>0.174504</td>\n",
       "      <td>0.267303</td>\n",
       "      <td>0.110148</td>\n",
       "      <td>0.034974</td>\n",
       "      <td>0.207866</td>\n",
       "      <td>0.176299</td>\n",
       "      <td>0.111813</td>\n",
       "      <td>0.288555</td>\n",
       "      <td>0.025275</td>\n",
       "      <td>0.188375</td>\n",
       "    </tr>\n",
       "    <tr>\n",
       "      <th>39</th>\n",
       "      <td>Yulia  Gudach</td>\n",
       "      <td>22</td>\n",
       "      <td>yulia.gudach</td>\n",
       "      <td>NaN</td>\n",
       "      <td>0.124994</td>\n",
       "      <td>0.275604</td>\n",
       "      <td>0.155787</td>\n",
       "      <td>0.299030</td>\n",
       "      <td>0.209342</td>\n",
       "      <td>0.301200</td>\n",
       "      <td>...</td>\n",
       "      <td>0.263035</td>\n",
       "      <td>0.266123</td>\n",
       "      <td>0.087925</td>\n",
       "      <td>0.035173</td>\n",
       "      <td>0.219243</td>\n",
       "      <td>0.177721</td>\n",
       "      <td>0.101405</td>\n",
       "      <td>0.279166</td>\n",
       "      <td>0.028465</td>\n",
       "      <td>0.177585</td>\n",
       "    </tr>\n",
       "    <tr>\n",
       "      <th>40</th>\n",
       "      <td>Yury Sushinov</td>\n",
       "      <td>NaN</td>\n",
       "      <td>yury.sushinov</td>\n",
       "      <td>NaN</td>\n",
       "      <td>0.099325</td>\n",
       "      <td>0.180790</td>\n",
       "      <td>0.147133</td>\n",
       "      <td>0.326910</td>\n",
       "      <td>0.239126</td>\n",
       "      <td>0.285746</td>\n",
       "      <td>...</td>\n",
       "      <td>0.237983</td>\n",
       "      <td>0.274399</td>\n",
       "      <td>0.087458</td>\n",
       "      <td>0.033799</td>\n",
       "      <td>0.187273</td>\n",
       "      <td>0.224778</td>\n",
       "      <td>0.177931</td>\n",
       "      <td>0.287558</td>\n",
       "      <td>0.040397</td>\n",
       "      <td>0.193749</td>\n",
       "    </tr>\n",
       "    <tr>\n",
       "      <th>41</th>\n",
       "      <td>Песков Дмитрий</td>\n",
       "      <td>25</td>\n",
       "      <td>peskov</td>\n",
       "      <td>NaN</td>\n",
       "      <td>0.113514</td>\n",
       "      <td>0.183995</td>\n",
       "      <td>0.186851</td>\n",
       "      <td>0.338644</td>\n",
       "      <td>0.275124</td>\n",
       "      <td>0.260458</td>\n",
       "      <td>...</td>\n",
       "      <td>0.219493</td>\n",
       "      <td>0.277898</td>\n",
       "      <td>0.077256</td>\n",
       "      <td>0.045127</td>\n",
       "      <td>0.199966</td>\n",
       "      <td>0.136209</td>\n",
       "      <td>0.086056</td>\n",
       "      <td>0.274654</td>\n",
       "      <td>0.119766</td>\n",
       "      <td>0.203900</td>\n",
       "    </tr>\n",
       "    <tr>\n",
       "      <th>42</th>\n",
       "      <td>Гнитько Ксения</td>\n",
       "      <td>60631</td>\n",
       "      <td>100007131103601</td>\n",
       "      <td>NaN</td>\n",
       "      <td>0.120960</td>\n",
       "      <td>0.151321</td>\n",
       "      <td>0.145934</td>\n",
       "      <td>0.286790</td>\n",
       "      <td>0.346210</td>\n",
       "      <td>0.296572</td>\n",
       "      <td>...</td>\n",
       "      <td>0.191591</td>\n",
       "      <td>0.270377</td>\n",
       "      <td>0.143719</td>\n",
       "      <td>0.043426</td>\n",
       "      <td>0.234326</td>\n",
       "      <td>0.151502</td>\n",
       "      <td>0.152548</td>\n",
       "      <td>0.272445</td>\n",
       "      <td>0.026650</td>\n",
       "      <td>0.188987</td>\n",
       "    </tr>\n",
       "    <tr>\n",
       "      <th>43</th>\n",
       "      <td>Дмитрий Земцов</td>\n",
       "      <td>360</td>\n",
       "      <td>dmitry.zemtsov</td>\n",
       "      <td>2416234.0</td>\n",
       "      <td>0.126359</td>\n",
       "      <td>0.179129</td>\n",
       "      <td>0.148839</td>\n",
       "      <td>0.283143</td>\n",
       "      <td>0.271629</td>\n",
       "      <td>0.296328</td>\n",
       "      <td>...</td>\n",
       "      <td>0.208193</td>\n",
       "      <td>0.275948</td>\n",
       "      <td>0.105587</td>\n",
       "      <td>0.058444</td>\n",
       "      <td>0.215640</td>\n",
       "      <td>0.223156</td>\n",
       "      <td>0.148374</td>\n",
       "      <td>0.278475</td>\n",
       "      <td>0.156870</td>\n",
       "      <td>0.206093</td>\n",
       "    </tr>\n",
       "  </tbody>\n",
       "</table>\n",
       "<p>44 rows × 26 columns</p>\n",
       "</div>"
      ],
      "text/plain": [
       "                               ФИ Leader-ID                            FB  \\\n",
       "0               Александрина Клюс     91500                    alya.blesk   \n",
       "1                 Ангелина Зонова     82050                zonovaangelina   \n",
       "2               Владислав Широков    102575               100018653177414   \n",
       "3                   Галина Жукова     44515                    1088734051   \n",
       "4                  Жанна Кадылева       584                    kadilevazm   \n",
       "5                  Ирина Горькова       NaN               100013685044932   \n",
       "6                Ирина Григоренко        39                i.g.grigorenko   \n",
       "7             Наталья Кульбятская     12271                nvkulbyatskaya   \n",
       "8                   Нелли Бадалян     16662               100017461808545   \n",
       "9                   Юлия Ханьжина      1419                    1496282246   \n",
       "10              Alexey Khoryushin       NaN                    khoryushin   \n",
       "11                  Andrey Siling       222                 andrey.siling   \n",
       "12                  Denis  Trunov     19982                      devident   \n",
       "13                 Denis Unzhakov     27492                denis.unzhakov   \n",
       "14                  Dima Blaginin     87059                        blag54   \n",
       "15             Ekaterina Aksenova    119128                     aksenova0   \n",
       "16              Ekaterina Shakina        40          ekaterina.shakina.73   \n",
       "17                 Eugene Colchev    111187                eugene.colchev   \n",
       "18                Eugene Kolganov     15861               eugene.kolganov   \n",
       "19                  Evgeny Kovnir     26450                       ekovnir   \n",
       "20              George Boissonade       NaN              GeorgeBoissonade   \n",
       "21               Igor  Ruzhentsev     40022                   iruzhentsev   \n",
       "22  Irina Gordina-Nevmerzhitskaya       NaN  irina.gordinanevmerzhitskaya   \n",
       "23                  Ivan  Aristov     88448               100006012883228   \n",
       "24             Katerina  Novikova     26810                     710434546   \n",
       "25                   Kirill Konev    101257               100007301839238   \n",
       "26                Ksusha Andreeva     16143            ksusha.andreeva.14   \n",
       "27                Liubov Kirienko     93756               liubov.kirienko   \n",
       "28                  Maria Dolgikh     49213               maria.dolgikh.7   \n",
       "29                 Nikita Lebedev     21569           nikita.lebedev.9484   \n",
       "30                 Oleg Podolskiy    120013                oleg.podolskiy   \n",
       "31                 Olga Potemkina       NaN            olga.potemkina.125   \n",
       "32                 Olya  Zaytseva       NaN               100004241860483   \n",
       "33               Ruslan Karmannyy     83246            ruslan.karmanny.57   \n",
       "34                Sergey Nakvasin       NaN                      nacvasin   \n",
       "35              Tatiana Anisimova       NaN          tatiana.anisimova.50   \n",
       "36               Tatyana Mazhutis     40696                    1660860881   \n",
       "37               Tretyakov Vasily       NaN              tretyakov.vasily   \n",
       "38             Varvara  Lukashina     12658                   luckashinav   \n",
       "39                  Yulia  Gudach        22                  yulia.gudach   \n",
       "40                  Yury Sushinov       NaN                 yury.sushinov   \n",
       "41                 Песков Дмитрий        25                        peskov   \n",
       "42                 Гнитько Ксения     60631               100007131103601   \n",
       "43                 Дмитрий Земцов       360                dmitry.zemtsov   \n",
       "\n",
       "          vk_id       art  politics  finances  strateg_management       law  \\\n",
       "0           NaN  0.147960  0.286034  0.153695            0.293025  0.179433   \n",
       "1           NaN  0.165989  0.315646  0.066060            0.232903  0.082071   \n",
       "2           NaN  0.000000  0.000000  0.000000            0.000000  0.000000   \n",
       "3           NaN  0.040098  0.068370  0.054805            0.092547  0.081119   \n",
       "4           NaN  0.083260  0.194544  0.152178            0.307747  0.278098   \n",
       "5           NaN  0.099126  0.166760  0.141316            0.377137  0.139501   \n",
       "6           NaN  0.077221  0.209093  0.185684            0.356599  0.393341   \n",
       "7           NaN  0.133501  0.271950  0.154335            0.311959  0.209328   \n",
       "8           NaN  0.108668  0.179303  0.113212            0.238921  0.066939   \n",
       "9           NaN  0.160274  0.199412  0.173784            0.318182  0.225450   \n",
       "10          NaN  0.176023  0.345501  0.183324            0.396434  0.150382   \n",
       "11  222216857.0  0.113829  0.187915  0.114210            0.249878  0.342062   \n",
       "12          NaN  0.119415  0.216257  0.135082            0.326888  0.170796   \n",
       "13          NaN  0.100217  0.134188  0.142848            0.224325  0.096006   \n",
       "14          NaN  0.136694  0.187801  0.096569            0.238053  0.169567   \n",
       "15          NaN  0.000000  0.000000  0.000000            0.000000  0.000000   \n",
       "16          NaN  0.147254  0.169878  0.149652            0.341596  0.170917   \n",
       "17          NaN  0.113285  0.161989  0.138040            0.309510  0.364022   \n",
       "18          NaN  0.209043  0.161370  0.211721            0.224679  0.054498   \n",
       "19          NaN  0.087763  0.152295  0.180724            0.321879  0.178255   \n",
       "20          NaN  0.087179  0.125344  0.100197            0.190160  0.150196   \n",
       "21    4842118.0  0.086271  0.130248  0.144488            0.199393  0.169189   \n",
       "22          NaN  0.129566  0.220836  0.169451            0.311712  0.263075   \n",
       "23          NaN  0.097131  0.194602  0.220432            0.344354  0.139830   \n",
       "24          NaN  0.097207  0.244029  0.162434            0.332033  0.232754   \n",
       "25          NaN  0.207540  0.128335  0.078166            0.137683  0.052514   \n",
       "26          NaN  0.152649  0.221520  0.169440            0.309639  0.186130   \n",
       "27          NaN  0.131929  0.208877  0.173344            0.298718  0.225383   \n",
       "28          NaN  0.155460  0.366355  0.161400            0.287975  0.170593   \n",
       "29          NaN  0.103447  0.158809  0.131045            0.263784  0.218958   \n",
       "30          NaN  0.174205  0.235640  0.105990            0.366138  0.535359   \n",
       "31          NaN  0.145070  0.223005  0.181395            0.293750  0.256709   \n",
       "32          NaN  0.145198  0.237194  0.262736            0.260920  0.144851   \n",
       "33          NaN  0.096314  0.155227  0.218939            0.358603  0.230749   \n",
       "34          NaN  0.119400  0.181429  0.172149            0.313404  0.131985   \n",
       "35          NaN  0.113626  0.200872  0.164594            0.328489  0.249844   \n",
       "36          NaN  0.067401  0.139574  0.142888            0.194005  0.271216   \n",
       "37          NaN  0.111821  0.142642  0.166392            0.306271  0.219119   \n",
       "38          NaN  0.137745  0.213535  0.149449            0.280774  0.192543   \n",
       "39          NaN  0.124994  0.275604  0.155787            0.299030  0.209342   \n",
       "40          NaN  0.099325  0.180790  0.147133            0.326910  0.239126   \n",
       "41          NaN  0.113514  0.183995  0.186851            0.338644  0.275124   \n",
       "42          NaN  0.120960  0.151321  0.145934            0.286790  0.346210   \n",
       "43    2416234.0  0.126359  0.179129  0.148839            0.283143  0.271629   \n",
       "\n",
       "    elaboration      ...            smm  innovations    safety  military  \\\n",
       "0      0.293728      ...       0.235376     0.273451  0.110621  0.030168   \n",
       "1      0.220440      ...       0.112356     0.221370  0.075173  0.015599   \n",
       "2      0.000000      ...       0.000000     0.000000  0.000000  0.000000   \n",
       "3      0.099949      ...       0.089165     0.093899  0.039961  0.051536   \n",
       "4      0.273974      ...       0.174241     0.274315  0.102637  0.050129   \n",
       "5      0.334648      ...       0.134651     0.304084  0.040975  0.030190   \n",
       "6      0.133644      ...       0.178274     0.203708  0.082853  0.006745   \n",
       "7      0.335171      ...       0.178992     0.282007  0.103857  0.030836   \n",
       "8      0.237324      ...       0.086330     0.201496  0.053071  0.016555   \n",
       "9      0.260965      ...       0.189487     0.263427  0.087761  0.029548   \n",
       "10     0.359170      ...       0.217330     0.298941  0.066224  0.014409   \n",
       "11     0.234227      ...       0.166354     0.227615  0.109189  0.056588   \n",
       "12     0.290659      ...       0.118522     0.276634  0.134316  0.015706   \n",
       "13     0.230528      ...       0.128080     0.213327  0.057577  0.047716   \n",
       "14     0.276045      ...       0.286999     0.231279  0.108094  0.026497   \n",
       "15     0.000000      ...       0.000000     0.000000  0.000000  0.000000   \n",
       "16     0.287350      ...       0.128949     0.288357  0.097734  0.028710   \n",
       "17     0.287255      ...       0.165923     0.298120  0.108666  0.041274   \n",
       "18     0.347141      ...       0.084884     0.297812  0.129722  0.011913   \n",
       "19     0.291016      ...       0.271911     0.273665  0.070122  0.035633   \n",
       "20     0.204506      ...       0.125761     0.197241  0.082895  0.013474   \n",
       "21     0.234518      ...       0.201684     0.229936  0.103722  0.061006   \n",
       "22     0.294841      ...       0.205478     0.284693  0.089789  0.045058   \n",
       "23     0.290296      ...       0.139797     0.299735  0.119903  0.034774   \n",
       "24     0.310175      ...       0.172094     0.304265  0.116425  0.026281   \n",
       "25     0.259943      ...       0.109790     0.239040  0.458641  0.049178   \n",
       "26     0.303058      ...       0.220656     0.278588  0.091861  0.035574   \n",
       "27     0.344937      ...       0.190135     0.310461  0.124152  0.023551   \n",
       "28     0.287498      ...       0.186778     0.263707  0.088106  0.043036   \n",
       "29     0.271736      ...       0.161184     0.264758  0.100687  0.031120   \n",
       "30     0.201070      ...       0.101976     0.271962  0.072544  0.008135   \n",
       "31     0.300144      ...       0.232230     0.286139  0.104760  0.039764   \n",
       "32     0.306034      ...       0.161536     0.289244  0.095631  0.020562   \n",
       "33     0.300958      ...       0.233160     0.321640  0.094063  0.051068   \n",
       "34     0.318879      ...       0.196591     0.294773  0.114695  0.048257   \n",
       "35     0.276314      ...       0.199066     0.291159  0.107049  0.025894   \n",
       "36     0.153484      ...       0.127987     0.171936  0.078755  0.026344   \n",
       "37     0.334211      ...       0.219854     0.290506  0.093507  0.034433   \n",
       "38     0.276394      ...       0.174504     0.267303  0.110148  0.034974   \n",
       "39     0.301200      ...       0.263035     0.266123  0.087925  0.035173   \n",
       "40     0.285746      ...       0.237983     0.274399  0.087458  0.033799   \n",
       "41     0.260458      ...       0.219493     0.277898  0.077256  0.045127   \n",
       "42     0.296572      ...       0.191591     0.270377  0.143719  0.043426   \n",
       "43     0.296328      ...       0.208193     0.275948  0.105587  0.058444   \n",
       "\n",
       "    corporative_management  social_safety  building  entrepreneurship  \\\n",
       "0                 0.198494       0.242707  0.137618          0.309871   \n",
       "1                 0.157111       0.133208  0.247279          0.308281   \n",
       "2                 0.000000       0.000000  0.000000          0.000000   \n",
       "3                 0.069879       0.058820  0.057405          0.096900   \n",
       "4                 0.209883       0.119914  0.135892          0.269630   \n",
       "5                 0.212257       0.081585  0.060936          0.244287   \n",
       "6                 0.432483       0.297196  0.027408          0.221565   \n",
       "7                 0.212135       0.182290  0.120737          0.286425   \n",
       "8                 0.138569       0.052335  0.050337          0.169174   \n",
       "9                 0.206687       0.134140  0.078669          0.258955   \n",
       "10                0.224953       0.176472  0.108353          0.255224   \n",
       "11                0.172202       0.189931  0.129501          0.227994   \n",
       "12                0.187248       0.123806  0.101790          0.257448   \n",
       "13                0.149359       0.096534  0.088746          0.213537   \n",
       "14                0.184033       0.127617  0.127706          0.229498   \n",
       "15                0.000000       0.000000  0.000000          0.000000   \n",
       "16                0.233313       0.096880  0.109182          0.301424   \n",
       "17                0.197257       0.152205  0.150434          0.314785   \n",
       "18                0.132937       0.081950  0.361911          0.399975   \n",
       "19                0.196029       0.115689  0.082298          0.271423   \n",
       "20                0.152770       0.124942  0.099399          0.179751   \n",
       "21                0.174165       0.157600  0.151514          0.245292   \n",
       "22                0.206167       0.232183  0.153708          0.293239   \n",
       "23                0.247476       0.107956  0.279442          0.323329   \n",
       "24                0.215774       0.175695  0.120969          0.305550   \n",
       "25                0.127619       0.148785  0.394156          0.362287   \n",
       "26                0.217399       0.179108  0.108661          0.299680   \n",
       "27                0.192964       0.135174  0.133449          0.307381   \n",
       "28                0.195320       0.120909  0.126535          0.287740   \n",
       "29                0.176294       0.171804  0.111824          0.242076   \n",
       "30                0.108826       0.176736  0.112724          0.304873   \n",
       "31                0.206708       0.219999  0.155648          0.294791   \n",
       "32                0.194920       0.339776  0.188762          0.321747   \n",
       "33                0.225884       0.130254  0.138029          0.312370   \n",
       "34                0.229786       0.137360  0.138121          0.297279   \n",
       "35                0.207308       0.158389  0.173568          0.310770   \n",
       "36                0.122851       0.137941  0.078942          0.202144   \n",
       "37                0.231472       0.156069  0.096800          0.282011   \n",
       "38                0.207866       0.176299  0.111813          0.288555   \n",
       "39                0.219243       0.177721  0.101405          0.279166   \n",
       "40                0.187273       0.224778  0.177931          0.287558   \n",
       "41                0.199966       0.136209  0.086056          0.274654   \n",
       "42                0.234326       0.151502  0.152548          0.272445   \n",
       "43                0.215640       0.223156  0.148374          0.278475   \n",
       "\n",
       "       sport  investitions  \n",
       "0   0.047589      0.200477  \n",
       "1   0.001195      0.150876  \n",
       "2   0.000000      0.000000  \n",
       "3   0.936942      0.079743  \n",
       "4   0.016108      0.193767  \n",
       "5   0.005564      0.181229  \n",
       "6   0.000485      0.135039  \n",
       "7   0.082703      0.183488  \n",
       "8   0.002338      0.107098  \n",
       "9   0.009292      0.172436  \n",
       "10  0.004036      0.168788  \n",
       "11  0.533856      0.162824  \n",
       "12  0.166538      0.148371  \n",
       "13  0.692326      0.144665  \n",
       "14  0.013712      0.133493  \n",
       "15  0.000000      0.000000  \n",
       "16  0.005612      0.177869  \n",
       "17  0.031622      0.220239  \n",
       "18  0.002834      0.172029  \n",
       "19  0.051114      0.178468  \n",
       "20  0.005320      0.126826  \n",
       "21  0.630497      0.190331  \n",
       "22  0.085628      0.200397  \n",
       "23  0.128095      0.209121  \n",
       "24  0.120025      0.196803  \n",
       "25  0.015686      0.207472  \n",
       "26  0.127856      0.184977  \n",
       "27  0.010488      0.203814  \n",
       "28  0.201157      0.186035  \n",
       "29  0.256185      0.174485  \n",
       "30  0.000992      0.210498  \n",
       "31  0.046400      0.208579  \n",
       "32  0.003367      0.183034  \n",
       "33  0.087927      0.243537  \n",
       "34  0.040126      0.194559  \n",
       "35  0.217945      0.191329  \n",
       "36  0.072354      0.132154  \n",
       "37  0.018977      0.206120  \n",
       "38  0.025275      0.188375  \n",
       "39  0.028465      0.177585  \n",
       "40  0.040397      0.193749  \n",
       "41  0.119766      0.203900  \n",
       "42  0.026650      0.188987  \n",
       "43  0.156870      0.206093  \n",
       "\n",
       "[44 rows x 26 columns]"
      ]
     },
     "execution_count": 42,
     "metadata": {},
     "output_type": "execute_result"
    }
   ],
   "source": [
    "known"
   ]
  },
  {
   "cell_type": "code",
   "execution_count": null,
   "metadata": {
    "ExecuteTime": {
     "end_time": "2017-08-20T22:09:41.691154Z",
     "start_time": "2017-08-20T22:09:41.651791Z"
    },
    "collapsed": true
   },
   "outputs": [],
   "source": [
    "import vk_api\n",
    "from config import VK_TOKEN"
   ]
  },
  {
   "cell_type": "code",
   "execution_count": null,
   "metadata": {
    "ExecuteTime": {
     "end_time": "2017-08-20T22:09:41.764581Z",
     "start_time": "2017-08-20T22:09:41.722894Z"
    },
    "collapsed": true
   },
   "outputs": [],
   "source": [
    "vk = vk_api.VkApi(token=VK_TOKEN)\n",
    "vk = vk.get_api()"
   ]
  },
  {
   "cell_type": "code",
   "execution_count": null,
   "metadata": {
    "ExecuteTime": {
     "end_time": "2017-08-20T22:09:43.840139Z",
     "start_time": "2017-08-20T22:09:41.768188Z"
    },
    "collapsed": true,
    "scrolled": false
   },
   "outputs": [],
   "source": [
    "t = [a['text'] for a in vk.newsfeed.search(q=\"корпоративное управление\", count=200)['items']]"
   ]
  },
  {
   "cell_type": "code",
   "execution_count": null,
   "metadata": {
    "ExecuteTime": {
     "end_time": "2017-08-20T22:09:43.864179Z",
     "start_time": "2017-08-20T22:09:43.843135Z"
    },
    "collapsed": true,
    "scrolled": false
   },
   "outputs": [],
   "source": [
    "with open('t.txt', 'w') as f:\n",
    "    for line in t:\n",
    "        _ = f.write(f'{line}\\n')"
   ]
  },
  {
   "cell_type": "code",
   "execution_count": null,
   "metadata": {
    "collapsed": true
   },
   "outputs": [],
   "source": []
  }
 ],
 "metadata": {
  "hide_input": false,
  "kernelspec": {
   "display_name": "Python 3",
   "language": "python",
   "name": "python3"
  },
  "language_info": {
   "codemirror_mode": {
    "name": "ipython",
    "version": 3
   },
   "file_extension": ".py",
   "mimetype": "text/x-python",
   "name": "python",
   "nbconvert_exporter": "python",
   "pygments_lexer": "ipython3",
   "version": "3.6.2"
  }
 },
 "nbformat": 4,
 "nbformat_minor": 2
}
