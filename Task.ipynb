{
 "cells": [
  {
   "cell_type": "code",
   "execution_count": 1,
   "metadata": {
    "ExecuteTime": {
     "end_time": "2017-09-12T23:01:08.135010Z",
     "start_time": "2017-09-12T23:00:40.802588Z"
    },
    "scrolled": true
   },
   "outputs": [
    {
     "name": "stderr",
     "output_type": "stream",
     "text": [
      "Using TensorFlow backend.\n"
     ]
    }
   ],
   "source": [
    "import itertools\n",
    "import sys\n",
    "import json\n",
    "import warnings\n",
    "warnings.filterwarnings(\"ignore\")\n",
    "\n",
    "from util import *\n",
    "from scipy.sparse import vstack, csr_matrix, coo_matrix\n",
    "from sklearn.model_selection import train_test_split\n",
    "\n",
    "import pandas as pd\n",
    "import numpy as np\n",
    "from sklearn.feature_extraction.text import TfidfVectorizer\n",
    "from sklearn.preprocessing import LabelEncoder\n",
    "from keras.models import load_model\n",
    "from sklearn.utils import class_weight\n",
    "from keras.layers import *\n",
    "from keras.models import Model\n",
    "from keras.callbacks import EarlyStopping, ReduceLROnPlateau, ModelCheckpoint, TensorBoard, CSVLogger"
   ]
  },
  {
   "cell_type": "markdown",
   "metadata": {},
   "source": [
    "# Corpora for training model"
   ]
  },
  {
   "cell_type": "code",
   "execution_count": 2,
   "metadata": {
    "ExecuteTime": {
     "end_time": "2017-09-12T23:01:08.161889Z",
     "start_time": "2017-09-12T23:01:08.137202Z"
    },
    "collapsed": true
   },
   "outputs": [],
   "source": [
    "sources = {'art': [60114472, 19191317], \n",
    "           'politics': [29534144, 23482909], \n",
    "           'finances': [62438886, 81354264],\n",
    "           'strateg_management': [\"http://www.stplan.ru/\", \"http://www.30n.ru/2/1.html\"], \n",
    "           'law': [65974416, 79084019],\n",
    "           'elaboration': [\"https://vk.com/\"], \n",
    "           'industry': [67183197, 66233468], \n",
    "           'education': [30558759, 98643656],\n",
    "#            'social_business': [23509868, 56821139],\n",
    "           'charity': [],\n",
    "           'public_health': [78860407, 61490488],\n",
    "           'agriculture': [\"http://www.nsh.ru/\", \"http://россельхоз.рф/\"],\n",
    "           'government_management': [\"http://be5.biz/upravlenie/gosudarstvennoe_upravlenie.html\", 97296142],\n",
    "           'smm': [74686342, 79925455],\n",
    "           'innovations': [98643656, 63337812],\n",
    "           'safety': [37959220, 10933209],\n",
    "           'military': [\"http://www.soldiering.ru\", \"https://voennoe-delo.com\"],\n",
    "           'corporative_management': [\"http://www.cfin.ru/management/\"],\n",
    "           'social_safety': [49582956, 72388807],\n",
    "           'building': [30713157, 26978036],\n",
    "           'entrepreneurship': [69560028, 73537456],\n",
    "           'sport': [29809500, 128350290],\n",
    "           'investitions': [37876217, 3800580]\n",
    "          }"
   ]
  },
  {
   "cell_type": "code",
   "execution_count": 3,
   "metadata": {
    "ExecuteTime": {
     "end_time": "2017-09-12T23:01:08.200074Z",
     "start_time": "2017-09-12T23:01:08.165002Z"
    },
    "collapsed": true,
    "scrolled": true
   },
   "outputs": [],
   "source": [
    "# getting data for corpora\n",
    "for tag, ids_ in sources.items():\n",
    "    path = f\"assets/corpora/{tag}.txt\"\n",
    "    s = set()\n",
    "    if not os.path.exists(path):\n",
    "        with open(path, \"w\") as f:\n",
    "            for id_ in ids_:\n",
    "                if isinstance(id_, int):\n",
    "                    wall = ParseClass.getallwall({\"owner_id\": -id_}, 1000)\n",
    "                    for post in tqdm.tqdm(wall):\n",
    "                        if len(post) and post not in s:\n",
    "                            s.add(post)\n",
    "                            _ = f.write(f\"{post}\\n\")\n",
    "                elif isinstance(id_, str):\n",
    "                    links = np.random.choice(\n",
    "                        list(ParseClass.get_all_links(id_)), 1000)\n",
    "                    for link in tqdm.tqdm(links):\n",
    "                        try:\n",
    "                            page = requests.get(link).text\n",
    "                            soup = BeautifulSoup(page, \"lxml\")\n",
    "                            for text in soup.text.strip().split(\"\\n\"):\n",
    "                                if len(text) and text not in s:\n",
    "                                    s.add(text)\n",
    "                                    _ = f.write(f\"{text}\\n\")\n",
    "                        except:\n",
    "                            pass"
   ]
  },
  {
   "cell_type": "markdown",
   "metadata": {},
   "source": [
    "Manual processing"
   ]
  },
  {
   "cell_type": "code",
   "execution_count": 4,
   "metadata": {
    "ExecuteTime": {
     "end_time": "2017-09-12T23:01:08.205831Z",
     "start_time": "2017-09-12T23:01:08.202408Z"
    },
    "collapsed": true
   },
   "outputs": [],
   "source": [
    "categories = list(sources.keys())"
   ]
  },
  {
   "cell_type": "code",
   "execution_count": 5,
   "metadata": {
    "ExecuteTime": {
     "end_time": "2017-09-12T23:01:08.225421Z",
     "start_time": "2017-09-12T23:01:08.213405Z"
    },
    "collapsed": true
   },
   "outputs": [],
   "source": [
    "labels = [\"Искусство\", \"Политика\", \"Финансы\", \"Стратегическое управление\", \"Юриспруденция\", \"Исследования и разработки\",\n",
    "          \"Промышленность\", \"Образование\", \"Благотворительность\", \"Здравоохранение\", \"Сельское хозяйство\", \n",
    "          \"Государственное управление\", \"Реклама и маркетинг\", \"Инновации и модернизация\", \"Безопасность\", \n",
    "          \"Военное дело\", \"Корпоративное управление\", \"Социальная защита\", \"Строительство\", \"Предпринимательство\",\n",
    "          \"Спорт\", \"Инвестиции\"]\n",
    "norm_names = dict(zip(categories, labels))\n",
    "norm_names_reversed = dict([(a[1], a[0]) for a in norm_names.items()])"
   ]
  },
  {
   "cell_type": "code",
   "execution_count": 6,
   "metadata": {
    "ExecuteTime": {
     "end_time": "2017-09-12T23:01:08.247874Z",
     "start_time": "2017-09-12T23:01:08.229722Z"
    },
    "collapsed": true
   },
   "outputs": [],
   "source": [
    "# df = pd.read_msgpack(\"assets/df.msg\")\n",
    "# competencies = pd.read_csv(\"assets/competencies.csv\")\n",
    "# competencies = competencies.dropna()[['Id', 'Интересы']]\n",
    "# social = pd.read_excel(\"assets/social.xlsx\", names=['id', 'name', 'fb', 'ok', 'vk', 'email', 'twitter'])\n",
    "# accepted = social.fb.dropna().index | social.vk.dropna().index\n",
    "# social = social.loc[accepted, ['name', 'id', 'vk', 'fb']]\n",
    "# social.vk = social.vk.apply(lambda x: str(x).split(\"/\")[-1])\n",
    "# social.fb = social.fb.apply(lambda x: str(x).split(\"/\")[-1])\n",
    "# social.fb = social.fb.apply(lambda x: str(x).split(\"id=\")[-1])\n",
    "# social.fb = social.fb.apply(lambda x: str(x).split(\"?ref=\")[0])\n",
    "# social.fb = social.fb.replace('nan', np.nan)\n",
    "# social = social.merge(df[['vk', 'vk_id']], how='outer', on='vk')\n",
    "# social.vk = social.vk_id.fillna(0)\n",
    "# social = social.replace(0, np.nan).drop(labels=['vk_id'], axis=1)\n",
    "# social = social.set_index('id').merge(how='inner', right=competencies.set_index('Id'), left_index=True, right_index=True)\n",
    "# to_exclude = pd.read_csv(\"assets/known_users.csv\")['Leader-ID'].dropna().astype('int').values\n",
    "# social = social.loc[~social.index.isin(to_exclude), :]\n",
    "# social.to_msgpack(\"assets/social.msg\")\n",
    "\n",
    "# def get_id(screen_name):\n",
    "#     try:\n",
    "#         item = vk.users.get(user_ids=screen_name)\n",
    "#         if 'deactivated' not in item:\n",
    "#             return item[0]['id']\n",
    "#     except Exception as e:\n",
    "#         print(e.args)\n",
    "# Нужно замапить screen_name с их vk_id, поэтому придется обрабатывать по одному\n",
    "\n",
    "social = pd.read_msgpack(\"assets/social.msg\")"
   ]
  },
  {
   "cell_type": "code",
   "execution_count": 7,
   "metadata": {
    "ExecuteTime": {
     "end_time": "2017-09-12T23:01:08.475850Z",
     "start_time": "2017-09-12T23:01:08.249995Z"
    },
    "collapsed": true
   },
   "outputs": [],
   "source": [
    "label_encoder = LabelEncoder()\n",
    "# labels_trunc = [\"Искусство\", \"Политика\", \"Финансы\", \"Стратегическое управление\", \"Юриспруденция\", \"Исследования и разработки\",\n",
    "#           \"Промышленность\", \"Образование\", \"Здравоохранение\", \"Сельское хозяйство\", \n",
    "#           \"Государственное управление\", \"Реклама и маркетинг\", \"Инновации и модернизация\", \"Безопасность\", \n",
    "#           \"Военное дело\", \"Корпоративное управление\", \"Социальная защита\", \"Строительство\", \"Предпринимательство\",\n",
    "#           \"Инвестиции\"]\n",
    "labels_trunc = labels\n",
    "int_labels = label_encoder.fit_transform(labels_trunc)\n",
    "\n",
    "def f(x):\n",
    "    b = []\n",
    "    for a in x.split(\",\"):\n",
    "        t = a.strip()\n",
    "        if t == \"Частный бизнес\" or t == \"Социальное предпринимательство\":\n",
    "            b.append(\"Предпринимательство\")\n",
    "        elif t == \"Дошкольное образование/детский отдых\":\n",
    "            b.append(\"Образование\")\n",
    "        elif t in {'Журналистика', 'Управление персоналом', 'Управление рисками'}:\n",
    "            pass\n",
    "        else:\n",
    "            b.append(t)\n",
    "    return b[:6]\n",
    "social.Интересы = social.Интересы.apply(f)\n",
    "def g(x):\n",
    "    if not x:\n",
    "        return np.in1d(int_labels, []).astype('int')\n",
    "    return np.in1d(int_labels, label_encoder.transform(x)).astype('int')\n",
    "social['y'] = social.Интересы.apply(g)"
   ]
  },
  {
   "cell_type": "markdown",
   "metadata": {},
   "source": [
    "### Corpora from created texts"
   ]
  },
  {
   "cell_type": "code",
   "execution_count": 8,
   "metadata": {
    "ExecuteTime": {
     "end_time": "2017-09-12T23:01:09.284164Z",
     "start_time": "2017-09-12T23:01:08.493103Z"
    },
    "collapsed": true
   },
   "outputs": [],
   "source": [
    "corpora_class = CorporaClass()\n",
    "\n",
    "for filename in categories:\n",
    "    with open(f\"assets/corpora/{filename}.txt\") as f:\n",
    "        corpora_class.add_to_corpora(f, filename)\n",
    "\n",
    "pickle.dump(corpora_class.corpora, open(\"assets/corpora.p\", \"wb\"))\n",
    "pickle.dump(corpora_class.labels, open(\"assets/labels.p\", \"wb\"))\n",
    "\n",
    "corpora = pickle.load(open(\"assets/corpora.p\", \"rb\"))\n",
    "labels = pickle.load(open(\"assets/labels.p\", \"rb\"))"
   ]
  },
  {
   "cell_type": "markdown",
   "metadata": {},
   "source": [
    "### Corpora from user-generated content"
   ]
  },
  {
   "cell_type": "code",
   "execution_count": 9,
   "metadata": {
    "ExecuteTime": {
     "end_time": "2017-09-10T23:00:44.934025Z",
     "start_time": "2017-09-10T23:00:31.699808Z"
    },
    "collapsed": true
   },
   "outputs": [],
   "source": [
    "corpora_user_gen = CorporaClass()\n",
    "corpora_user_gen.labels = pickle.load(open(\"assets/labels_user_gen.p\", \"rb\"))\n",
    "corpora_user_gen.corpora = pickle.load(open(\"assets/corpora_user_gen.p\", \"rb\"))\n",
    "\n",
    "# r = ResultClass()\n",
    "# r.publics_dict = json.load(open(\"assets/publics_dict.json\"))\n",
    "# delimiter = 0\n",
    "# for i, row in tqdm.tqdm(list(social.iterrows())[delimiter:], total=len(social) - delimiter):\n",
    "#     user_vk, user_fb = row.vk, row.fb\n",
    "#     if str(user_vk) != \"nan\":\n",
    "#         try:\n",
    "#             r.parse_vk(user_vk, parse=True)\n",
    "#         except: pass\n",
    "#     if str(user_fb) != \"nan\":\n",
    "#         try:\n",
    "#             r.parse_fb(user_fb)\n",
    "#         except KeyError:\n",
    "#             pass\n",
    "#     corpora_user_gen.add_to_corpora(r.texts, i)\n",
    "#     r.texts = []\n",
    "\n",
    "# pickle.dump(corpora_user_gen.corpora, open(\"assets/corpora_user_gen.p\", \"wb\"))\n",
    "# pickle.dump(corpora_user_gen.labels, open(\"assets/labels_user_gen.p\", \"wb\"))"
   ]
  },
  {
   "cell_type": "code",
   "execution_count": 9,
   "metadata": {
    "ExecuteTime": {
     "end_time": "2017-09-12T23:01:09.311169Z",
     "start_time": "2017-09-12T23:01:09.289750Z"
    },
    "collapsed": true
   },
   "outputs": [],
   "source": [
    "# def filter_corpora(corpora, labels=corpora_user_gen.labels, DELIM=200, k=0.8):\n",
    "#     indexes = np.array(list(range(len(corpora))))\n",
    "#     all_indexes = set()\n",
    "#     for col in norm_names.values():\n",
    "#         t = social.Интересы.apply(lambda s: col in s)\n",
    "#         col_labels = list(set(t[t == True].index).intersection(labels))[:50]\n",
    "#         all_indexes = all_indexes.union(indexes[np.in1d(labels, col_labels)])\n",
    "#     all_indexes = list(all_indexes)\n",
    "#     new_corpora = list(np.array(corpora)[all_indexes])\n",
    "#     new_labels = list(np.array(labels)[all_indexes])\n",
    "#     new_corpora = [a[:DELIM] for a in new_corpora]\n",
    "#     new_corpora, test_corpora, new_labels, test_labels = train_test_split(new_corpora, new_labels, train_size=k)\n",
    "#     return new_corpora, test_corpora, new_labels, test_labels\n",
    "\n",
    "# new_corpora, test_corpora, new_labels, test_labels = filter_corpora(corpora_user_gen.corpora, corpora_user_gen.labels)\n",
    "\n",
    "# d = {}\n",
    "# for col in norm_names.values():\n",
    "#     t = social.Интересы.apply(lambda s: col in s[:3])\n",
    "#     col_labels = list(set(t[t == True].index).intersection(new_labels))\n",
    "#     d[col] = [label for label in col_labels if label not in list(itertools.chain(*(v for v in d.values())))][:10]\n",
    "# d = {a: [int(c) for c in b] for (a, b) in d.items()}\n",
    "# json.dump(d, open(\"assets/d.json\", \"w\"))\n",
    "    \n",
    "# new_corpora = np.array(new_corpora)\n",
    "# for col, labels in d.items():\n",
    "#     with open(f\"assets/corpora/{norm_names_reversed[col]}.txt\", \"a\") as f:\n",
    "#         for line in list(itertools.chain(*(item for item in new_corpora[np.in1d(new_labels, d[col])]))):\n",
    "#             _ = f.write(line)\n",
    "\n",
    "# Это те labels, которые мы приписали к corpora и должны учесть в y\n",
    "d = json.load(open(\"assets/d.json\"))"
   ]
  },
  {
   "cell_type": "code",
   "execution_count": 10,
   "metadata": {
    "ExecuteTime": {
     "end_time": "2017-09-12T23:03:05.243067Z",
     "start_time": "2017-09-12T23:01:09.314858Z"
    },
    "collapsed": true
   },
   "outputs": [],
   "source": [
    "vectorizer = TfidfVectorizer(tokenizer=corpora_class.full_process, \n",
    "                             max_df=0.5, \n",
    "                             min_df=3, \n",
    "                             sublinear_tf=True, \n",
    "                             ngram_range=(1, 1))\n",
    "\n",
    "# vectorizer = TfidfVectorizer(tokenizer=corpora_class.full_process, \n",
    "#                              max_df=0.55, \n",
    "#                              min_df=2, \n",
    "#                              sublinear_tf=True, \n",
    "#                              ngram_range=(1, 1))\n",
    "\n",
    "docterm_matrix = vectorizer.fit_transform(list(itertools.chain(*(doc for doc in corpora))))\n",
    "\n",
    "\n",
    "pickle.dump(docterm_matrix, open(\"assets/docterm_matrix.p\", \"wb\"))\n",
    "pickle.dump(vectorizer, open(\"assets/vectorizer.p\", \"wb\"))"
   ]
  },
  {
   "cell_type": "code",
   "execution_count": 13,
   "metadata": {
    "ExecuteTime": {
     "end_time": "2017-09-10T23:03:50.167320Z",
     "start_time": "2017-09-10T23:02:42.920328Z"
    },
    "collapsed": true
   },
   "outputs": [],
   "source": [
    "docterm_matrix_user_gen = vectorizer.transform(list(itertools.chain(*(doc for doc in new_corpora))))"
   ]
  },
  {
   "cell_type": "code",
   "execution_count": 11,
   "metadata": {
    "ExecuteTime": {
     "end_time": "2017-09-12T23:03:05.319468Z",
     "start_time": "2017-09-12T23:03:05.246544Z"
    },
    "collapsed": true
   },
   "outputs": [],
   "source": [
    "docterm_matrix = pickle.load(open(\"assets/docterm_matrix.p\", 'rb'))\n",
    "vectorizer = pickle.load(open(\"assets/vectorizer.p\", \"rb\"))"
   ]
  },
  {
   "cell_type": "code",
   "execution_count": 12,
   "metadata": {
    "ExecuteTime": {
     "end_time": "2017-09-12T23:03:05.331636Z",
     "start_time": "2017-09-12T23:03:05.323058Z"
    },
    "collapsed": true
   },
   "outputs": [],
   "source": [
    "DELIM = 1300\n",
    "NUM_OF_CLASSES = 22\n",
    "vector_size = docterm_matrix[0].shape[1]"
   ]
  },
  {
   "cell_type": "code",
   "execution_count": 13,
   "metadata": {
    "ExecuteTime": {
     "end_time": "2017-09-12T23:03:05.353543Z",
     "start_time": "2017-09-12T23:03:05.340410Z"
    },
    "collapsed": true
   },
   "outputs": [],
   "source": [
    "corpora_lengths = []\n",
    "for i, x in enumerate(corpora):\n",
    "    corpora_lengths.append(len(x))"
   ]
  },
  {
   "cell_type": "markdown",
   "metadata": {},
   "source": [
    "#### y for created texts"
   ]
  },
  {
   "cell_type": "code",
   "execution_count": 14,
   "metadata": {
    "ExecuteTime": {
     "end_time": "2017-09-12T23:03:54.433423Z",
     "start_time": "2017-09-12T23:03:05.357628Z"
    }
   },
   "outputs": [],
   "source": [
    "y = []\n",
    "for (i, item), cat in zip(zip(range(len(corpora)), corpora_lengths), categories):\n",
    "    for _ in range(item):\n",
    "        y_ = np.zeros(NUM_OF_CLASSES)\n",
    "        t = np.zeros(NUM_OF_CLASSES)\n",
    "        for arr in (social.loc[d[norm_names[cat]], 'y'] * 0.016):\n",
    "            t = t + arr\n",
    "        y_ = y_ + t\n",
    "        y_[i] = 1\n",
    "        y.append(y_)\n",
    "y = np.array(y)"
   ]
  },
  {
   "cell_type": "markdown",
   "metadata": {},
   "source": [
    "#### y for user-gen"
   ]
  },
  {
   "cell_type": "code",
   "execution_count": 52,
   "metadata": {
    "ExecuteTime": {
     "end_time": "2017-08-27T17:48:57.355005Z",
     "start_time": "2017-08-27T17:48:57.268162Z"
    },
    "collapsed": true
   },
   "outputs": [],
   "source": [
    "y_user_gen = np.empty((docterm_matrix_user_gen.shape[0], NUM_OF_CLASSES))\n",
    "y_ = np.array([np.array(a) for a in social.loc[new_labels, 'y']])\n",
    "ind_arr = np.cumsum(np.array(corpora_lengths_user_gen))\n",
    "int_a, int_b = 0, ind_arr[0]\n",
    "for i in range(len(ind_arr) - 1):\n",
    "    y_user_gen[int_a:int_b] = np.array([y_[i] for _ in range(int_b - int_a)])\n",
    "    int_a, int_b = int_b, ind_arr[i + 1]"
   ]
  },
  {
   "cell_type": "code",
   "execution_count": 25,
   "metadata": {
    "ExecuteTime": {
     "end_time": "2017-09-10T23:06:38.026823Z",
     "start_time": "2017-09-10T23:06:36.629313Z"
    },
    "collapsed": true
   },
   "outputs": [],
   "source": [
    "X = docterm_matrix.toarray()"
   ]
  },
  {
   "cell_type": "code",
   "execution_count": 15,
   "metadata": {
    "ExecuteTime": {
     "end_time": "2017-09-12T23:03:54.491631Z",
     "start_time": "2017-09-12T23:03:54.438614Z"
    }
   },
   "outputs": [],
   "source": [
    "X_train, X_test, y_train, y_test = train_test_split(docterm_matrix, y, test_size=0.2)"
   ]
  },
  {
   "cell_type": "code",
   "execution_count": null,
   "metadata": {
    "ExecuteTime": {
     "start_time": "2017-09-12T23:01:25.157Z"
    },
    "collapsed": true
   },
   "outputs": [],
   "source": [
    "input_vec = Input(shape=(vector_size,))\n",
    "l1 = Dense(128, activation='relu')(input_vec)\n",
    "l2 = Dense(64, activation='relu')(l1)\n",
    "l3 = Dropout(0.2)(l2)\n",
    "l4 = Dense(96, activation='sigmoid')(l3)\n",
    "output = Dense(NUM_OF_CLASSES, activation='sigmoid')(l4)\n",
    "\n",
    "# input_vec = Input(shape=(vector_size,))\n",
    "# l1 = Dense(128, activation='relu')(input_vec)\n",
    "# l2 = Dense(64, activation='relu')(l1)\n",
    "# l3 = Dropout(0.3)(l2)\n",
    "# l4 = Dense(32, activation='relu')(l3)\n",
    "# l5 = Dense(96, activation='sigmoid')(l4)\n",
    "# output = Dense(NUM_OF_CLASSES, activation='sigmoid')(l5)\n",
    "\n",
    "classifier = Model(input_vec, output)\n",
    "classifier.compile(optimizer='adadelta', loss='categorical_crossentropy', metrics=['categorical_accuracy'])"
   ]
  },
  {
   "cell_type": "code",
   "execution_count": null,
   "metadata": {
    "ExecuteTime": {
     "start_time": "2017-09-12T23:01:59.940Z"
    },
    "scrolled": true
   },
   "outputs": [
    {
     "name": "stdout",
     "output_type": "stream",
     "text": [
      "Train on 52744 samples, validate on 13186 samples\n",
      "Epoch 1/60\n",
      "52744/52744 [==============================] - 51s - loss: 4.6251 - categorical_accuracy: 0.0376 - val_loss: 4.6025 - val_categorical_accuracy: 0.0376\n",
      "Epoch 2/60\n",
      "52744/52744 [==============================] - 57s - loss: 4.5956 - categorical_accuracy: 0.0401 - val_loss: 4.6028 - val_categorical_accuracy: 0.0573\n",
      "Epoch 3/60\n",
      "52744/52744 [==============================] - 55s - loss: 4.5949 - categorical_accuracy: 0.0400 - val_loss: 4.6027 - val_categorical_accuracy: 0.0376\n",
      "Epoch 4/60\n",
      "52744/52744 [==============================] - 51s - loss: 4.5940 - categorical_accuracy: 0.0435 - val_loss: 4.5998 - val_categorical_accuracy: 0.0376\n",
      "Epoch 5/60\n",
      "52744/52744 [==============================] - 51s - loss: 4.5921 - categorical_accuracy: 0.0413 - val_loss: 4.5982 - val_categorical_accuracy: 0.0376\n",
      "Epoch 6/60\n",
      "24892/52744 [=============>................] - ETA: 23s - loss: 4.5887 - categorical_accuracy: 0.0401"
     ]
    }
   ],
   "source": [
    "tbCallBack = TensorBoard(log_dir='./Graph', histogram_freq=0, write_graph=True, write_images=True)\n",
    "\n",
    "# classifier.load_weights('vk_texts_classifier.h5')\n",
    "\n",
    "# for using sparse vectors\n",
    "def nn_batch_generator(X_data, y_data, batch_size):\n",
    "    X_data, y_data, _, _ = train_test_split(X_data, y_data, train_size=1.0)\n",
    "    samples_per_epoch = X_data.shape[0]\n",
    "    number_of_batches = samples_per_epoch/batch_size\n",
    "    counter=0\n",
    "    index = np.arange(np.shape(y_data)[0])\n",
    "    while 1:\n",
    "        index_batch = index[batch_size*counter:batch_size*(counter+1)]\n",
    "        X_batch = X_data[index_batch,:].todense()\n",
    "        y_batch = y_data[index_batch]\n",
    "        counter += 1\n",
    "        yield np.array(X_batch), y_batch\n",
    "        if (counter > number_of_batches):\n",
    "            counter=0\n",
    "\n",
    "classifier.fit(X_train.toarray(), \n",
    "               y_train, \n",
    "               validation_data=(X_test.toarray(), y_test), \n",
    "               batch_size=196, \n",
    "               epochs=60, \n",
    "               class_weight='balanced',\n",
    "               callbacks=[tbCallBack]\n",
    "              )\n",
    "# classifier.fit_generator(nn_batch_generator(X_train, y_train, 196),\n",
    "#                validation_data=nn_batch_generator(X_test, y_test, 196),\n",
    "#                steps_per_epoch=X_train.shape[0] // 196,\n",
    "#                validation_steps=X_test.shape[0] // 196,\n",
    "#                epochs=60, \n",
    "#                class_weight='balanced',\n",
    "#                callbacks=[tbCallBack]\n",
    "#               )"
   ]
  },
  {
   "cell_type": "code",
   "execution_count": null,
   "metadata": {
    "ExecuteTime": {
     "start_time": "2017-09-12T23:02:02.037Z"
    },
    "collapsed": true
   },
   "outputs": [],
   "source": [
    "classifier.save(\"assets/vk_texts_classifier.h5\")"
   ]
  },
  {
   "cell_type": "code",
   "execution_count": null,
   "metadata": {
    "ExecuteTime": {
     "start_time": "2017-09-12T23:02:02.261Z"
    },
    "collapsed": true
   },
   "outputs": [],
   "source": [
    "classifier = load_model(\"assets/vk_texts_classifier.h5\")"
   ]
  },
  {
   "cell_type": "markdown",
   "metadata": {},
   "source": [
    "# Result"
   ]
  },
  {
   "cell_type": "code",
   "execution_count": null,
   "metadata": {
    "collapsed": true
   },
   "outputs": [],
   "source": [
    "result_class = ResultClass()\n",
    "result_class.parse_vk(134070307)\n",
    "corpora_class = CorporaClass()\n",
    "corpora_class.add_to_corpora(result_class.texts, '')"
   ]
  },
  {
   "cell_type": "code",
   "execution_count": null,
   "metadata": {
    "collapsed": true
   },
   "outputs": [],
   "source": [
    "transformed = result_class.vectorizer.transform(corpora_class.corpora[0])\n",
    "verdict1 = normalize(np.sum(result_class.classifier.predict(transformed.toarray()), axis=0).reshape(1, -1))[0]\n",
    "verdict2 = normalize(result_class.classifier.predict(np.sum(transformed, axis=0)).reshape(1, -1))[0]"
   ]
  },
  {
   "cell_type": "code",
   "execution_count": 29,
   "metadata": {
    "ExecuteTime": {
     "end_time": "2017-09-12T22:35:47.616475Z",
     "start_time": "2017-09-12T22:35:47.608613Z"
    },
    "collapsed": true
   },
   "outputs": [],
   "source": [
    "norm_categories = np.array(list(norm_names.values()))"
   ]
  },
  {
   "cell_type": "code",
   "execution_count": 39,
   "metadata": {
    "ExecuteTime": {
     "end_time": "2017-09-11T00:20:30.575987Z",
     "start_time": "2017-09-11T00:19:09.682307Z"
    },
    "scrolled": true
   },
   "outputs": [
    {
     "data": {
      "text/plain": [
       "('Искусство', 9, 0.2222222222222222, 0.2222222222222222, 0.3333333333333333)"
      ]
     },
     "execution_count": 39,
     "metadata": {},
     "output_type": "execute_result"
    },
    {
     "data": {
      "text/plain": [
       "('Политика', 17, 0.23529411764705882, 0.23529411764705882, 0.29411764705882354)"
      ]
     },
     "execution_count": 39,
     "metadata": {},
     "output_type": "execute_result"
    },
    {
     "data": {
      "text/plain": [
       "('Финансы', 6, 0.3333333333333333, 0.3333333333333333, 0.3333333333333333)"
      ]
     },
     "execution_count": 39,
     "metadata": {},
     "output_type": "execute_result"
    },
    {
     "data": {
      "text/plain": [
       "('Стратегическое управление',\n",
       " 27,\n",
       " 0.25925925925925924,\n",
       " 0.6666666666666666,\n",
       " 0.8888888888888888)"
      ]
     },
     "execution_count": 39,
     "metadata": {},
     "output_type": "execute_result"
    },
    {
     "data": {
      "text/plain": [
       "('Юриспруденция',\n",
       " 6,\n",
       " 0.3333333333333333,\n",
       " 0.3333333333333333,\n",
       " 0.3333333333333333)"
      ]
     },
     "execution_count": 39,
     "metadata": {},
     "output_type": "execute_result"
    },
    {
     "data": {
      "text/plain": [
       "('Исследования и разработки',\n",
       " 35,\n",
       " 0.11428571428571428,\n",
       " 0.45714285714285713,\n",
       " 0.8)"
      ]
     },
     "execution_count": 39,
     "metadata": {},
     "output_type": "execute_result"
    },
    {
     "data": {
      "text/plain": [
       "('Промышленность', 17, 0.0, 0.11764705882352941, 0.23529411764705882)"
      ]
     },
     "execution_count": 39,
     "metadata": {},
     "output_type": "execute_result"
    },
    {
     "data": {
      "text/plain": [
       "('Образование', 33, 0.3333333333333333, 0.7272727272727273, 0.9090909090909091)"
      ]
     },
     "execution_count": 39,
     "metadata": {},
     "output_type": "execute_result"
    },
    {
     "data": {
      "text/plain": [
       "('Благотворительность', 1, 0.0, 0.0, 0.0)"
      ]
     },
     "execution_count": 39,
     "metadata": {},
     "output_type": "execute_result"
    },
    {
     "data": {
      "text/plain": [
       "('Здравоохранение', 10, 0.4, 0.4, 0.4)"
      ]
     },
     "execution_count": 39,
     "metadata": {},
     "output_type": "execute_result"
    },
    {
     "data": {
      "text/plain": [
       "('Сельское хозяйство', 4, 0.5, 0.5, 0.5)"
      ]
     },
     "execution_count": 39,
     "metadata": {},
     "output_type": "execute_result"
    },
    {
     "data": {
      "text/plain": [
       "('Государственное управление',\n",
       " 23,\n",
       " 0.21739130434782608,\n",
       " 0.30434782608695654,\n",
       " 0.6086956521739131)"
      ]
     },
     "execution_count": 39,
     "metadata": {},
     "output_type": "execute_result"
    },
    {
     "data": {
      "text/plain": [
       "('Реклама и маркетинг',\n",
       " 9,\n",
       " 0.2222222222222222,\n",
       " 0.3333333333333333,\n",
       " 0.3333333333333333)"
      ]
     },
     "execution_count": 39,
     "metadata": {},
     "output_type": "execute_result"
    },
    {
     "data": {
      "text/plain": [
       "('Инновации и модернизация',\n",
       " 29,\n",
       " 0.10344827586206896,\n",
       " 0.3448275862068966,\n",
       " 0.9310344827586207)"
      ]
     },
     "execution_count": 39,
     "metadata": {},
     "output_type": "execute_result"
    },
    {
     "data": {
      "text/plain": [
       "('Безопасность', 9, 0.3333333333333333, 0.4444444444444444, 0.4444444444444444)"
      ]
     },
     "execution_count": 39,
     "metadata": {},
     "output_type": "execute_result"
    },
    {
     "data": {
      "text/plain": [
       "('Военное дело', 4, 0.0, 0.0, 0.25)"
      ]
     },
     "execution_count": 39,
     "metadata": {},
     "output_type": "execute_result"
    },
    {
     "data": {
      "text/plain": [
       "('Корпоративное управление',\n",
       " 17,\n",
       " 0.11764705882352941,\n",
       " 0.4117647058823529,\n",
       " 0.6470588235294118)"
      ]
     },
     "execution_count": 39,
     "metadata": {},
     "output_type": "execute_result"
    },
    {
     "data": {
      "text/plain": [
       "('Социальная защита',\n",
       " 3,\n",
       " 0.3333333333333333,\n",
       " 0.3333333333333333,\n",
       " 0.3333333333333333)"
      ]
     },
     "execution_count": 39,
     "metadata": {},
     "output_type": "execute_result"
    },
    {
     "data": {
      "text/plain": [
       "('Строительство', 8, 0.125, 0.125, 0.125)"
      ]
     },
     "execution_count": 39,
     "metadata": {},
     "output_type": "execute_result"
    },
    {
     "data": {
      "text/plain": [
       "('Предпринимательство', 36, 0.25, 0.6666666666666666, 0.9722222222222222)"
      ]
     },
     "execution_count": 39,
     "metadata": {},
     "output_type": "execute_result"
    },
    {
     "data": {
      "text/plain": [
       "('Спорт', 1, 0.0, 0.0, 0.0)"
      ]
     },
     "execution_count": 39,
     "metadata": {},
     "output_type": "execute_result"
    },
    {
     "data": {
      "text/plain": [
       "('Инвестиции',\n",
       " 21,\n",
       " 0.19047619047619047,\n",
       " 0.19047619047619047,\n",
       " 0.3333333333333333)"
      ]
     },
     "execution_count": 39,
     "metadata": {},
     "output_type": "execute_result"
    }
   ],
   "source": [
    "dict_for_mean = []\n",
    "\n",
    "labels_ = np.array(test_labels)\n",
    "corpora_ = np.array(test_corpora)\n",
    "\n",
    "acc_d = {}\n",
    "for col in norm_names.values():\n",
    "    t = social.Интересы.apply(lambda s: col in s)\n",
    "    col_labels = np.array(list(set(t[t == True].index).intersection(labels_)))\n",
    "    c_0 = 0\n",
    "    c_1 = 0\n",
    "    c_2 = 0\n",
    "    for item in corpora_[np.in1d(labels_, col_labels)]:\n",
    "        t = np.sum(classifier.predict(vectorizer.transform(item).toarray()), axis=0)\n",
    "        dict_for_mean.append(t)\n",
    "        pred_categories = norm_categories[t.argsort()[::-1][:8]]\n",
    "        if col in pred_categories[:2]:\n",
    "            c_0 += 1\n",
    "        if col in pred_categories[:5]:\n",
    "            c_1 += 1\n",
    "        if col in pred_categories:\n",
    "            c_2 += 1\n",
    "    l = len(col_labels)\n",
    "    if l == 0:\n",
    "        l = 1\n",
    "    col, l, c_0 / l, c_1 / l, c_2 / l\n",
    "    acc_d[col] = c_2 / l\n",
    "    \n",
    "    \n",
    "#     sorted(np.sum(classifier.predict(vectorizer.transform(corpora_user_gen.corpora[5]).toarray()), axis=0), reverse=True)[:3]"
   ]
  },
  {
   "cell_type": "code",
   "execution_count": 40,
   "metadata": {
    "ExecuteTime": {
     "end_time": "2017-09-11T00:20:30.591145Z",
     "start_time": "2017-09-11T00:20:30.579096Z"
    }
   },
   "outputs": [
    {
     "data": {
      "text/plain": [
       "0.45481123580974059"
      ]
     },
     "execution_count": 40,
     "metadata": {},
     "output_type": "execute_result"
    }
   ],
   "source": [
    "np.mean(list(acc_d.values()))"
   ]
  },
  {
   "cell_type": "code",
   "execution_count": 41,
   "metadata": {
    "ExecuteTime": {
     "end_time": "2017-09-11T00:20:30.609074Z",
     "start_time": "2017-09-11T00:20:30.594530Z"
    }
   },
   "outputs": [
    {
     "data": {
      "text/plain": [
       "[('art', 0.11978178),\n",
       " ('politics', 0.2571713),\n",
       " ('finances', 0.15092145),\n",
       " ('strateg_management', 0.27437153),\n",
       " ('law', 0.14367713),\n",
       " ('elaboration', 0.2649323),\n",
       " ('industry', 0.14514737),\n",
       " ('education', 0.29252267),\n",
       " ('charity', 0.11408015),\n",
       " ('public_health', 0.16153345),\n",
       " ('agriculture', 0.21364743),\n",
       " ('government_management', 0.26083517),\n",
       " ('smm', 0.23419189),\n",
       " ('innovations', 0.23632175),\n",
       " ('safety', 0.15871054),\n",
       " ('military', 0.059539381),\n",
       " ('corporative_management', 0.25076938),\n",
       " ('social_safety', 0.12933674),\n",
       " ('building', 0.14101389),\n",
       " ('entrepreneurship', 0.26689848),\n",
       " ('sport', 0.21294023),\n",
       " ('investitions', 0.18971834)]"
      ]
     },
     "execution_count": 41,
     "metadata": {},
     "output_type": "execute_result"
    }
   ],
   "source": [
    "list(zip(categories, [np.mean(a) for a in np.array([np.array(b) for b in dict_for_mean]).T]))"
   ]
  },
  {
   "cell_type": "code",
   "execution_count": 30,
   "metadata": {
    "ExecuteTime": {
     "end_time": "2017-09-12T22:35:50.254773Z",
     "start_time": "2017-09-12T22:35:50.230277Z"
    },
    "collapsed": true
   },
   "outputs": [],
   "source": [
    "# social = pd.read_excel(\"social.xlsx\", names=['id', 'name', 'fb', 'ok', 'vk', 'email', 'twitter'])\n",
    "# social.set_index('id', inplace=True)\n",
    "# social = social[social.vk.notnull()]\n",
    "# social.vk = social.vk.apply(lambda x: str(x).split(\"/\")[-1])\n",
    "# df = social[social.vk.notnull()]\n",
    "# df = df[['name', 'vk']]\n",
    "\n",
    "# def get_id(screen_name):\n",
    "#     try:\n",
    "#         item = vk.users.get(user_ids=screen_name)\n",
    "#         if 'deactivated' not in item:\n",
    "#             return item[0]['id']\n",
    "#     except Exception as e:\n",
    "#         print(e.args)\n",
    "# # Нужно замапить screen_name с их vk_id, поэтому придется обрабатывать по одному\n",
    "\n",
    "# df['vk_id'] = df.vk.progress_apply(get_id)\n",
    "# df.dropna(inplace=True)\n",
    "# df.vk_id = df.vk_id.astype('int')\n",
    "# df.to_msgpack(\"df.msg\")\n",
    "df = pd.read_msgpack(\"assets/df.msg\")\n",
    "known = pd.read_csv(\"assets/known_users.csv\")\n",
    "known = known.merge(df[['vk_id']], left_on='Leader-ID', right_index=True, how='left')"
   ]
  },
  {
   "cell_type": "code",
   "execution_count": 31,
   "metadata": {
    "ExecuteTime": {
     "end_time": "2017-09-12T22:35:53.538848Z",
     "start_time": "2017-09-12T22:35:50.464704Z"
    },
    "collapsed": true
   },
   "outputs": [],
   "source": [
    "result_class = ResultClass()"
   ]
  },
  {
   "cell_type": "code",
   "execution_count": 32,
   "metadata": {
    "ExecuteTime": {
     "end_time": "2017-09-12T22:36:33.294763Z",
     "start_time": "2017-09-12T22:35:53.552625Z"
    },
    "collapsed": true
   },
   "outputs": [
    {
     "name": "stderr",
     "output_type": "stream",
     "text": [
      "\r",
      "  0%|          | 0/44 [00:00<?, ?it/s]"
     ]
    },
    {
     "name": "stdout",
     "output_type": "stream",
     "text": [
      "FB Parse completed.\n",
      "Added to corpora\n",
      "Transformed corpora.\n"
     ]
    },
    {
     "name": "stderr",
     "output_type": "stream",
     "text": [
      "  5%|▍         | 2/44 [00:01<00:47,  1.14s/it]"
     ]
    },
    {
     "name": "stdout",
     "output_type": "stream",
     "text": [
      "FB Parse completed.\n",
      "Added to corpora\n",
      "Transformed corpora.\n"
     ]
    },
    {
     "name": "stderr",
     "output_type": "stream",
     "text": [
      "\r",
      "  7%|▋         | 3/44 [00:01<00:35,  1.16it/s]"
     ]
    },
    {
     "name": "stdout",
     "output_type": "stream",
     "text": [
      "FB Parse completed.\n",
      "Added to corpora\n",
      "FB Parse completed.\n",
      "Added to corpora\n",
      "Transformed corpora.\n"
     ]
    },
    {
     "name": "stderr",
     "output_type": "stream",
     "text": [
      " 11%|█▏        | 5/44 [00:04<00:38,  1.00it/s]"
     ]
    },
    {
     "name": "stdout",
     "output_type": "stream",
     "text": [
      "FB Parse completed.\n",
      "Added to corpora\n",
      "Transformed corpora.\n"
     ]
    },
    {
     "name": "stderr",
     "output_type": "stream",
     "text": [
      "\r",
      " 14%|█▎        | 6/44 [00:04<00:30,  1.26it/s]"
     ]
    },
    {
     "name": "stdout",
     "output_type": "stream",
     "text": [
      "FB Parse completed.\n",
      "Added to corpora\n",
      "Transformed corpora.\n"
     ]
    },
    {
     "name": "stderr",
     "output_type": "stream",
     "text": [
      "\r",
      " 16%|█▌        | 7/44 [00:04<00:23,  1.57it/s]"
     ]
    },
    {
     "name": "stdout",
     "output_type": "stream",
     "text": [
      "FB Parse completed.\n",
      "Added to corpora\n",
      "Transformed corpora.\n",
      "FB Parse completed.\n",
      "Added to corpora\n",
      "Transformed corpora.\n"
     ]
    },
    {
     "name": "stderr",
     "output_type": "stream",
     "text": [
      " 20%|██        | 9/44 [00:06<00:26,  1.34it/s]"
     ]
    },
    {
     "name": "stdout",
     "output_type": "stream",
     "text": [
      "FB Parse completed.\n",
      "Added to corpora\n",
      "Transformed corpora.\n"
     ]
    },
    {
     "name": "stderr",
     "output_type": "stream",
     "text": [
      "\r",
      " 23%|██▎       | 10/44 [00:07<00:22,  1.50it/s]"
     ]
    },
    {
     "name": "stdout",
     "output_type": "stream",
     "text": [
      "FB Parse completed.\n",
      "Added to corpora\n",
      "Transformed corpora.\n"
     ]
    },
    {
     "name": "stderr",
     "output_type": "stream",
     "text": [
      "\r",
      " 25%|██▌       | 11/44 [00:07<00:17,  1.86it/s]"
     ]
    },
    {
     "name": "stdout",
     "output_type": "stream",
     "text": [
      "FB Parse completed.\n",
      "Added to corpora\n",
      "Transformed corpora.\n",
      "VK Parse completed.\n",
      "FB Parse completed.\n",
      "Added to corpora\n",
      "Transformed corpora.\n"
     ]
    },
    {
     "name": "stderr",
     "output_type": "stream",
     "text": [
      " 30%|██▉       | 13/44 [00:09<00:25,  1.23it/s]"
     ]
    },
    {
     "name": "stdout",
     "output_type": "stream",
     "text": [
      "FB Parse completed.\n",
      "Added to corpora\n",
      "Transformed corpora.\n"
     ]
    },
    {
     "name": "stderr",
     "output_type": "stream",
     "text": [
      "\r",
      " 32%|███▏      | 14/44 [00:10<00:24,  1.25it/s]"
     ]
    },
    {
     "name": "stdout",
     "output_type": "stream",
     "text": [
      "FB Parse completed.\n",
      "Added to corpora\n",
      "Transformed corpora.\n"
     ]
    },
    {
     "name": "stderr",
     "output_type": "stream",
     "text": [
      "\r",
      " 34%|███▍      | 15/44 [00:10<00:18,  1.53it/s]"
     ]
    },
    {
     "name": "stdout",
     "output_type": "stream",
     "text": [
      "FB Parse completed.\n",
      "Added to corpora\n",
      "Transformed corpora.\n"
     ]
    },
    {
     "name": "stderr",
     "output_type": "stream",
     "text": [
      "\r",
      " 36%|███▋      | 16/44 [00:11<00:14,  1.94it/s]"
     ]
    },
    {
     "name": "stdout",
     "output_type": "stream",
     "text": [
      "FB Parse completed.\n",
      "Added to corpora\n",
      "FB Parse completed."
     ]
    },
    {
     "name": "stderr",
     "output_type": "stream",
     "text": [
      "\r",
      " 39%|███▊      | 17/44 [00:11<00:13,  2.05it/s]"
     ]
    },
    {
     "name": "stdout",
     "output_type": "stream",
     "text": [
      "\n",
      "Added to corpora\n",
      "Transformed corpora.\n"
     ]
    },
    {
     "name": "stderr",
     "output_type": "stream",
     "text": [
      "\r",
      " 41%|████      | 18/44 [00:12<00:13,  1.94it/s]"
     ]
    },
    {
     "name": "stdout",
     "output_type": "stream",
     "text": [
      "FB Parse completed.\n",
      "Added to corpora\n",
      "Transformed corpora.\n"
     ]
    },
    {
     "name": "stderr",
     "output_type": "stream",
     "text": [
      "\r",
      " 43%|████▎     | 19/44 [00:12<00:10,  2.30it/s]"
     ]
    },
    {
     "name": "stdout",
     "output_type": "stream",
     "text": [
      "FB Parse completed.\n",
      "Added to corpora\n",
      "Transformed corpora.\n",
      "FB Parse completed.\n",
      "Added to corpora\n",
      "Transformed corpora.\n"
     ]
    },
    {
     "name": "stderr",
     "output_type": "stream",
     "text": [
      " 48%|████▊     | 21/44 [00:14<00:17,  1.35it/s]"
     ]
    },
    {
     "name": "stdout",
     "output_type": "stream",
     "text": [
      "FB Parse completed.\n",
      "Added to corpora\n",
      "Transformed corpora.\n",
      "1-th public have been parsed.\n",
      "2-th public have been parsed.\n",
      "3-th public have been parsed.\n",
      "4-th public have been parsed.\n",
      "5-th public have been parsed.\n",
      "VK Parse completed.\n",
      "FB Parse completed.\n",
      "Added to corpora\n",
      "Transformed corpora.\n"
     ]
    },
    {
     "name": "stderr",
     "output_type": "stream",
     "text": [
      "\r",
      " 50%|█████     | 22/44 [00:18<00:36,  1.66s/it]"
     ]
    },
    {
     "name": "stdout",
     "output_type": "stream",
     "text": [
      "FB Parse completed.\n",
      "Added to corpora\n",
      "Transformed corpora.\n"
     ]
    },
    {
     "name": "stderr",
     "output_type": "stream",
     "text": [
      " 55%|█████▍    | 24/44 [00:20<00:23,  1.16s/it]"
     ]
    },
    {
     "name": "stdout",
     "output_type": "stream",
     "text": [
      "FB Parse completed.\n",
      "Added to corpora\n",
      "Transformed corpora.\n",
      "FB Parse completed.\n",
      "Added to corpora\n",
      "Transformed corpora.\n"
     ]
    },
    {
     "name": "stderr",
     "output_type": "stream",
     "text": [
      " 59%|█████▉    | 26/44 [00:20<00:13,  1.36it/s]"
     ]
    },
    {
     "name": "stdout",
     "output_type": "stream",
     "text": [
      "FB Parse completed.\n",
      "Added to corpora\n",
      "Transformed corpora.\n",
      "FB Parse completed.\n",
      "Added to corpora\n",
      "Transformed corpora.\n"
     ]
    },
    {
     "name": "stderr",
     "output_type": "stream",
     "text": [
      " 64%|██████▎   | 28/44 [00:23<00:15,  1.03it/s]"
     ]
    },
    {
     "name": "stdout",
     "output_type": "stream",
     "text": [
      "FB Parse completed.\n",
      "Added to corpora\n",
      "Transformed corpora.\n",
      "FB Parse completed.\n",
      "Added to corpora"
     ]
    },
    {
     "name": "stderr",
     "output_type": "stream",
     "text": [
      "\r",
      " 66%|██████▌   | 29/44 [00:24<00:15,  1.00s/it]"
     ]
    },
    {
     "name": "stdout",
     "output_type": "stream",
     "text": [
      "\n",
      "Transformed corpora.\n",
      "FB Parse completed.\n"
     ]
    },
    {
     "name": "stderr",
     "output_type": "stream",
     "text": [
      "\r",
      " 68%|██████▊   | 30/44 [00:25<00:13,  1.01it/s]"
     ]
    },
    {
     "name": "stdout",
     "output_type": "stream",
     "text": [
      "Added to corpora\n",
      "Transformed corpora.\n"
     ]
    },
    {
     "name": "stderr",
     "output_type": "stream",
     "text": [
      "\r",
      " 70%|███████   | 31/44 [00:25<00:09,  1.32it/s]"
     ]
    },
    {
     "name": "stdout",
     "output_type": "stream",
     "text": [
      "FB Parse completed.\n",
      "Added to corpora\n",
      "Transformed corpora.\n",
      "FB Parse completed.\n",
      "Added to corpora\n",
      "Transformed corpora.\n"
     ]
    },
    {
     "name": "stderr",
     "output_type": "stream",
     "text": [
      " 75%|███████▌  | 33/44 [00:26<00:07,  1.54it/s]"
     ]
    },
    {
     "name": "stdout",
     "output_type": "stream",
     "text": [
      "FB Parse completed.\n",
      "Added to corpora\n",
      "Transformed corpora.\n"
     ]
    },
    {
     "name": "stderr",
     "output_type": "stream",
     "text": [
      "\r",
      " 77%|███████▋  | 34/44 [00:27<00:07,  1.30it/s]"
     ]
    },
    {
     "name": "stdout",
     "output_type": "stream",
     "text": [
      "FB Parse completed.\n",
      "Added to corpora\n",
      "Transformed corpora.\n",
      "FB Parse completed.\n"
     ]
    },
    {
     "name": "stderr",
     "output_type": "stream",
     "text": [
      "\r",
      " 80%|███████▉  | 35/44 [00:28<00:07,  1.23it/s]"
     ]
    },
    {
     "name": "stdout",
     "output_type": "stream",
     "text": [
      "Added to corpora\n",
      "Transformed corpora.\n"
     ]
    },
    {
     "name": "stderr",
     "output_type": "stream",
     "text": [
      "\r",
      " 82%|████████▏ | 36/44 [00:29<00:06,  1.29it/s]"
     ]
    },
    {
     "name": "stdout",
     "output_type": "stream",
     "text": [
      "FB Parse completed.\n",
      "Added to corpora\n",
      "Transformed corpora.\n",
      "FB Parse completed.\n",
      "Added to corpora\n",
      "Transformed corpora.\n"
     ]
    },
    {
     "name": "stderr",
     "output_type": "stream",
     "text": [
      "\r",
      " 84%|████████▍ | 37/44 [00:30<00:06,  1.04it/s]"
     ]
    },
    {
     "name": "stdout",
     "output_type": "stream",
     "text": [
      "FB Parse completed.\n",
      "Added to corpora"
     ]
    },
    {
     "name": "stderr",
     "output_type": "stream",
     "text": [
      "\r",
      " 86%|████████▋ | 38/44 [00:31<00:05,  1.08it/s]"
     ]
    },
    {
     "name": "stdout",
     "output_type": "stream",
     "text": [
      "\n",
      "Transformed corpora.\n",
      "FB Parse completed.\n"
     ]
    },
    {
     "name": "stderr",
     "output_type": "stream",
     "text": [
      "\r",
      " 89%|████████▊ | 39/44 [00:32<00:04,  1.06it/s]"
     ]
    },
    {
     "name": "stdout",
     "output_type": "stream",
     "text": [
      "Added to corpora\n",
      "Transformed corpora.\n"
     ]
    },
    {
     "name": "stderr",
     "output_type": "stream",
     "text": [
      "\r",
      " 91%|█████████ | 40/44 [00:33<00:03,  1.05it/s]"
     ]
    },
    {
     "name": "stdout",
     "output_type": "stream",
     "text": [
      "FB Parse completed.\n",
      "Added to corpora\n",
      "Transformed corpora.\n"
     ]
    },
    {
     "name": "stderr",
     "output_type": "stream",
     "text": [
      "\r",
      " 93%|█████████▎| 41/44 [00:34<00:02,  1.02it/s]"
     ]
    },
    {
     "name": "stdout",
     "output_type": "stream",
     "text": [
      "FB Parse completed.\n",
      "Added to corpora\n",
      "Transformed corpora.\n",
      "FB Parse completed.\n",
      "Added to corpora\n"
     ]
    },
    {
     "name": "stderr",
     "output_type": "stream",
     "text": [
      "\r",
      " 95%|█████████▌| 42/44 [00:35<00:02,  1.04s/it]"
     ]
    },
    {
     "name": "stdout",
     "output_type": "stream",
     "text": [
      "Transformed corpora.\n",
      "FB Parse completed.\n",
      "Added to corpora"
     ]
    },
    {
     "name": "stderr",
     "output_type": "stream",
     "text": [
      "\r",
      " 98%|█████████▊| 43/44 [00:36<00:01,  1.01s/it]"
     ]
    },
    {
     "name": "stdout",
     "output_type": "stream",
     "text": [
      "\n",
      "Transformed corpora.\n",
      "1-th public have been parsed.\n",
      "2-th public have been parsed.\n",
      "3-th public have been parsed.\n",
      "4-th public have been parsed.\n",
      "VK Parse completed.\n",
      "FB Parse completed.\n",
      "Added to corpora\n",
      "Transformed corpora.\n"
     ]
    },
    {
     "name": "stderr",
     "output_type": "stream",
     "text": [
      "100%|██████████| 44/44 [00:39<00:00,  1.55s/it]\n"
     ]
    }
   ],
   "source": [
    "offset = 0\n",
    "for index, row in tqdm.tqdm(known.iloc[offset:, :].iterrows(), total=len(known) - offset):\n",
    "    user_vk = row['vk_id']\n",
    "    if str(user_vk) == \"nan\":\n",
    "        user_vk = None\n",
    "    user_fb = row['FB']\n",
    "    if str(user_fb) == \"nan\":\n",
    "        user_fb = None\n",
    "    try:\n",
    "        verdict = result_class.get_result(user_vk, user_fb)\n",
    "        result_class.texts = []\n",
    "        for cat, value in verdict:\n",
    "            known.loc[index, cat] = value\n",
    "    except ValueError:\n",
    "        for cat in categories:\n",
    "            known.loc[index, cat] = 0\n",
    "    except IndexError:\n",
    "        for cat in categories:\n",
    "            known.loc[index, cat] = 0"
   ]
  },
  {
   "cell_type": "code",
   "execution_count": 33,
   "metadata": {
    "ExecuteTime": {
     "end_time": "2017-09-12T22:37:34.047100Z",
     "start_time": "2017-09-12T22:37:33.516724Z"
    },
    "collapsed": true
   },
   "outputs": [],
   "source": [
    "norm_dict = {\"values\": []}\n",
    "for name in known.ФИ:\n",
    "    results = []\n",
    "    for col in known[known.ФИ == name].iloc[:, 4:].columns:\n",
    "        results.append({\"name\": norm_names[col], \"value\": float(known.loc[known.ФИ == name, col].values[0])})\n",
    "    norm_dict['values'].append({\"name\": name, \"results\": results})"
   ]
  },
  {
   "cell_type": "code",
   "execution_count": 34,
   "metadata": {
    "ExecuteTime": {
     "end_time": "2017-09-12T22:37:34.104091Z",
     "start_time": "2017-09-12T22:37:34.048936Z"
    },
    "scrolled": true
   },
   "outputs": [
    {
     "data": {
      "text/html": [
       "<div>\n",
       "<style>\n",
       "    .dataframe thead tr:only-child th {\n",
       "        text-align: right;\n",
       "    }\n",
       "\n",
       "    .dataframe thead th {\n",
       "        text-align: left;\n",
       "    }\n",
       "\n",
       "    .dataframe tbody tr th {\n",
       "        vertical-align: top;\n",
       "    }\n",
       "</style>\n",
       "<table border=\"1\" class=\"dataframe\">\n",
       "  <thead>\n",
       "    <tr style=\"text-align: right;\">\n",
       "      <th></th>\n",
       "      <th>ФИ</th>\n",
       "      <th>Leader-ID</th>\n",
       "      <th>FB</th>\n",
       "      <th>vk_id</th>\n",
       "      <th>art</th>\n",
       "      <th>politics</th>\n",
       "      <th>finances</th>\n",
       "      <th>strateg_management</th>\n",
       "      <th>law</th>\n",
       "      <th>elaboration</th>\n",
       "      <th>...</th>\n",
       "      <th>smm</th>\n",
       "      <th>innovations</th>\n",
       "      <th>safety</th>\n",
       "      <th>military</th>\n",
       "      <th>corporative_management</th>\n",
       "      <th>social_safety</th>\n",
       "      <th>building</th>\n",
       "      <th>entrepreneurship</th>\n",
       "      <th>sport</th>\n",
       "      <th>investitions</th>\n",
       "    </tr>\n",
       "  </thead>\n",
       "  <tbody>\n",
       "    <tr>\n",
       "      <th>0</th>\n",
       "      <td>Александрина Клюс</td>\n",
       "      <td>91500</td>\n",
       "      <td>alya.blesk</td>\n",
       "      <td>NaN</td>\n",
       "      <td>0.141374</td>\n",
       "      <td>0.252570</td>\n",
       "      <td>0.147542</td>\n",
       "      <td>0.271772</td>\n",
       "      <td>0.080197</td>\n",
       "      <td>0.284329</td>\n",
       "      <td>...</td>\n",
       "      <td>0.241894</td>\n",
       "      <td>0.287584</td>\n",
       "      <td>0.134709</td>\n",
       "      <td>0.093609</td>\n",
       "      <td>0.226304</td>\n",
       "      <td>0.199385</td>\n",
       "      <td>0.246479</td>\n",
       "      <td>0.352394</td>\n",
       "      <td>0.010522</td>\n",
       "      <td>0.273348</td>\n",
       "    </tr>\n",
       "    <tr>\n",
       "      <th>1</th>\n",
       "      <td>Ангелина Зонова</td>\n",
       "      <td>82050</td>\n",
       "      <td>zonovaangelina</td>\n",
       "      <td>NaN</td>\n",
       "      <td>0.067363</td>\n",
       "      <td>0.197130</td>\n",
       "      <td>0.040803</td>\n",
       "      <td>0.192135</td>\n",
       "      <td>0.104004</td>\n",
       "      <td>0.200213</td>\n",
       "      <td>...</td>\n",
       "      <td>0.108937</td>\n",
       "      <td>0.254117</td>\n",
       "      <td>0.065145</td>\n",
       "      <td>0.025358</td>\n",
       "      <td>0.269601</td>\n",
       "      <td>0.141105</td>\n",
       "      <td>0.283291</td>\n",
       "      <td>0.454334</td>\n",
       "      <td>0.005033</td>\n",
       "      <td>0.300399</td>\n",
       "    </tr>\n",
       "    <tr>\n",
       "      <th>2</th>\n",
       "      <td>Владислав Широков</td>\n",
       "      <td>102575</td>\n",
       "      <td>100018653177414</td>\n",
       "      <td>NaN</td>\n",
       "      <td>0.000000</td>\n",
       "      <td>0.000000</td>\n",
       "      <td>0.000000</td>\n",
       "      <td>0.000000</td>\n",
       "      <td>0.000000</td>\n",
       "      <td>0.000000</td>\n",
       "      <td>...</td>\n",
       "      <td>0.000000</td>\n",
       "      <td>0.000000</td>\n",
       "      <td>0.000000</td>\n",
       "      <td>0.000000</td>\n",
       "      <td>0.000000</td>\n",
       "      <td>0.000000</td>\n",
       "      <td>0.000000</td>\n",
       "      <td>0.000000</td>\n",
       "      <td>0.000000</td>\n",
       "      <td>0.000000</td>\n",
       "    </tr>\n",
       "    <tr>\n",
       "      <th>3</th>\n",
       "      <td>Галина Жукова</td>\n",
       "      <td>44515</td>\n",
       "      <td>1088734051</td>\n",
       "      <td>NaN</td>\n",
       "      <td>0.123131</td>\n",
       "      <td>0.224513</td>\n",
       "      <td>0.102054</td>\n",
       "      <td>0.260613</td>\n",
       "      <td>0.099579</td>\n",
       "      <td>0.251444</td>\n",
       "      <td>...</td>\n",
       "      <td>0.201954</td>\n",
       "      <td>0.279830</td>\n",
       "      <td>0.141271</td>\n",
       "      <td>0.063755</td>\n",
       "      <td>0.225319</td>\n",
       "      <td>0.176541</td>\n",
       "      <td>0.193427</td>\n",
       "      <td>0.370142</td>\n",
       "      <td>0.334346</td>\n",
       "      <td>0.264095</td>\n",
       "    </tr>\n",
       "    <tr>\n",
       "      <th>4</th>\n",
       "      <td>Жанна Кадылева</td>\n",
       "      <td>584</td>\n",
       "      <td>kadilevazm</td>\n",
       "      <td>NaN</td>\n",
       "      <td>0.084954</td>\n",
       "      <td>0.202654</td>\n",
       "      <td>0.153618</td>\n",
       "      <td>0.259286</td>\n",
       "      <td>0.168883</td>\n",
       "      <td>0.273182</td>\n",
       "      <td>...</td>\n",
       "      <td>0.221770</td>\n",
       "      <td>0.282644</td>\n",
       "      <td>0.163462</td>\n",
       "      <td>0.064515</td>\n",
       "      <td>0.248506</td>\n",
       "      <td>0.148156</td>\n",
       "      <td>0.200364</td>\n",
       "      <td>0.349220</td>\n",
       "      <td>0.009637</td>\n",
       "      <td>0.240076</td>\n",
       "    </tr>\n",
       "    <tr>\n",
       "      <th>5</th>\n",
       "      <td>Ирина Горькова</td>\n",
       "      <td>NaN</td>\n",
       "      <td>100013685044932</td>\n",
       "      <td>NaN</td>\n",
       "      <td>0.137440</td>\n",
       "      <td>0.165227</td>\n",
       "      <td>0.109665</td>\n",
       "      <td>0.267249</td>\n",
       "      <td>0.040324</td>\n",
       "      <td>0.289599</td>\n",
       "      <td>...</td>\n",
       "      <td>0.185460</td>\n",
       "      <td>0.280805</td>\n",
       "      <td>0.076084</td>\n",
       "      <td>0.024205</td>\n",
       "      <td>0.252733</td>\n",
       "      <td>0.141939</td>\n",
       "      <td>0.057706</td>\n",
       "      <td>0.366764</td>\n",
       "      <td>0.005302</td>\n",
       "      <td>0.236343</td>\n",
       "    </tr>\n",
       "    <tr>\n",
       "      <th>6</th>\n",
       "      <td>Ирина Григоренко</td>\n",
       "      <td>39</td>\n",
       "      <td>i.g.grigorenko</td>\n",
       "      <td>NaN</td>\n",
       "      <td>0.071391</td>\n",
       "      <td>0.172757</td>\n",
       "      <td>0.084331</td>\n",
       "      <td>0.263864</td>\n",
       "      <td>0.214527</td>\n",
       "      <td>0.211240</td>\n",
       "      <td>...</td>\n",
       "      <td>0.180876</td>\n",
       "      <td>0.336277</td>\n",
       "      <td>0.044758</td>\n",
       "      <td>0.013083</td>\n",
       "      <td>0.484565</td>\n",
       "      <td>0.161478</td>\n",
       "      <td>0.058306</td>\n",
       "      <td>0.276992</td>\n",
       "      <td>0.002661</td>\n",
       "      <td>0.179409</td>\n",
       "    </tr>\n",
       "    <tr>\n",
       "      <th>7</th>\n",
       "      <td>Наталья Кульбятская</td>\n",
       "      <td>12271</td>\n",
       "      <td>nvkulbyatskaya</td>\n",
       "      <td>NaN</td>\n",
       "      <td>0.180736</td>\n",
       "      <td>0.256733</td>\n",
       "      <td>0.122969</td>\n",
       "      <td>0.274788</td>\n",
       "      <td>0.109328</td>\n",
       "      <td>0.283443</td>\n",
       "      <td>...</td>\n",
       "      <td>0.230790</td>\n",
       "      <td>0.290586</td>\n",
       "      <td>0.103223</td>\n",
       "      <td>0.210562</td>\n",
       "      <td>0.249744</td>\n",
       "      <td>0.167899</td>\n",
       "      <td>0.150975</td>\n",
       "      <td>0.342437</td>\n",
       "      <td>0.010121</td>\n",
       "      <td>0.257746</td>\n",
       "    </tr>\n",
       "    <tr>\n",
       "      <th>8</th>\n",
       "      <td>Нелли Бадалян</td>\n",
       "      <td>16662</td>\n",
       "      <td>100017461808545</td>\n",
       "      <td>NaN</td>\n",
       "      <td>0.118893</td>\n",
       "      <td>0.195830</td>\n",
       "      <td>0.110716</td>\n",
       "      <td>0.205178</td>\n",
       "      <td>0.049423</td>\n",
       "      <td>0.284002</td>\n",
       "      <td>...</td>\n",
       "      <td>0.190290</td>\n",
       "      <td>0.277898</td>\n",
       "      <td>0.237424</td>\n",
       "      <td>0.022305</td>\n",
       "      <td>0.224748</td>\n",
       "      <td>0.101699</td>\n",
       "      <td>0.089249</td>\n",
       "      <td>0.305393</td>\n",
       "      <td>0.003303</td>\n",
       "      <td>0.193636</td>\n",
       "    </tr>\n",
       "    <tr>\n",
       "      <th>9</th>\n",
       "      <td>Юлия Ханьжина</td>\n",
       "      <td>1419</td>\n",
       "      <td>1496282246</td>\n",
       "      <td>NaN</td>\n",
       "      <td>0.196271</td>\n",
       "      <td>0.262952</td>\n",
       "      <td>0.146499</td>\n",
       "      <td>0.246342</td>\n",
       "      <td>0.086551</td>\n",
       "      <td>0.269222</td>\n",
       "      <td>...</td>\n",
       "      <td>0.227084</td>\n",
       "      <td>0.280792</td>\n",
       "      <td>0.139054</td>\n",
       "      <td>0.085980</td>\n",
       "      <td>0.221303</td>\n",
       "      <td>0.190248</td>\n",
       "      <td>0.232020</td>\n",
       "      <td>0.342385</td>\n",
       "      <td>0.013435</td>\n",
       "      <td>0.197424</td>\n",
       "    </tr>\n",
       "    <tr>\n",
       "      <th>10</th>\n",
       "      <td>Alexey Khoryushin</td>\n",
       "      <td>NaN</td>\n",
       "      <td>khoryushin</td>\n",
       "      <td>NaN</td>\n",
       "      <td>0.256944</td>\n",
       "      <td>0.127632</td>\n",
       "      <td>0.112425</td>\n",
       "      <td>0.338520</td>\n",
       "      <td>0.048577</td>\n",
       "      <td>0.318642</td>\n",
       "      <td>...</td>\n",
       "      <td>0.393131</td>\n",
       "      <td>0.301304</td>\n",
       "      <td>0.103520</td>\n",
       "      <td>0.118837</td>\n",
       "      <td>0.302068</td>\n",
       "      <td>0.220574</td>\n",
       "      <td>0.107010</td>\n",
       "      <td>0.314458</td>\n",
       "      <td>0.006032</td>\n",
       "      <td>0.184685</td>\n",
       "    </tr>\n",
       "    <tr>\n",
       "      <th>11</th>\n",
       "      <td>Andrey Siling</td>\n",
       "      <td>222</td>\n",
       "      <td>andrey.siling</td>\n",
       "      <td>222216857.0</td>\n",
       "      <td>0.165727</td>\n",
       "      <td>0.201863</td>\n",
       "      <td>0.189450</td>\n",
       "      <td>0.280949</td>\n",
       "      <td>0.095762</td>\n",
       "      <td>0.259411</td>\n",
       "      <td>...</td>\n",
       "      <td>0.232833</td>\n",
       "      <td>0.292999</td>\n",
       "      <td>0.118546</td>\n",
       "      <td>0.075881</td>\n",
       "      <td>0.250197</td>\n",
       "      <td>0.212070</td>\n",
       "      <td>0.146042</td>\n",
       "      <td>0.397441</td>\n",
       "      <td>0.047835</td>\n",
       "      <td>0.241030</td>\n",
       "    </tr>\n",
       "    <tr>\n",
       "      <th>12</th>\n",
       "      <td>Denis  Trunov</td>\n",
       "      <td>19982</td>\n",
       "      <td>devident</td>\n",
       "      <td>NaN</td>\n",
       "      <td>0.142713</td>\n",
       "      <td>0.241209</td>\n",
       "      <td>0.140860</td>\n",
       "      <td>0.252175</td>\n",
       "      <td>0.102948</td>\n",
       "      <td>0.304091</td>\n",
       "      <td>...</td>\n",
       "      <td>0.176633</td>\n",
       "      <td>0.301915</td>\n",
       "      <td>0.188661</td>\n",
       "      <td>0.079326</td>\n",
       "      <td>0.212946</td>\n",
       "      <td>0.140471</td>\n",
       "      <td>0.205907</td>\n",
       "      <td>0.369278</td>\n",
       "      <td>0.010003</td>\n",
       "      <td>0.229026</td>\n",
       "    </tr>\n",
       "    <tr>\n",
       "      <th>13</th>\n",
       "      <td>Denis Unzhakov</td>\n",
       "      <td>27492</td>\n",
       "      <td>denis.unzhakov</td>\n",
       "      <td>NaN</td>\n",
       "      <td>0.150083</td>\n",
       "      <td>0.217486</td>\n",
       "      <td>0.135652</td>\n",
       "      <td>0.292364</td>\n",
       "      <td>0.085678</td>\n",
       "      <td>0.294899</td>\n",
       "      <td>...</td>\n",
       "      <td>0.247000</td>\n",
       "      <td>0.311290</td>\n",
       "      <td>0.100198</td>\n",
       "      <td>0.088211</td>\n",
       "      <td>0.274343</td>\n",
       "      <td>0.155612</td>\n",
       "      <td>0.125322</td>\n",
       "      <td>0.371492</td>\n",
       "      <td>0.059914</td>\n",
       "      <td>0.248600</td>\n",
       "    </tr>\n",
       "    <tr>\n",
       "      <th>14</th>\n",
       "      <td>Dima Blaginin</td>\n",
       "      <td>87059</td>\n",
       "      <td>blag54</td>\n",
       "      <td>NaN</td>\n",
       "      <td>0.097629</td>\n",
       "      <td>0.339688</td>\n",
       "      <td>0.110785</td>\n",
       "      <td>0.257203</td>\n",
       "      <td>0.090371</td>\n",
       "      <td>0.330525</td>\n",
       "      <td>...</td>\n",
       "      <td>0.233876</td>\n",
       "      <td>0.291135</td>\n",
       "      <td>0.113626</td>\n",
       "      <td>0.188097</td>\n",
       "      <td>0.213819</td>\n",
       "      <td>0.115668</td>\n",
       "      <td>0.171419</td>\n",
       "      <td>0.423121</td>\n",
       "      <td>0.003327</td>\n",
       "      <td>0.148865</td>\n",
       "    </tr>\n",
       "    <tr>\n",
       "      <th>15</th>\n",
       "      <td>Ekaterina Aksenova</td>\n",
       "      <td>119128</td>\n",
       "      <td>aksenova0</td>\n",
       "      <td>NaN</td>\n",
       "      <td>0.000000</td>\n",
       "      <td>0.000000</td>\n",
       "      <td>0.000000</td>\n",
       "      <td>0.000000</td>\n",
       "      <td>0.000000</td>\n",
       "      <td>0.000000</td>\n",
       "      <td>...</td>\n",
       "      <td>0.000000</td>\n",
       "      <td>0.000000</td>\n",
       "      <td>0.000000</td>\n",
       "      <td>0.000000</td>\n",
       "      <td>0.000000</td>\n",
       "      <td>0.000000</td>\n",
       "      <td>0.000000</td>\n",
       "      <td>0.000000</td>\n",
       "      <td>0.000000</td>\n",
       "      <td>0.000000</td>\n",
       "    </tr>\n",
       "    <tr>\n",
       "      <th>16</th>\n",
       "      <td>Ekaterina Shakina</td>\n",
       "      <td>40</td>\n",
       "      <td>ekaterina.shakina.73</td>\n",
       "      <td>NaN</td>\n",
       "      <td>0.098194</td>\n",
       "      <td>0.195759</td>\n",
       "      <td>0.142779</td>\n",
       "      <td>0.251386</td>\n",
       "      <td>0.110677</td>\n",
       "      <td>0.299497</td>\n",
       "      <td>...</td>\n",
       "      <td>0.219196</td>\n",
       "      <td>0.316566</td>\n",
       "      <td>0.147665</td>\n",
       "      <td>0.087699</td>\n",
       "      <td>0.291966</td>\n",
       "      <td>0.118952</td>\n",
       "      <td>0.086645</td>\n",
       "      <td>0.398868</td>\n",
       "      <td>0.004521</td>\n",
       "      <td>0.258797</td>\n",
       "    </tr>\n",
       "    <tr>\n",
       "      <th>17</th>\n",
       "      <td>Eugene Colchev</td>\n",
       "      <td>111187</td>\n",
       "      <td>eugene.colchev</td>\n",
       "      <td>NaN</td>\n",
       "      <td>0.128875</td>\n",
       "      <td>0.158572</td>\n",
       "      <td>0.157568</td>\n",
       "      <td>0.282769</td>\n",
       "      <td>0.155441</td>\n",
       "      <td>0.271853</td>\n",
       "      <td>...</td>\n",
       "      <td>0.246025</td>\n",
       "      <td>0.275038</td>\n",
       "      <td>0.144021</td>\n",
       "      <td>0.093365</td>\n",
       "      <td>0.236529</td>\n",
       "      <td>0.184444</td>\n",
       "      <td>0.177975</td>\n",
       "      <td>0.372301</td>\n",
       "      <td>0.007586</td>\n",
       "      <td>0.291644</td>\n",
       "    </tr>\n",
       "    <tr>\n",
       "      <th>18</th>\n",
       "      <td>Eugene Kolganov</td>\n",
       "      <td>15861</td>\n",
       "      <td>eugene.kolganov</td>\n",
       "      <td>NaN</td>\n",
       "      <td>0.143096</td>\n",
       "      <td>0.246411</td>\n",
       "      <td>0.287451</td>\n",
       "      <td>0.265230</td>\n",
       "      <td>0.068076</td>\n",
       "      <td>0.297386</td>\n",
       "      <td>...</td>\n",
       "      <td>0.188710</td>\n",
       "      <td>0.296083</td>\n",
       "      <td>0.058336</td>\n",
       "      <td>0.056547</td>\n",
       "      <td>0.185767</td>\n",
       "      <td>0.129403</td>\n",
       "      <td>0.413540</td>\n",
       "      <td>0.312725</td>\n",
       "      <td>0.004276</td>\n",
       "      <td>0.130126</td>\n",
       "    </tr>\n",
       "    <tr>\n",
       "      <th>19</th>\n",
       "      <td>Evgeny Kovnir</td>\n",
       "      <td>26450</td>\n",
       "      <td>ekovnir</td>\n",
       "      <td>NaN</td>\n",
       "      <td>0.106570</td>\n",
       "      <td>0.164831</td>\n",
       "      <td>0.171449</td>\n",
       "      <td>0.296026</td>\n",
       "      <td>0.085918</td>\n",
       "      <td>0.258745</td>\n",
       "      <td>...</td>\n",
       "      <td>0.305216</td>\n",
       "      <td>0.289507</td>\n",
       "      <td>0.129783</td>\n",
       "      <td>0.040462</td>\n",
       "      <td>0.280821</td>\n",
       "      <td>0.142700</td>\n",
       "      <td>0.113124</td>\n",
       "      <td>0.359108</td>\n",
       "      <td>0.016440</td>\n",
       "      <td>0.212071</td>\n",
       "    </tr>\n",
       "    <tr>\n",
       "      <th>20</th>\n",
       "      <td>George Boissonade</td>\n",
       "      <td>NaN</td>\n",
       "      <td>GeorgeBoissonade</td>\n",
       "      <td>NaN</td>\n",
       "      <td>0.128164</td>\n",
       "      <td>0.240437</td>\n",
       "      <td>0.095124</td>\n",
       "      <td>0.240869</td>\n",
       "      <td>0.077589</td>\n",
       "      <td>0.290863</td>\n",
       "      <td>...</td>\n",
       "      <td>0.250939</td>\n",
       "      <td>0.290209</td>\n",
       "      <td>0.113797</td>\n",
       "      <td>0.057679</td>\n",
       "      <td>0.209993</td>\n",
       "      <td>0.245782</td>\n",
       "      <td>0.292406</td>\n",
       "      <td>0.304869</td>\n",
       "      <td>0.008800</td>\n",
       "      <td>0.170792</td>\n",
       "    </tr>\n",
       "    <tr>\n",
       "      <th>21</th>\n",
       "      <td>Igor  Ruzhentsev</td>\n",
       "      <td>40022</td>\n",
       "      <td>iruzhentsev</td>\n",
       "      <td>4842118.0</td>\n",
       "      <td>0.145406</td>\n",
       "      <td>0.167428</td>\n",
       "      <td>0.154104</td>\n",
       "      <td>0.290918</td>\n",
       "      <td>0.088539</td>\n",
       "      <td>0.278514</td>\n",
       "      <td>...</td>\n",
       "      <td>0.309401</td>\n",
       "      <td>0.294802</td>\n",
       "      <td>0.133092</td>\n",
       "      <td>0.104609</td>\n",
       "      <td>0.247031</td>\n",
       "      <td>0.239419</td>\n",
       "      <td>0.193658</td>\n",
       "      <td>0.363627</td>\n",
       "      <td>0.038732</td>\n",
       "      <td>0.236135</td>\n",
       "    </tr>\n",
       "    <tr>\n",
       "      <th>22</th>\n",
       "      <td>Irina Gordina-Nevmerzhitskaya</td>\n",
       "      <td>NaN</td>\n",
       "      <td>irina.gordinanevmerzhitskaya</td>\n",
       "      <td>NaN</td>\n",
       "      <td>0.134136</td>\n",
       "      <td>0.172499</td>\n",
       "      <td>0.163194</td>\n",
       "      <td>0.288414</td>\n",
       "      <td>0.088006</td>\n",
       "      <td>0.253735</td>\n",
       "      <td>...</td>\n",
       "      <td>0.253982</td>\n",
       "      <td>0.296292</td>\n",
       "      <td>0.092447</td>\n",
       "      <td>0.049230</td>\n",
       "      <td>0.263774</td>\n",
       "      <td>0.246539</td>\n",
       "      <td>0.176439</td>\n",
       "      <td>0.394527</td>\n",
       "      <td>0.017921</td>\n",
       "      <td>0.245676</td>\n",
       "    </tr>\n",
       "    <tr>\n",
       "      <th>23</th>\n",
       "      <td>Ivan  Aristov</td>\n",
       "      <td>88448</td>\n",
       "      <td>100006012883228</td>\n",
       "      <td>NaN</td>\n",
       "      <td>0.093145</td>\n",
       "      <td>0.177868</td>\n",
       "      <td>0.112492</td>\n",
       "      <td>0.234072</td>\n",
       "      <td>0.088594</td>\n",
       "      <td>0.301908</td>\n",
       "      <td>...</td>\n",
       "      <td>0.162477</td>\n",
       "      <td>0.283226</td>\n",
       "      <td>0.112888</td>\n",
       "      <td>0.046295</td>\n",
       "      <td>0.228874</td>\n",
       "      <td>0.096432</td>\n",
       "      <td>0.507547</td>\n",
       "      <td>0.319024</td>\n",
       "      <td>0.004314</td>\n",
       "      <td>0.173938</td>\n",
       "    </tr>\n",
       "    <tr>\n",
       "      <th>24</th>\n",
       "      <td>Katerina  Novikova</td>\n",
       "      <td>26810</td>\n",
       "      <td>710434546</td>\n",
       "      <td>NaN</td>\n",
       "      <td>0.132492</td>\n",
       "      <td>0.233821</td>\n",
       "      <td>0.121006</td>\n",
       "      <td>0.266458</td>\n",
       "      <td>0.093883</td>\n",
       "      <td>0.323432</td>\n",
       "      <td>...</td>\n",
       "      <td>0.206901</td>\n",
       "      <td>0.304209</td>\n",
       "      <td>0.179481</td>\n",
       "      <td>0.064716</td>\n",
       "      <td>0.295233</td>\n",
       "      <td>0.165032</td>\n",
       "      <td>0.236337</td>\n",
       "      <td>0.350936</td>\n",
       "      <td>0.008663</td>\n",
       "      <td>0.244404</td>\n",
       "    </tr>\n",
       "    <tr>\n",
       "      <th>25</th>\n",
       "      <td>Kirill Konev</td>\n",
       "      <td>101257</td>\n",
       "      <td>100007301839238</td>\n",
       "      <td>NaN</td>\n",
       "      <td>0.109568</td>\n",
       "      <td>0.043737</td>\n",
       "      <td>0.090775</td>\n",
       "      <td>0.175064</td>\n",
       "      <td>0.052034</td>\n",
       "      <td>0.264457</td>\n",
       "      <td>...</td>\n",
       "      <td>0.228519</td>\n",
       "      <td>0.256813</td>\n",
       "      <td>0.426720</td>\n",
       "      <td>0.082146</td>\n",
       "      <td>0.157272</td>\n",
       "      <td>0.101521</td>\n",
       "      <td>0.485346</td>\n",
       "      <td>0.265834</td>\n",
       "      <td>0.004143</td>\n",
       "      <td>0.321131</td>\n",
       "    </tr>\n",
       "    <tr>\n",
       "      <th>26</th>\n",
       "      <td>Ksusha Andreeva</td>\n",
       "      <td>16143</td>\n",
       "      <td>ksusha.andreeva.14</td>\n",
       "      <td>NaN</td>\n",
       "      <td>0.156905</td>\n",
       "      <td>0.174699</td>\n",
       "      <td>0.165654</td>\n",
       "      <td>0.265521</td>\n",
       "      <td>0.067839</td>\n",
       "      <td>0.297979</td>\n",
       "      <td>...</td>\n",
       "      <td>0.244125</td>\n",
       "      <td>0.309618</td>\n",
       "      <td>0.144440</td>\n",
       "      <td>0.064377</td>\n",
       "      <td>0.242317</td>\n",
       "      <td>0.195122</td>\n",
       "      <td>0.134433</td>\n",
       "      <td>0.373654</td>\n",
       "      <td>0.008253</td>\n",
       "      <td>0.253471</td>\n",
       "    </tr>\n",
       "    <tr>\n",
       "      <th>27</th>\n",
       "      <td>Liubov Kirienko</td>\n",
       "      <td>93756</td>\n",
       "      <td>liubov.kirienko</td>\n",
       "      <td>NaN</td>\n",
       "      <td>0.160452</td>\n",
       "      <td>0.183373</td>\n",
       "      <td>0.135491</td>\n",
       "      <td>0.297009</td>\n",
       "      <td>0.067948</td>\n",
       "      <td>0.275252</td>\n",
       "      <td>...</td>\n",
       "      <td>0.301439</td>\n",
       "      <td>0.284092</td>\n",
       "      <td>0.134554</td>\n",
       "      <td>0.093131</td>\n",
       "      <td>0.265419</td>\n",
       "      <td>0.272431</td>\n",
       "      <td>0.173250</td>\n",
       "      <td>0.348121</td>\n",
       "      <td>0.010312</td>\n",
       "      <td>0.255173</td>\n",
       "    </tr>\n",
       "    <tr>\n",
       "      <th>28</th>\n",
       "      <td>Maria Dolgikh</td>\n",
       "      <td>49213</td>\n",
       "      <td>maria.dolgikh.7</td>\n",
       "      <td>NaN</td>\n",
       "      <td>0.157573</td>\n",
       "      <td>0.287568</td>\n",
       "      <td>0.132910</td>\n",
       "      <td>0.270323</td>\n",
       "      <td>0.089462</td>\n",
       "      <td>0.260630</td>\n",
       "      <td>...</td>\n",
       "      <td>0.253385</td>\n",
       "      <td>0.287051</td>\n",
       "      <td>0.124183</td>\n",
       "      <td>0.055726</td>\n",
       "      <td>0.251951</td>\n",
       "      <td>0.160723</td>\n",
       "      <td>0.133032</td>\n",
       "      <td>0.350841</td>\n",
       "      <td>0.014073</td>\n",
       "      <td>0.252431</td>\n",
       "    </tr>\n",
       "    <tr>\n",
       "      <th>29</th>\n",
       "      <td>Nikita Lebedev</td>\n",
       "      <td>21569</td>\n",
       "      <td>nikita.lebedev.9484</td>\n",
       "      <td>NaN</td>\n",
       "      <td>0.148130</td>\n",
       "      <td>0.158961</td>\n",
       "      <td>0.129732</td>\n",
       "      <td>0.286971</td>\n",
       "      <td>0.099560</td>\n",
       "      <td>0.276480</td>\n",
       "      <td>...</td>\n",
       "      <td>0.316380</td>\n",
       "      <td>0.288616</td>\n",
       "      <td>0.169300</td>\n",
       "      <td>0.081447</td>\n",
       "      <td>0.268676</td>\n",
       "      <td>0.236308</td>\n",
       "      <td>0.173021</td>\n",
       "      <td>0.339139</td>\n",
       "      <td>0.023446</td>\n",
       "      <td>0.216565</td>\n",
       "    </tr>\n",
       "    <tr>\n",
       "      <th>30</th>\n",
       "      <td>Oleg Podolskiy</td>\n",
       "      <td>120013</td>\n",
       "      <td>oleg.podolskiy</td>\n",
       "      <td>NaN</td>\n",
       "      <td>0.067331</td>\n",
       "      <td>0.159371</td>\n",
       "      <td>0.072623</td>\n",
       "      <td>0.330605</td>\n",
       "      <td>0.070820</td>\n",
       "      <td>0.157136</td>\n",
       "      <td>...</td>\n",
       "      <td>0.303690</td>\n",
       "      <td>0.185391</td>\n",
       "      <td>0.077758</td>\n",
       "      <td>0.028565</td>\n",
       "      <td>0.200052</td>\n",
       "      <td>0.411607</td>\n",
       "      <td>0.087130</td>\n",
       "      <td>0.329509</td>\n",
       "      <td>0.002724</td>\n",
       "      <td>0.427135</td>\n",
       "    </tr>\n",
       "    <tr>\n",
       "      <th>31</th>\n",
       "      <td>Olga Potemkina</td>\n",
       "      <td>NaN</td>\n",
       "      <td>olga.potemkina.125</td>\n",
       "      <td>NaN</td>\n",
       "      <td>0.152866</td>\n",
       "      <td>0.257749</td>\n",
       "      <td>0.146356</td>\n",
       "      <td>0.267549</td>\n",
       "      <td>0.071560</td>\n",
       "      <td>0.272085</td>\n",
       "      <td>...</td>\n",
       "      <td>0.234831</td>\n",
       "      <td>0.301986</td>\n",
       "      <td>0.122125</td>\n",
       "      <td>0.100762</td>\n",
       "      <td>0.261281</td>\n",
       "      <td>0.244809</td>\n",
       "      <td>0.171543</td>\n",
       "      <td>0.358916</td>\n",
       "      <td>0.012640</td>\n",
       "      <td>0.246580</td>\n",
       "    </tr>\n",
       "    <tr>\n",
       "      <th>32</th>\n",
       "      <td>Olya  Zaytseva</td>\n",
       "      <td>NaN</td>\n",
       "      <td>100004241860483</td>\n",
       "      <td>NaN</td>\n",
       "      <td>0.103975</td>\n",
       "      <td>0.304316</td>\n",
       "      <td>0.237497</td>\n",
       "      <td>0.222496</td>\n",
       "      <td>0.046661</td>\n",
       "      <td>0.285676</td>\n",
       "      <td>...</td>\n",
       "      <td>0.170476</td>\n",
       "      <td>0.283205</td>\n",
       "      <td>0.114325</td>\n",
       "      <td>0.048489</td>\n",
       "      <td>0.204870</td>\n",
       "      <td>0.240810</td>\n",
       "      <td>0.328928</td>\n",
       "      <td>0.295114</td>\n",
       "      <td>0.004014</td>\n",
       "      <td>0.182781</td>\n",
       "    </tr>\n",
       "    <tr>\n",
       "      <th>33</th>\n",
       "      <td>Ruslan Karmannyy</td>\n",
       "      <td>83246</td>\n",
       "      <td>ruslan.karmanny.57</td>\n",
       "      <td>NaN</td>\n",
       "      <td>0.138217</td>\n",
       "      <td>0.163818</td>\n",
       "      <td>0.176350</td>\n",
       "      <td>0.317100</td>\n",
       "      <td>0.117076</td>\n",
       "      <td>0.273738</td>\n",
       "      <td>...</td>\n",
       "      <td>0.288661</td>\n",
       "      <td>0.304060</td>\n",
       "      <td>0.147863</td>\n",
       "      <td>0.103826</td>\n",
       "      <td>0.260080</td>\n",
       "      <td>0.193971</td>\n",
       "      <td>0.159462</td>\n",
       "      <td>0.384592</td>\n",
       "      <td>0.018027</td>\n",
       "      <td>0.232787</td>\n",
       "    </tr>\n",
       "    <tr>\n",
       "      <th>34</th>\n",
       "      <td>Sergey Nakvasin</td>\n",
       "      <td>NaN</td>\n",
       "      <td>nacvasin</td>\n",
       "      <td>NaN</td>\n",
       "      <td>0.141612</td>\n",
       "      <td>0.166309</td>\n",
       "      <td>0.193122</td>\n",
       "      <td>0.294901</td>\n",
       "      <td>0.058996</td>\n",
       "      <td>0.284064</td>\n",
       "      <td>...</td>\n",
       "      <td>0.254817</td>\n",
       "      <td>0.299821</td>\n",
       "      <td>0.136365</td>\n",
       "      <td>0.072879</td>\n",
       "      <td>0.290290</td>\n",
       "      <td>0.220016</td>\n",
       "      <td>0.118238</td>\n",
       "      <td>0.364237</td>\n",
       "      <td>0.006833</td>\n",
       "      <td>0.212058</td>\n",
       "    </tr>\n",
       "    <tr>\n",
       "      <th>35</th>\n",
       "      <td>Tatiana Anisimova</td>\n",
       "      <td>NaN</td>\n",
       "      <td>tatiana.anisimova.50</td>\n",
       "      <td>NaN</td>\n",
       "      <td>0.123032</td>\n",
       "      <td>0.192213</td>\n",
       "      <td>0.175113</td>\n",
       "      <td>0.316107</td>\n",
       "      <td>0.077432</td>\n",
       "      <td>0.304836</td>\n",
       "      <td>...</td>\n",
       "      <td>0.191283</td>\n",
       "      <td>0.305290</td>\n",
       "      <td>0.095501</td>\n",
       "      <td>0.060932</td>\n",
       "      <td>0.246473</td>\n",
       "      <td>0.181806</td>\n",
       "      <td>0.231181</td>\n",
       "      <td>0.356150</td>\n",
       "      <td>0.062519</td>\n",
       "      <td>0.206572</td>\n",
       "    </tr>\n",
       "    <tr>\n",
       "      <th>36</th>\n",
       "      <td>Tatyana Mazhutis</td>\n",
       "      <td>40696</td>\n",
       "      <td>1660860881</td>\n",
       "      <td>NaN</td>\n",
       "      <td>0.133987</td>\n",
       "      <td>0.203672</td>\n",
       "      <td>0.260716</td>\n",
       "      <td>0.263389</td>\n",
       "      <td>0.141139</td>\n",
       "      <td>0.260546</td>\n",
       "      <td>...</td>\n",
       "      <td>0.200830</td>\n",
       "      <td>0.300367</td>\n",
       "      <td>0.140312</td>\n",
       "      <td>0.065747</td>\n",
       "      <td>0.226104</td>\n",
       "      <td>0.207558</td>\n",
       "      <td>0.139816</td>\n",
       "      <td>0.397132</td>\n",
       "      <td>0.007512</td>\n",
       "      <td>0.234309</td>\n",
       "    </tr>\n",
       "    <tr>\n",
       "      <th>37</th>\n",
       "      <td>Tretyakov Vasily</td>\n",
       "      <td>NaN</td>\n",
       "      <td>tretyakov.vasily</td>\n",
       "      <td>NaN</td>\n",
       "      <td>0.097657</td>\n",
       "      <td>0.188220</td>\n",
       "      <td>0.162557</td>\n",
       "      <td>0.283830</td>\n",
       "      <td>0.081178</td>\n",
       "      <td>0.307121</td>\n",
       "      <td>...</td>\n",
       "      <td>0.233882</td>\n",
       "      <td>0.271137</td>\n",
       "      <td>0.100728</td>\n",
       "      <td>0.067718</td>\n",
       "      <td>0.247137</td>\n",
       "      <td>0.204926</td>\n",
       "      <td>0.168810</td>\n",
       "      <td>0.369521</td>\n",
       "      <td>0.006345</td>\n",
       "      <td>0.227821</td>\n",
       "    </tr>\n",
       "    <tr>\n",
       "      <th>38</th>\n",
       "      <td>Varvara  Lukashina</td>\n",
       "      <td>12658</td>\n",
       "      <td>luckashinav</td>\n",
       "      <td>NaN</td>\n",
       "      <td>0.136364</td>\n",
       "      <td>0.224760</td>\n",
       "      <td>0.136318</td>\n",
       "      <td>0.256787</td>\n",
       "      <td>0.116102</td>\n",
       "      <td>0.270147</td>\n",
       "      <td>...</td>\n",
       "      <td>0.240854</td>\n",
       "      <td>0.307709</td>\n",
       "      <td>0.170345</td>\n",
       "      <td>0.097309</td>\n",
       "      <td>0.272429</td>\n",
       "      <td>0.190670</td>\n",
       "      <td>0.167507</td>\n",
       "      <td>0.350478</td>\n",
       "      <td>0.008135</td>\n",
       "      <td>0.220889</td>\n",
       "    </tr>\n",
       "    <tr>\n",
       "      <th>39</th>\n",
       "      <td>Yulia  Gudach</td>\n",
       "      <td>22</td>\n",
       "      <td>yulia.gudach</td>\n",
       "      <td>NaN</td>\n",
       "      <td>0.123785</td>\n",
       "      <td>0.253259</td>\n",
       "      <td>0.145964</td>\n",
       "      <td>0.258100</td>\n",
       "      <td>0.087417</td>\n",
       "      <td>0.297867</td>\n",
       "      <td>...</td>\n",
       "      <td>0.295050</td>\n",
       "      <td>0.285671</td>\n",
       "      <td>0.135819</td>\n",
       "      <td>0.056654</td>\n",
       "      <td>0.252126</td>\n",
       "      <td>0.190978</td>\n",
       "      <td>0.124712</td>\n",
       "      <td>0.332247</td>\n",
       "      <td>0.004304</td>\n",
       "      <td>0.215170</td>\n",
       "    </tr>\n",
       "    <tr>\n",
       "      <th>40</th>\n",
       "      <td>Yury Sushinov</td>\n",
       "      <td>NaN</td>\n",
       "      <td>yury.sushinov</td>\n",
       "      <td>NaN</td>\n",
       "      <td>0.141481</td>\n",
       "      <td>0.157527</td>\n",
       "      <td>0.126992</td>\n",
       "      <td>0.294400</td>\n",
       "      <td>0.117439</td>\n",
       "      <td>0.241218</td>\n",
       "      <td>...</td>\n",
       "      <td>0.300730</td>\n",
       "      <td>0.252840</td>\n",
       "      <td>0.112925</td>\n",
       "      <td>0.059433</td>\n",
       "      <td>0.248073</td>\n",
       "      <td>0.235831</td>\n",
       "      <td>0.173085</td>\n",
       "      <td>0.366994</td>\n",
       "      <td>0.006767</td>\n",
       "      <td>0.257259</td>\n",
       "    </tr>\n",
       "    <tr>\n",
       "      <th>41</th>\n",
       "      <td>Песков Дмитрий</td>\n",
       "      <td>25</td>\n",
       "      <td>peskov</td>\n",
       "      <td>NaN</td>\n",
       "      <td>0.110870</td>\n",
       "      <td>0.168025</td>\n",
       "      <td>0.173190</td>\n",
       "      <td>0.318636</td>\n",
       "      <td>0.114342</td>\n",
       "      <td>0.261586</td>\n",
       "      <td>...</td>\n",
       "      <td>0.292418</td>\n",
       "      <td>0.306947</td>\n",
       "      <td>0.091639</td>\n",
       "      <td>0.062934</td>\n",
       "      <td>0.301922</td>\n",
       "      <td>0.177641</td>\n",
       "      <td>0.104241</td>\n",
       "      <td>0.362024</td>\n",
       "      <td>0.015852</td>\n",
       "      <td>0.229714</td>\n",
       "    </tr>\n",
       "    <tr>\n",
       "      <th>42</th>\n",
       "      <td>Гнитько Ксения</td>\n",
       "      <td>60631</td>\n",
       "      <td>100007131103601</td>\n",
       "      <td>NaN</td>\n",
       "      <td>0.117205</td>\n",
       "      <td>0.170325</td>\n",
       "      <td>0.142454</td>\n",
       "      <td>0.282257</td>\n",
       "      <td>0.134780</td>\n",
       "      <td>0.311910</td>\n",
       "      <td>...</td>\n",
       "      <td>0.240267</td>\n",
       "      <td>0.305844</td>\n",
       "      <td>0.200188</td>\n",
       "      <td>0.100214</td>\n",
       "      <td>0.281364</td>\n",
       "      <td>0.219275</td>\n",
       "      <td>0.171389</td>\n",
       "      <td>0.349198</td>\n",
       "      <td>0.013736</td>\n",
       "      <td>0.204720</td>\n",
       "    </tr>\n",
       "    <tr>\n",
       "      <th>43</th>\n",
       "      <td>Дмитрий Земцов</td>\n",
       "      <td>360</td>\n",
       "      <td>dmitry.zemtsov</td>\n",
       "      <td>2416234.0</td>\n",
       "      <td>0.142951</td>\n",
       "      <td>0.181474</td>\n",
       "      <td>0.161961</td>\n",
       "      <td>0.275714</td>\n",
       "      <td>0.102546</td>\n",
       "      <td>0.298423</td>\n",
       "      <td>...</td>\n",
       "      <td>0.222337</td>\n",
       "      <td>0.312075</td>\n",
       "      <td>0.128734</td>\n",
       "      <td>0.084638</td>\n",
       "      <td>0.255851</td>\n",
       "      <td>0.218687</td>\n",
       "      <td>0.190366</td>\n",
       "      <td>0.373682</td>\n",
       "      <td>0.009295</td>\n",
       "      <td>0.239038</td>\n",
       "    </tr>\n",
       "  </tbody>\n",
       "</table>\n",
       "<p>44 rows × 26 columns</p>\n",
       "</div>"
      ],
      "text/plain": [
       "                               ФИ Leader-ID                            FB  \\\n",
       "0               Александрина Клюс     91500                    alya.blesk   \n",
       "1                 Ангелина Зонова     82050                zonovaangelina   \n",
       "2               Владислав Широков    102575               100018653177414   \n",
       "3                   Галина Жукова     44515                    1088734051   \n",
       "4                  Жанна Кадылева       584                    kadilevazm   \n",
       "5                  Ирина Горькова       NaN               100013685044932   \n",
       "6                Ирина Григоренко        39                i.g.grigorenko   \n",
       "7             Наталья Кульбятская     12271                nvkulbyatskaya   \n",
       "8                   Нелли Бадалян     16662               100017461808545   \n",
       "9                   Юлия Ханьжина      1419                    1496282246   \n",
       "10              Alexey Khoryushin       NaN                    khoryushin   \n",
       "11                  Andrey Siling       222                 andrey.siling   \n",
       "12                  Denis  Trunov     19982                      devident   \n",
       "13                 Denis Unzhakov     27492                denis.unzhakov   \n",
       "14                  Dima Blaginin     87059                        blag54   \n",
       "15             Ekaterina Aksenova    119128                     aksenova0   \n",
       "16              Ekaterina Shakina        40          ekaterina.shakina.73   \n",
       "17                 Eugene Colchev    111187                eugene.colchev   \n",
       "18                Eugene Kolganov     15861               eugene.kolganov   \n",
       "19                  Evgeny Kovnir     26450                       ekovnir   \n",
       "20              George Boissonade       NaN              GeorgeBoissonade   \n",
       "21               Igor  Ruzhentsev     40022                   iruzhentsev   \n",
       "22  Irina Gordina-Nevmerzhitskaya       NaN  irina.gordinanevmerzhitskaya   \n",
       "23                  Ivan  Aristov     88448               100006012883228   \n",
       "24             Katerina  Novikova     26810                     710434546   \n",
       "25                   Kirill Konev    101257               100007301839238   \n",
       "26                Ksusha Andreeva     16143            ksusha.andreeva.14   \n",
       "27                Liubov Kirienko     93756               liubov.kirienko   \n",
       "28                  Maria Dolgikh     49213               maria.dolgikh.7   \n",
       "29                 Nikita Lebedev     21569           nikita.lebedev.9484   \n",
       "30                 Oleg Podolskiy    120013                oleg.podolskiy   \n",
       "31                 Olga Potemkina       NaN            olga.potemkina.125   \n",
       "32                 Olya  Zaytseva       NaN               100004241860483   \n",
       "33               Ruslan Karmannyy     83246            ruslan.karmanny.57   \n",
       "34                Sergey Nakvasin       NaN                      nacvasin   \n",
       "35              Tatiana Anisimova       NaN          tatiana.anisimova.50   \n",
       "36               Tatyana Mazhutis     40696                    1660860881   \n",
       "37               Tretyakov Vasily       NaN              tretyakov.vasily   \n",
       "38             Varvara  Lukashina     12658                   luckashinav   \n",
       "39                  Yulia  Gudach        22                  yulia.gudach   \n",
       "40                  Yury Sushinov       NaN                 yury.sushinov   \n",
       "41                 Песков Дмитрий        25                        peskov   \n",
       "42                 Гнитько Ксения     60631               100007131103601   \n",
       "43                 Дмитрий Земцов       360                dmitry.zemtsov   \n",
       "\n",
       "          vk_id       art  politics  finances  strateg_management       law  \\\n",
       "0           NaN  0.141374  0.252570  0.147542            0.271772  0.080197   \n",
       "1           NaN  0.067363  0.197130  0.040803            0.192135  0.104004   \n",
       "2           NaN  0.000000  0.000000  0.000000            0.000000  0.000000   \n",
       "3           NaN  0.123131  0.224513  0.102054            0.260613  0.099579   \n",
       "4           NaN  0.084954  0.202654  0.153618            0.259286  0.168883   \n",
       "5           NaN  0.137440  0.165227  0.109665            0.267249  0.040324   \n",
       "6           NaN  0.071391  0.172757  0.084331            0.263864  0.214527   \n",
       "7           NaN  0.180736  0.256733  0.122969            0.274788  0.109328   \n",
       "8           NaN  0.118893  0.195830  0.110716            0.205178  0.049423   \n",
       "9           NaN  0.196271  0.262952  0.146499            0.246342  0.086551   \n",
       "10          NaN  0.256944  0.127632  0.112425            0.338520  0.048577   \n",
       "11  222216857.0  0.165727  0.201863  0.189450            0.280949  0.095762   \n",
       "12          NaN  0.142713  0.241209  0.140860            0.252175  0.102948   \n",
       "13          NaN  0.150083  0.217486  0.135652            0.292364  0.085678   \n",
       "14          NaN  0.097629  0.339688  0.110785            0.257203  0.090371   \n",
       "15          NaN  0.000000  0.000000  0.000000            0.000000  0.000000   \n",
       "16          NaN  0.098194  0.195759  0.142779            0.251386  0.110677   \n",
       "17          NaN  0.128875  0.158572  0.157568            0.282769  0.155441   \n",
       "18          NaN  0.143096  0.246411  0.287451            0.265230  0.068076   \n",
       "19          NaN  0.106570  0.164831  0.171449            0.296026  0.085918   \n",
       "20          NaN  0.128164  0.240437  0.095124            0.240869  0.077589   \n",
       "21    4842118.0  0.145406  0.167428  0.154104            0.290918  0.088539   \n",
       "22          NaN  0.134136  0.172499  0.163194            0.288414  0.088006   \n",
       "23          NaN  0.093145  0.177868  0.112492            0.234072  0.088594   \n",
       "24          NaN  0.132492  0.233821  0.121006            0.266458  0.093883   \n",
       "25          NaN  0.109568  0.043737  0.090775            0.175064  0.052034   \n",
       "26          NaN  0.156905  0.174699  0.165654            0.265521  0.067839   \n",
       "27          NaN  0.160452  0.183373  0.135491            0.297009  0.067948   \n",
       "28          NaN  0.157573  0.287568  0.132910            0.270323  0.089462   \n",
       "29          NaN  0.148130  0.158961  0.129732            0.286971  0.099560   \n",
       "30          NaN  0.067331  0.159371  0.072623            0.330605  0.070820   \n",
       "31          NaN  0.152866  0.257749  0.146356            0.267549  0.071560   \n",
       "32          NaN  0.103975  0.304316  0.237497            0.222496  0.046661   \n",
       "33          NaN  0.138217  0.163818  0.176350            0.317100  0.117076   \n",
       "34          NaN  0.141612  0.166309  0.193122            0.294901  0.058996   \n",
       "35          NaN  0.123032  0.192213  0.175113            0.316107  0.077432   \n",
       "36          NaN  0.133987  0.203672  0.260716            0.263389  0.141139   \n",
       "37          NaN  0.097657  0.188220  0.162557            0.283830  0.081178   \n",
       "38          NaN  0.136364  0.224760  0.136318            0.256787  0.116102   \n",
       "39          NaN  0.123785  0.253259  0.145964            0.258100  0.087417   \n",
       "40          NaN  0.141481  0.157527  0.126992            0.294400  0.117439   \n",
       "41          NaN  0.110870  0.168025  0.173190            0.318636  0.114342   \n",
       "42          NaN  0.117205  0.170325  0.142454            0.282257  0.134780   \n",
       "43    2416234.0  0.142951  0.181474  0.161961            0.275714  0.102546   \n",
       "\n",
       "    elaboration      ...            smm  innovations    safety  military  \\\n",
       "0      0.284329      ...       0.241894     0.287584  0.134709  0.093609   \n",
       "1      0.200213      ...       0.108937     0.254117  0.065145  0.025358   \n",
       "2      0.000000      ...       0.000000     0.000000  0.000000  0.000000   \n",
       "3      0.251444      ...       0.201954     0.279830  0.141271  0.063755   \n",
       "4      0.273182      ...       0.221770     0.282644  0.163462  0.064515   \n",
       "5      0.289599      ...       0.185460     0.280805  0.076084  0.024205   \n",
       "6      0.211240      ...       0.180876     0.336277  0.044758  0.013083   \n",
       "7      0.283443      ...       0.230790     0.290586  0.103223  0.210562   \n",
       "8      0.284002      ...       0.190290     0.277898  0.237424  0.022305   \n",
       "9      0.269222      ...       0.227084     0.280792  0.139054  0.085980   \n",
       "10     0.318642      ...       0.393131     0.301304  0.103520  0.118837   \n",
       "11     0.259411      ...       0.232833     0.292999  0.118546  0.075881   \n",
       "12     0.304091      ...       0.176633     0.301915  0.188661  0.079326   \n",
       "13     0.294899      ...       0.247000     0.311290  0.100198  0.088211   \n",
       "14     0.330525      ...       0.233876     0.291135  0.113626  0.188097   \n",
       "15     0.000000      ...       0.000000     0.000000  0.000000  0.000000   \n",
       "16     0.299497      ...       0.219196     0.316566  0.147665  0.087699   \n",
       "17     0.271853      ...       0.246025     0.275038  0.144021  0.093365   \n",
       "18     0.297386      ...       0.188710     0.296083  0.058336  0.056547   \n",
       "19     0.258745      ...       0.305216     0.289507  0.129783  0.040462   \n",
       "20     0.290863      ...       0.250939     0.290209  0.113797  0.057679   \n",
       "21     0.278514      ...       0.309401     0.294802  0.133092  0.104609   \n",
       "22     0.253735      ...       0.253982     0.296292  0.092447  0.049230   \n",
       "23     0.301908      ...       0.162477     0.283226  0.112888  0.046295   \n",
       "24     0.323432      ...       0.206901     0.304209  0.179481  0.064716   \n",
       "25     0.264457      ...       0.228519     0.256813  0.426720  0.082146   \n",
       "26     0.297979      ...       0.244125     0.309618  0.144440  0.064377   \n",
       "27     0.275252      ...       0.301439     0.284092  0.134554  0.093131   \n",
       "28     0.260630      ...       0.253385     0.287051  0.124183  0.055726   \n",
       "29     0.276480      ...       0.316380     0.288616  0.169300  0.081447   \n",
       "30     0.157136      ...       0.303690     0.185391  0.077758  0.028565   \n",
       "31     0.272085      ...       0.234831     0.301986  0.122125  0.100762   \n",
       "32     0.285676      ...       0.170476     0.283205  0.114325  0.048489   \n",
       "33     0.273738      ...       0.288661     0.304060  0.147863  0.103826   \n",
       "34     0.284064      ...       0.254817     0.299821  0.136365  0.072879   \n",
       "35     0.304836      ...       0.191283     0.305290  0.095501  0.060932   \n",
       "36     0.260546      ...       0.200830     0.300367  0.140312  0.065747   \n",
       "37     0.307121      ...       0.233882     0.271137  0.100728  0.067718   \n",
       "38     0.270147      ...       0.240854     0.307709  0.170345  0.097309   \n",
       "39     0.297867      ...       0.295050     0.285671  0.135819  0.056654   \n",
       "40     0.241218      ...       0.300730     0.252840  0.112925  0.059433   \n",
       "41     0.261586      ...       0.292418     0.306947  0.091639  0.062934   \n",
       "42     0.311910      ...       0.240267     0.305844  0.200188  0.100214   \n",
       "43     0.298423      ...       0.222337     0.312075  0.128734  0.084638   \n",
       "\n",
       "    corporative_management  social_safety  building  entrepreneurship  \\\n",
       "0                 0.226304       0.199385  0.246479          0.352394   \n",
       "1                 0.269601       0.141105  0.283291          0.454334   \n",
       "2                 0.000000       0.000000  0.000000          0.000000   \n",
       "3                 0.225319       0.176541  0.193427          0.370142   \n",
       "4                 0.248506       0.148156  0.200364          0.349220   \n",
       "5                 0.252733       0.141939  0.057706          0.366764   \n",
       "6                 0.484565       0.161478  0.058306          0.276992   \n",
       "7                 0.249744       0.167899  0.150975          0.342437   \n",
       "8                 0.224748       0.101699  0.089249          0.305393   \n",
       "9                 0.221303       0.190248  0.232020          0.342385   \n",
       "10                0.302068       0.220574  0.107010          0.314458   \n",
       "11                0.250197       0.212070  0.146042          0.397441   \n",
       "12                0.212946       0.140471  0.205907          0.369278   \n",
       "13                0.274343       0.155612  0.125322          0.371492   \n",
       "14                0.213819       0.115668  0.171419          0.423121   \n",
       "15                0.000000       0.000000  0.000000          0.000000   \n",
       "16                0.291966       0.118952  0.086645          0.398868   \n",
       "17                0.236529       0.184444  0.177975          0.372301   \n",
       "18                0.185767       0.129403  0.413540          0.312725   \n",
       "19                0.280821       0.142700  0.113124          0.359108   \n",
       "20                0.209993       0.245782  0.292406          0.304869   \n",
       "21                0.247031       0.239419  0.193658          0.363627   \n",
       "22                0.263774       0.246539  0.176439          0.394527   \n",
       "23                0.228874       0.096432  0.507547          0.319024   \n",
       "24                0.295233       0.165032  0.236337          0.350936   \n",
       "25                0.157272       0.101521  0.485346          0.265834   \n",
       "26                0.242317       0.195122  0.134433          0.373654   \n",
       "27                0.265419       0.272431  0.173250          0.348121   \n",
       "28                0.251951       0.160723  0.133032          0.350841   \n",
       "29                0.268676       0.236308  0.173021          0.339139   \n",
       "30                0.200052       0.411607  0.087130          0.329509   \n",
       "31                0.261281       0.244809  0.171543          0.358916   \n",
       "32                0.204870       0.240810  0.328928          0.295114   \n",
       "33                0.260080       0.193971  0.159462          0.384592   \n",
       "34                0.290290       0.220016  0.118238          0.364237   \n",
       "35                0.246473       0.181806  0.231181          0.356150   \n",
       "36                0.226104       0.207558  0.139816          0.397132   \n",
       "37                0.247137       0.204926  0.168810          0.369521   \n",
       "38                0.272429       0.190670  0.167507          0.350478   \n",
       "39                0.252126       0.190978  0.124712          0.332247   \n",
       "40                0.248073       0.235831  0.173085          0.366994   \n",
       "41                0.301922       0.177641  0.104241          0.362024   \n",
       "42                0.281364       0.219275  0.171389          0.349198   \n",
       "43                0.255851       0.218687  0.190366          0.373682   \n",
       "\n",
       "       sport  investitions  \n",
       "0   0.010522      0.273348  \n",
       "1   0.005033      0.300399  \n",
       "2   0.000000      0.000000  \n",
       "3   0.334346      0.264095  \n",
       "4   0.009637      0.240076  \n",
       "5   0.005302      0.236343  \n",
       "6   0.002661      0.179409  \n",
       "7   0.010121      0.257746  \n",
       "8   0.003303      0.193636  \n",
       "9   0.013435      0.197424  \n",
       "10  0.006032      0.184685  \n",
       "11  0.047835      0.241030  \n",
       "12  0.010003      0.229026  \n",
       "13  0.059914      0.248600  \n",
       "14  0.003327      0.148865  \n",
       "15  0.000000      0.000000  \n",
       "16  0.004521      0.258797  \n",
       "17  0.007586      0.291644  \n",
       "18  0.004276      0.130126  \n",
       "19  0.016440      0.212071  \n",
       "20  0.008800      0.170792  \n",
       "21  0.038732      0.236135  \n",
       "22  0.017921      0.245676  \n",
       "23  0.004314      0.173938  \n",
       "24  0.008663      0.244404  \n",
       "25  0.004143      0.321131  \n",
       "26  0.008253      0.253471  \n",
       "27  0.010312      0.255173  \n",
       "28  0.014073      0.252431  \n",
       "29  0.023446      0.216565  \n",
       "30  0.002724      0.427135  \n",
       "31  0.012640      0.246580  \n",
       "32  0.004014      0.182781  \n",
       "33  0.018027      0.232787  \n",
       "34  0.006833      0.212058  \n",
       "35  0.062519      0.206572  \n",
       "36  0.007512      0.234309  \n",
       "37  0.006345      0.227821  \n",
       "38  0.008135      0.220889  \n",
       "39  0.004304      0.215170  \n",
       "40  0.006767      0.257259  \n",
       "41  0.015852      0.229714  \n",
       "42  0.013736      0.204720  \n",
       "43  0.009295      0.239038  \n",
       "\n",
       "[44 rows x 26 columns]"
      ]
     },
     "execution_count": 34,
     "metadata": {},
     "output_type": "execute_result"
    }
   ],
   "source": [
    "known"
   ]
  },
  {
   "cell_type": "code",
   "execution_count": 35,
   "metadata": {
    "ExecuteTime": {
     "end_time": "2017-09-12T22:37:37.594088Z",
     "start_time": "2017-09-12T22:37:37.580878Z"
    },
    "scrolled": false
   },
   "outputs": [
    {
     "data": {
      "text/plain": [
       "[('Предпринимательство', 'Образование'),\n",
       " ('Образование', 'Предпринимательство'),\n",
       " ('Инвестиции', 'Спорт'),\n",
       " ('Предпринимательство', 'Спорт'),\n",
       " ('Предпринимательство', 'Образование'),\n",
       " ('Образование', 'Предпринимательство'),\n",
       " ('Корпоративное управление', 'Здравоохранение'),\n",
       " ('Предпринимательство', 'Образование'),\n",
       " ('Промышленность', 'Образование'),\n",
       " ('Образование', 'Предпринимательство'),\n",
       " ('Реклама и маркетинг', 'Стратегическое управление'),\n",
       " ('Предпринимательство', 'Образование'),\n",
       " ('Образование', 'Предпринимательство'),\n",
       " ('Предпринимательство', 'Инновации и модернизация'),\n",
       " ('Предпринимательство', 'Политика'),\n",
       " ('Инвестиции', 'Спорт'),\n",
       " ('Предпринимательство', 'Образование'),\n",
       " ('Предпринимательство', 'Образование'),\n",
       " ('Строительство', 'Предпринимательство'),\n",
       " ('Предпринимательство', 'Промышленность'),\n",
       " ('Здравоохранение', 'Предпринимательство'),\n",
       " ('Предпринимательство', 'Реклама и маркетинг'),\n",
       " ('Предпринимательство', 'Образование'),\n",
       " ('Строительство', 'Предпринимательство'),\n",
       " ('Предпринимательство', 'Исследования и разработки'),\n",
       " ('Строительство', 'Безопасность'),\n",
       " ('Предпринимательство', 'Образование'),\n",
       " ('Предпринимательство', 'Реклама и маркетинг'),\n",
       " ('Предпринимательство', 'Образование'),\n",
       " ('Предпринимательство', 'Реклама и маркетинг'),\n",
       " ('Инвестиции', 'Социальная защита'),\n",
       " ('Предпринимательство', 'Образование'),\n",
       " ('Строительство', 'Здравоохранение'),\n",
       " ('Предпринимательство', 'Стратегическое управление'),\n",
       " ('Предпринимательство', 'Образование'),\n",
       " ('Предпринимательство', 'Стратегическое управление'),\n",
       " ('Предпринимательство', 'Инновации и модернизация'),\n",
       " ('Образование', 'Предпринимательство'),\n",
       " ('Предпринимательство', 'Образование'),\n",
       " ('Образование', 'Предпринимательство'),\n",
       " ('Предпринимательство', 'Образование'),\n",
       " ('Предпринимательство', 'Образование'),\n",
       " ('Предпринимательство', 'Образование'),\n",
       " ('Предпринимательство', 'Образование')]"
      ]
     },
     "execution_count": 35,
     "metadata": {},
     "output_type": "execute_result"
    }
   ],
   "source": [
    "[(norm_categories[x.argsort()[-1]], norm_categories[x.argsort()[-2]]) for x in known.loc[:, categories].values]"
   ]
  },
  {
   "cell_type": "code",
   "execution_count": 16,
   "metadata": {
    "ExecuteTime": {
     "end_time": "2017-09-12T22:10:19.765387Z",
     "start_time": "2017-09-12T22:10:19.671201Z"
    }
   },
   "outputs": [
    {
     "data": {
      "text/plain": [
       "('Искусство', 0.14480626583099365)"
      ]
     },
     "execution_count": 16,
     "metadata": {},
     "output_type": "execute_result"
    },
    {
     "data": {
      "text/plain": [
       "('Политика', 0.2387961596250534)"
      ]
     },
     "execution_count": 16,
     "metadata": {},
     "output_type": "execute_result"
    },
    {
     "data": {
      "text/plain": [
       "('Финансы', 0.17841868102550507)"
      ]
     },
     "execution_count": 16,
     "metadata": {},
     "output_type": "execute_result"
    },
    {
     "data": {
      "text/plain": [
       "('Стратегическое управление', 0.2980335056781769)"
      ]
     },
     "execution_count": 16,
     "metadata": {},
     "output_type": "execute_result"
    },
    {
     "data": {
      "text/plain": [
       "('Юриспруденция', 0.06625407934188843)"
      ]
     },
     "execution_count": 16,
     "metadata": {},
     "output_type": "execute_result"
    },
    {
     "data": {
      "text/plain": [
       "('Исследования и разработки', 0.26183274388313293)"
      ]
     },
     "execution_count": 16,
     "metadata": {},
     "output_type": "execute_result"
    },
    {
     "data": {
      "text/plain": [
       "('Промышленность', 0.24054306745529175)"
      ]
     },
     "execution_count": 16,
     "metadata": {},
     "output_type": "execute_result"
    },
    {
     "data": {
      "text/plain": [
       "('Образование', 0.30904847383499146)"
      ]
     },
     "execution_count": 16,
     "metadata": {},
     "output_type": "execute_result"
    },
    {
     "data": {
      "text/plain": [
       "('Благотворительность', 0.02325574867427349)"
      ]
     },
     "execution_count": 16,
     "metadata": {},
     "output_type": "execute_result"
    },
    {
     "data": {
      "text/plain": [
       "('Здравоохранение', 0.14495742321014404)"
      ]
     },
     "execution_count": 16,
     "metadata": {},
     "output_type": "execute_result"
    },
    {
     "data": {
      "text/plain": [
       "('Сельское хозяйство', 0.12206819653511047)"
      ]
     },
     "execution_count": 16,
     "metadata": {},
     "output_type": "execute_result"
    },
    {
     "data": {
      "text/plain": [
       "('Государственное управление', 0.20891478657722473)"
      ]
     },
     "execution_count": 16,
     "metadata": {},
     "output_type": "execute_result"
    },
    {
     "data": {
      "text/plain": [
       "('Реклама и маркетинг', 0.2377893626689911)"
      ]
     },
     "execution_count": 16,
     "metadata": {},
     "output_type": "execute_result"
    },
    {
     "data": {
      "text/plain": [
       "('Инновации и модернизация', 0.2714555263519287)"
      ]
     },
     "execution_count": 16,
     "metadata": {},
     "output_type": "execute_result"
    },
    {
     "data": {
      "text/plain": [
       "('Безопасность', 0.1339380443096161)"
      ]
     },
     "execution_count": 16,
     "metadata": {},
     "output_type": "execute_result"
    },
    {
     "data": {
      "text/plain": [
       "('Военное дело', 0.024059869349002838)"
      ]
     },
     "execution_count": 16,
     "metadata": {},
     "output_type": "execute_result"
    },
    {
     "data": {
      "text/plain": [
       "('Корпоративное управление', 0.22631865739822388)"
      ]
     },
     "execution_count": 16,
     "metadata": {},
     "output_type": "execute_result"
    },
    {
     "data": {
      "text/plain": [
       "('Социальная защита', 0.23108896613121033)"
      ]
     },
     "execution_count": 16,
     "metadata": {},
     "output_type": "execute_result"
    },
    {
     "data": {
      "text/plain": [
       "('Строительство', 0.11489520967006683)"
      ]
     },
     "execution_count": 16,
     "metadata": {},
     "output_type": "execute_result"
    },
    {
     "data": {
      "text/plain": [
       "('Предпринимательство', 0.3251226246356964)"
      ]
     },
     "execution_count": 16,
     "metadata": {},
     "output_type": "execute_result"
    },
    {
     "data": {
      "text/plain": [
       "('Спорт', 0.005679072346538305)"
      ]
     },
     "execution_count": 16,
     "metadata": {},
     "output_type": "execute_result"
    },
    {
     "data": {
      "text/plain": [
       "('Инвестиции', 0.21544769406318665)"
      ]
     },
     "execution_count": 16,
     "metadata": {},
     "output_type": "execute_result"
    }
   ],
   "source": [
    "means = []\n",
    "for col in known.iloc[:, 4:].columns:\n",
    "    norm_names[col], known.loc[:, col].median()\n",
    "    means.append(known.loc[:, col].median())"
   ]
  },
  {
   "cell_type": "code",
   "execution_count": 53,
   "metadata": {
    "ExecuteTime": {
     "end_time": "2017-09-11T01:42:14.791267Z",
     "start_time": "2017-09-11T01:42:14.787347Z"
    },
    "collapsed": true
   },
   "outputs": [],
   "source": [
    "# t is from user-gen up\n",
    "means_2 = [(a + b) / 2 for a, b in zip([z[1] for z in t], [b for b in means])]"
   ]
  },
  {
   "cell_type": "code",
   "execution_count": 54,
   "metadata": {
    "ExecuteTime": {
     "end_time": "2017-09-11T01:42:16.418738Z",
     "start_time": "2017-09-11T01:42:16.413160Z"
    },
    "collapsed": true
   },
   "outputs": [],
   "source": [
    "json.dump(dict(zip(categories, means_2)), open(\"margins.json\", \"w\"))"
   ]
  },
  {
   "cell_type": "code",
   "execution_count": 27,
   "metadata": {
    "ExecuteTime": {
     "end_time": "2017-09-11T00:39:56.711929Z",
     "start_time": "2017-09-11T00:39:56.681528Z"
    },
    "collapsed": true
   },
   "outputs": [],
   "source": [
    "known.to_csv(\"assets/known.csv\")\n",
    "json.dump(norm_dict, open(\"assets/temporary_result.json\", \"w\"))"
   ]
  },
  {
   "cell_type": "code",
   "execution_count": 51,
   "metadata": {
    "ExecuteTime": {
     "end_time": "2017-09-11T00:53:20.743312Z",
     "start_time": "2017-09-11T00:53:20.401232Z"
    }
   },
   "outputs": [
    {
     "name": "stdout",
     "output_type": "stream",
     "text": [
      "Александрина Клюс "
     ]
    },
    {
     "data": {
      "text/plain": [
       "array(['education', 'smm', 'entrepreneurship', 'strateg_management',\n",
       "       'politics'],\n",
       "      dtype='<U18')"
      ]
     },
     "execution_count": 51,
     "metadata": {},
     "output_type": "execute_result"
    },
    {
     "name": "stdout",
     "output_type": "stream",
     "text": [
      "Ангелина Зонова "
     ]
    },
    {
     "data": {
      "text/plain": [
       "array(['education', 'entrepreneurship', 'smm', 'corporative_management',\n",
       "       'building'],\n",
       "      dtype='<U22')"
      ]
     },
     "execution_count": 51,
     "metadata": {},
     "output_type": "execute_result"
    },
    {
     "name": "stdout",
     "output_type": "stream",
     "text": [
      "Владислав Широков "
     ]
    },
    {
     "data": {
      "text/plain": [
       "array([], dtype=float64)"
      ]
     },
     "execution_count": 51,
     "metadata": {},
     "output_type": "execute_result"
    },
    {
     "name": "stdout",
     "output_type": "stream",
     "text": [
      "Галина Жукова "
     ]
    },
    {
     "data": {
      "text/plain": [
       "array(['sport'],\n",
       "      dtype='<U5')"
      ]
     },
     "execution_count": 51,
     "metadata": {},
     "output_type": "execute_result"
    },
    {
     "name": "stdout",
     "output_type": "stream",
     "text": [
      "Жанна Кадылева "
     ]
    },
    {
     "data": {
      "text/plain": [
       "array(['education', 'smm', 'entrepreneurship', 'law',\n",
       "       'corporative_management'],\n",
       "      dtype='<U22')"
      ]
     },
     "execution_count": 51,
     "metadata": {},
     "output_type": "execute_result"
    },
    {
     "name": "stdout",
     "output_type": "stream",
     "text": [
      "Ирина Горькова "
     ]
    },
    {
     "data": {
      "text/plain": [
       "array(['elaboration', 'corporative_management', 'strateg_management',\n",
       "       'education', 'innovations'],\n",
       "      dtype='<U22')"
      ]
     },
     "execution_count": 51,
     "metadata": {},
     "output_type": "execute_result"
    },
    {
     "name": "stdout",
     "output_type": "stream",
     "text": [
      "Ирина Григоренко "
     ]
    },
    {
     "data": {
      "text/plain": [
       "array(['law', 'education', 'government_management',\n",
       "       'corporative_management', 'public_health'],\n",
       "      dtype='<U22')"
      ]
     },
     "execution_count": 51,
     "metadata": {},
     "output_type": "execute_result"
    },
    {
     "name": "stdout",
     "output_type": "stream",
     "text": [
      "Наталья Кульбятская "
     ]
    },
    {
     "data": {
      "text/plain": [
       "array(['education', 'elaboration', 'strateg_management',\n",
       "       'entrepreneurship', 'corporative_management'],\n",
       "      dtype='<U22')"
      ]
     },
     "execution_count": 51,
     "metadata": {},
     "output_type": "execute_result"
    },
    {
     "name": "stdout",
     "output_type": "stream",
     "text": [
      "Нелли Бадалян "
     ]
    },
    {
     "data": {
      "text/plain": [
       "array(['industry', 'education', 'elaboration', 'corporative_management',\n",
       "       'law'],\n",
       "      dtype='<U22')"
      ]
     },
     "execution_count": 51,
     "metadata": {},
     "output_type": "execute_result"
    },
    {
     "name": "stdout",
     "output_type": "stream",
     "text": [
      "Юлия Ханьжина "
     ]
    },
    {
     "data": {
      "text/plain": [
       "array(['education', 'smm', 'strateg_management', 'corporative_management',\n",
       "       'finances'],\n",
       "      dtype='<U22')"
      ]
     },
     "execution_count": 51,
     "metadata": {},
     "output_type": "execute_result"
    },
    {
     "name": "stdout",
     "output_type": "stream",
     "text": [
      "Alexey Khoryushin "
     ]
    },
    {
     "data": {
      "text/plain": [
       "array(['smm', 'strateg_management', 'charity', 'art'],\n",
       "      dtype='<U18')"
      ]
     },
     "execution_count": 51,
     "metadata": {},
     "output_type": "execute_result"
    },
    {
     "name": "stdout",
     "output_type": "stream",
     "text": [
      "Andrey Siling "
     ]
    },
    {
     "data": {
      "text/plain": [
       "array(['sport', 'art', 'military'],\n",
       "      dtype='<U8')"
      ]
     },
     "execution_count": 51,
     "metadata": {},
     "output_type": "execute_result"
    },
    {
     "name": "stdout",
     "output_type": "stream",
     "text": [
      "Denis  Trunov "
     ]
    },
    {
     "data": {
      "text/plain": [
       "array(['education', 'entrepreneurship', 'elaboration', 'industry',\n",
       "       'innovations'],\n",
       "      dtype='<U16')"
      ]
     },
     "execution_count": 51,
     "metadata": {},
     "output_type": "execute_result"
    },
    {
     "name": "stdout",
     "output_type": "stream",
     "text": [
      "Denis Unzhakov "
     ]
    },
    {
     "data": {
      "text/plain": [
       "array(['sport', 'charity', 'industry', 'military'],\n",
       "      dtype='<U8')"
      ]
     },
     "execution_count": 51,
     "metadata": {},
     "output_type": "execute_result"
    },
    {
     "name": "stdout",
     "output_type": "stream",
     "text": [
      "Dima Blaginin "
     ]
    },
    {
     "data": {
      "text/plain": [
       "array(['charity', 'politics', 'education', 'law', 'industry'],\n",
       "      dtype='<U11')"
      ]
     },
     "execution_count": 51,
     "metadata": {},
     "output_type": "execute_result"
    },
    {
     "name": "stdout",
     "output_type": "stream",
     "text": [
      "Ekaterina Aksenova "
     ]
    },
    {
     "data": {
      "text/plain": [
       "array([], dtype=float64)"
      ]
     },
     "execution_count": 51,
     "metadata": {},
     "output_type": "execute_result"
    },
    {
     "name": "stdout",
     "output_type": "stream",
     "text": [
      "Ekaterina Shakina "
     ]
    },
    {
     "data": {
      "text/plain": [
       "array(['education', 'corporative_management', 'strateg_management',\n",
       "       'elaboration', 'entrepreneurship'],\n",
       "      dtype='<U22')"
      ]
     },
     "execution_count": 51,
     "metadata": {},
     "output_type": "execute_result"
    },
    {
     "name": "stdout",
     "output_type": "stream",
     "text": [
      "Eugene Colchev "
     ]
    },
    {
     "data": {
      "text/plain": [
       "array(['corporative_management', 'education', 'strateg_management',\n",
       "       'entrepreneurship', 'law'],\n",
       "      dtype='<U22')"
      ]
     },
     "execution_count": 51,
     "metadata": {},
     "output_type": "execute_result"
    },
    {
     "name": "stdout",
     "output_type": "stream",
     "text": [
      "Eugene Kolganov "
     ]
    },
    {
     "data": {
      "text/plain": [
       "array(['entrepreneurship', 'social_safety', 'elaboration', 'finances',\n",
       "       'investitions'],\n",
       "      dtype='<U16')"
      ]
     },
     "execution_count": 51,
     "metadata": {},
     "output_type": "execute_result"
    },
    {
     "name": "stdout",
     "output_type": "stream",
     "text": [
      "Evgeny Kovnir "
     ]
    },
    {
     "data": {
      "text/plain": [
       "array(['smm', 'education', 'corporative_management', 'industry'],\n",
       "      dtype='<U22')"
      ]
     },
     "execution_count": 51,
     "metadata": {},
     "output_type": "execute_result"
    },
    {
     "name": "stdout",
     "output_type": "stream",
     "text": [
      "George Boissonade "
     ]
    },
    {
     "data": {
      "text/plain": [
       "array(['charity', 'public_health'],\n",
       "      dtype='<U13')"
      ]
     },
     "execution_count": 51,
     "metadata": {},
     "output_type": "execute_result"
    },
    {
     "name": "stdout",
     "output_type": "stream",
     "text": [
      "Igor  Ruzhentsev "
     ]
    },
    {
     "data": {
      "text/plain": [
       "array(['sport', 'charity'],\n",
       "      dtype='<U7')"
      ]
     },
     "execution_count": 51,
     "metadata": {},
     "output_type": "execute_result"
    },
    {
     "name": "stdout",
     "output_type": "stream",
     "text": [
      "Irina Gordina-Nevmerzhitskaya "
     ]
    },
    {
     "data": {
      "text/plain": [
       "array(['smm', 'entrepreneurship', 'strateg_management',\n",
       "       'corporative_management', 'industry'],\n",
       "      dtype='<U22')"
      ]
     },
     "execution_count": 51,
     "metadata": {},
     "output_type": "execute_result"
    },
    {
     "name": "stdout",
     "output_type": "stream",
     "text": [
      "Ivan  Aristov "
     ]
    },
    {
     "data": {
      "text/plain": [
       "array(['sport'],\n",
       "      dtype='<U5')"
      ]
     },
     "execution_count": 51,
     "metadata": {},
     "output_type": "execute_result"
    },
    {
     "name": "stdout",
     "output_type": "stream",
     "text": [
      "Katerina  Novikova "
     ]
    },
    {
     "data": {
      "text/plain": [
       "array(['entrepreneurship', 'elaboration', 'sport', 'industry',\n",
       "       'agriculture'],\n",
       "      dtype='<U16')"
      ]
     },
     "execution_count": 51,
     "metadata": {},
     "output_type": "execute_result"
    },
    {
     "name": "stdout",
     "output_type": "stream",
     "text": [
      "Kirill Konev "
     ]
    },
    {
     "data": {
      "text/plain": [
       "array(['safety', 'elaboration', 'innovations', 'building'],\n",
       "      dtype='<U11')"
      ]
     },
     "execution_count": 51,
     "metadata": {},
     "output_type": "execute_result"
    },
    {
     "name": "stdout",
     "output_type": "stream",
     "text": [
      "Ksusha Andreeva "
     ]
    },
    {
     "data": {
      "text/plain": [
       "array(['education', 'elaboration', 'entrepreneurship', 'smm', 'innovations'],\n",
       "      dtype='<U16')"
      ]
     },
     "execution_count": 51,
     "metadata": {},
     "output_type": "execute_result"
    },
    {
     "name": "stdout",
     "output_type": "stream",
     "text": [
      "Liubov Kirienko "
     ]
    },
    {
     "data": {
      "text/plain": [
       "array(['entrepreneurship', 'strateg_management', 'elaboration', 'politics',\n",
       "       'innovations'],\n",
       "      dtype='<U18')"
      ]
     },
     "execution_count": 51,
     "metadata": {},
     "output_type": "execute_result"
    },
    {
     "name": "stdout",
     "output_type": "stream",
     "text": [
      "Maria Dolgikh "
     ]
    },
    {
     "data": {
      "text/plain": [
       "array(['politics', 'smm', 'industry', 'art'],\n",
       "      dtype='<U8')"
      ]
     },
     "execution_count": 51,
     "metadata": {},
     "output_type": "execute_result"
    },
    {
     "name": "stdout",
     "output_type": "stream",
     "text": [
      "Nikita Lebedev "
     ]
    },
    {
     "data": {
      "text/plain": [
       "array(['charity', 'smm', 'sport', 'social_safety'],\n",
       "      dtype='<U13')"
      ]
     },
     "execution_count": 51,
     "metadata": {},
     "output_type": "execute_result"
    },
    {
     "name": "stdout",
     "output_type": "stream",
     "text": [
      "Oleg Podolskiy "
     ]
    },
    {
     "data": {
      "text/plain": [
       "array(['building', 'social_safety', 'entrepreneurship', 'agriculture',\n",
       "       'investitions'],\n",
       "      dtype='<U16')"
      ]
     },
     "execution_count": 51,
     "metadata": {},
     "output_type": "execute_result"
    },
    {
     "name": "stdout",
     "output_type": "stream",
     "text": [
      "Olga Potemkina "
     ]
    },
    {
     "data": {
      "text/plain": [
       "array(['smm', 'strateg_management', 'corporative_management', 'sport',\n",
       "       'finances'],\n",
       "      dtype='<U22')"
      ]
     },
     "execution_count": 51,
     "metadata": {},
     "output_type": "execute_result"
    },
    {
     "name": "stdout",
     "output_type": "stream",
     "text": [
      "Olya  Zaytseva "
     ]
    },
    {
     "data": {
      "text/plain": [
       "array(['strateg_management', 'entrepreneurship', 'smm',\n",
       "       'corporative_management', 'innovations'],\n",
       "      dtype='<U22')"
      ]
     },
     "execution_count": 51,
     "metadata": {},
     "output_type": "execute_result"
    },
    {
     "name": "stdout",
     "output_type": "stream",
     "text": [
      "Ruslan Karmannyy "
     ]
    },
    {
     "data": {
      "text/plain": [
       "array(['strateg_management', 'smm', 'entrepreneurship',\n",
       "       'corporative_management', 'innovations'],\n",
       "      dtype='<U22')"
      ]
     },
     "execution_count": 51,
     "metadata": {},
     "output_type": "execute_result"
    },
    {
     "name": "stdout",
     "output_type": "stream",
     "text": [
      "Sergey Nakvasin "
     ]
    },
    {
     "data": {
      "text/plain": [
       "array(['education', 'entrepreneurship', 'elaboration',\n",
       "       'corporative_management', 'strateg_management'],\n",
       "      dtype='<U22')"
      ]
     },
     "execution_count": 51,
     "metadata": {},
     "output_type": "execute_result"
    },
    {
     "name": "stdout",
     "output_type": "stream",
     "text": [
      "Tatiana Anisimova "
     ]
    },
    {
     "data": {
      "text/plain": [
       "array(['sport', 'strateg_management', 'entrepreneurship', 'smm', 'charity'],\n",
       "      dtype='<U18')"
      ]
     },
     "execution_count": 51,
     "metadata": {},
     "output_type": "execute_result"
    },
    {
     "name": "stdout",
     "output_type": "stream",
     "text": [
      "Tatyana Mazhutis "
     ]
    },
    {
     "data": {
      "text/plain": [
       "array(['charity', 'law', 'finances', 'social_safety'],\n",
       "      dtype='<U13')"
      ]
     },
     "execution_count": 51,
     "metadata": {},
     "output_type": "execute_result"
    },
    {
     "name": "stdout",
     "output_type": "stream",
     "text": [
      "Tretyakov Vasily "
     ]
    },
    {
     "data": {
      "text/plain": [
       "array(['education', 'elaboration', 'strateg_management',\n",
       "       'entrepreneurship', 'smm'],\n",
       "      dtype='<U22')"
      ]
     },
     "execution_count": 51,
     "metadata": {},
     "output_type": "execute_result"
    },
    {
     "name": "stdout",
     "output_type": "stream",
     "text": [
      "Varvara  Lukashina "
     ]
    },
    {
     "data": {
      "text/plain": [
       "array(['education', 'entrepreneurship', 'charity', 'elaboration',\n",
       "       'corporative_management'],\n",
       "      dtype='<U22')"
      ]
     },
     "execution_count": 51,
     "metadata": {},
     "output_type": "execute_result"
    },
    {
     "name": "stdout",
     "output_type": "stream",
     "text": [
      "Yulia  Gudach "
     ]
    },
    {
     "data": {
      "text/plain": [
       "array(['smm', 'education', 'politics', 'elaboration', 'industry'],\n",
       "      dtype='<U11')"
      ]
     },
     "execution_count": 51,
     "metadata": {},
     "output_type": "execute_result"
    },
    {
     "name": "stdout",
     "output_type": "stream",
     "text": [
      "Yury Sushinov "
     ]
    },
    {
     "data": {
      "text/plain": [
       "array(['smm', 'education', 'strateg_management', 'entrepreneurship',\n",
       "       'industry'],\n",
       "      dtype='<U18')"
      ]
     },
     "execution_count": 51,
     "metadata": {},
     "output_type": "execute_result"
    },
    {
     "name": "stdout",
     "output_type": "stream",
     "text": [
      "Песков Дмитрий "
     ]
    },
    {
     "data": {
      "text/plain": [
       "array(['smm', 'education', 'strateg_management', 'entrepreneurship',\n",
       "       'corporative_management'],\n",
       "      dtype='<U22')"
      ]
     },
     "execution_count": 51,
     "metadata": {},
     "output_type": "execute_result"
    },
    {
     "name": "stdout",
     "output_type": "stream",
     "text": [
      "Гнитько Ксения "
     ]
    },
    {
     "data": {
      "text/plain": [
       "array(['charity', 'education', 'law', 'smm', 'industry'],\n",
       "      dtype='<U9')"
      ]
     },
     "execution_count": 51,
     "metadata": {},
     "output_type": "execute_result"
    },
    {
     "name": "stdout",
     "output_type": "stream",
     "text": [
      "Дмитрий Земцов "
     ]
    },
    {
     "data": {
      "text/plain": [
       "array(['strateg_management', 'entrepreneurship', 'elaboration', 'smm',\n",
       "       'innovations'],\n",
       "      dtype='<U18')"
      ]
     },
     "execution_count": 51,
     "metadata": {},
     "output_type": "execute_result"
    }
   ],
   "source": [
    "tt = []\n",
    "for i, item in known.iterrows():\n",
    "    print(item['ФИ'], end=\" \")\n",
    "    accepted_cols = []\n",
    "    for col, margin in dict(zip(categories, means_2)).items():\n",
    "        if item[col] > 1.1 * margin:\n",
    "            accepted_cols.append(col)\n",
    "    np.array(accepted_cols)[item[accepted_cols].argsort()[::-1]][:5]"
   ]
  },
  {
   "cell_type": "code",
   "execution_count": null,
   "metadata": {
    "collapsed": true
   },
   "outputs": [],
   "source": []
  },
  {
   "cell_type": "code",
   "execution_count": null,
   "metadata": {
    "collapsed": true
   },
   "outputs": [],
   "source": []
  },
  {
   "cell_type": "code",
   "execution_count": null,
   "metadata": {
    "ExecuteTime": {
     "end_time": "2017-08-20T22:09:41.691154Z",
     "start_time": "2017-08-20T22:09:41.651791Z"
    },
    "collapsed": true
   },
   "outputs": [],
   "source": [
    "import vk_api\n",
    "from config import VK_TOKEN"
   ]
  },
  {
   "cell_type": "code",
   "execution_count": null,
   "metadata": {
    "ExecuteTime": {
     "end_time": "2017-08-20T22:09:41.764581Z",
     "start_time": "2017-08-20T22:09:41.722894Z"
    },
    "collapsed": true
   },
   "outputs": [],
   "source": [
    "vk = vk_api.VkApi(token=VK_TOKEN)\n",
    "vk = vk.get_api()"
   ]
  },
  {
   "cell_type": "code",
   "execution_count": null,
   "metadata": {
    "ExecuteTime": {
     "end_time": "2017-08-20T22:09:43.840139Z",
     "start_time": "2017-08-20T22:09:41.768188Z"
    },
    "collapsed": true,
    "scrolled": false
   },
   "outputs": [],
   "source": [
    "t = [a['text'] for a in vk.newsfeed.search(q=\"корпоративное управление\", count=200)['items']]"
   ]
  },
  {
   "cell_type": "code",
   "execution_count": null,
   "metadata": {
    "ExecuteTime": {
     "end_time": "2017-08-20T22:09:43.864179Z",
     "start_time": "2017-08-20T22:09:43.843135Z"
    },
    "collapsed": true,
    "scrolled": false
   },
   "outputs": [],
   "source": [
    "with open('t.txt', 'w') as f:\n",
    "    for line in t:\n",
    "        _ = f.write(f'{line}\\n')"
   ]
  },
  {
   "cell_type": "code",
   "execution_count": null,
   "metadata": {
    "collapsed": true
   },
   "outputs": [],
   "source": []
  }
 ],
 "metadata": {
  "hide_input": false,
  "kernelspec": {
   "display_name": "Python 3",
   "language": "python",
   "name": "python3"
  },
  "language_info": {
   "codemirror_mode": {
    "name": "ipython",
    "version": 3
   },
   "file_extension": ".py",
   "mimetype": "text/x-python",
   "name": "python",
   "nbconvert_exporter": "python",
   "pygments_lexer": "ipython3",
   "version": "3.6.2"
  }
 },
 "nbformat": 4,
 "nbformat_minor": 2
}
