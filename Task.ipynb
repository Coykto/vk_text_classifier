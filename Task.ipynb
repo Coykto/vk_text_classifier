{
 "cells": [
  {
   "cell_type": "code",
   "execution_count": 1,
   "metadata": {
    "ExecuteTime": {
     "end_time": "2017-09-12T23:01:08.135010Z",
     "start_time": "2017-09-12T23:00:40.802588Z"
    },
    "scrolled": true
   },
   "outputs": [
    {
     "name": "stderr",
     "output_type": "stream",
     "text": [
      "Using TensorFlow backend.\n"
     ]
    }
   ],
   "source": [
    "import itertools\n",
    "import sys\n",
    "import json\n",
    "import warnings\n",
    "warnings.filterwarnings(\"ignore\")\n",
    "\n",
    "from util import *\n",
    "from scipy.sparse import vstack, csr_matrix, coo_matrix\n",
    "from sklearn.model_selection import train_test_split\n",
    "\n",
    "import pandas as pd\n",
    "import numpy as np\n",
    "from sklearn.feature_extraction.text import TfidfVectorizer\n",
    "from sklearn.preprocessing import LabelEncoder\n",
    "from keras.models import load_model\n",
    "from sklearn.utils import class_weight\n",
    "from keras.layers import *\n",
    "from keras.models import Model\n",
    "from keras.callbacks import EarlyStopping, ReduceLROnPlateau, ModelCheckpoint, TensorBoard, CSVLogger"
   ]
  },
  {
   "cell_type": "markdown",
   "metadata": {},
   "source": [
    "# Corpora for training model"
   ]
  },
  {
   "cell_type": "code",
   "execution_count": 2,
   "metadata": {
    "ExecuteTime": {
     "end_time": "2017-09-12T23:01:08.161889Z",
     "start_time": "2017-09-12T23:01:08.137202Z"
    },
    "collapsed": true
   },
   "outputs": [],
   "source": [
    "sources = {'art': [60114472, 19191317], \n",
    "           'politics': [29534144, 23482909], \n",
    "           'finances': [62438886, 81354264],\n",
    "           'strateg_management': [\"http://www.stplan.ru/\", \"http://www.30n.ru/2/1.html\"], \n",
    "           'law': [65974416, 79084019],\n",
    "           'elaboration': [\"https://vk.com/\"], \n",
    "           'industry': [67183197, 66233468], \n",
    "           'education': [30558759, 98643656],\n",
    "#            'social_business': [23509868, 56821139],\n",
    "           'charity': [],\n",
    "           'public_health': [78860407, 61490488],\n",
    "           'agriculture': [\"http://www.nsh.ru/\", \"http://россельхоз.рф/\"],\n",
    "           'government_management': [\"http://be5.biz/upravlenie/gosudarstvennoe_upravlenie.html\", 97296142],\n",
    "           'smm': [74686342, 79925455],\n",
    "           'innovations': [98643656, 63337812],\n",
    "           'safety': [37959220, 10933209],\n",
    "           'military': [\"http://www.soldiering.ru\", \"https://voennoe-delo.com\"],\n",
    "           'corporative_management': [\"http://www.cfin.ru/management/\"],\n",
    "           'social_safety': [49582956, 72388807],\n",
    "           'building': [30713157, 26978036],\n",
    "           'entrepreneurship': [69560028, 73537456],\n",
    "           'sport': [29809500, 128350290],\n",
    "           'investitions': [37876217, 3800580]\n",
    "          }"
   ]
  },
  {
   "cell_type": "code",
   "execution_count": 3,
   "metadata": {
    "ExecuteTime": {
     "end_time": "2017-09-12T23:01:08.200074Z",
     "start_time": "2017-09-12T23:01:08.165002Z"
    },
    "collapsed": true,
    "scrolled": true
   },
   "outputs": [],
   "source": [
    "# getting data for corpora\n",
    "for tag, ids_ in sources.items():\n",
    "    path = f\"assets/corpora/{tag}.txt\"\n",
    "    s = set()\n",
    "    if not os.path.exists(path):\n",
    "        with open(path, \"w\") as f:\n",
    "            for id_ in ids_:\n",
    "                if isinstance(id_, int):\n",
    "                    wall = ParseClass.getallwall({\"owner_id\": -id_}, 1000)\n",
    "                    for post in tqdm.tqdm(wall):\n",
    "                        if len(post) and post not in s:\n",
    "                            s.add(post)\n",
    "                            _ = f.write(f\"{post}\\n\")\n",
    "                elif isinstance(id_, str):\n",
    "                    links = np.random.choice(\n",
    "                        list(ParseClass.get_all_links(id_)), 1000)\n",
    "                    for link in tqdm.tqdm(links):\n",
    "                        try:\n",
    "                            page = requests.get(link).text\n",
    "                            soup = BeautifulSoup(page, \"lxml\")\n",
    "                            for text in soup.text.strip().split(\"\\n\"):\n",
    "                                if len(text) and text not in s:\n",
    "                                    s.add(text)\n",
    "                                    _ = f.write(f\"{text}\\n\")\n",
    "                        except:\n",
    "                            pass"
   ]
  },
  {
   "cell_type": "markdown",
   "metadata": {},
   "source": [
    "Manual processing"
   ]
  },
  {
   "cell_type": "code",
   "execution_count": 4,
   "metadata": {
    "ExecuteTime": {
     "end_time": "2017-09-12T23:01:08.205831Z",
     "start_time": "2017-09-12T23:01:08.202408Z"
    },
    "collapsed": true
   },
   "outputs": [],
   "source": [
    "categories = list(sources.keys())"
   ]
  },
  {
   "cell_type": "code",
   "execution_count": 5,
   "metadata": {
    "ExecuteTime": {
     "end_time": "2017-09-12T23:01:08.225421Z",
     "start_time": "2017-09-12T23:01:08.213405Z"
    },
    "collapsed": true
   },
   "outputs": [],
   "source": [
    "labels = [\"Искусство\", \"Политика\", \"Финансы\", \"Стратегическое управление\", \"Юриспруденция\", \"Исследования и разработки\",\n",
    "          \"Промышленность\", \"Образование\", \"Благотворительность\", \"Здравоохранение\", \"Сельское хозяйство\", \n",
    "          \"Государственное управление\", \"Реклама и маркетинг\", \"Инновации и модернизация\", \"Безопасность\", \n",
    "          \"Военное дело\", \"Корпоративное управление\", \"Социальная защита\", \"Строительство\", \"Предпринимательство\",\n",
    "          \"Спорт\", \"Инвестиции\"]\n",
    "norm_names = dict(zip(categories, labels))\n",
    "norm_names_reversed = dict([(a[1], a[0]) for a in norm_names.items()])"
   ]
  },
  {
   "cell_type": "code",
   "execution_count": 6,
   "metadata": {
    "ExecuteTime": {
     "end_time": "2017-09-12T23:01:08.247874Z",
     "start_time": "2017-09-12T23:01:08.229722Z"
    },
    "collapsed": true
   },
   "outputs": [],
   "source": [
    "# df = pd.read_msgpack(\"assets/df.msg\")\n",
    "# competencies = pd.read_csv(\"assets/competencies.csv\")\n",
    "# competencies = competencies.dropna()[['Id', 'Интересы']]\n",
    "# social = pd.read_excel(\"assets/social.xlsx\", names=['id', 'name', 'fb', 'ok', 'vk', 'email', 'twitter'])\n",
    "# accepted = social.fb.dropna().index | social.vk.dropna().index\n",
    "# social = social.loc[accepted, ['name', 'id', 'vk', 'fb']]\n",
    "# social.vk = social.vk.apply(lambda x: str(x).split(\"/\")[-1])\n",
    "# social.fb = social.fb.apply(lambda x: str(x).split(\"/\")[-1])\n",
    "# social.fb = social.fb.apply(lambda x: str(x).split(\"id=\")[-1])\n",
    "# social.fb = social.fb.apply(lambda x: str(x).split(\"?ref=\")[0])\n",
    "# social.fb = social.fb.replace('nan', np.nan)\n",
    "# social = social.merge(df[['vk', 'vk_id']], how='outer', on='vk')\n",
    "# social.vk = social.vk_id.fillna(0)\n",
    "# social = social.replace(0, np.nan).drop(labels=['vk_id'], axis=1)\n",
    "# social = social.set_index('id').merge(how='inner', right=competencies.set_index('Id'), left_index=True, right_index=True)\n",
    "# to_exclude = pd.read_csv(\"assets/known_users.csv\")['Leader-ID'].dropna().astype('int').values\n",
    "# social = social.loc[~social.index.isin(to_exclude), :]\n",
    "# social.to_msgpack(\"assets/social.msg\")\n",
    "\n",
    "# def get_id(screen_name):\n",
    "#     try:\n",
    "#         item = vk.users.get(user_ids=screen_name)\n",
    "#         if 'deactivated' not in item:\n",
    "#             return item[0]['id']\n",
    "#     except Exception as e:\n",
    "#         print(e.args)\n",
    "# Нужно замапить screen_name с их vk_id, поэтому придется обрабатывать по одному\n",
    "\n",
    "social = pd.read_msgpack(\"assets/social.msg\")"
   ]
  },
  {
   "cell_type": "code",
   "execution_count": 7,
   "metadata": {
    "ExecuteTime": {
     "end_time": "2017-09-12T23:01:08.475850Z",
     "start_time": "2017-09-12T23:01:08.249995Z"
    },
    "collapsed": true
   },
   "outputs": [],
   "source": [
    "label_encoder = LabelEncoder()\n",
    "# labels_trunc = [\"Искусство\", \"Политика\", \"Финансы\", \"Стратегическое управление\", \"Юриспруденция\", \"Исследования и разработки\",\n",
    "#           \"Промышленность\", \"Образование\", \"Здравоохранение\", \"Сельское хозяйство\", \n",
    "#           \"Государственное управление\", \"Реклама и маркетинг\", \"Инновации и модернизация\", \"Безопасность\", \n",
    "#           \"Военное дело\", \"Корпоративное управление\", \"Социальная защита\", \"Строительство\", \"Предпринимательство\",\n",
    "#           \"Инвестиции\"]\n",
    "labels_trunc = labels\n",
    "int_labels = label_encoder.fit_transform(labels_trunc)\n",
    "\n",
    "def f(x):\n",
    "    b = []\n",
    "    for a in x.split(\",\"):\n",
    "        t = a.strip()\n",
    "        if t == \"Частный бизнес\" or t == \"Социальное предпринимательство\":\n",
    "            b.append(\"Предпринимательство\")\n",
    "        elif t == \"Дошкольное образование/детский отдых\":\n",
    "            b.append(\"Образование\")\n",
    "        elif t in {'Журналистика', 'Управление персоналом', 'Управление рисками'}:\n",
    "            pass\n",
    "        else:\n",
    "            b.append(t)\n",
    "    return b[:6]\n",
    "social.Интересы = social.Интересы.apply(f)\n",
    "def g(x):\n",
    "    if not x:\n",
    "        return np.in1d(int_labels, []).astype('int')\n",
    "    return np.in1d(int_labels, label_encoder.transform(x)).astype('int')\n",
    "social['y'] = social.Интересы.apply(g)"
   ]
  },
  {
   "cell_type": "markdown",
   "metadata": {},
   "source": [
    "### Corpora from created texts"
   ]
  },
  {
   "cell_type": "code",
   "execution_count": 8,
   "metadata": {
    "ExecuteTime": {
     "end_time": "2017-09-12T23:01:09.284164Z",
     "start_time": "2017-09-12T23:01:08.493103Z"
    },
    "collapsed": true
   },
   "outputs": [],
   "source": [
    "corpora_class = CorporaClass()\n",
    "\n",
    "for filename in categories:\n",
    "    with open(f\"assets/corpora/{filename}.txt\") as f:\n",
    "        corpora_class.add_to_corpora(f, filename)\n",
    "\n",
    "pickle.dump(corpora_class.corpora, open(\"assets/corpora.p\", \"wb\"))\n",
    "pickle.dump(corpora_class.labels, open(\"assets/labels.p\", \"wb\"))\n",
    "\n",
    "corpora = pickle.load(open(\"assets/corpora.p\", \"rb\"))\n",
    "labels = pickle.load(open(\"assets/labels.p\", \"rb\"))"
   ]
  },
  {
   "cell_type": "markdown",
   "metadata": {},
   "source": [
    "### Corpora from user-generated content"
   ]
  },
  {
   "cell_type": "code",
   "execution_count": 9,
   "metadata": {
    "ExecuteTime": {
     "end_time": "2017-09-10T23:00:44.934025Z",
     "start_time": "2017-09-10T23:00:31.699808Z"
    },
    "collapsed": true
   },
   "outputs": [],
   "source": [
    "corpora_user_gen = CorporaClass()\n",
    "corpora_user_gen.labels = pickle.load(open(\"assets/labels_user_gen.p\", \"rb\"))\n",
    "corpora_user_gen.corpora = pickle.load(open(\"assets/corpora_user_gen.p\", \"rb\"))\n",
    "\n",
    "# r = ResultClass()\n",
    "# r.publics_dict = json.load(open(\"assets/publics_dict.json\"))\n",
    "# delimiter = 0\n",
    "# for i, row in tqdm.tqdm(list(social.iterrows())[delimiter:], total=len(social) - delimiter):\n",
    "#     user_vk, user_fb = row.vk, row.fb\n",
    "#     if str(user_vk) != \"nan\":\n",
    "#         try:\n",
    "#             r.parse_vk(user_vk, parse=True)\n",
    "#         except: pass\n",
    "#     if str(user_fb) != \"nan\":\n",
    "#         try:\n",
    "#             r.parse_fb(user_fb)\n",
    "#         except KeyError:\n",
    "#             pass\n",
    "#     corpora_user_gen.add_to_corpora(r.texts, i)\n",
    "#     r.texts = []\n",
    "\n",
    "# pickle.dump(corpora_user_gen.corpora, open(\"assets/corpora_user_gen.p\", \"wb\"))\n",
    "# pickle.dump(corpora_user_gen.labels, open(\"assets/labels_user_gen.p\", \"wb\"))"
   ]
  },
  {
   "cell_type": "code",
   "execution_count": 9,
   "metadata": {
    "ExecuteTime": {
     "end_time": "2017-09-12T23:01:09.311169Z",
     "start_time": "2017-09-12T23:01:09.289750Z"
    },
    "collapsed": true
   },
   "outputs": [],
   "source": [
    "# def filter_corpora(corpora, labels=corpora_user_gen.labels, DELIM=200, k=0.8):\n",
    "#     indexes = np.array(list(range(len(corpora))))\n",
    "#     all_indexes = set()\n",
    "#     for col in norm_names.values():\n",
    "#         t = social.Интересы.apply(lambda s: col in s)\n",
    "#         col_labels = list(set(t[t == True].index).intersection(labels))[:50]\n",
    "#         all_indexes = all_indexes.union(indexes[np.in1d(labels, col_labels)])\n",
    "#     all_indexes = list(all_indexes)\n",
    "#     new_corpora = list(np.array(corpora)[all_indexes])\n",
    "#     new_labels = list(np.array(labels)[all_indexes])\n",
    "#     new_corpora = [a[:DELIM] for a in new_corpora]\n",
    "#     new_corpora, test_corpora, new_labels, test_labels = train_test_split(new_corpora, new_labels, train_size=k)\n",
    "#     return new_corpora, test_corpora, new_labels, test_labels\n",
    "\n",
    "# new_corpora, test_corpora, new_labels, test_labels = filter_corpora(corpora_user_gen.corpora, corpora_user_gen.labels)\n",
    "\n",
    "# d = {}\n",
    "# for col in norm_names.values():\n",
    "#     t = social.Интересы.apply(lambda s: col in s[:3])\n",
    "#     col_labels = list(set(t[t == True].index).intersection(new_labels))\n",
    "#     d[col] = [label for label in col_labels if label not in list(itertools.chain(*(v for v in d.values())))][:10]\n",
    "# d = {a: [int(c) for c in b] for (a, b) in d.items()}\n",
    "# json.dump(d, open(\"assets/d.json\", \"w\"))\n",
    "    \n",
    "# new_corpora = np.array(new_corpora)\n",
    "# for col, labels in d.items():\n",
    "#     with open(f\"assets/corpora/{norm_names_reversed[col]}.txt\", \"a\") as f:\n",
    "#         for line in list(itertools.chain(*(item for item in new_corpora[np.in1d(new_labels, d[col])]))):\n",
    "#             _ = f.write(line)\n",
    "\n",
    "# Это те labels, которые мы приписали к corpora и должны учесть в y\n",
    "d = json.load(open(\"assets/d.json\"))"
   ]
  },
  {
   "cell_type": "code",
   "execution_count": 10,
   "metadata": {
    "ExecuteTime": {
     "end_time": "2017-09-12T23:03:05.243067Z",
     "start_time": "2017-09-12T23:01:09.314858Z"
    },
    "collapsed": true
   },
   "outputs": [],
   "source": [
    "vectorizer = TfidfVectorizer(tokenizer=corpora_class.full_process, \n",
    "                             max_df=0.5, \n",
    "                             min_df=3, \n",
    "                             sublinear_tf=True, \n",
    "                             ngram_range=(1, 1))\n",
    "\n",
    "# vectorizer = TfidfVectorizer(tokenizer=corpora_class.full_process, \n",
    "#                              max_df=0.55, \n",
    "#                              min_df=2, \n",
    "#                              sublinear_tf=True, \n",
    "#                              ngram_range=(1, 1))\n",
    "\n",
    "docterm_matrix = vectorizer.fit_transform(list(itertools.chain(*(doc for doc in corpora))))\n",
    "\n",
    "\n",
    "pickle.dump(docterm_matrix, open(\"assets/docterm_matrix.p\", \"wb\"))\n",
    "pickle.dump(vectorizer, open(\"assets/vectorizer.p\", \"wb\"))"
   ]
  },
  {
   "cell_type": "code",
   "execution_count": 13,
   "metadata": {
    "ExecuteTime": {
     "end_time": "2017-09-10T23:03:50.167320Z",
     "start_time": "2017-09-10T23:02:42.920328Z"
    },
    "collapsed": true
   },
   "outputs": [],
   "source": [
    "docterm_matrix_user_gen = vectorizer.transform(list(itertools.chain(*(doc for doc in new_corpora))))"
   ]
  },
  {
   "cell_type": "code",
   "execution_count": 11,
   "metadata": {
    "ExecuteTime": {
     "end_time": "2017-09-12T23:03:05.319468Z",
     "start_time": "2017-09-12T23:03:05.246544Z"
    },
    "collapsed": true
   },
   "outputs": [],
   "source": [
    "docterm_matrix = pickle.load(open(\"assets/docterm_matrix.p\", 'rb'))\n",
    "vectorizer = pickle.load(open(\"assets/vectorizer.p\", \"rb\"))"
   ]
  },
  {
   "cell_type": "code",
   "execution_count": 12,
   "metadata": {
    "ExecuteTime": {
     "end_time": "2017-09-12T23:03:05.331636Z",
     "start_time": "2017-09-12T23:03:05.323058Z"
    },
    "collapsed": true
   },
   "outputs": [],
   "source": [
    "DELIM = 1300\n",
    "NUM_OF_CLASSES = 22\n",
    "vector_size = docterm_matrix[0].shape[1]"
   ]
  },
  {
   "cell_type": "code",
   "execution_count": 13,
   "metadata": {
    "ExecuteTime": {
     "end_time": "2017-09-12T23:03:05.353543Z",
     "start_time": "2017-09-12T23:03:05.340410Z"
    },
    "collapsed": true
   },
   "outputs": [],
   "source": [
    "corpora_lengths = []\n",
    "for i, x in enumerate(corpora):\n",
    "    corpora_lengths.append(len(x))"
   ]
  },
  {
   "cell_type": "markdown",
   "metadata": {},
   "source": [
    "#### y for created texts"
   ]
  },
  {
   "cell_type": "code",
   "execution_count": 14,
   "metadata": {
    "ExecuteTime": {
     "end_time": "2017-09-12T23:03:54.433423Z",
     "start_time": "2017-09-12T23:03:05.357628Z"
    }
   },
   "outputs": [],
   "source": [
    "y = []\n",
    "for (i, item), cat in zip(zip(range(len(corpora)), corpora_lengths), categories):\n",
    "    for _ in range(item):\n",
    "        y_ = np.zeros(NUM_OF_CLASSES)\n",
    "        t = np.zeros(NUM_OF_CLASSES)\n",
    "        for arr in (social.loc[d[norm_names[cat]], 'y'] * 0.016):\n",
    "            t = t + arr\n",
    "        y_ = y_ + t\n",
    "        y_[i] = 1\n",
    "        y.append(y_)\n",
    "y = np.array(y)"
   ]
  },
  {
   "cell_type": "markdown",
   "metadata": {},
   "source": [
    "#### y for user-gen"
   ]
  },
  {
   "cell_type": "code",
   "execution_count": 52,
   "metadata": {
    "ExecuteTime": {
     "end_time": "2017-08-27T17:48:57.355005Z",
     "start_time": "2017-08-27T17:48:57.268162Z"
    },
    "collapsed": true
   },
   "outputs": [],
   "source": [
    "y_user_gen = np.empty((docterm_matrix_user_gen.shape[0], NUM_OF_CLASSES))\n",
    "y_ = np.array([np.array(a) for a in social.loc[new_labels, 'y']])\n",
    "ind_arr = np.cumsum(np.array(corpora_lengths_user_gen))\n",
    "int_a, int_b = 0, ind_arr[0]\n",
    "for i in range(len(ind_arr) - 1):\n",
    "    y_user_gen[int_a:int_b] = np.array([y_[i] for _ in range(int_b - int_a)])\n",
    "    int_a, int_b = int_b, ind_arr[i + 1]"
   ]
  },
  {
   "cell_type": "code",
   "execution_count": 25,
   "metadata": {
    "ExecuteTime": {
     "end_time": "2017-09-10T23:06:38.026823Z",
     "start_time": "2017-09-10T23:06:36.629313Z"
    },
    "collapsed": true
   },
   "outputs": [],
   "source": [
    "X = docterm_matrix.toarray()"
   ]
  },
  {
   "cell_type": "code",
   "execution_count": 15,
   "metadata": {
    "ExecuteTime": {
     "end_time": "2017-09-12T23:03:54.491631Z",
     "start_time": "2017-09-12T23:03:54.438614Z"
    }
   },
   "outputs": [],
   "source": [
    "X_train, X_test, y_train, y_test = train_test_split(docterm_matrix, y, test_size=0.2)"
   ]
  },
  {
   "cell_type": "code",
   "execution_count": 16,
   "metadata": {
    "ExecuteTime": {
     "end_time": "2017-09-12T23:03:54.675945Z",
     "start_time": "2017-09-12T23:03:54.496413Z"
    },
    "collapsed": true
   },
   "outputs": [],
   "source": [
    "input_vec = Input(shape=(vector_size,))\n",
    "l1 = Dense(128, activation='relu')(input_vec)\n",
    "l2 = Dense(64, activation='relu')(l1)\n",
    "l3 = Dropout(0.2)(l2)\n",
    "l4 = Dense(96, activation='sigmoid')(l3)\n",
    "output = Dense(NUM_OF_CLASSES, activation='sigmoid')(l4)\n",
    "\n",
    "# input_vec = Input(shape=(vector_size,))\n",
    "# l1 = Dense(128, activation='relu')(input_vec)\n",
    "# l2 = Dense(64, activation='relu')(l1)\n",
    "# l3 = Dropout(0.3)(l2)\n",
    "# l4 = Dense(32, activation='relu')(l3)\n",
    "# l5 = Dense(96, activation='sigmoid')(l4)\n",
    "# output = Dense(NUM_OF_CLASSES, activation='sigmoid')(l5)\n",
    "\n",
    "classifier = Model(input_vec, output)\n",
    "classifier.compile(optimizer='adadelta', loss='categorical_crossentropy', metrics=['categorical_accuracy'])"
   ]
  },
  {
   "cell_type": "code",
   "execution_count": 17,
   "metadata": {
    "ExecuteTime": {
     "end_time": "2017-09-12T23:53:28.538373Z",
     "start_time": "2017-09-12T23:03:54.678861Z"
    },
    "scrolled": false
   },
   "outputs": [
    {
     "name": "stdout",
     "output_type": "stream",
     "text": [
      "Train on 52744 samples, validate on 13186 samples\n",
      "Epoch 1/60\n",
      "52744/52744 [==============================] - 51s - loss: 4.6251 - categorical_accuracy: 0.0376 - val_loss: 4.6025 - val_categorical_accuracy: 0.0376\n",
      "Epoch 2/60\n",
      "52744/52744 [==============================] - 57s - loss: 4.5956 - categorical_accuracy: 0.0401 - val_loss: 4.6028 - val_categorical_accuracy: 0.0573\n",
      "Epoch 3/60\n",
      "52744/52744 [==============================] - 55s - loss: 4.5949 - categorical_accuracy: 0.0400 - val_loss: 4.6027 - val_categorical_accuracy: 0.0376\n",
      "Epoch 4/60\n",
      "52744/52744 [==============================] - 51s - loss: 4.5940 - categorical_accuracy: 0.0435 - val_loss: 4.5998 - val_categorical_accuracy: 0.0376\n",
      "Epoch 5/60\n",
      "52744/52744 [==============================] - 51s - loss: 4.5921 - categorical_accuracy: 0.0413 - val_loss: 4.5982 - val_categorical_accuracy: 0.0376\n",
      "Epoch 6/60\n",
      "52744/52744 [==============================] - 54s - loss: 4.5885 - categorical_accuracy: 0.0417 - val_loss: 4.5928 - val_categorical_accuracy: 0.0553\n",
      "Epoch 7/60\n",
      "52744/52744 [==============================] - 47s - loss: 4.5800 - categorical_accuracy: 0.0456 - val_loss: 4.5806 - val_categorical_accuracy: 0.0518\n",
      "Epoch 8/60\n",
      "52744/52744 [==============================] - 48s - loss: 4.5551 - categorical_accuracy: 0.0534 - val_loss: 4.5449 - val_categorical_accuracy: 0.0645\n",
      "Epoch 9/60\n",
      "52744/52744 [==============================] - 44s - loss: 4.4944 - categorical_accuracy: 0.0887 - val_loss: 4.4776 - val_categorical_accuracy: 0.1044\n",
      "Epoch 10/60\n",
      "52744/52744 [==============================] - 44s - loss: 4.4051 - categorical_accuracy: 0.1544 - val_loss: 4.3944 - val_categorical_accuracy: 0.1766\n",
      "Epoch 11/60\n",
      "52744/52744 [==============================] - 52s - loss: 4.3129 - categorical_accuracy: 0.2106 - val_loss: 4.3264 - val_categorical_accuracy: 0.2163\n",
      "Epoch 12/60\n",
      "52744/52744 [==============================] - 51s - loss: 4.2271 - categorical_accuracy: 0.2462 - val_loss: 4.2709 - val_categorical_accuracy: 0.2469\n",
      "Epoch 13/60\n",
      "52744/52744 [==============================] - 58s - loss: 4.1533 - categorical_accuracy: 0.2768 - val_loss: 4.2157 - val_categorical_accuracy: 0.2526\n",
      "Epoch 14/60\n",
      "52744/52744 [==============================] - 52s - loss: 4.0844 - categorical_accuracy: 0.3069 - val_loss: 4.1933 - val_categorical_accuracy: 0.2679\n",
      "Epoch 15/60\n",
      "52744/52744 [==============================] - 51s - loss: 4.0188 - categorical_accuracy: 0.3359 - val_loss: 4.1428 - val_categorical_accuracy: 0.3040\n",
      "Epoch 16/60\n",
      "52744/52744 [==============================] - 55s - loss: 3.9585 - categorical_accuracy: 0.3668 - val_loss: 4.1117 - val_categorical_accuracy: 0.3102\n",
      "Epoch 17/60\n",
      "52744/52744 [==============================] - 53s - loss: 3.8985 - categorical_accuracy: 0.3974 - val_loss: 4.0872 - val_categorical_accuracy: 0.3317\n",
      "Epoch 18/60\n",
      "52744/52744 [==============================] - 55s - loss: 3.8459 - categorical_accuracy: 0.4259 - val_loss: 4.0664 - val_categorical_accuracy: 0.3540\n",
      "Epoch 19/60\n",
      "52744/52744 [==============================] - 47s - loss: 3.7939 - categorical_accuracy: 0.4524 - val_loss: 4.0293 - val_categorical_accuracy: 0.3743\n",
      "Epoch 20/60\n",
      "52744/52744 [==============================] - 46s - loss: 3.7471 - categorical_accuracy: 0.4769 - val_loss: 4.0115 - val_categorical_accuracy: 0.3787\n",
      "Epoch 21/60\n",
      "52744/52744 [==============================] - 47s - loss: 3.7003 - categorical_accuracy: 0.4980 - val_loss: 3.9957 - val_categorical_accuracy: 0.3810\n",
      "Epoch 22/60\n",
      "52744/52744 [==============================] - 47s - loss: 3.6594 - categorical_accuracy: 0.5148 - val_loss: 3.9691 - val_categorical_accuracy: 0.3960\n",
      "Epoch 23/60\n",
      "52744/52744 [==============================] - 47s - loss: 3.6200 - categorical_accuracy: 0.5335 - val_loss: 3.9728 - val_categorical_accuracy: 0.4032\n",
      "Epoch 24/60\n",
      "52744/52744 [==============================] - 47s - loss: 3.5791 - categorical_accuracy: 0.5490 - val_loss: 3.9355 - val_categorical_accuracy: 0.4152\n",
      "Epoch 25/60\n",
      "52744/52744 [==============================] - 47s - loss: 3.5459 - categorical_accuracy: 0.5619 - val_loss: 3.9267 - val_categorical_accuracy: 0.4216\n",
      "Epoch 26/60\n",
      "52744/52744 [==============================] - 47s - loss: 3.5099 - categorical_accuracy: 0.5761 - val_loss: 3.9132 - val_categorical_accuracy: 0.4253\n",
      "Epoch 27/60\n",
      "52744/52744 [==============================] - 46s - loss: 3.4766 - categorical_accuracy: 0.5900 - val_loss: 3.8963 - val_categorical_accuracy: 0.4362\n",
      "Epoch 28/60\n",
      "52744/52744 [==============================] - 48s - loss: 3.4445 - categorical_accuracy: 0.6002 - val_loss: 3.8824 - val_categorical_accuracy: 0.4420\n",
      "Epoch 29/60\n",
      "52744/52744 [==============================] - 48s - loss: 3.4160 - categorical_accuracy: 0.6114 - val_loss: 3.8697 - val_categorical_accuracy: 0.4465\n",
      "Epoch 30/60\n",
      "52744/52744 [==============================] - 53s - loss: 3.3861 - categorical_accuracy: 0.6223 - val_loss: 3.8647 - val_categorical_accuracy: 0.4531\n",
      "Epoch 31/60\n",
      "52744/52744 [==============================] - 57s - loss: 3.3621 - categorical_accuracy: 0.6319 - val_loss: 3.8517 - val_categorical_accuracy: 0.4516\n",
      "Epoch 32/60\n",
      "52744/52744 [==============================] - 56s - loss: 3.3352 - categorical_accuracy: 0.6396 - val_loss: 3.8472 - val_categorical_accuracy: 0.4579\n",
      "Epoch 33/60\n",
      "52744/52744 [==============================] - 47s - loss: 3.3124 - categorical_accuracy: 0.6498 - val_loss: 3.8391 - val_categorical_accuracy: 0.4594\n",
      "Epoch 34/60\n",
      "52744/52744 [==============================] - 52s - loss: 3.2891 - categorical_accuracy: 0.6574 - val_loss: 3.8268 - val_categorical_accuracy: 0.4633\n",
      "Epoch 35/60\n",
      "52744/52744 [==============================] - 46s - loss: 3.2655 - categorical_accuracy: 0.6684 - val_loss: 3.8218 - val_categorical_accuracy: 0.4673\n",
      "Epoch 36/60\n",
      "52744/52744 [==============================] - 45s - loss: 3.2475 - categorical_accuracy: 0.6729 - val_loss: 3.8298 - val_categorical_accuracy: 0.4703\n",
      "Epoch 37/60\n",
      "52744/52744 [==============================] - 44s - loss: 3.2256 - categorical_accuracy: 0.6830 - val_loss: 3.8132 - val_categorical_accuracy: 0.4713\n",
      "Epoch 38/60\n",
      "52744/52744 [==============================] - 47s - loss: 3.2072 - categorical_accuracy: 0.6887 - val_loss: 3.8067 - val_categorical_accuracy: 0.4771\n",
      "Epoch 39/60\n",
      "52744/52744 [==============================] - 45s - loss: 3.1884 - categorical_accuracy: 0.6965 - val_loss: 3.8040 - val_categorical_accuracy: 0.4839\n",
      "Epoch 40/60\n",
      "52744/52744 [==============================] - 44s - loss: 3.1713 - categorical_accuracy: 0.7035 - val_loss: 3.7917 - val_categorical_accuracy: 0.4902\n",
      "Epoch 41/60\n",
      "52744/52744 [==============================] - 44s - loss: 3.1527 - categorical_accuracy: 0.7105 - val_loss: 3.8023 - val_categorical_accuracy: 0.4821\n",
      "Epoch 42/60\n",
      "52744/52744 [==============================] - 44s - loss: 3.1383 - categorical_accuracy: 0.7169 - val_loss: 3.7877 - val_categorical_accuracy: 0.4934\n",
      "Epoch 43/60\n",
      "52744/52744 [==============================] - 45s - loss: 3.1232 - categorical_accuracy: 0.7230 - val_loss: 3.7983 - val_categorical_accuracy: 0.4921\n",
      "Epoch 44/60\n",
      "52744/52744 [==============================] - 45s - loss: 3.1095 - categorical_accuracy: 0.7270 - val_loss: 3.7795 - val_categorical_accuracy: 0.4967\n",
      "Epoch 45/60\n",
      "52744/52744 [==============================] - 48s - loss: 3.0939 - categorical_accuracy: 0.7342 - val_loss: 3.7832 - val_categorical_accuracy: 0.4922\n",
      "Epoch 46/60\n",
      "52744/52744 [==============================] - 46s - loss: 3.0789 - categorical_accuracy: 0.7402 - val_loss: 3.7760 - val_categorical_accuracy: 0.5028\n",
      "Epoch 47/60\n",
      "52744/52744 [==============================] - 50s - loss: 3.0668 - categorical_accuracy: 0.7417 - val_loss: 3.7769 - val_categorical_accuracy: 0.5042\n",
      "Epoch 48/60\n",
      "52744/52744 [==============================] - 48s - loss: 3.0522 - categorical_accuracy: 0.7476 - val_loss: 3.7738 - val_categorical_accuracy: 0.5011\n",
      "Epoch 49/60\n",
      "52744/52744 [==============================] - 50s - loss: 3.0392 - categorical_accuracy: 0.7518 - val_loss: 3.7686 - val_categorical_accuracy: 0.5059\n",
      "Epoch 50/60\n",
      "52744/52744 [==============================] - 49s - loss: 3.0253 - categorical_accuracy: 0.7573 - val_loss: 3.7664 - val_categorical_accuracy: 0.5102\n",
      "Epoch 51/60\n"
     ]
    },
    {
     "name": "stdout",
     "output_type": "stream",
     "text": [
      "52744/52744 [==============================] - 53s - loss: 3.0124 - categorical_accuracy: 0.7619 - val_loss: 3.7622 - val_categorical_accuracy: 0.5095\n",
      "Epoch 52/60\n",
      "52744/52744 [==============================] - 54s - loss: 3.0012 - categorical_accuracy: 0.7661 - val_loss: 3.7620 - val_categorical_accuracy: 0.5136\n",
      "Epoch 53/60\n",
      "52744/52744 [==============================] - 45s - loss: 2.9899 - categorical_accuracy: 0.7696 - val_loss: 3.7563 - val_categorical_accuracy: 0.5158\n",
      "Epoch 54/60\n",
      "52744/52744 [==============================] - 45s - loss: 2.9784 - categorical_accuracy: 0.7726 - val_loss: 3.7628 - val_categorical_accuracy: 0.5133\n",
      "Epoch 55/60\n",
      "52744/52744 [==============================] - 45s - loss: 2.9667 - categorical_accuracy: 0.7773 - val_loss: 3.7616 - val_categorical_accuracy: 0.5150\n",
      "Epoch 56/60\n",
      "52744/52744 [==============================] - 50s - loss: 2.9567 - categorical_accuracy: 0.7799 - val_loss: 3.7658 - val_categorical_accuracy: 0.5200\n",
      "Epoch 57/60\n",
      "52744/52744 [==============================] - 52s - loss: 2.9476 - categorical_accuracy: 0.7840 - val_loss: 3.7554 - val_categorical_accuracy: 0.5191\n",
      "Epoch 58/60\n",
      "52744/52744 [==============================] - 46s - loss: 2.9346 - categorical_accuracy: 0.7882 - val_loss: 3.7717 - val_categorical_accuracy: 0.5191\n",
      "Epoch 59/60\n",
      "52744/52744 [==============================] - 50s - loss: 2.9257 - categorical_accuracy: 0.7908 - val_loss: 3.7535 - val_categorical_accuracy: 0.5191\n",
      "Epoch 60/60\n",
      "52744/52744 [==============================] - 49s - loss: 2.9168 - categorical_accuracy: 0.7934 - val_loss: 3.7527 - val_categorical_accuracy: 0.5232\n"
     ]
    },
    {
     "data": {
      "text/plain": [
       "<keras.callbacks.History at 0x12497f4a8>"
      ]
     },
     "execution_count": 17,
     "metadata": {},
     "output_type": "execute_result"
    }
   ],
   "source": [
    "tbCallBack = TensorBoard(log_dir='./Graph', histogram_freq=0, write_graph=True, write_images=True)\n",
    "\n",
    "# classifier.load_weights('vk_texts_classifier.h5')\n",
    "\n",
    "# for using sparse vectors\n",
    "def nn_batch_generator(X_data, y_data, batch_size):\n",
    "    X_data, y_data, _, _ = train_test_split(X_data, y_data, train_size=1.0)\n",
    "    samples_per_epoch = X_data.shape[0]\n",
    "    number_of_batches = samples_per_epoch/batch_size\n",
    "    counter=0\n",
    "    index = np.arange(np.shape(y_data)[0])\n",
    "    while 1:\n",
    "        index_batch = index[batch_size*counter:batch_size*(counter+1)]\n",
    "        X_batch = X_data[index_batch,:].todense()\n",
    "        y_batch = y_data[index_batch]\n",
    "        counter += 1\n",
    "        yield np.array(X_batch), y_batch\n",
    "        if (counter > number_of_batches):\n",
    "            counter=0\n",
    "\n",
    "classifier.fit(X_train.toarray(), \n",
    "               y_train, \n",
    "               validation_data=(X_test.toarray(), y_test), \n",
    "               batch_size=196, \n",
    "               epochs=60, \n",
    "               class_weight='balanced',\n",
    "               callbacks=[tbCallBack]\n",
    "              )\n",
    "# classifier.fit_generator(nn_batch_generator(X_train, y_train, 196),\n",
    "#                validation_data=nn_batch_generator(X_test, y_test, 196),\n",
    "#                steps_per_epoch=X_train.shape[0] // 196,\n",
    "#                validation_steps=X_test.shape[0] // 196,\n",
    "#                epochs=60, \n",
    "#                class_weight='balanced',\n",
    "#                callbacks=[tbCallBack]\n",
    "#               )"
   ]
  },
  {
   "cell_type": "code",
   "execution_count": 18,
   "metadata": {
    "ExecuteTime": {
     "end_time": "2017-09-12T23:53:29.091259Z",
     "start_time": "2017-09-12T23:53:28.558077Z"
    },
    "collapsed": true
   },
   "outputs": [],
   "source": [
    "classifier.save(\"assets/vk_texts_classifier.h5\")"
   ]
  },
  {
   "cell_type": "code",
   "execution_count": 19,
   "metadata": {
    "ExecuteTime": {
     "end_time": "2017-09-12T23:53:31.307688Z",
     "start_time": "2017-09-12T23:53:29.093622Z"
    },
    "collapsed": true
   },
   "outputs": [],
   "source": [
    "classifier = load_model(\"assets/vk_texts_classifier.h5\")"
   ]
  },
  {
   "cell_type": "markdown",
   "metadata": {},
   "source": [
    "# Result"
   ]
  },
  {
   "cell_type": "code",
   "execution_count": 20,
   "metadata": {
    "ExecuteTime": {
     "end_time": "2017-09-12T23:53:34.565819Z",
     "start_time": "2017-09-12T23:53:31.310633Z"
    }
   },
   "outputs": [
    {
     "name": "stdout",
     "output_type": "stream",
     "text": [
      "1-th public have been parsed. (58219172)\n",
      "2-th public have been parsed. (28905875)\n",
      "3-th public have been parsed. (139246969)\n",
      "4-th public have been parsed. (55284725)\n",
      "5-th public have been parsed. (84926122)\n"
     ]
    }
   ],
   "source": [
    "result_class = ResultClass()\n",
    "result_class.parse_vk(134070307)\n",
    "corpora_class = CorporaClass()\n",
    "corpora_class.add_to_corpora(result_class.texts, '')"
   ]
  },
  {
   "cell_type": "code",
   "execution_count": 21,
   "metadata": {
    "ExecuteTime": {
     "end_time": "2017-09-12T23:53:37.671704Z",
     "start_time": "2017-09-12T23:53:34.570317Z"
    },
    "collapsed": true
   },
   "outputs": [],
   "source": [
    "transformed = result_class.vectorizer.transform(corpora_class.corpora[0])\n",
    "verdict1 = normalize(np.sum(result_class.classifier.predict(transformed.toarray()), axis=0).reshape(1, -1))[0]\n",
    "verdict2 = normalize(result_class.classifier.predict(np.sum(transformed, axis=0)).reshape(1, -1))[0]"
   ]
  },
  {
   "cell_type": "code",
   "execution_count": 29,
   "metadata": {
    "ExecuteTime": {
     "end_time": "2017-09-12T23:56:01.888990Z",
     "start_time": "2017-09-12T23:55:59.729605Z"
    }
   },
   "outputs": [
    {
     "data": {
      "text/plain": [
       "array([  1.58050482e-03,   6.46794308e-03,   7.65688455e-05,\n",
       "         1.75090730e-01,   1.35872543e-01,   8.20550978e-01,\n",
       "         5.53579675e-03,   4.65691447e-01,   8.31513375e-07,\n",
       "         3.94662988e-04,   1.56653114e-05,   7.64702559e-02,\n",
       "         4.29760478e-02,   1.14148781e-01,   3.48257017e-03,\n",
       "         8.69610987e-04,   1.33026719e-01,   6.09717565e-03,\n",
       "         5.01470780e-03,   1.34844348e-01,   3.38851464e-06,\n",
       "         6.28931075e-02], dtype=float32)"
      ]
     },
     "execution_count": 29,
     "metadata": {},
     "output_type": "execute_result"
    }
   ],
   "source": [
    "t = \" \".join(corpora_class.corpora[0])\n",
    "normalize(result_class.classifier.predict(np.sum(result_class.vectorizer.transform([t]), axis=0)).reshape(1, -1))[0]"
   ]
  },
  {
   "cell_type": "code",
   "execution_count": 32,
   "metadata": {
    "ExecuteTime": {
     "end_time": "2017-09-12T23:57:12.591853Z",
     "start_time": "2017-09-12T23:56:55.386247Z"
    }
   },
   "outputs": [
    {
     "name": "stdout",
     "output_type": "stream",
     "text": [
      "2.13 s ± 170 ms per loop (mean ± std. dev. of 7 runs, 1 loop each)\n"
     ]
    }
   ],
   "source": [
    "%%timeit\n",
    "normalize(result_class.classifier.predict(np.sum(result_class.vectorizer.transform([\" \".join(corpora_class.corpora[0])]), axis=0)).reshape(1, -1))[0]"
   ]
  },
  {
   "cell_type": "code",
   "execution_count": 35,
   "metadata": {
    "ExecuteTime": {
     "end_time": "2017-09-12T23:58:29.481319Z",
     "start_time": "2017-09-12T23:58:29.476349Z"
    }
   },
   "outputs": [
    {
     "data": {
      "text/plain": [
       "(1518, 19770)"
      ]
     },
     "execution_count": 35,
     "metadata": {},
     "output_type": "execute_result"
    }
   ],
   "source": [
    "transformed.shape"
   ]
  },
  {
   "cell_type": "code",
   "execution_count": 34,
   "metadata": {
    "ExecuteTime": {
     "end_time": "2017-09-12T23:58:20.860705Z",
     "start_time": "2017-09-12T23:58:18.345268Z"
    }
   },
   "outputs": [
    {
     "name": "stdout",
     "output_type": "stream",
     "text": [
      "30.3 ms ± 4.56 ms per loop (mean ± std. dev. of 7 runs, 10 loops each)\n"
     ]
    }
   ],
   "source": [
    "%%timeit\n",
    "normalize(np.sum(result_class.classifier.predict(transformed.toarray()), axis=0).reshape(1, -1))[0]"
   ]
  },
  {
   "cell_type": "code",
   "execution_count": 22,
   "metadata": {
    "ExecuteTime": {
     "end_time": "2017-09-12T23:53:37.679324Z",
     "start_time": "2017-09-12T23:53:37.674998Z"
    },
    "collapsed": true
   },
   "outputs": [],
   "source": [
    "norm_categories = np.array(list(norm_names.values()))"
   ]
  },
  {
   "cell_type": "code",
   "execution_count": 39,
   "metadata": {
    "ExecuteTime": {
     "end_time": "2017-09-11T00:20:30.575987Z",
     "start_time": "2017-09-11T00:19:09.682307Z"
    },
    "scrolled": true
   },
   "outputs": [
    {
     "data": {
      "text/plain": [
       "('Искусство', 9, 0.2222222222222222, 0.2222222222222222, 0.3333333333333333)"
      ]
     },
     "execution_count": 39,
     "metadata": {},
     "output_type": "execute_result"
    },
    {
     "data": {
      "text/plain": [
       "('Политика', 17, 0.23529411764705882, 0.23529411764705882, 0.29411764705882354)"
      ]
     },
     "execution_count": 39,
     "metadata": {},
     "output_type": "execute_result"
    },
    {
     "data": {
      "text/plain": [
       "('Финансы', 6, 0.3333333333333333, 0.3333333333333333, 0.3333333333333333)"
      ]
     },
     "execution_count": 39,
     "metadata": {},
     "output_type": "execute_result"
    },
    {
     "data": {
      "text/plain": [
       "('Стратегическое управление',\n",
       " 27,\n",
       " 0.25925925925925924,\n",
       " 0.6666666666666666,\n",
       " 0.8888888888888888)"
      ]
     },
     "execution_count": 39,
     "metadata": {},
     "output_type": "execute_result"
    },
    {
     "data": {
      "text/plain": [
       "('Юриспруденция',\n",
       " 6,\n",
       " 0.3333333333333333,\n",
       " 0.3333333333333333,\n",
       " 0.3333333333333333)"
      ]
     },
     "execution_count": 39,
     "metadata": {},
     "output_type": "execute_result"
    },
    {
     "data": {
      "text/plain": [
       "('Исследования и разработки',\n",
       " 35,\n",
       " 0.11428571428571428,\n",
       " 0.45714285714285713,\n",
       " 0.8)"
      ]
     },
     "execution_count": 39,
     "metadata": {},
     "output_type": "execute_result"
    },
    {
     "data": {
      "text/plain": [
       "('Промышленность', 17, 0.0, 0.11764705882352941, 0.23529411764705882)"
      ]
     },
     "execution_count": 39,
     "metadata": {},
     "output_type": "execute_result"
    },
    {
     "data": {
      "text/plain": [
       "('Образование', 33, 0.3333333333333333, 0.7272727272727273, 0.9090909090909091)"
      ]
     },
     "execution_count": 39,
     "metadata": {},
     "output_type": "execute_result"
    },
    {
     "data": {
      "text/plain": [
       "('Благотворительность', 1, 0.0, 0.0, 0.0)"
      ]
     },
     "execution_count": 39,
     "metadata": {},
     "output_type": "execute_result"
    },
    {
     "data": {
      "text/plain": [
       "('Здравоохранение', 10, 0.4, 0.4, 0.4)"
      ]
     },
     "execution_count": 39,
     "metadata": {},
     "output_type": "execute_result"
    },
    {
     "data": {
      "text/plain": [
       "('Сельское хозяйство', 4, 0.5, 0.5, 0.5)"
      ]
     },
     "execution_count": 39,
     "metadata": {},
     "output_type": "execute_result"
    },
    {
     "data": {
      "text/plain": [
       "('Государственное управление',\n",
       " 23,\n",
       " 0.21739130434782608,\n",
       " 0.30434782608695654,\n",
       " 0.6086956521739131)"
      ]
     },
     "execution_count": 39,
     "metadata": {},
     "output_type": "execute_result"
    },
    {
     "data": {
      "text/plain": [
       "('Реклама и маркетинг',\n",
       " 9,\n",
       " 0.2222222222222222,\n",
       " 0.3333333333333333,\n",
       " 0.3333333333333333)"
      ]
     },
     "execution_count": 39,
     "metadata": {},
     "output_type": "execute_result"
    },
    {
     "data": {
      "text/plain": [
       "('Инновации и модернизация',\n",
       " 29,\n",
       " 0.10344827586206896,\n",
       " 0.3448275862068966,\n",
       " 0.9310344827586207)"
      ]
     },
     "execution_count": 39,
     "metadata": {},
     "output_type": "execute_result"
    },
    {
     "data": {
      "text/plain": [
       "('Безопасность', 9, 0.3333333333333333, 0.4444444444444444, 0.4444444444444444)"
      ]
     },
     "execution_count": 39,
     "metadata": {},
     "output_type": "execute_result"
    },
    {
     "data": {
      "text/plain": [
       "('Военное дело', 4, 0.0, 0.0, 0.25)"
      ]
     },
     "execution_count": 39,
     "metadata": {},
     "output_type": "execute_result"
    },
    {
     "data": {
      "text/plain": [
       "('Корпоративное управление',\n",
       " 17,\n",
       " 0.11764705882352941,\n",
       " 0.4117647058823529,\n",
       " 0.6470588235294118)"
      ]
     },
     "execution_count": 39,
     "metadata": {},
     "output_type": "execute_result"
    },
    {
     "data": {
      "text/plain": [
       "('Социальная защита',\n",
       " 3,\n",
       " 0.3333333333333333,\n",
       " 0.3333333333333333,\n",
       " 0.3333333333333333)"
      ]
     },
     "execution_count": 39,
     "metadata": {},
     "output_type": "execute_result"
    },
    {
     "data": {
      "text/plain": [
       "('Строительство', 8, 0.125, 0.125, 0.125)"
      ]
     },
     "execution_count": 39,
     "metadata": {},
     "output_type": "execute_result"
    },
    {
     "data": {
      "text/plain": [
       "('Предпринимательство', 36, 0.25, 0.6666666666666666, 0.9722222222222222)"
      ]
     },
     "execution_count": 39,
     "metadata": {},
     "output_type": "execute_result"
    },
    {
     "data": {
      "text/plain": [
       "('Спорт', 1, 0.0, 0.0, 0.0)"
      ]
     },
     "execution_count": 39,
     "metadata": {},
     "output_type": "execute_result"
    },
    {
     "data": {
      "text/plain": [
       "('Инвестиции',\n",
       " 21,\n",
       " 0.19047619047619047,\n",
       " 0.19047619047619047,\n",
       " 0.3333333333333333)"
      ]
     },
     "execution_count": 39,
     "metadata": {},
     "output_type": "execute_result"
    }
   ],
   "source": [
    "dict_for_mean = []\n",
    "\n",
    "labels_ = np.array(test_labels)\n",
    "corpora_ = np.array(test_corpora)\n",
    "\n",
    "acc_d = {}\n",
    "for col in norm_names.values():\n",
    "    t = social.Интересы.apply(lambda s: col in s)\n",
    "    col_labels = np.array(list(set(t[t == True].index).intersection(labels_)))\n",
    "    c_0 = 0\n",
    "    c_1 = 0\n",
    "    c_2 = 0\n",
    "    for item in corpora_[np.in1d(labels_, col_labels)]:\n",
    "        t = np.sum(classifier.predict(vectorizer.transform(item).toarray()), axis=0)\n",
    "        dict_for_mean.append(t)\n",
    "        pred_categories = norm_categories[t.argsort()[::-1][:8]]\n",
    "        if col in pred_categories[:2]:\n",
    "            c_0 += 1\n",
    "        if col in pred_categories[:5]:\n",
    "            c_1 += 1\n",
    "        if col in pred_categories:\n",
    "            c_2 += 1\n",
    "    l = len(col_labels)\n",
    "    if l == 0:\n",
    "        l = 1\n",
    "    col, l, c_0 / l, c_1 / l, c_2 / l\n",
    "    acc_d[col] = c_2 / l\n",
    "    \n",
    "    \n",
    "#     sorted(np.sum(classifier.predict(vectorizer.transform(corpora_user_gen.corpora[5]).toarray()), axis=0), reverse=True)[:3]"
   ]
  },
  {
   "cell_type": "code",
   "execution_count": 40,
   "metadata": {
    "ExecuteTime": {
     "end_time": "2017-09-11T00:20:30.591145Z",
     "start_time": "2017-09-11T00:20:30.579096Z"
    }
   },
   "outputs": [
    {
     "data": {
      "text/plain": [
       "0.45481123580974059"
      ]
     },
     "execution_count": 40,
     "metadata": {},
     "output_type": "execute_result"
    }
   ],
   "source": [
    "np.mean(list(acc_d.values()))"
   ]
  },
  {
   "cell_type": "code",
   "execution_count": 41,
   "metadata": {
    "ExecuteTime": {
     "end_time": "2017-09-11T00:20:30.609074Z",
     "start_time": "2017-09-11T00:20:30.594530Z"
    }
   },
   "outputs": [
    {
     "data": {
      "text/plain": [
       "[('art', 0.11978178),\n",
       " ('politics', 0.2571713),\n",
       " ('finances', 0.15092145),\n",
       " ('strateg_management', 0.27437153),\n",
       " ('law', 0.14367713),\n",
       " ('elaboration', 0.2649323),\n",
       " ('industry', 0.14514737),\n",
       " ('education', 0.29252267),\n",
       " ('charity', 0.11408015),\n",
       " ('public_health', 0.16153345),\n",
       " ('agriculture', 0.21364743),\n",
       " ('government_management', 0.26083517),\n",
       " ('smm', 0.23419189),\n",
       " ('innovations', 0.23632175),\n",
       " ('safety', 0.15871054),\n",
       " ('military', 0.059539381),\n",
       " ('corporative_management', 0.25076938),\n",
       " ('social_safety', 0.12933674),\n",
       " ('building', 0.14101389),\n",
       " ('entrepreneurship', 0.26689848),\n",
       " ('sport', 0.21294023),\n",
       " ('investitions', 0.18971834)]"
      ]
     },
     "execution_count": 41,
     "metadata": {},
     "output_type": "execute_result"
    }
   ],
   "source": [
    "list(zip(categories, [np.mean(a) for a in np.array([np.array(b) for b in dict_for_mean]).T]))"
   ]
  },
  {
   "cell_type": "code",
   "execution_count": 23,
   "metadata": {
    "ExecuteTime": {
     "end_time": "2017-09-12T23:53:37.735139Z",
     "start_time": "2017-09-12T23:53:37.683113Z"
    },
    "collapsed": true
   },
   "outputs": [],
   "source": [
    "# social = pd.read_excel(\"social.xlsx\", names=['id', 'name', 'fb', 'ok', 'vk', 'email', 'twitter'])\n",
    "# social.set_index('id', inplace=True)\n",
    "# social = social[social.vk.notnull()]\n",
    "# social.vk = social.vk.apply(lambda x: str(x).split(\"/\")[-1])\n",
    "# df = social[social.vk.notnull()]\n",
    "# df = df[['name', 'vk']]\n",
    "\n",
    "# def get_id(screen_name):\n",
    "#     try:\n",
    "#         item = vk.users.get(user_ids=screen_name)\n",
    "#         if 'deactivated' not in item:\n",
    "#             return item[0]['id']\n",
    "#     except Exception as e:\n",
    "#         print(e.args)\n",
    "# # Нужно замапить screen_name с их vk_id, поэтому придется обрабатывать по одному\n",
    "\n",
    "# df['vk_id'] = df.vk.progress_apply(get_id)\n",
    "# df.dropna(inplace=True)\n",
    "# df.vk_id = df.vk_id.astype('int')\n",
    "# df.to_msgpack(\"df.msg\")\n",
    "df = pd.read_msgpack(\"assets/df.msg\")\n",
    "known = pd.read_csv(\"assets/known_users.csv\")\n",
    "known = known.merge(df[['vk_id']], left_on='Leader-ID', right_index=True, how='left')"
   ]
  },
  {
   "cell_type": "code",
   "execution_count": 83,
   "metadata": {
    "ExecuteTime": {
     "end_time": "2017-09-13T00:39:59.233384Z",
     "start_time": "2017-09-13T00:39:59.229318Z"
    },
    "collapsed": true
   },
   "outputs": [],
   "source": [
    "from line_profiler import LineProfiler"
   ]
  },
  {
   "cell_type": "code",
   "execution_count": 88,
   "metadata": {
    "ExecuteTime": {
     "end_time": "2017-09-13T00:40:40.983908Z",
     "start_time": "2017-09-13T00:40:40.980340Z"
    },
    "collapsed": true
   },
   "outputs": [],
   "source": [
    "lp = LineProfiler()"
   ]
  },
  {
   "cell_type": "code",
   "execution_count": 89,
   "metadata": {
    "ExecuteTime": {
     "end_time": "2017-09-13T00:40:41.306698Z",
     "start_time": "2017-09-13T00:40:41.303604Z"
    }
   },
   "outputs": [],
   "source": [
    "lp.add_function(corpora_class.full_process)"
   ]
  },
  {
   "cell_type": "code",
   "execution_count": 91,
   "metadata": {
    "ExecuteTime": {
     "end_time": "2017-09-13T00:40:47.667590Z",
     "start_time": "2017-09-13T00:40:47.644252Z"
    }
   },
   "outputs": [
    {
     "data": {
      "text/plain": [
       "<line_profiler.LineProfiler at 0x12eff8e88>"
      ]
     },
     "execution_count": 91,
     "metadata": {},
     "output_type": "execute_result"
    }
   ],
   "source": [
    "lp.run(\"corpora_class.full_process(corpora[0][0])\")"
   ]
  },
  {
   "cell_type": "code",
   "execution_count": 93,
   "metadata": {
    "ExecuteTime": {
     "end_time": "2017-09-13T00:41:03.383585Z",
     "start_time": "2017-09-13T00:41:03.345261Z"
    }
   },
   "outputs": [
    {
     "name": "stdout",
     "output_type": "stream",
     "text": [
      "Timer unit: 1e-06 s\n",
      "\n",
      "Total time: 0.017674 s\n",
      "File: /Users/george/Dropbox/Projects/vk_text_classifier/util.py\n",
      "Function: full_process at line 36\n",
      "\n",
      "Line #      Hits         Time  Per Hit   % Time  Line Contents\n",
      "==============================================================\n",
      "    36                                               @staticmethod\n",
      "    37                                               def full_process(text, tokenizer=tokenizer, morph=morph, ru_pattern=ru_pattern):\n",
      "    38                                                   # Clear text from punctuation etc.'''\n",
      "    39         1          110    110.0      0.6          tokens = tokenizer.tokenize(text)\n",
      "    40                                           \n",
      "    41                                                   # Turn tokens into normal form excluding non-nouns or verbs\n",
      "    42         1            1      1.0      0.0          processed = []\n",
      "    43       102           77      0.8      0.4          for token in tokens:\n",
      "    44       101         8888     88.0     50.3              morphed = morph.parse(token)[0].normal_form\n",
      "    45       101         7591     75.2     43.0              nf_tag = str(morph.parse(morphed)[0].tag.POS)\n",
      "    46       101          129      1.3      0.7              if nf_tag in (\"NOUN\", \"ADJF\", \"INFN\", \"NUMR\") and len(token) < 16:\n",
      "    47        66          811     12.3      4.6                  if len(morphed) == len(re.findall(ru_pattern, morphed)):\n",
      "    48        66           67      1.0      0.4                      processed.append(morphed)\n",
      "    49                                           \n",
      "    50         1            0      0.0      0.0          return processed\n",
      "\n"
     ]
    }
   ],
   "source": [
    "lp.print_stats()"
   ]
  },
  {
   "cell_type": "code",
   "execution_count": 57,
   "metadata": {
    "ExecuteTime": {
     "end_time": "2017-09-13T00:19:56.875011Z",
     "start_time": "2017-09-13T00:19:56.872121Z"
    },
    "collapsed": true
   },
   "outputs": [],
   "source": [
    "import requests"
   ]
  },
  {
   "cell_type": "code",
   "execution_count": 103,
   "metadata": {
    "ExecuteTime": {
     "end_time": "2017-09-13T01:16:50.688427Z",
     "start_time": "2017-09-13T01:14:36.723864Z"
    }
   },
   "outputs": [
    {
     "name": "stdout",
     "output_type": "stream",
     "text": [
      "18.1 s ± 3.33 s per loop (mean ± std. dev. of 7 runs, 1 loop each)\n"
     ]
    }
   ],
   "source": [
    "%%timeit\n",
    "requests.post(\"http://78.155.197.212:9999/get_result\", json={\"name\": \"DimaB\", \"user_vk\": int(np.random.choice(t)), \"user_fb\": \"blag54\"}).json()"
   ]
  },
  {
   "cell_type": "code",
   "execution_count": 101,
   "metadata": {
    "ExecuteTime": {
     "end_time": "2017-09-13T01:14:18.776573Z",
     "start_time": "2017-09-13T01:14:18.714000Z"
    },
    "collapsed": true
   },
   "outputs": [],
   "source": [
    "import vk_api\n",
    "vk_s = vk_api.VkApi()\n",
    "vk = vk_s.get_api()\n",
    "t = vk.friends.get(user_id=118341119)['items']"
   ]
  },
  {
   "cell_type": "code",
   "execution_count": 56,
   "metadata": {
    "ExecuteTime": {
     "end_time": "2017-09-13T00:19:35.540895Z",
     "start_time": "2017-09-13T00:19:35.525167Z"
    }
   },
   "outputs": [
    {
     "data": {
      "text/plain": [
       "<1518x19770 sparse matrix of type '<class 'numpy.float64'>'\n",
       "\twith 13149 stored elements in Compressed Sparse Row format>"
      ]
     },
     "execution_count": 56,
     "metadata": {},
     "output_type": "execute_result"
    }
   ],
   "source": [
    "transformed"
   ]
  },
  {
   "cell_type": "code",
   "execution_count": 37,
   "metadata": {
    "ExecuteTime": {
     "end_time": "2017-09-12T23:59:38.014533Z",
     "start_time": "2017-09-12T23:58:52.196019Z"
    },
    "collapsed": true
   },
   "outputs": [
    {
     "name": "stderr",
     "output_type": "stream",
     "text": [
      "\r",
      "  0%|          | 0/44 [00:00<?, ?it/s]"
     ]
    },
    {
     "name": "stdout",
     "output_type": "stream",
     "text": [
      "FB Parsing alya.blesk\n",
      "FB Parse completed.\n",
      "Added to corpora\n",
      "Transformed corpora.\n"
     ]
    },
    {
     "name": "stderr",
     "output_type": "stream",
     "text": [
      "\r",
      "  2%|▏         | 1/44 [00:01<00:52,  1.21s/it]"
     ]
    },
    {
     "name": "stdout",
     "output_type": "stream",
     "text": [
      "FB Parsing zonovaangelina\n",
      "FB Parse completed.\n",
      "Added to corpora\n"
     ]
    },
    {
     "name": "stderr",
     "output_type": "stream",
     "text": [
      "\r",
      "  5%|▍         | 2/44 [00:01<00:38,  1.09it/s]"
     ]
    },
    {
     "name": "stdout",
     "output_type": "stream",
     "text": [
      "Transformed corpora.\n",
      "FB Parsing 100018653177414\n",
      "FB Parse completed.\n"
     ]
    },
    {
     "name": "stderr",
     "output_type": "stream",
     "text": [
      "\r",
      "  7%|▋         | 3/44 [00:01<00:28,  1.43it/s]"
     ]
    },
    {
     "name": "stdout",
     "output_type": "stream",
     "text": [
      "Added to corpora\n",
      "FB Parsing 1088734051\n",
      "FB Parse completed."
     ]
    },
    {
     "name": "stderr",
     "output_type": "stream",
     "text": [
      "\r",
      "  9%|▉         | 4/44 [00:02<00:29,  1.35it/s]"
     ]
    },
    {
     "name": "stdout",
     "output_type": "stream",
     "text": [
      "\n",
      "Added to corpora\n",
      "Transformed corpora.\n",
      "FB Parsing kadilevazm\n",
      "FB Parse completed.\n",
      "Added to corpora\n"
     ]
    },
    {
     "name": "stderr",
     "output_type": "stream",
     "text": [
      "\r",
      " 11%|█▏        | 5/44 [00:03<00:33,  1.16it/s]"
     ]
    },
    {
     "name": "stdout",
     "output_type": "stream",
     "text": [
      "Transformed corpora.\n",
      "FB Parsing 100013685044932\n"
     ]
    },
    {
     "name": "stderr",
     "output_type": "stream",
     "text": [
      "\r",
      " 14%|█▎        | 6/44 [00:03<00:26,  1.45it/s]"
     ]
    },
    {
     "name": "stdout",
     "output_type": "stream",
     "text": [
      "FB Parse completed.\n",
      "Added to corpora\n",
      "Transformed corpora.\n",
      "FB Parsing i.g.grigorenko\n"
     ]
    },
    {
     "name": "stderr",
     "output_type": "stream",
     "text": [
      "\r",
      " 16%|█▌        | 7/44 [00:04<00:20,  1.77it/s]"
     ]
    },
    {
     "name": "stdout",
     "output_type": "stream",
     "text": [
      "FB Parse completed.\n",
      "Added to corpora\n",
      "Transformed corpora.\n",
      "FB Parsing nvkulbyatskaya\n",
      "FB Parse completed.\n",
      "Added to corpora\n",
      "Transformed corpora.\n"
     ]
    },
    {
     "name": "stderr",
     "output_type": "stream",
     "text": [
      "\r",
      " 18%|█▊        | 8/44 [00:05<00:32,  1.10it/s]"
     ]
    },
    {
     "name": "stdout",
     "output_type": "stream",
     "text": [
      "FB Parsing 100017461808545\n",
      "FB Parse completed."
     ]
    },
    {
     "name": "stderr",
     "output_type": "stream",
     "text": [
      "\r",
      " 20%|██        | 9/44 [00:06<00:25,  1.37it/s]"
     ]
    },
    {
     "name": "stdout",
     "output_type": "stream",
     "text": [
      "\n",
      "Added to corpora\n",
      "Transformed corpora.\n",
      "FB Parsing 1496282246\n"
     ]
    },
    {
     "name": "stderr",
     "output_type": "stream",
     "text": [
      "\r",
      " 23%|██▎       | 10/44 [00:06<00:25,  1.34it/s]"
     ]
    },
    {
     "name": "stdout",
     "output_type": "stream",
     "text": [
      "FB Parse completed.\n",
      "Added to corpora\n",
      "Transformed corpora.\n",
      "FB Parsing khoryushin\n"
     ]
    },
    {
     "name": "stderr",
     "output_type": "stream",
     "text": [
      "\r",
      " 25%|██▌       | 11/44 [00:07<00:21,  1.55it/s]"
     ]
    },
    {
     "name": "stdout",
     "output_type": "stream",
     "text": [
      "FB Parse completed.\n",
      "Added to corpora\n",
      "Transformed corpora.\n",
      "VK Parsing 222216857.0\n",
      "VK Parse completed.\n",
      "FB Parsing andrey.siling\n",
      "FB Parse completed.\n",
      "Added to corpora\n",
      "Transformed corpora.\n"
     ]
    },
    {
     "name": "stderr",
     "output_type": "stream",
     "text": [
      "\r",
      " 27%|██▋       | 12/44 [00:09<00:35,  1.10s/it]"
     ]
    },
    {
     "name": "stdout",
     "output_type": "stream",
     "text": [
      "FB Parsing devident\n",
      "FB Parse completed.\n",
      "Added to corpora\n"
     ]
    },
    {
     "name": "stderr",
     "output_type": "stream",
     "text": [
      "\r",
      " 30%|██▉       | 13/44 [00:10<00:30,  1.00it/s]"
     ]
    },
    {
     "name": "stdout",
     "output_type": "stream",
     "text": [
      "Transformed corpora.\n",
      "FB Parsing denis.unzhakov\n",
      "FB Parse completed.\n",
      "Added to corpora\n"
     ]
    },
    {
     "name": "stderr",
     "output_type": "stream",
     "text": [
      "\r",
      " 32%|███▏      | 14/44 [00:11<00:28,  1.06it/s]"
     ]
    },
    {
     "name": "stdout",
     "output_type": "stream",
     "text": [
      "Transformed corpora.\n",
      "FB Parsing blag54\n"
     ]
    },
    {
     "name": "stderr",
     "output_type": "stream",
     "text": [
      "\r",
      " 34%|███▍      | 15/44 [00:11<00:21,  1.32it/s]"
     ]
    },
    {
     "name": "stdout",
     "output_type": "stream",
     "text": [
      "FB Parse completed.\n",
      "Added to corpora\n",
      "Transformed corpora.\n",
      "FB Parsing aksenova0\n"
     ]
    },
    {
     "name": "stderr",
     "output_type": "stream",
     "text": [
      "\r",
      " 36%|███▋      | 16/44 [00:11<00:16,  1.69it/s]"
     ]
    },
    {
     "name": "stdout",
     "output_type": "stream",
     "text": [
      "FB Parse completed.\n",
      "Added to corpora\n",
      "FB Parsing ekaterina.shakina.73\n",
      "FB Parse completed."
     ]
    },
    {
     "name": "stderr",
     "output_type": "stream",
     "text": [
      "\r",
      " 39%|███▊      | 17/44 [00:12<00:14,  1.82it/s]"
     ]
    },
    {
     "name": "stdout",
     "output_type": "stream",
     "text": [
      "\n",
      "Added to corpora\n",
      "Transformed corpora.\n",
      "FB Parsing eugene.colchev\n",
      "FB Parse completed.\n",
      "Added to corpora\n",
      "Transformed corpora.\n"
     ]
    },
    {
     "name": "stderr",
     "output_type": "stream",
     "text": [
      "\r",
      " 41%|████      | 18/44 [00:12<00:16,  1.55it/s]"
     ]
    },
    {
     "name": "stdout",
     "output_type": "stream",
     "text": [
      "FB Parsing eugene.kolganov\n"
     ]
    },
    {
     "name": "stderr",
     "output_type": "stream",
     "text": [
      "\r",
      " 43%|████▎     | 19/44 [00:13<00:14,  1.71it/s]"
     ]
    },
    {
     "name": "stdout",
     "output_type": "stream",
     "text": [
      "FB Parse completed.\n",
      "Added to corpora\n",
      "Transformed corpora.\n",
      "FB Parsing ekovnir\n",
      "FB Parse completed.\n",
      "Added to corpora\n",
      "Transformed corpora.\n"
     ]
    },
    {
     "name": "stderr",
     "output_type": "stream",
     "text": [
      "\r",
      " 45%|████▌     | 20/44 [00:15<00:26,  1.09s/it]"
     ]
    },
    {
     "name": "stdout",
     "output_type": "stream",
     "text": [
      "FB Parsing GeorgeBoissonade\n",
      "FB Parse completed."
     ]
    },
    {
     "name": "stderr",
     "output_type": "stream",
     "text": [
      "\r",
      " 48%|████▊     | 21/44 [00:16<00:19,  1.16it/s]"
     ]
    },
    {
     "name": "stdout",
     "output_type": "stream",
     "text": [
      "\n",
      "Added to corpora\n",
      "Transformed corpora.\n",
      "VK Parsing 4842118.0\n",
      "1-th public have been parsed. (23868023)\n",
      "2-th public have been parsed. (45938293)\n",
      "3-th public have been parsed. (88640919)\n",
      "4-th public have been parsed. (40393408)\n",
      "5-th public have been parsed. (30525261)\n",
      "VK Parse completed.\n",
      "FB Parsing iruzhentsev\n",
      "FB Parse completed.\n",
      "Added to corpora\n",
      "Transformed corpora.\n"
     ]
    },
    {
     "name": "stderr",
     "output_type": "stream",
     "text": [
      "\r",
      " 50%|█████     | 22/44 [00:20<00:40,  1.86s/it]"
     ]
    },
    {
     "name": "stdout",
     "output_type": "stream",
     "text": [
      "FB Parsing irina.gordinanevmerzhitskaya\n",
      "FB Parse completed.\n",
      "Added to corpora\n",
      "Transformed corpora.\n"
     ]
    },
    {
     "name": "stderr",
     "output_type": "stream",
     "text": [
      "\r",
      " 52%|█████▏    | 23/44 [00:21<00:35,  1.71s/it]"
     ]
    },
    {
     "name": "stdout",
     "output_type": "stream",
     "text": [
      "FB Parsing 100006012883228\n",
      "FB Parse completed."
     ]
    },
    {
     "name": "stderr",
     "output_type": "stream",
     "text": [
      "\r",
      " 55%|█████▍    | 24/44 [00:21<00:25,  1.29s/it]"
     ]
    },
    {
     "name": "stdout",
     "output_type": "stream",
     "text": [
      "\n",
      "Added to corpora\n",
      "Transformed corpora.\n",
      "FB Parsing 710434546\n"
     ]
    },
    {
     "name": "stderr",
     "output_type": "stream",
     "text": [
      "\r",
      " 57%|█████▋    | 25/44 [00:22<00:19,  1.02s/it]"
     ]
    },
    {
     "name": "stdout",
     "output_type": "stream",
     "text": [
      "FB Parse completed.\n",
      "Added to corpora\n",
      "Transformed corpora.\n",
      "FB Parsing 100007301839238\n"
     ]
    },
    {
     "name": "stderr",
     "output_type": "stream",
     "text": [
      "\r",
      " 59%|█████▉    | 26/44 [00:22<00:13,  1.29it/s]"
     ]
    },
    {
     "name": "stdout",
     "output_type": "stream",
     "text": [
      "FB Parse completed.\n",
      "Added to corpora\n",
      "Transformed corpora.\n",
      "FB Parsing ksusha.andreeva.14\n",
      "FB Parse completed.\n",
      "Added to corpora\n",
      "Transformed corpora.\n"
     ]
    },
    {
     "name": "stderr",
     "output_type": "stream",
     "text": [
      "\r",
      " 61%|██████▏   | 27/44 [00:24<00:20,  1.20s/it]"
     ]
    },
    {
     "name": "stdout",
     "output_type": "stream",
     "text": [
      "FB Parsing liubov.kirienko\n",
      "FB Parse completed."
     ]
    },
    {
     "name": "stderr",
     "output_type": "stream",
     "text": [
      "\r",
      " 64%|██████▎   | 28/44 [00:25<00:16,  1.06s/it]"
     ]
    },
    {
     "name": "stdout",
     "output_type": "stream",
     "text": [
      "\n",
      "Added to corpora\n",
      "Transformed corpora.\n",
      "FB Parsing maria.dolgikh.7\n",
      "FB Parse completed.\n",
      "Added to corpora\n",
      "Transformed corpora.\n"
     ]
    },
    {
     "name": "stderr",
     "output_type": "stream",
     "text": [
      "\r",
      " 66%|██████▌   | 29/44 [00:26<00:18,  1.21s/it]"
     ]
    },
    {
     "name": "stdout",
     "output_type": "stream",
     "text": [
      "FB Parsing nikita.lebedev.9484\n",
      "FB Parse completed.\n",
      "Added to corpora\n"
     ]
    },
    {
     "name": "stderr",
     "output_type": "stream",
     "text": [
      "\r",
      " 68%|██████▊   | 30/44 [00:28<00:17,  1.28s/it]"
     ]
    },
    {
     "name": "stdout",
     "output_type": "stream",
     "text": [
      "Transformed corpora.\n",
      "FB Parsing oleg.podolskiy\n"
     ]
    },
    {
     "name": "stderr",
     "output_type": "stream",
     "text": [
      "\r",
      " 70%|███████   | 31/44 [00:28<00:12,  1.00it/s]"
     ]
    },
    {
     "name": "stdout",
     "output_type": "stream",
     "text": [
      "FB Parse completed.\n",
      "Added to corpora\n",
      "Transformed corpora.\n",
      "FB Parsing olga.potemkina.125\n",
      "FB Parse completed.\n",
      "Added to corpora\n",
      "Transformed corpora.\n"
     ]
    },
    {
     "name": "stderr",
     "output_type": "stream",
     "text": [
      "\r",
      " 73%|███████▎  | 32/44 [00:29<00:12,  1.02s/it]"
     ]
    },
    {
     "name": "stdout",
     "output_type": "stream",
     "text": [
      "FB Parsing 100004241860483\n",
      "FB Parse completed."
     ]
    },
    {
     "name": "stderr",
     "output_type": "stream",
     "text": [
      "\r",
      " 75%|███████▌  | 33/44 [00:30<00:09,  1.20it/s]"
     ]
    },
    {
     "name": "stdout",
     "output_type": "stream",
     "text": [
      "\n",
      "Added to corpora\n",
      "Transformed corpora.\n",
      "FB Parsing ruslan.karmanny.57\n"
     ]
    },
    {
     "name": "stderr",
     "output_type": "stream",
     "text": [
      "\r",
      " 77%|███████▋  | 34/44 [00:31<00:10,  1.05s/it]"
     ]
    },
    {
     "name": "stdout",
     "output_type": "stream",
     "text": [
      "FB Parse completed.\n",
      "Added to corpora\n",
      "Transformed corpora.\n",
      "FB Parsing nacvasin\n",
      "FB Parse completed.\n",
      "Added to corpora"
     ]
    },
    {
     "name": "stderr",
     "output_type": "stream",
     "text": [
      "\r",
      " 80%|███████▉  | 35/44 [00:32<00:09,  1.04s/it]"
     ]
    },
    {
     "name": "stdout",
     "output_type": "stream",
     "text": [
      "\n",
      "Transformed corpora.\n",
      "FB Parsing tatiana.anisimova.50\n"
     ]
    },
    {
     "name": "stderr",
     "output_type": "stream",
     "text": [
      "\r",
      " 82%|████████▏ | 36/44 [00:33<00:07,  1.07it/s]"
     ]
    },
    {
     "name": "stdout",
     "output_type": "stream",
     "text": [
      "FB Parse completed.\n",
      "Added to corpora\n",
      "Transformed corpora.\n",
      "FB Parsing 1660860881\n",
      "FB Parse completed.\n",
      "Added to corpora\n",
      "Transformed corpora.\n"
     ]
    },
    {
     "name": "stderr",
     "output_type": "stream",
     "text": [
      "\r",
      " 84%|████████▍ | 37/44 [00:34<00:07,  1.07s/it]"
     ]
    },
    {
     "name": "stdout",
     "output_type": "stream",
     "text": [
      "FB Parsing tretyakov.vasily\n",
      "FB Parse completed.\n",
      "Added to corpora"
     ]
    },
    {
     "name": "stderr",
     "output_type": "stream",
     "text": [
      "\r",
      " 86%|████████▋ | 38/44 [00:35<00:06,  1.00s/it]"
     ]
    },
    {
     "name": "stdout",
     "output_type": "stream",
     "text": [
      "\n",
      "Transformed corpora.\n",
      "FB Parsing luckashinav\n",
      "FB Parse completed.\n",
      "Added to corpora"
     ]
    },
    {
     "name": "stderr",
     "output_type": "stream",
     "text": [
      "\r",
      " 89%|████████▊ | 39/44 [00:36<00:04,  1.00it/s]"
     ]
    },
    {
     "name": "stdout",
     "output_type": "stream",
     "text": [
      "\n",
      "Transformed corpora.\n",
      "FB Parsing yulia.gudach\n",
      "FB Parse completed.\n",
      "Added to corpora\n",
      "Transformed corpora.\n"
     ]
    },
    {
     "name": "stderr",
     "output_type": "stream",
     "text": [
      "\r",
      " 91%|█████████ | 40/44 [00:37<00:04,  1.05s/it]"
     ]
    },
    {
     "name": "stdout",
     "output_type": "stream",
     "text": [
      "FB Parsing yury.sushinov\n",
      "FB Parse completed.\n",
      "Added to corpora\n",
      "Transformed corpora.\n"
     ]
    },
    {
     "name": "stderr",
     "output_type": "stream",
     "text": [
      "\r",
      " 93%|█████████▎| 41/44 [00:39<00:03,  1.17s/it]"
     ]
    },
    {
     "name": "stdout",
     "output_type": "stream",
     "text": [
      "FB Parsing peskov\n"
     ]
    },
    {
     "name": "stderr",
     "output_type": "stream",
     "text": [
      "\r",
      " 95%|█████████▌| 42/44 [00:40<00:02,  1.32s/it]"
     ]
    },
    {
     "name": "stdout",
     "output_type": "stream",
     "text": [
      "FB Parse completed.\n",
      "Added to corpora\n",
      "Transformed corpora.\n",
      "FB Parsing 100007131103601\n",
      "FB Parse completed.\n"
     ]
    },
    {
     "name": "stderr",
     "output_type": "stream",
     "text": [
      "\r",
      " 98%|█████████▊| 43/44 [00:42<00:01,  1.26s/it]"
     ]
    },
    {
     "name": "stdout",
     "output_type": "stream",
     "text": [
      "Added to corpora\n",
      "Transformed corpora.\n",
      "VK Parsing 2416234.0\n",
      "1-th public have been parsed. (31920990)\n",
      "2-th public have been parsed. (1967021)\n",
      "3-th public have been parsed. (227)\n",
      "4-th public have been parsed. (8179697)\n",
      "VK Parse completed.\n",
      "FB Parsing dmitry.zemtsov\n",
      "FB Parse completed.\n",
      "Added to corpora\n",
      "Transformed corpora.\n"
     ]
    },
    {
     "name": "stderr",
     "output_type": "stream",
     "text": [
      "100%|██████████| 44/44 [00:45<00:00,  1.98s/it]\n"
     ]
    }
   ],
   "source": [
    "offset = 0\n",
    "for index, row in tqdm.tqdm(known.iloc[offset:, :].iterrows(), total=len(known) - offset):\n",
    "    user_vk = row['vk_id']\n",
    "    if str(user_vk) == \"nan\":\n",
    "        user_vk = None\n",
    "    user_fb = row['FB']\n",
    "    if str(user_fb) == \"nan\":\n",
    "        user_fb = None\n",
    "    try:\n",
    "        verdict = result_class.get_result(user_vk, user_fb)\n",
    "        result_class.texts = []\n",
    "        for cat, value in verdict:\n",
    "            known.loc[index, cat] = value\n",
    "    except ValueError:\n",
    "        for cat in categories:\n",
    "            known.loc[index, cat] = 0\n",
    "    except IndexError:\n",
    "        for cat in categories:\n",
    "            known.loc[index, cat] = 0"
   ]
  },
  {
   "cell_type": "code",
   "execution_count": 38,
   "metadata": {
    "ExecuteTime": {
     "end_time": "2017-09-12T23:59:44.105751Z",
     "start_time": "2017-09-12T23:59:43.582881Z"
    },
    "collapsed": true
   },
   "outputs": [],
   "source": [
    "norm_dict = {\"values\": []}\n",
    "for name in known.ФИ:\n",
    "    results = []\n",
    "    for col in known[known.ФИ == name].iloc[:, 4:].columns:\n",
    "        results.append({\"name\": norm_names[col], \"value\": float(known.loc[known.ФИ == name, col].values[0])})\n",
    "    norm_dict['values'].append({\"name\": name, \"results\": results})"
   ]
  },
  {
   "cell_type": "code",
   "execution_count": 42,
   "metadata": {
    "ExecuteTime": {
     "end_time": "2017-09-13T00:00:50.038475Z",
     "start_time": "2017-09-13T00:00:50.026769Z"
    },
    "scrolled": false
   },
   "outputs": [
    {
     "data": {
      "text/plain": [
       "[('Образование', 'Предпринимательство'),\n",
       " ('Строительство', 'Образование'),\n",
       " ('Инвестиции', 'Спорт'),\n",
       " ('Спорт', 'Предпринимательство'),\n",
       " ('Реклама и маркетинг', 'Образование'),\n",
       " ('Образование', 'Здравоохранение'),\n",
       " ('Государственное управление', 'Корпоративное управление'),\n",
       " ('Образование', 'Предпринимательство'),\n",
       " ('Образование', 'Промышленность'),\n",
       " ('Образование', 'Реклама и маркетинг'),\n",
       " ('Искусство', 'Исследования и разработки'),\n",
       " ('Спорт', 'Образование'),\n",
       " ('Образование', 'Предпринимательство'),\n",
       " ('Спорт', 'Предпринимательство'),\n",
       " ('Образование', 'Предпринимательство'),\n",
       " ('Инвестиции', 'Спорт'),\n",
       " ('Образование', 'Предпринимательство'),\n",
       " ('Образование', 'Предпринимательство'),\n",
       " ('Социальная защита', 'Образование'),\n",
       " ('Реклама и маркетинг', 'Образование'),\n",
       " ('Здравоохранение', 'Благотворительность'),\n",
       " ('Предпринимательство', 'Образование'),\n",
       " ('Предпринимательство', 'Образование'),\n",
       " ('Образование', 'Строительство'),\n",
       " ('Строительство', 'Исследования и разработки'),\n",
       " ('Здравоохранение', 'Безопасность'),\n",
       " ('Образование', 'Предпринимательство'),\n",
       " ('Предпринимательство', 'Образование'),\n",
       " ('Образование', 'Предпринимательство'),\n",
       " ('Предпринимательство', 'Образование'),\n",
       " ('Строительство', 'Образование'),\n",
       " ('Образование', 'Предпринимательство'),\n",
       " ('Здравоохранение', 'Государственное управление'),\n",
       " ('Предпринимательство', 'Образование'),\n",
       " ('Образование', 'Предпринимательство'),\n",
       " ('Образование', 'Предпринимательство'),\n",
       " ('Благотворительность', 'Предпринимательство'),\n",
       " ('Образование', 'Предпринимательство'),\n",
       " ('Образование', 'Предпринимательство'),\n",
       " ('Реклама и маркетинг', 'Образование'),\n",
       " ('Реклама и маркетинг', 'Образование'),\n",
       " ('Образование', 'Предпринимательство'),\n",
       " ('Образование', 'Исследования и разработки'),\n",
       " ('Образование', 'Предпринимательство')]"
      ]
     },
     "execution_count": 42,
     "metadata": {},
     "output_type": "execute_result"
    }
   ],
   "source": [
    "[(norm_categories[x.argsort()[-1]], norm_categories[x.argsort()[-2]]) for x in known.loc[:, categories].values]"
   ]
  },
  {
   "cell_type": "code",
   "execution_count": 43,
   "metadata": {
    "ExecuteTime": {
     "end_time": "2017-09-13T00:01:08.518349Z",
     "start_time": "2017-09-13T00:01:08.428095Z"
    }
   },
   "outputs": [
    {
     "data": {
      "text/plain": [
       "('Искусство', 0.11816754192113876)"
      ]
     },
     "execution_count": 43,
     "metadata": {},
     "output_type": "execute_result"
    },
    {
     "data": {
      "text/plain": [
       "('Политика', 0.1563805639743805)"
      ]
     },
     "execution_count": 43,
     "metadata": {},
     "output_type": "execute_result"
    },
    {
     "data": {
      "text/plain": [
       "('Финансы', 0.13835492730140686)"
      ]
     },
     "execution_count": 43,
     "metadata": {},
     "output_type": "execute_result"
    },
    {
     "data": {
      "text/plain": [
       "('Стратегическое управление', 0.2304811328649521)"
      ]
     },
     "execution_count": 43,
     "metadata": {},
     "output_type": "execute_result"
    },
    {
     "data": {
      "text/plain": [
       "('Юриспруденция', 0.07182104140520096)"
      ]
     },
     "execution_count": 43,
     "metadata": {},
     "output_type": "execute_result"
    },
    {
     "data": {
      "text/plain": [
       "('Исследования и разработки', 0.2729760706424713)"
      ]
     },
     "execution_count": 43,
     "metadata": {},
     "output_type": "execute_result"
    },
    {
     "data": {
      "text/plain": [
       "('Промышленность', 0.23073923587799072)"
      ]
     },
     "execution_count": 43,
     "metadata": {},
     "output_type": "execute_result"
    },
    {
     "data": {
      "text/plain": [
       "('Образование', 0.36262887716293335)"
      ]
     },
     "execution_count": 43,
     "metadata": {},
     "output_type": "execute_result"
    },
    {
     "data": {
      "text/plain": [
       "('Благотворительность', 0.059181734919548035)"
      ]
     },
     "execution_count": 43,
     "metadata": {},
     "output_type": "execute_result"
    },
    {
     "data": {
      "text/plain": [
       "('Здравоохранение', 0.16277647018432617)"
      ]
     },
     "execution_count": 43,
     "metadata": {},
     "output_type": "execute_result"
    },
    {
     "data": {
      "text/plain": [
       "('Сельское хозяйство', 0.10010015964508057)"
      ]
     },
     "execution_count": 43,
     "metadata": {},
     "output_type": "execute_result"
    },
    {
     "data": {
      "text/plain": [
       "('Государственное управление', 0.1793888360261917)"
      ]
     },
     "execution_count": 43,
     "metadata": {},
     "output_type": "execute_result"
    },
    {
     "data": {
      "text/plain": [
       "('Реклама и маркетинг', 0.20943303406238556)"
      ]
     },
     "execution_count": 43,
     "metadata": {},
     "output_type": "execute_result"
    },
    {
     "data": {
      "text/plain": [
       "('Инновации и модернизация', 0.237436905503273)"
      ]
     },
     "execution_count": 43,
     "metadata": {},
     "output_type": "execute_result"
    },
    {
     "data": {
      "text/plain": [
       "('Безопасность', 0.11387616395950317)"
      ]
     },
     "execution_count": 43,
     "metadata": {},
     "output_type": "execute_result"
    },
    {
     "data": {
      "text/plain": [
       "('Военное дело', 0.043465837836265564)"
      ]
     },
     "execution_count": 43,
     "metadata": {},
     "output_type": "execute_result"
    },
    {
     "data": {
      "text/plain": [
       "('Корпоративное управление', 0.1961883306503296)"
      ]
     },
     "execution_count": 43,
     "metadata": {},
     "output_type": "execute_result"
    },
    {
     "data": {
      "text/plain": [
       "('Социальная защита', 0.1679375171661377)"
      ]
     },
     "execution_count": 43,
     "metadata": {},
     "output_type": "execute_result"
    },
    {
     "data": {
      "text/plain": [
       "('Строительство', 0.19163548946380615)"
      ]
     },
     "execution_count": 43,
     "metadata": {},
     "output_type": "execute_result"
    },
    {
     "data": {
      "text/plain": [
       "('Предпринимательство', 0.3297472596168518)"
      ]
     },
     "execution_count": 43,
     "metadata": {},
     "output_type": "execute_result"
    },
    {
     "data": {
      "text/plain": [
       "('Спорт', 0.022987650707364082)"
      ]
     },
     "execution_count": 43,
     "metadata": {},
     "output_type": "execute_result"
    },
    {
     "data": {
      "text/plain": [
       "('Инвестиции', 0.20343999564647675)"
      ]
     },
     "execution_count": 43,
     "metadata": {},
     "output_type": "execute_result"
    }
   ],
   "source": [
    "means = []\n",
    "for col in known.iloc[:, 4:].columns:\n",
    "    norm_names[col], known.loc[:, col].median()\n",
    "    means.append(known.loc[:, col].median())"
   ]
  },
  {
   "cell_type": "code",
   "execution_count": 53,
   "metadata": {
    "ExecuteTime": {
     "end_time": "2017-09-11T01:42:14.791267Z",
     "start_time": "2017-09-11T01:42:14.787347Z"
    },
    "collapsed": true
   },
   "outputs": [],
   "source": [
    "# t is from user-gen up\n",
    "means_2 = [(a + b) / 2 for a, b in zip([z[1] for z in t], [b for b in means])]"
   ]
  },
  {
   "cell_type": "code",
   "execution_count": 54,
   "metadata": {
    "ExecuteTime": {
     "end_time": "2017-09-11T01:42:16.418738Z",
     "start_time": "2017-09-11T01:42:16.413160Z"
    },
    "collapsed": true
   },
   "outputs": [],
   "source": [
    "json.dump(dict(zip(categories, means_2)), open(\"margins.json\", \"w\"))"
   ]
  },
  {
   "cell_type": "code",
   "execution_count": 27,
   "metadata": {
    "ExecuteTime": {
     "end_time": "2017-09-11T00:39:56.711929Z",
     "start_time": "2017-09-11T00:39:56.681528Z"
    },
    "collapsed": true
   },
   "outputs": [],
   "source": [
    "known.to_csv(\"assets/known.csv\")\n",
    "json.dump(norm_dict, open(\"assets/temporary_result.json\", \"w\"))"
   ]
  },
  {
   "cell_type": "code",
   "execution_count": 51,
   "metadata": {
    "ExecuteTime": {
     "end_time": "2017-09-11T00:53:20.743312Z",
     "start_time": "2017-09-11T00:53:20.401232Z"
    }
   },
   "outputs": [
    {
     "name": "stdout",
     "output_type": "stream",
     "text": [
      "Александрина Клюс "
     ]
    },
    {
     "data": {
      "text/plain": [
       "array(['education', 'smm', 'entrepreneurship', 'strateg_management',\n",
       "       'politics'],\n",
       "      dtype='<U18')"
      ]
     },
     "execution_count": 51,
     "metadata": {},
     "output_type": "execute_result"
    },
    {
     "name": "stdout",
     "output_type": "stream",
     "text": [
      "Ангелина Зонова "
     ]
    },
    {
     "data": {
      "text/plain": [
       "array(['education', 'entrepreneurship', 'smm', 'corporative_management',\n",
       "       'building'],\n",
       "      dtype='<U22')"
      ]
     },
     "execution_count": 51,
     "metadata": {},
     "output_type": "execute_result"
    },
    {
     "name": "stdout",
     "output_type": "stream",
     "text": [
      "Владислав Широков "
     ]
    },
    {
     "data": {
      "text/plain": [
       "array([], dtype=float64)"
      ]
     },
     "execution_count": 51,
     "metadata": {},
     "output_type": "execute_result"
    },
    {
     "name": "stdout",
     "output_type": "stream",
     "text": [
      "Галина Жукова "
     ]
    },
    {
     "data": {
      "text/plain": [
       "array(['sport'],\n",
       "      dtype='<U5')"
      ]
     },
     "execution_count": 51,
     "metadata": {},
     "output_type": "execute_result"
    },
    {
     "name": "stdout",
     "output_type": "stream",
     "text": [
      "Жанна Кадылева "
     ]
    },
    {
     "data": {
      "text/plain": [
       "array(['education', 'smm', 'entrepreneurship', 'law',\n",
       "       'corporative_management'],\n",
       "      dtype='<U22')"
      ]
     },
     "execution_count": 51,
     "metadata": {},
     "output_type": "execute_result"
    },
    {
     "name": "stdout",
     "output_type": "stream",
     "text": [
      "Ирина Горькова "
     ]
    },
    {
     "data": {
      "text/plain": [
       "array(['elaboration', 'corporative_management', 'strateg_management',\n",
       "       'education', 'innovations'],\n",
       "      dtype='<U22')"
      ]
     },
     "execution_count": 51,
     "metadata": {},
     "output_type": "execute_result"
    },
    {
     "name": "stdout",
     "output_type": "stream",
     "text": [
      "Ирина Григоренко "
     ]
    },
    {
     "data": {
      "text/plain": [
       "array(['law', 'education', 'government_management',\n",
       "       'corporative_management', 'public_health'],\n",
       "      dtype='<U22')"
      ]
     },
     "execution_count": 51,
     "metadata": {},
     "output_type": "execute_result"
    },
    {
     "name": "stdout",
     "output_type": "stream",
     "text": [
      "Наталья Кульбятская "
     ]
    },
    {
     "data": {
      "text/plain": [
       "array(['education', 'elaboration', 'strateg_management',\n",
       "       'entrepreneurship', 'corporative_management'],\n",
       "      dtype='<U22')"
      ]
     },
     "execution_count": 51,
     "metadata": {},
     "output_type": "execute_result"
    },
    {
     "name": "stdout",
     "output_type": "stream",
     "text": [
      "Нелли Бадалян "
     ]
    },
    {
     "data": {
      "text/plain": [
       "array(['industry', 'education', 'elaboration', 'corporative_management',\n",
       "       'law'],\n",
       "      dtype='<U22')"
      ]
     },
     "execution_count": 51,
     "metadata": {},
     "output_type": "execute_result"
    },
    {
     "name": "stdout",
     "output_type": "stream",
     "text": [
      "Юлия Ханьжина "
     ]
    },
    {
     "data": {
      "text/plain": [
       "array(['education', 'smm', 'strateg_management', 'corporative_management',\n",
       "       'finances'],\n",
       "      dtype='<U22')"
      ]
     },
     "execution_count": 51,
     "metadata": {},
     "output_type": "execute_result"
    },
    {
     "name": "stdout",
     "output_type": "stream",
     "text": [
      "Alexey Khoryushin "
     ]
    },
    {
     "data": {
      "text/plain": [
       "array(['smm', 'strateg_management', 'charity', 'art'],\n",
       "      dtype='<U18')"
      ]
     },
     "execution_count": 51,
     "metadata": {},
     "output_type": "execute_result"
    },
    {
     "name": "stdout",
     "output_type": "stream",
     "text": [
      "Andrey Siling "
     ]
    },
    {
     "data": {
      "text/plain": [
       "array(['sport', 'art', 'military'],\n",
       "      dtype='<U8')"
      ]
     },
     "execution_count": 51,
     "metadata": {},
     "output_type": "execute_result"
    },
    {
     "name": "stdout",
     "output_type": "stream",
     "text": [
      "Denis  Trunov "
     ]
    },
    {
     "data": {
      "text/plain": [
       "array(['education', 'entrepreneurship', 'elaboration', 'industry',\n",
       "       'innovations'],\n",
       "      dtype='<U16')"
      ]
     },
     "execution_count": 51,
     "metadata": {},
     "output_type": "execute_result"
    },
    {
     "name": "stdout",
     "output_type": "stream",
     "text": [
      "Denis Unzhakov "
     ]
    },
    {
     "data": {
      "text/plain": [
       "array(['sport', 'charity', 'industry', 'military'],\n",
       "      dtype='<U8')"
      ]
     },
     "execution_count": 51,
     "metadata": {},
     "output_type": "execute_result"
    },
    {
     "name": "stdout",
     "output_type": "stream",
     "text": [
      "Dima Blaginin "
     ]
    },
    {
     "data": {
      "text/plain": [
       "array(['charity', 'politics', 'education', 'law', 'industry'],\n",
       "      dtype='<U11')"
      ]
     },
     "execution_count": 51,
     "metadata": {},
     "output_type": "execute_result"
    },
    {
     "name": "stdout",
     "output_type": "stream",
     "text": [
      "Ekaterina Aksenova "
     ]
    },
    {
     "data": {
      "text/plain": [
       "array([], dtype=float64)"
      ]
     },
     "execution_count": 51,
     "metadata": {},
     "output_type": "execute_result"
    },
    {
     "name": "stdout",
     "output_type": "stream",
     "text": [
      "Ekaterina Shakina "
     ]
    },
    {
     "data": {
      "text/plain": [
       "array(['education', 'corporative_management', 'strateg_management',\n",
       "       'elaboration', 'entrepreneurship'],\n",
       "      dtype='<U22')"
      ]
     },
     "execution_count": 51,
     "metadata": {},
     "output_type": "execute_result"
    },
    {
     "name": "stdout",
     "output_type": "stream",
     "text": [
      "Eugene Colchev "
     ]
    },
    {
     "data": {
      "text/plain": [
       "array(['corporative_management', 'education', 'strateg_management',\n",
       "       'entrepreneurship', 'law'],\n",
       "      dtype='<U22')"
      ]
     },
     "execution_count": 51,
     "metadata": {},
     "output_type": "execute_result"
    },
    {
     "name": "stdout",
     "output_type": "stream",
     "text": [
      "Eugene Kolganov "
     ]
    },
    {
     "data": {
      "text/plain": [
       "array(['entrepreneurship', 'social_safety', 'elaboration', 'finances',\n",
       "       'investitions'],\n",
       "      dtype='<U16')"
      ]
     },
     "execution_count": 51,
     "metadata": {},
     "output_type": "execute_result"
    },
    {
     "name": "stdout",
     "output_type": "stream",
     "text": [
      "Evgeny Kovnir "
     ]
    },
    {
     "data": {
      "text/plain": [
       "array(['smm', 'education', 'corporative_management', 'industry'],\n",
       "      dtype='<U22')"
      ]
     },
     "execution_count": 51,
     "metadata": {},
     "output_type": "execute_result"
    },
    {
     "name": "stdout",
     "output_type": "stream",
     "text": [
      "George Boissonade "
     ]
    },
    {
     "data": {
      "text/plain": [
       "array(['charity', 'public_health'],\n",
       "      dtype='<U13')"
      ]
     },
     "execution_count": 51,
     "metadata": {},
     "output_type": "execute_result"
    },
    {
     "name": "stdout",
     "output_type": "stream",
     "text": [
      "Igor  Ruzhentsev "
     ]
    },
    {
     "data": {
      "text/plain": [
       "array(['sport', 'charity'],\n",
       "      dtype='<U7')"
      ]
     },
     "execution_count": 51,
     "metadata": {},
     "output_type": "execute_result"
    },
    {
     "name": "stdout",
     "output_type": "stream",
     "text": [
      "Irina Gordina-Nevmerzhitskaya "
     ]
    },
    {
     "data": {
      "text/plain": [
       "array(['smm', 'entrepreneurship', 'strateg_management',\n",
       "       'corporative_management', 'industry'],\n",
       "      dtype='<U22')"
      ]
     },
     "execution_count": 51,
     "metadata": {},
     "output_type": "execute_result"
    },
    {
     "name": "stdout",
     "output_type": "stream",
     "text": [
      "Ivan  Aristov "
     ]
    },
    {
     "data": {
      "text/plain": [
       "array(['sport'],\n",
       "      dtype='<U5')"
      ]
     },
     "execution_count": 51,
     "metadata": {},
     "output_type": "execute_result"
    },
    {
     "name": "stdout",
     "output_type": "stream",
     "text": [
      "Katerina  Novikova "
     ]
    },
    {
     "data": {
      "text/plain": [
       "array(['entrepreneurship', 'elaboration', 'sport', 'industry',\n",
       "       'agriculture'],\n",
       "      dtype='<U16')"
      ]
     },
     "execution_count": 51,
     "metadata": {},
     "output_type": "execute_result"
    },
    {
     "name": "stdout",
     "output_type": "stream",
     "text": [
      "Kirill Konev "
     ]
    },
    {
     "data": {
      "text/plain": [
       "array(['safety', 'elaboration', 'innovations', 'building'],\n",
       "      dtype='<U11')"
      ]
     },
     "execution_count": 51,
     "metadata": {},
     "output_type": "execute_result"
    },
    {
     "name": "stdout",
     "output_type": "stream",
     "text": [
      "Ksusha Andreeva "
     ]
    },
    {
     "data": {
      "text/plain": [
       "array(['education', 'elaboration', 'entrepreneurship', 'smm', 'innovations'],\n",
       "      dtype='<U16')"
      ]
     },
     "execution_count": 51,
     "metadata": {},
     "output_type": "execute_result"
    },
    {
     "name": "stdout",
     "output_type": "stream",
     "text": [
      "Liubov Kirienko "
     ]
    },
    {
     "data": {
      "text/plain": [
       "array(['entrepreneurship', 'strateg_management', 'elaboration', 'politics',\n",
       "       'innovations'],\n",
       "      dtype='<U18')"
      ]
     },
     "execution_count": 51,
     "metadata": {},
     "output_type": "execute_result"
    },
    {
     "name": "stdout",
     "output_type": "stream",
     "text": [
      "Maria Dolgikh "
     ]
    },
    {
     "data": {
      "text/plain": [
       "array(['politics', 'smm', 'industry', 'art'],\n",
       "      dtype='<U8')"
      ]
     },
     "execution_count": 51,
     "metadata": {},
     "output_type": "execute_result"
    },
    {
     "name": "stdout",
     "output_type": "stream",
     "text": [
      "Nikita Lebedev "
     ]
    },
    {
     "data": {
      "text/plain": [
       "array(['charity', 'smm', 'sport', 'social_safety'],\n",
       "      dtype='<U13')"
      ]
     },
     "execution_count": 51,
     "metadata": {},
     "output_type": "execute_result"
    },
    {
     "name": "stdout",
     "output_type": "stream",
     "text": [
      "Oleg Podolskiy "
     ]
    },
    {
     "data": {
      "text/plain": [
       "array(['building', 'social_safety', 'entrepreneurship', 'agriculture',\n",
       "       'investitions'],\n",
       "      dtype='<U16')"
      ]
     },
     "execution_count": 51,
     "metadata": {},
     "output_type": "execute_result"
    },
    {
     "name": "stdout",
     "output_type": "stream",
     "text": [
      "Olga Potemkina "
     ]
    },
    {
     "data": {
      "text/plain": [
       "array(['smm', 'strateg_management', 'corporative_management', 'sport',\n",
       "       'finances'],\n",
       "      dtype='<U22')"
      ]
     },
     "execution_count": 51,
     "metadata": {},
     "output_type": "execute_result"
    },
    {
     "name": "stdout",
     "output_type": "stream",
     "text": [
      "Olya  Zaytseva "
     ]
    },
    {
     "data": {
      "text/plain": [
       "array(['strateg_management', 'entrepreneurship', 'smm',\n",
       "       'corporative_management', 'innovations'],\n",
       "      dtype='<U22')"
      ]
     },
     "execution_count": 51,
     "metadata": {},
     "output_type": "execute_result"
    },
    {
     "name": "stdout",
     "output_type": "stream",
     "text": [
      "Ruslan Karmannyy "
     ]
    },
    {
     "data": {
      "text/plain": [
       "array(['strateg_management', 'smm', 'entrepreneurship',\n",
       "       'corporative_management', 'innovations'],\n",
       "      dtype='<U22')"
      ]
     },
     "execution_count": 51,
     "metadata": {},
     "output_type": "execute_result"
    },
    {
     "name": "stdout",
     "output_type": "stream",
     "text": [
      "Sergey Nakvasin "
     ]
    },
    {
     "data": {
      "text/plain": [
       "array(['education', 'entrepreneurship', 'elaboration',\n",
       "       'corporative_management', 'strateg_management'],\n",
       "      dtype='<U22')"
      ]
     },
     "execution_count": 51,
     "metadata": {},
     "output_type": "execute_result"
    },
    {
     "name": "stdout",
     "output_type": "stream",
     "text": [
      "Tatiana Anisimova "
     ]
    },
    {
     "data": {
      "text/plain": [
       "array(['sport', 'strateg_management', 'entrepreneurship', 'smm', 'charity'],\n",
       "      dtype='<U18')"
      ]
     },
     "execution_count": 51,
     "metadata": {},
     "output_type": "execute_result"
    },
    {
     "name": "stdout",
     "output_type": "stream",
     "text": [
      "Tatyana Mazhutis "
     ]
    },
    {
     "data": {
      "text/plain": [
       "array(['charity', 'law', 'finances', 'social_safety'],\n",
       "      dtype='<U13')"
      ]
     },
     "execution_count": 51,
     "metadata": {},
     "output_type": "execute_result"
    },
    {
     "name": "stdout",
     "output_type": "stream",
     "text": [
      "Tretyakov Vasily "
     ]
    },
    {
     "data": {
      "text/plain": [
       "array(['education', 'elaboration', 'strateg_management',\n",
       "       'entrepreneurship', 'smm'],\n",
       "      dtype='<U22')"
      ]
     },
     "execution_count": 51,
     "metadata": {},
     "output_type": "execute_result"
    },
    {
     "name": "stdout",
     "output_type": "stream",
     "text": [
      "Varvara  Lukashina "
     ]
    },
    {
     "data": {
      "text/plain": [
       "array(['education', 'entrepreneurship', 'charity', 'elaboration',\n",
       "       'corporative_management'],\n",
       "      dtype='<U22')"
      ]
     },
     "execution_count": 51,
     "metadata": {},
     "output_type": "execute_result"
    },
    {
     "name": "stdout",
     "output_type": "stream",
     "text": [
      "Yulia  Gudach "
     ]
    },
    {
     "data": {
      "text/plain": [
       "array(['smm', 'education', 'politics', 'elaboration', 'industry'],\n",
       "      dtype='<U11')"
      ]
     },
     "execution_count": 51,
     "metadata": {},
     "output_type": "execute_result"
    },
    {
     "name": "stdout",
     "output_type": "stream",
     "text": [
      "Yury Sushinov "
     ]
    },
    {
     "data": {
      "text/plain": [
       "array(['smm', 'education', 'strateg_management', 'entrepreneurship',\n",
       "       'industry'],\n",
       "      dtype='<U18')"
      ]
     },
     "execution_count": 51,
     "metadata": {},
     "output_type": "execute_result"
    },
    {
     "name": "stdout",
     "output_type": "stream",
     "text": [
      "Песков Дмитрий "
     ]
    },
    {
     "data": {
      "text/plain": [
       "array(['smm', 'education', 'strateg_management', 'entrepreneurship',\n",
       "       'corporative_management'],\n",
       "      dtype='<U22')"
      ]
     },
     "execution_count": 51,
     "metadata": {},
     "output_type": "execute_result"
    },
    {
     "name": "stdout",
     "output_type": "stream",
     "text": [
      "Гнитько Ксения "
     ]
    },
    {
     "data": {
      "text/plain": [
       "array(['charity', 'education', 'law', 'smm', 'industry'],\n",
       "      dtype='<U9')"
      ]
     },
     "execution_count": 51,
     "metadata": {},
     "output_type": "execute_result"
    },
    {
     "name": "stdout",
     "output_type": "stream",
     "text": [
      "Дмитрий Земцов "
     ]
    },
    {
     "data": {
      "text/plain": [
       "array(['strateg_management', 'entrepreneurship', 'elaboration', 'smm',\n",
       "       'innovations'],\n",
       "      dtype='<U18')"
      ]
     },
     "execution_count": 51,
     "metadata": {},
     "output_type": "execute_result"
    }
   ],
   "source": [
    "tt = []\n",
    "for i, item in known.iterrows():\n",
    "    print(item['ФИ'], end=\" \")\n",
    "    accepted_cols = []\n",
    "    for col, margin in dict(zip(categories, means_2)).items():\n",
    "        if item[col] > 1.1 * margin:\n",
    "            accepted_cols.append(col)\n",
    "    np.array(accepted_cols)[item[accepted_cols].argsort()[::-1]][:5]"
   ]
  },
  {
   "cell_type": "code",
   "execution_count": null,
   "metadata": {
    "collapsed": true
   },
   "outputs": [],
   "source": []
  },
  {
   "cell_type": "code",
   "execution_count": null,
   "metadata": {
    "collapsed": true
   },
   "outputs": [],
   "source": []
  },
  {
   "cell_type": "code",
   "execution_count": null,
   "metadata": {
    "ExecuteTime": {
     "end_time": "2017-08-20T22:09:41.691154Z",
     "start_time": "2017-08-20T22:09:41.651791Z"
    },
    "collapsed": true
   },
   "outputs": [],
   "source": [
    "import vk_api\n",
    "from config import VK_TOKEN"
   ]
  },
  {
   "cell_type": "code",
   "execution_count": null,
   "metadata": {
    "ExecuteTime": {
     "end_time": "2017-08-20T22:09:41.764581Z",
     "start_time": "2017-08-20T22:09:41.722894Z"
    },
    "collapsed": true
   },
   "outputs": [],
   "source": [
    "vk = vk_api.VkApi(token=VK_TOKEN)\n",
    "vk = vk.get_api()"
   ]
  },
  {
   "cell_type": "code",
   "execution_count": null,
   "metadata": {
    "ExecuteTime": {
     "end_time": "2017-08-20T22:09:43.840139Z",
     "start_time": "2017-08-20T22:09:41.768188Z"
    },
    "collapsed": true,
    "scrolled": false
   },
   "outputs": [],
   "source": [
    "t = [a['text'] for a in vk.newsfeed.search(q=\"корпоративное управление\", count=200)['items']]"
   ]
  },
  {
   "cell_type": "code",
   "execution_count": null,
   "metadata": {
    "ExecuteTime": {
     "end_time": "2017-08-20T22:09:43.864179Z",
     "start_time": "2017-08-20T22:09:43.843135Z"
    },
    "collapsed": true,
    "scrolled": false
   },
   "outputs": [],
   "source": [
    "with open('t.txt', 'w') as f:\n",
    "    for line in t:\n",
    "        _ = f.write(f'{line}\\n')"
   ]
  },
  {
   "cell_type": "code",
   "execution_count": null,
   "metadata": {
    "collapsed": true
   },
   "outputs": [],
   "source": []
  }
 ],
 "metadata": {
  "hide_input": false,
  "kernelspec": {
   "display_name": "Python 3",
   "language": "python",
   "name": "python3"
  },
  "language_info": {
   "codemirror_mode": {
    "name": "ipython",
    "version": 3
   },
   "file_extension": ".py",
   "mimetype": "text/x-python",
   "name": "python",
   "nbconvert_exporter": "python",
   "pygments_lexer": "ipython3",
   "version": "3.6.2"
  }
 },
 "nbformat": 4,
 "nbformat_minor": 2
}
