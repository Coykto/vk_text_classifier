{
 "cells": [
  {
   "cell_type": "code",
   "execution_count": 1,
   "metadata": {
    "ExecuteTime": {
     "end_time": "2017-09-11T00:29:36.326788Z",
     "start_time": "2017-09-11T00:29:07.844152Z"
    },
    "scrolled": true
   },
   "outputs": [
    {
     "name": "stderr",
     "output_type": "stream",
     "text": [
      "Using TensorFlow backend.\n"
     ]
    }
   ],
   "source": [
    "import itertools\n",
    "import sys\n",
    "import json\n",
    "import warnings\n",
    "warnings.filterwarnings(\"ignore\")\n",
    "\n",
    "from util import *\n",
    "from scipy.sparse import vstack, csr_matrix, coo_matrix\n",
    "from sklearn.model_selection import train_test_split\n",
    "\n",
    "import pandas as pd\n",
    "import numpy as np\n",
    "from sklearn.feature_extraction.text import TfidfVectorizer\n",
    "from sklearn.preprocessing import LabelEncoder\n",
    "from keras.models import load_model\n",
    "from sklearn.utils import class_weight\n",
    "from keras.layers import *\n",
    "from keras.models import Model\n",
    "from keras.callbacks import EarlyStopping, ReduceLROnPlateau, ModelCheckpoint, TensorBoard, CSVLogger"
   ]
  },
  {
   "cell_type": "markdown",
   "metadata": {},
   "source": [
    "# Corpora for training model"
   ]
  },
  {
   "cell_type": "code",
   "execution_count": 2,
   "metadata": {
    "ExecuteTime": {
     "end_time": "2017-09-11T00:29:36.353585Z",
     "start_time": "2017-09-11T00:29:36.329042Z"
    },
    "collapsed": true
   },
   "outputs": [],
   "source": [
    "sources = {'art': [60114472, 19191317], \n",
    "           'politics': [29534144, 23482909], \n",
    "           'finances': [62438886, 81354264],\n",
    "           'strateg_management': [\"http://www.stplan.ru/\", \"http://www.30n.ru/2/1.html\"], \n",
    "           'law': [65974416, 79084019],\n",
    "           'elaboration': [\"https://vk.com/\"], \n",
    "           'industry': [67183197, 66233468], \n",
    "           'education': [30558759, 98643656],\n",
    "#            'social_business': [23509868, 56821139],\n",
    "           'charity': [],\n",
    "           'public_health': [78860407, 61490488],\n",
    "           'agriculture': [\"http://www.nsh.ru/\", \"http://россельхоз.рф/\"],\n",
    "           'government_management': [\"http://be5.biz/upravlenie/gosudarstvennoe_upravlenie.html\", 97296142],\n",
    "           'smm': [74686342, 79925455],\n",
    "           'innovations': [98643656, 63337812],\n",
    "           'safety': [37959220, 10933209],\n",
    "           'military': [\"http://www.soldiering.ru\", \"https://voennoe-delo.com\"],\n",
    "           'corporative_management': [\"http://www.cfin.ru/management/\"],\n",
    "           'social_safety': [49582956, 72388807],\n",
    "           'building': [30713157, 26978036],\n",
    "           'entrepreneurship': [69560028, 73537456],\n",
    "           'sport': [29809500, 128350290],\n",
    "           'investitions': [37876217, 3800580]\n",
    "          }"
   ]
  },
  {
   "cell_type": "code",
   "execution_count": 3,
   "metadata": {
    "ExecuteTime": {
     "end_time": "2017-09-11T00:29:36.392883Z",
     "start_time": "2017-09-11T00:29:36.357866Z"
    },
    "collapsed": true,
    "scrolled": true
   },
   "outputs": [],
   "source": [
    "# getting data for corpora\n",
    "for tag, ids_ in sources.items():\n",
    "    path = f\"assets/corpora/{tag}.txt\"\n",
    "    s = set()\n",
    "    if not os.path.exists(path):\n",
    "        with open(path, \"w\") as f:\n",
    "            for id_ in ids_:\n",
    "                if isinstance(id_, int):\n",
    "                    wall = ParseClass.getallwall({\"owner_id\": -id_}, 1000)\n",
    "                    for post in tqdm.tqdm(wall):\n",
    "                        if len(post) and post not in s:\n",
    "                            s.add(post)\n",
    "                            _ = f.write(f\"{post}\\n\")\n",
    "                elif isinstance(id_, str):\n",
    "                    links = np.random.choice(\n",
    "                        list(ParseClass.get_all_links(id_)), 1000)\n",
    "                    for link in tqdm.tqdm(links):\n",
    "                        try:\n",
    "                            page = requests.get(link).text\n",
    "                            soup = BeautifulSoup(page, \"lxml\")\n",
    "                            for text in soup.text.strip().split(\"\\n\"):\n",
    "                                if len(text) and text not in s:\n",
    "                                    s.add(text)\n",
    "                                    _ = f.write(f\"{text}\\n\")\n",
    "                        except:\n",
    "                            pass"
   ]
  },
  {
   "cell_type": "markdown",
   "metadata": {},
   "source": [
    "Manual processing"
   ]
  },
  {
   "cell_type": "code",
   "execution_count": 4,
   "metadata": {
    "ExecuteTime": {
     "end_time": "2017-09-11T00:29:36.399453Z",
     "start_time": "2017-09-11T00:29:36.395498Z"
    },
    "collapsed": true
   },
   "outputs": [],
   "source": [
    "categories = list(sources.keys())"
   ]
  },
  {
   "cell_type": "code",
   "execution_count": 5,
   "metadata": {
    "ExecuteTime": {
     "end_time": "2017-09-11T00:29:36.409231Z",
     "start_time": "2017-09-11T00:29:36.401899Z"
    },
    "collapsed": true
   },
   "outputs": [],
   "source": [
    "labels = [\"Искусство\", \"Политика\", \"Финансы\", \"Стратегическое управление\", \"Юриспруденция\", \"Исследования и разработки\",\n",
    "          \"Промышленность\", \"Образование\", \"Благотворительность\", \"Здравоохранение\", \"Сельское хозяйство\", \n",
    "          \"Государственное управление\", \"Реклама и маркетинг\", \"Инновации и модернизация\", \"Безопасность\", \n",
    "          \"Военное дело\", \"Корпоративное управление\", \"Социальная защита\", \"Строительство\", \"Предпринимательство\",\n",
    "          \"Спорт\", \"Инвестиции\"]\n",
    "norm_names = dict(zip(categories, labels))\n",
    "norm_names_reversed = dict([(a[1], a[0]) for a in norm_names.items()])"
   ]
  },
  {
   "cell_type": "code",
   "execution_count": 6,
   "metadata": {
    "ExecuteTime": {
     "end_time": "2017-09-11T00:29:36.428051Z",
     "start_time": "2017-09-11T00:29:36.411515Z"
    },
    "collapsed": true
   },
   "outputs": [],
   "source": [
    "# df = pd.read_msgpack(\"assets/df.msg\")\n",
    "# competencies = pd.read_csv(\"assets/competencies.csv\")\n",
    "# competencies = competencies.dropna()[['Id', 'Интересы']]\n",
    "# social = pd.read_excel(\"assets/social.xlsx\", names=['id', 'name', 'fb', 'ok', 'vk', 'email', 'twitter'])\n",
    "# accepted = social.fb.dropna().index | social.vk.dropna().index\n",
    "# social = social.loc[accepted, ['name', 'id', 'vk', 'fb']]\n",
    "# social.vk = social.vk.apply(lambda x: str(x).split(\"/\")[-1])\n",
    "# social.fb = social.fb.apply(lambda x: str(x).split(\"/\")[-1])\n",
    "# social.fb = social.fb.apply(lambda x: str(x).split(\"id=\")[-1])\n",
    "# social.fb = social.fb.apply(lambda x: str(x).split(\"?ref=\")[0])\n",
    "# social.fb = social.fb.replace('nan', np.nan)\n",
    "# social = social.merge(df[['vk', 'vk_id']], how='outer', on='vk')\n",
    "# social.vk = social.vk_id.fillna(0)\n",
    "# social = social.replace(0, np.nan).drop(labels=['vk_id'], axis=1)\n",
    "# social = social.set_index('id').merge(how='inner', right=competencies.set_index('Id'), left_index=True, right_index=True)\n",
    "# to_exclude = pd.read_csv(\"assets/known_users.csv\")['Leader-ID'].dropna().astype('int').values\n",
    "# social = social.loc[~social.index.isin(to_exclude), :]\n",
    "# social.to_msgpack(\"assets/social.msg\")\n",
    "\n",
    "# def get_id(screen_name):\n",
    "#     try:\n",
    "#         item = vk.users.get(user_ids=screen_name)\n",
    "#         if 'deactivated' not in item:\n",
    "#             return item[0]['id']\n",
    "#     except Exception as e:\n",
    "#         print(e.args)\n",
    "# Нужно замапить screen_name с их vk_id, поэтому придется обрабатывать по одному\n",
    "\n",
    "social = pd.read_msgpack(\"assets/social.msg\")"
   ]
  },
  {
   "cell_type": "code",
   "execution_count": 7,
   "metadata": {
    "ExecuteTime": {
     "end_time": "2017-09-11T00:29:36.601633Z",
     "start_time": "2017-09-11T00:29:36.430988Z"
    },
    "collapsed": true
   },
   "outputs": [],
   "source": [
    "label_encoder = LabelEncoder()\n",
    "# labels_trunc = [\"Искусство\", \"Политика\", \"Финансы\", \"Стратегическое управление\", \"Юриспруденция\", \"Исследования и разработки\",\n",
    "#           \"Промышленность\", \"Образование\", \"Здравоохранение\", \"Сельское хозяйство\", \n",
    "#           \"Государственное управление\", \"Реклама и маркетинг\", \"Инновации и модернизация\", \"Безопасность\", \n",
    "#           \"Военное дело\", \"Корпоративное управление\", \"Социальная защита\", \"Строительство\", \"Предпринимательство\",\n",
    "#           \"Инвестиции\"]\n",
    "labels_trunc = labels\n",
    "int_labels = label_encoder.fit_transform(labels_trunc)\n",
    "\n",
    "def f(x):\n",
    "    b = []\n",
    "    for a in x.split(\",\"):\n",
    "        t = a.strip()\n",
    "        if t == \"Частный бизнес\" or t == \"Социальное предпринимательство\":\n",
    "            b.append(\"Предпринимательство\")\n",
    "        elif t == \"Дошкольное образование/детский отдых\":\n",
    "            b.append(\"Образование\")\n",
    "        elif t in {'Журналистика', 'Управление персоналом', 'Управление рисками'}:\n",
    "            pass\n",
    "        else:\n",
    "            b.append(t)\n",
    "    return b[:6]\n",
    "social.Интересы = social.Интересы.apply(f)\n",
    "def g(x):\n",
    "    if not x:\n",
    "        return np.in1d(int_labels, []).astype('int')\n",
    "    return np.in1d(int_labels, label_encoder.transform(x)).astype('int')\n",
    "social['y'] = social.Интересы.apply(g)"
   ]
  },
  {
   "cell_type": "markdown",
   "metadata": {},
   "source": [
    "### Corpora from created texts"
   ]
  },
  {
   "cell_type": "code",
   "execution_count": 8,
   "metadata": {
    "ExecuteTime": {
     "end_time": "2017-09-11T00:29:37.259332Z",
     "start_time": "2017-09-11T00:29:36.603907Z"
    },
    "collapsed": true
   },
   "outputs": [],
   "source": [
    "corpora_class = CorporaClass()\n",
    "\n",
    "for filename in categories:\n",
    "    with open(f\"assets/corpora/{filename}.txt\") as f:\n",
    "        corpora_class.add_to_corpora(f, filename)\n",
    "\n",
    "pickle.dump(corpora_class.corpora, open(\"assets/corpora.p\", \"wb\"))\n",
    "pickle.dump(corpora_class.labels, open(\"assets/labels.p\", \"wb\"))\n",
    "\n",
    "corpora = pickle.load(open(\"assets/corpora.p\", \"rb\"))\n",
    "labels = pickle.load(open(\"assets/labels.p\", \"rb\"))"
   ]
  },
  {
   "cell_type": "markdown",
   "metadata": {},
   "source": [
    "### Corpora from user-generated content"
   ]
  },
  {
   "cell_type": "code",
   "execution_count": 9,
   "metadata": {
    "ExecuteTime": {
     "end_time": "2017-09-10T23:00:44.934025Z",
     "start_time": "2017-09-10T23:00:31.699808Z"
    },
    "collapsed": true
   },
   "outputs": [],
   "source": [
    "corpora_user_gen = CorporaClass()\n",
    "corpora_user_gen.labels = pickle.load(open(\"assets/labels_user_gen.p\", \"rb\"))\n",
    "corpora_user_gen.corpora = pickle.load(open(\"assets/corpora_user_gen.p\", \"rb\"))\n",
    "\n",
    "# r = ResultClass()\n",
    "# r.publics_dict = json.load(open(\"assets/publics_dict.json\"))\n",
    "# delimiter = 0\n",
    "# for i, row in tqdm.tqdm(list(social.iterrows())[delimiter:], total=len(social) - delimiter):\n",
    "#     user_vk, user_fb = row.vk, row.fb\n",
    "#     if str(user_vk) != \"nan\":\n",
    "#         try:\n",
    "#             r.parse_vk(user_vk, parse=True)\n",
    "#         except: pass\n",
    "#     if str(user_fb) != \"nan\":\n",
    "#         try:\n",
    "#             r.parse_fb(user_fb)\n",
    "#         except KeyError:\n",
    "#             pass\n",
    "#     corpora_user_gen.add_to_corpora(r.texts, i)\n",
    "#     r.texts = []\n",
    "\n",
    "# pickle.dump(corpora_user_gen.corpora, open(\"assets/corpora_user_gen.p\", \"wb\"))\n",
    "# pickle.dump(corpora_user_gen.labels, open(\"assets/labels_user_gen.p\", \"wb\"))"
   ]
  },
  {
   "cell_type": "code",
   "execution_count": 11,
   "metadata": {
    "ExecuteTime": {
     "end_time": "2017-09-10T23:01:17.329578Z",
     "start_time": "2017-09-10T23:01:11.114121Z"
    }
   },
   "outputs": [],
   "source": [
    "# def filter_corpora(corpora, labels=corpora_user_gen.labels, DELIM=200, k=0.8):\n",
    "#     indexes = np.array(list(range(len(corpora))))\n",
    "#     all_indexes = set()\n",
    "#     for col in norm_names.values():\n",
    "#         t = social.Интересы.apply(lambda s: col in s)\n",
    "#         col_labels = list(set(t[t == True].index).intersection(labels))[:50]\n",
    "#         all_indexes = all_indexes.union(indexes[np.in1d(labels, col_labels)])\n",
    "#     all_indexes = list(all_indexes)\n",
    "#     new_corpora = list(np.array(corpora)[all_indexes])\n",
    "#     new_labels = list(np.array(labels)[all_indexes])\n",
    "#     new_corpora = [a[:DELIM] for a in new_corpora]\n",
    "#     new_corpora, test_corpora, new_labels, test_labels = train_test_split(new_corpora, new_labels, train_size=k)\n",
    "#     return new_corpora, test_corpora, new_labels, test_labels\n",
    "\n",
    "# new_corpora, test_corpora, new_labels, test_labels = filter_corpora(corpora_user_gen.corpora, corpora_user_gen.labels)\n",
    "\n",
    "# d = {}\n",
    "# for col in norm_names.values():\n",
    "#     t = social.Интересы.apply(lambda s: col in s[:3])\n",
    "#     col_labels = list(set(t[t == True].index).intersection(new_labels))\n",
    "#     d[col] = [label for label in col_labels if label not in list(itertools.chain(*(v for v in d.values())))][:10]\n",
    "# d = {a: [int(c) for c in b] for (a, b) in d.items()}\n",
    "# json.dump(d, open(\"assets/d.json\", \"w\"))\n",
    "    \n",
    "# new_corpora = np.array(new_corpora)\n",
    "# for col, labels in d.items():\n",
    "#     with open(f\"assets/corpora/{norm_names_reversed[col]}.txt\", \"a\") as f:\n",
    "#         for line in list(itertools.chain(*(item for item in new_corpora[np.in1d(new_labels, d[col])]))):\n",
    "#             _ = f.write(line)\n",
    "\n",
    "# Это те labels, которые мы приписали к corpora и должны учесть в y\n",
    "d = json.load(open(\"assets/d.json\"))"
   ]
  },
  {
   "cell_type": "code",
   "execution_count": 12,
   "metadata": {
    "ExecuteTime": {
     "end_time": "2017-09-10T23:02:42.917629Z",
     "start_time": "2017-09-10T23:01:31.333311Z"
    },
    "collapsed": true
   },
   "outputs": [],
   "source": [
    "vectorizer = TfidfVectorizer(tokenizer=corpora_class.full_process, \n",
    "                             max_df=200, \n",
    "                             min_df=5, \n",
    "                             sublinear_tf=True, \n",
    "                             ngram_range=(1, 1))\n",
    "docterm_matrix = vectorizer.fit_transform(list(itertools.chain(*(doc for doc in corpora))))\n",
    "\n",
    "\n",
    "pickle.dump(docterm_matrix, open(\"assets/docterm_matrix.p\", \"wb\"))\n",
    "pickle.dump(vectorizer, open(\"assets/vectorizer.p\", \"wb\"))"
   ]
  },
  {
   "cell_type": "code",
   "execution_count": 13,
   "metadata": {
    "ExecuteTime": {
     "end_time": "2017-09-10T23:03:50.167320Z",
     "start_time": "2017-09-10T23:02:42.920328Z"
    },
    "collapsed": true
   },
   "outputs": [],
   "source": [
    "docterm_matrix_user_gen = vectorizer.transform(list(itertools.chain(*(doc for doc in new_corpora))))"
   ]
  },
  {
   "cell_type": "code",
   "execution_count": 14,
   "metadata": {
    "ExecuteTime": {
     "end_time": "2017-09-10T23:03:50.230458Z",
     "start_time": "2017-09-10T23:03:50.169839Z"
    },
    "collapsed": true
   },
   "outputs": [],
   "source": [
    "docterm_matrix = pickle.load(open(\"assets/docterm_matrix.p\", 'rb'))\n",
    "vectorizer = pickle.load(open(\"assets/vectorizer.p\", \"rb\"))"
   ]
  },
  {
   "cell_type": "code",
   "execution_count": 15,
   "metadata": {
    "ExecuteTime": {
     "end_time": "2017-09-10T23:03:50.239384Z",
     "start_time": "2017-09-10T23:03:50.232666Z"
    },
    "collapsed": true
   },
   "outputs": [],
   "source": [
    "DELIM = 1300\n",
    "NUM_OF_CLASSES = 22\n",
    "vector_size = docterm_matrix[0].shape[1]"
   ]
  },
  {
   "cell_type": "code",
   "execution_count": 16,
   "metadata": {
    "ExecuteTime": {
     "end_time": "2017-09-10T23:03:50.247971Z",
     "start_time": "2017-09-10T23:03:50.242750Z"
    },
    "collapsed": true
   },
   "outputs": [],
   "source": [
    "corpora_lengths = []\n",
    "for i, x in enumerate(corpora):\n",
    "    corpora_lengths.append(len(x))"
   ]
  },
  {
   "cell_type": "markdown",
   "metadata": {},
   "source": [
    "#### y for created texts"
   ]
  },
  {
   "cell_type": "code",
   "execution_count": 17,
   "metadata": {
    "ExecuteTime": {
     "end_time": "2017-09-10T23:04:24.869915Z",
     "start_time": "2017-09-10T23:03:54.161566Z"
    },
    "collapsed": true
   },
   "outputs": [],
   "source": [
    "y = []\n",
    "for (i, item), cat in zip(zip(range(len(corpora)), corpora_lengths), categories):\n",
    "    for _ in range(item):\n",
    "        y_ = np.zeros(NUM_OF_CLASSES)\n",
    "        t = np.zeros(NUM_OF_CLASSES)\n",
    "        for arr in (social.loc[d[norm_names[cat]], 'y'] * 0.016):\n",
    "            t = t + arr\n",
    "        y_ = y_ + t\n",
    "        y_[i] = 1\n",
    "        y.append(y_)\n",
    "y = np.array(y)"
   ]
  },
  {
   "cell_type": "markdown",
   "metadata": {},
   "source": [
    "#### y for user-gen"
   ]
  },
  {
   "cell_type": "code",
   "execution_count": 52,
   "metadata": {
    "ExecuteTime": {
     "end_time": "2017-08-27T17:48:57.355005Z",
     "start_time": "2017-08-27T17:48:57.268162Z"
    },
    "collapsed": true
   },
   "outputs": [],
   "source": [
    "y_user_gen = np.empty((docterm_matrix_user_gen.shape[0], NUM_OF_CLASSES))\n",
    "y_ = np.array([np.array(a) for a in social.loc[new_labels, 'y']])\n",
    "ind_arr = np.cumsum(np.array(corpora_lengths_user_gen))\n",
    "int_a, int_b = 0, ind_arr[0]\n",
    "for i in range(len(ind_arr) - 1):\n",
    "    y_user_gen[int_a:int_b] = np.array([y_[i] for _ in range(int_b - int_a)])\n",
    "    int_a, int_b = int_b, ind_arr[i + 1]"
   ]
  },
  {
   "cell_type": "code",
   "execution_count": 25,
   "metadata": {
    "ExecuteTime": {
     "end_time": "2017-09-10T23:06:38.026823Z",
     "start_time": "2017-09-10T23:06:36.629313Z"
    },
    "collapsed": true
   },
   "outputs": [],
   "source": [
    "X = docterm_matrix.toarray()"
   ]
  },
  {
   "cell_type": "code",
   "execution_count": 26,
   "metadata": {
    "ExecuteTime": {
     "end_time": "2017-09-10T23:06:47.097868Z",
     "start_time": "2017-09-10T23:06:39.467286Z"
    },
    "collapsed": true
   },
   "outputs": [],
   "source": [
    "X_train, X_test, y_train, y_test = train_test_split(X, y, test_size=0.2)"
   ]
  },
  {
   "cell_type": "code",
   "execution_count": 34,
   "metadata": {
    "ExecuteTime": {
     "end_time": "2017-09-11T00:02:33.432601Z",
     "start_time": "2017-09-11T00:02:19.777912Z"
    },
    "collapsed": true
   },
   "outputs": [],
   "source": [
    "input_vec = Input(shape=(vector_size,))\n",
    "l1 = Dense(128, activation='relu')(input_vec)\n",
    "l2 = Dense(64, activation='relu')(l1)\n",
    "l3 = Dropout(0.2)(l2)\n",
    "l4 = Dense(96, activation='sigmoid')(l3)\n",
    "output = Dense(NUM_OF_CLASSES, activation='sigmoid')(l4)\n",
    "\n",
    "# input_vec = Input(shape=(vector_size,))\n",
    "# l1 = Dense(128, activation='relu')(input_vec)\n",
    "# l2 = Dense(64, activation='relu')(l1)\n",
    "# l3 = Dropout(0.3)(l2)\n",
    "# l4 = Dense(32, activation='relu')(l3)\n",
    "# l5 = Dense(96, activation='sigmoid')(l4)\n",
    "# output = Dense(NUM_OF_CLASSES, activation='sigmoid')(l5)\n",
    "\n",
    "classifier = Model(input_vec, output)\n",
    "classifier.compile(optimizer='adadelta', loss='categorical_crossentropy', metrics=['categorical_accuracy'])"
   ]
  },
  {
   "cell_type": "code",
   "execution_count": 35,
   "metadata": {
    "ExecuteTime": {
     "end_time": "2017-09-11T00:17:43.323219Z",
     "start_time": "2017-09-11T00:02:33.436887Z"
    },
    "scrolled": true
   },
   "outputs": [
    {
     "name": "stdout",
     "output_type": "stream",
     "text": [
      "Train on 33870 samples, validate on 8468 samples\n",
      "Epoch 1/60\n",
      "33870/33870 [==============================] - 26s - loss: 4.6021 - categorical_accuracy: 0.0461 - val_loss: 4.5711 - val_categorical_accuracy: 0.0333\n",
      "Epoch 2/60\n",
      "33870/33870 [==============================] - 24s - loss: 4.5778 - categorical_accuracy: 0.0408 - val_loss: 4.5710 - val_categorical_accuracy: 0.0333\n",
      "Epoch 3/60\n",
      "33870/33870 [==============================] - 23s - loss: 4.5775 - categorical_accuracy: 0.0414 - val_loss: 4.5710 - val_categorical_accuracy: 0.0498\n",
      "Epoch 4/60\n",
      "33870/33870 [==============================] - 14s - loss: 4.5770 - categorical_accuracy: 0.0383 - val_loss: 4.5701 - val_categorical_accuracy: 0.0498\n",
      "Epoch 5/60\n",
      "33870/33870 [==============================] - 14s - loss: 4.5763 - categorical_accuracy: 0.0394 - val_loss: 4.5688 - val_categorical_accuracy: 0.0334\n",
      "Epoch 6/60\n",
      "33870/33870 [==============================] - 14s - loss: 4.5753 - categorical_accuracy: 0.0404 - val_loss: 4.5675 - val_categorical_accuracy: 0.0333\n",
      "Epoch 7/60\n",
      "33870/33870 [==============================] - 14s - loss: 4.5734 - categorical_accuracy: 0.0378 - val_loss: 4.5660 - val_categorical_accuracy: 0.0347\n",
      "Epoch 8/60\n",
      "33870/33870 [==============================] - 13s - loss: 4.5699 - categorical_accuracy: 0.0418 - val_loss: 4.5627 - val_categorical_accuracy: 0.0333\n",
      "Epoch 9/60\n",
      "33870/33870 [==============================] - 14s - loss: 4.5634 - categorical_accuracy: 0.0399 - val_loss: 4.5546 - val_categorical_accuracy: 0.0494\n",
      "Epoch 10/60\n",
      "33870/33870 [==============================] - 15s - loss: 4.5482 - categorical_accuracy: 0.0465 - val_loss: 4.5336 - val_categorical_accuracy: 0.0554\n",
      "Epoch 11/60\n",
      "33870/33870 [==============================] - 14s - loss: 4.5137 - categorical_accuracy: 0.0777 - val_loss: 4.4896 - val_categorical_accuracy: 0.0868\n",
      "Epoch 12/60\n",
      "33870/33870 [==============================] - 14s - loss: 4.4518 - categorical_accuracy: 0.1373 - val_loss: 4.4277 - val_categorical_accuracy: 0.1600\n",
      "Epoch 13/60\n",
      "33870/33870 [==============================] - 14s - loss: 4.3767 - categorical_accuracy: 0.1772 - val_loss: 4.3692 - val_categorical_accuracy: 0.1888\n",
      "Epoch 14/60\n",
      "33870/33870 [==============================] - 15s - loss: 4.3007 - categorical_accuracy: 0.2059 - val_loss: 4.3133 - val_categorical_accuracy: 0.1856\n",
      "Epoch 15/60\n",
      "33870/33870 [==============================] - 13s - loss: 4.2343 - categorical_accuracy: 0.2258 - val_loss: 4.2746 - val_categorical_accuracy: 0.2160\n",
      "Epoch 16/60\n",
      "33870/33870 [==============================] - 13s - loss: 4.1800 - categorical_accuracy: 0.2472 - val_loss: 4.2469 - val_categorical_accuracy: 0.2312\n",
      "Epoch 17/60\n",
      "33870/33870 [==============================] - 13s - loss: 4.1345 - categorical_accuracy: 0.2670 - val_loss: 4.2247 - val_categorical_accuracy: 0.2439\n",
      "Epoch 18/60\n",
      "33870/33870 [==============================] - 14s - loss: 4.0877 - categorical_accuracy: 0.2897 - val_loss: 4.2003 - val_categorical_accuracy: 0.2568\n",
      "Epoch 19/60\n",
      "33870/33870 [==============================] - 13s - loss: 4.0450 - categorical_accuracy: 0.3075 - val_loss: 4.1779 - val_categorical_accuracy: 0.2650\n",
      "Epoch 20/60\n",
      "33870/33870 [==============================] - 13s - loss: 4.0003 - categorical_accuracy: 0.3259 - val_loss: 4.1540 - val_categorical_accuracy: 0.2850\n",
      "Epoch 21/60\n",
      "33870/33870 [==============================] - 14s - loss: 3.9565 - categorical_accuracy: 0.3477 - val_loss: 4.1305 - val_categorical_accuracy: 0.2959\n",
      "Epoch 22/60\n",
      "33870/33870 [==============================] - 13s - loss: 3.9150 - categorical_accuracy: 0.3675 - val_loss: 4.1162 - val_categorical_accuracy: 0.3079\n",
      "Epoch 23/60\n",
      "33870/33870 [==============================] - 13s - loss: 3.8709 - categorical_accuracy: 0.3917 - val_loss: 4.0925 - val_categorical_accuracy: 0.3209\n",
      "Epoch 24/60\n",
      "33870/33870 [==============================] - 13s - loss: 3.8328 - categorical_accuracy: 0.4115 - val_loss: 4.0749 - val_categorical_accuracy: 0.3289\n",
      "Epoch 25/60\n",
      "33870/33870 [==============================] - 14s - loss: 3.7944 - categorical_accuracy: 0.4287 - val_loss: 4.0639 - val_categorical_accuracy: 0.3434\n",
      "Epoch 26/60\n",
      "33870/33870 [==============================] - 14s - loss: 3.7592 - categorical_accuracy: 0.4468 - val_loss: 4.0544 - val_categorical_accuracy: 0.3445\n",
      "Epoch 27/60\n",
      "33870/33870 [==============================] - 14s - loss: 3.7289 - categorical_accuracy: 0.4585 - val_loss: 4.0424 - val_categorical_accuracy: 0.3523\n",
      "Epoch 28/60\n",
      "33870/33870 [==============================] - 13s - loss: 3.6958 - categorical_accuracy: 0.4745 - val_loss: 4.0340 - val_categorical_accuracy: 0.3562\n",
      "Epoch 29/60\n",
      "33870/33870 [==============================] - 13s - loss: 3.6682 - categorical_accuracy: 0.4861 - val_loss: 4.0266 - val_categorical_accuracy: 0.3609\n",
      "Epoch 30/60\n",
      "33870/33870 [==============================] - 13s - loss: 3.6393 - categorical_accuracy: 0.4992 - val_loss: 4.0196 - val_categorical_accuracy: 0.3674\n",
      "Epoch 31/60\n",
      "33870/33870 [==============================] - 14s - loss: 3.6101 - categorical_accuracy: 0.5123 - val_loss: 4.0164 - val_categorical_accuracy: 0.3670\n",
      "Epoch 32/60\n",
      "33870/33870 [==============================] - 13s - loss: 3.5836 - categorical_accuracy: 0.5252 - val_loss: 4.0147 - val_categorical_accuracy: 0.3753\n",
      "Epoch 33/60\n",
      "33870/33870 [==============================] - 13s - loss: 3.5594 - categorical_accuracy: 0.5339 - val_loss: 4.0129 - val_categorical_accuracy: 0.3774\n",
      "Epoch 34/60\n",
      "33870/33870 [==============================] - 13s - loss: 3.5383 - categorical_accuracy: 0.5409 - val_loss: 4.0078 - val_categorical_accuracy: 0.3778\n",
      "Epoch 35/60\n",
      "33870/33870 [==============================] - 13s - loss: 3.5132 - categorical_accuracy: 0.5513 - val_loss: 4.0111 - val_categorical_accuracy: 0.3808\n",
      "Epoch 36/60\n",
      "33870/33870 [==============================] - 13s - loss: 3.4926 - categorical_accuracy: 0.5587 - val_loss: 4.0043 - val_categorical_accuracy: 0.3846\n",
      "Epoch 37/60\n",
      "33870/33870 [==============================] - 13s - loss: 3.4707 - categorical_accuracy: 0.5686 - val_loss: 4.0037 - val_categorical_accuracy: 0.3864\n",
      "Epoch 38/60\n",
      "33870/33870 [==============================] - 15s - loss: 3.4535 - categorical_accuracy: 0.5742 - val_loss: 4.0071 - val_categorical_accuracy: 0.3895\n",
      "Epoch 39/60\n",
      "33870/33870 [==============================] - 14s - loss: 3.4327 - categorical_accuracy: 0.5827 - val_loss: 4.0060 - val_categorical_accuracy: 0.3877\n",
      "Epoch 40/60\n",
      "33870/33870 [==============================] - 13s - loss: 3.4165 - categorical_accuracy: 0.5870 - val_loss: 4.0108 - val_categorical_accuracy: 0.3896\n",
      "Epoch 41/60\n",
      "33870/33870 [==============================] - 13s - loss: 3.3974 - categorical_accuracy: 0.5908 - val_loss: 4.0050 - val_categorical_accuracy: 0.3935\n",
      "Epoch 42/60\n",
      "33870/33870 [==============================] - 14s - loss: 3.3838 - categorical_accuracy: 0.5982 - val_loss: 4.0100 - val_categorical_accuracy: 0.3924\n",
      "Epoch 43/60\n",
      "33870/33870 [==============================] - 13s - loss: 3.3694 - categorical_accuracy: 0.6029 - val_loss: 4.0106 - val_categorical_accuracy: 0.3943\n",
      "Epoch 44/60\n",
      "33870/33870 [==============================] - 15s - loss: 3.3544 - categorical_accuracy: 0.6102 - val_loss: 4.0167 - val_categorical_accuracy: 0.3928\n",
      "Epoch 45/60\n",
      "33870/33870 [==============================] - 14s - loss: 3.3395 - categorical_accuracy: 0.6133 - val_loss: 4.0160 - val_categorical_accuracy: 0.3904\n",
      "Epoch 46/60\n",
      "33870/33870 [==============================] - 14s - loss: 3.3239 - categorical_accuracy: 0.6193 - val_loss: 4.0170 - val_categorical_accuracy: 0.3940\n",
      "Epoch 47/60\n",
      "33870/33870 [==============================] - 13s - loss: 3.3135 - categorical_accuracy: 0.6232 - val_loss: 4.0163 - val_categorical_accuracy: 0.3945\n",
      "Epoch 48/60\n",
      "33870/33870 [==============================] - 16s - loss: 3.3000 - categorical_accuracy: 0.6257 - val_loss: 4.0216 - val_categorical_accuracy: 0.3929\n",
      "Epoch 49/60\n",
      "33870/33870 [==============================] - 15s - loss: 3.2868 - categorical_accuracy: 0.6319 - val_loss: 4.0227 - val_categorical_accuracy: 0.3943\n",
      "Epoch 50/60\n",
      "33870/33870 [==============================] - 16s - loss: 3.2757 - categorical_accuracy: 0.6355 - val_loss: 4.0217 - val_categorical_accuracy: 0.3948\n",
      "Epoch 51/60\n"
     ]
    },
    {
     "name": "stdout",
     "output_type": "stream",
     "text": [
      "33870/33870 [==============================] - 15s - loss: 3.2639 - categorical_accuracy: 0.6384 - val_loss: 4.0218 - val_categorical_accuracy: 0.3940\n",
      "Epoch 52/60\n",
      "33870/33870 [==============================] - 15s - loss: 3.2533 - categorical_accuracy: 0.6422 - val_loss: 4.0269 - val_categorical_accuracy: 0.3940\n",
      "Epoch 53/60\n",
      "33870/33870 [==============================] - 14s - loss: 3.2420 - categorical_accuracy: 0.6481 - val_loss: 4.0393 - val_categorical_accuracy: 0.3943\n",
      "Epoch 54/60\n",
      "33870/33870 [==============================] - 15s - loss: 3.2291 - categorical_accuracy: 0.6522 - val_loss: 4.0366 - val_categorical_accuracy: 0.3951\n",
      "Epoch 55/60\n",
      "33870/33870 [==============================] - 15s - loss: 3.2191 - categorical_accuracy: 0.6557 - val_loss: 4.0374 - val_categorical_accuracy: 0.3945\n",
      "Epoch 56/60\n",
      "33870/33870 [==============================] - 14s - loss: 3.2085 - categorical_accuracy: 0.6594 - val_loss: 4.0458 - val_categorical_accuracy: 0.3944\n",
      "Epoch 57/60\n",
      "33870/33870 [==============================] - 20s - loss: 3.2000 - categorical_accuracy: 0.6606 - val_loss: 4.0412 - val_categorical_accuracy: 0.3956\n",
      "Epoch 58/60\n",
      "33870/33870 [==============================] - 21s - loss: 3.1879 - categorical_accuracy: 0.6647 - val_loss: 4.0469 - val_categorical_accuracy: 0.3937\n",
      "Epoch 59/60\n",
      "33870/33870 [==============================] - 15s - loss: 3.1801 - categorical_accuracy: 0.6677 - val_loss: 4.0494 - val_categorical_accuracy: 0.3953\n",
      "Epoch 60/60\n",
      "33870/33870 [==============================] - 14s - loss: 3.1702 - categorical_accuracy: 0.6725 - val_loss: 4.0547 - val_categorical_accuracy: 0.3954\n"
     ]
    },
    {
     "data": {
      "text/plain": [
       "<keras.callbacks.History at 0x32cb60828>"
      ]
     },
     "execution_count": 35,
     "metadata": {},
     "output_type": "execute_result"
    }
   ],
   "source": [
    "# callbacks = [EarlyStopping(monitor='val_acc',\n",
    "#                            patience=8,\n",
    "#                            verbose=1,\n",
    "#                            min_delta=1e-4,\n",
    "#                            mode='max'),\n",
    "#              ReduceLROnPlateau(monitor='val_acc',\n",
    "#                                factor=0.1,\n",
    "#                                patience=4,\n",
    "#                                verbose=1,\n",
    "#                                epsilon=1e-4,\n",
    "#                                mode='max'),\n",
    "#              ModelCheckpoint(monitor='val_acc',\n",
    "#                              filepath='assets/vk_texts_classifier.h5',\n",
    "#                              save_best_only=True,\n",
    "#                              save_weights_only=False,\n",
    "#                              mode='max'),\n",
    "#              # TensorBoard(log_dir='logs'),\n",
    "#              CSVLogger('assets/last_training_log.csv', separator=',', append=False)\n",
    "#             ]\n",
    "\n",
    "# classifier.load_weights('vk_texts_classifier.h5')\n",
    "\n",
    "# for using sparse vectors\n",
    "def nn_batch_generator(X_data, y_data, batch_size):\n",
    "    samples_per_epoch = X_data.shape[0]\n",
    "    number_of_batches = samples_per_epoch/batch_size\n",
    "    counter=0\n",
    "    index = np.arange(np.shape(y_data)[0])\n",
    "    while 1:\n",
    "        index_batch = index[batch_size*counter:batch_size*(counter+1)]\n",
    "        X_batch = X_data[index_batch,:].todense()\n",
    "        y_batch = y_data[index_batch]\n",
    "        counter += 1\n",
    "        yield np.array(X_batch),y_batch\n",
    "        if (counter > number_of_batches):\n",
    "            counter=0\n",
    "\n",
    "classifier.fit(X_train, \n",
    "               y_train, \n",
    "               validation_data=(X_test, y_test), \n",
    "               batch_size=196, \n",
    "               epochs=60, \n",
    "               class_weight='balanced'\n",
    "#                callbacks=callbacks\n",
    "              )"
   ]
  },
  {
   "cell_type": "code",
   "execution_count": 36,
   "metadata": {
    "ExecuteTime": {
     "end_time": "2017-09-11T00:18:56.430783Z",
     "start_time": "2017-09-11T00:18:54.905435Z"
    },
    "collapsed": true
   },
   "outputs": [],
   "source": [
    "classifier.save(\"assets/vk_texts_classifier.h5\")"
   ]
  },
  {
   "cell_type": "code",
   "execution_count": 9,
   "metadata": {
    "ExecuteTime": {
     "end_time": "2017-09-11T00:29:38.742639Z",
     "start_time": "2017-09-11T00:29:37.264037Z"
    },
    "collapsed": true
   },
   "outputs": [],
   "source": [
    "classifier = load_model(\"assets/vk_texts_classifier.h5\")"
   ]
  },
  {
   "cell_type": "markdown",
   "metadata": {},
   "source": [
    "# Result"
   ]
  },
  {
   "cell_type": "code",
   "execution_count": 10,
   "metadata": {
    "ExecuteTime": {
     "end_time": "2017-09-11T00:29:38.749304Z",
     "start_time": "2017-09-11T00:29:38.744814Z"
    },
    "collapsed": true
   },
   "outputs": [],
   "source": [
    "norm_categories = np.array(list(norm_names.values()))"
   ]
  },
  {
   "cell_type": "code",
   "execution_count": 39,
   "metadata": {
    "ExecuteTime": {
     "end_time": "2017-09-11T00:20:30.575987Z",
     "start_time": "2017-09-11T00:19:09.682307Z"
    },
    "scrolled": true
   },
   "outputs": [
    {
     "data": {
      "text/plain": [
       "('Искусство', 9, 0.2222222222222222, 0.2222222222222222, 0.3333333333333333)"
      ]
     },
     "execution_count": 39,
     "metadata": {},
     "output_type": "execute_result"
    },
    {
     "data": {
      "text/plain": [
       "('Политика', 17, 0.23529411764705882, 0.23529411764705882, 0.29411764705882354)"
      ]
     },
     "execution_count": 39,
     "metadata": {},
     "output_type": "execute_result"
    },
    {
     "data": {
      "text/plain": [
       "('Финансы', 6, 0.3333333333333333, 0.3333333333333333, 0.3333333333333333)"
      ]
     },
     "execution_count": 39,
     "metadata": {},
     "output_type": "execute_result"
    },
    {
     "data": {
      "text/plain": [
       "('Стратегическое управление',\n",
       " 27,\n",
       " 0.25925925925925924,\n",
       " 0.6666666666666666,\n",
       " 0.8888888888888888)"
      ]
     },
     "execution_count": 39,
     "metadata": {},
     "output_type": "execute_result"
    },
    {
     "data": {
      "text/plain": [
       "('Юриспруденция',\n",
       " 6,\n",
       " 0.3333333333333333,\n",
       " 0.3333333333333333,\n",
       " 0.3333333333333333)"
      ]
     },
     "execution_count": 39,
     "metadata": {},
     "output_type": "execute_result"
    },
    {
     "data": {
      "text/plain": [
       "('Исследования и разработки',\n",
       " 35,\n",
       " 0.11428571428571428,\n",
       " 0.45714285714285713,\n",
       " 0.8)"
      ]
     },
     "execution_count": 39,
     "metadata": {},
     "output_type": "execute_result"
    },
    {
     "data": {
      "text/plain": [
       "('Промышленность', 17, 0.0, 0.11764705882352941, 0.23529411764705882)"
      ]
     },
     "execution_count": 39,
     "metadata": {},
     "output_type": "execute_result"
    },
    {
     "data": {
      "text/plain": [
       "('Образование', 33, 0.3333333333333333, 0.7272727272727273, 0.9090909090909091)"
      ]
     },
     "execution_count": 39,
     "metadata": {},
     "output_type": "execute_result"
    },
    {
     "data": {
      "text/plain": [
       "('Благотворительность', 1, 0.0, 0.0, 0.0)"
      ]
     },
     "execution_count": 39,
     "metadata": {},
     "output_type": "execute_result"
    },
    {
     "data": {
      "text/plain": [
       "('Здравоохранение', 10, 0.4, 0.4, 0.4)"
      ]
     },
     "execution_count": 39,
     "metadata": {},
     "output_type": "execute_result"
    },
    {
     "data": {
      "text/plain": [
       "('Сельское хозяйство', 4, 0.5, 0.5, 0.5)"
      ]
     },
     "execution_count": 39,
     "metadata": {},
     "output_type": "execute_result"
    },
    {
     "data": {
      "text/plain": [
       "('Государственное управление',\n",
       " 23,\n",
       " 0.21739130434782608,\n",
       " 0.30434782608695654,\n",
       " 0.6086956521739131)"
      ]
     },
     "execution_count": 39,
     "metadata": {},
     "output_type": "execute_result"
    },
    {
     "data": {
      "text/plain": [
       "('Реклама и маркетинг',\n",
       " 9,\n",
       " 0.2222222222222222,\n",
       " 0.3333333333333333,\n",
       " 0.3333333333333333)"
      ]
     },
     "execution_count": 39,
     "metadata": {},
     "output_type": "execute_result"
    },
    {
     "data": {
      "text/plain": [
       "('Инновации и модернизация',\n",
       " 29,\n",
       " 0.10344827586206896,\n",
       " 0.3448275862068966,\n",
       " 0.9310344827586207)"
      ]
     },
     "execution_count": 39,
     "metadata": {},
     "output_type": "execute_result"
    },
    {
     "data": {
      "text/plain": [
       "('Безопасность', 9, 0.3333333333333333, 0.4444444444444444, 0.4444444444444444)"
      ]
     },
     "execution_count": 39,
     "metadata": {},
     "output_type": "execute_result"
    },
    {
     "data": {
      "text/plain": [
       "('Военное дело', 4, 0.0, 0.0, 0.25)"
      ]
     },
     "execution_count": 39,
     "metadata": {},
     "output_type": "execute_result"
    },
    {
     "data": {
      "text/plain": [
       "('Корпоративное управление',\n",
       " 17,\n",
       " 0.11764705882352941,\n",
       " 0.4117647058823529,\n",
       " 0.6470588235294118)"
      ]
     },
     "execution_count": 39,
     "metadata": {},
     "output_type": "execute_result"
    },
    {
     "data": {
      "text/plain": [
       "('Социальная защита',\n",
       " 3,\n",
       " 0.3333333333333333,\n",
       " 0.3333333333333333,\n",
       " 0.3333333333333333)"
      ]
     },
     "execution_count": 39,
     "metadata": {},
     "output_type": "execute_result"
    },
    {
     "data": {
      "text/plain": [
       "('Строительство', 8, 0.125, 0.125, 0.125)"
      ]
     },
     "execution_count": 39,
     "metadata": {},
     "output_type": "execute_result"
    },
    {
     "data": {
      "text/plain": [
       "('Предпринимательство', 36, 0.25, 0.6666666666666666, 0.9722222222222222)"
      ]
     },
     "execution_count": 39,
     "metadata": {},
     "output_type": "execute_result"
    },
    {
     "data": {
      "text/plain": [
       "('Спорт', 1, 0.0, 0.0, 0.0)"
      ]
     },
     "execution_count": 39,
     "metadata": {},
     "output_type": "execute_result"
    },
    {
     "data": {
      "text/plain": [
       "('Инвестиции',\n",
       " 21,\n",
       " 0.19047619047619047,\n",
       " 0.19047619047619047,\n",
       " 0.3333333333333333)"
      ]
     },
     "execution_count": 39,
     "metadata": {},
     "output_type": "execute_result"
    }
   ],
   "source": [
    "dict_for_mean = []\n",
    "\n",
    "labels_ = np.array(test_labels)\n",
    "corpora_ = np.array(test_corpora)\n",
    "\n",
    "acc_d = {}\n",
    "for col in norm_names.values():\n",
    "    t = social.Интересы.apply(lambda s: col in s)\n",
    "    col_labels = np.array(list(set(t[t == True].index).intersection(labels_)))\n",
    "    c_0 = 0\n",
    "    c_1 = 0\n",
    "    c_2 = 0\n",
    "    for item in corpora_[np.in1d(labels_, col_labels)]:\n",
    "        t = np.sum(classifier.predict(vectorizer.transform(item).toarray()), axis=0)\n",
    "        dict_for_mean.append(t)\n",
    "        pred_categories = norm_categories[t.argsort()[::-1][:8]]\n",
    "        if col in pred_categories[:2]:\n",
    "            c_0 += 1\n",
    "        if col in pred_categories[:5]:\n",
    "            c_1 += 1\n",
    "        if col in pred_categories:\n",
    "            c_2 += 1\n",
    "    l = len(col_labels)\n",
    "    if l == 0:\n",
    "        l = 1\n",
    "    col, l, c_0 / l, c_1 / l, c_2 / l\n",
    "    acc_d[col] = c_2 / l\n",
    "    \n",
    "    \n",
    "#     sorted(np.sum(classifier.predict(vectorizer.transform(corpora_user_gen.corpora[5]).toarray()), axis=0), reverse=True)[:3]"
   ]
  },
  {
   "cell_type": "code",
   "execution_count": 40,
   "metadata": {
    "ExecuteTime": {
     "end_time": "2017-09-11T00:20:30.591145Z",
     "start_time": "2017-09-11T00:20:30.579096Z"
    }
   },
   "outputs": [
    {
     "data": {
      "text/plain": [
       "0.45481123580974059"
      ]
     },
     "execution_count": 40,
     "metadata": {},
     "output_type": "execute_result"
    }
   ],
   "source": [
    "np.mean(list(acc_d.values()))"
   ]
  },
  {
   "cell_type": "code",
   "execution_count": 41,
   "metadata": {
    "ExecuteTime": {
     "end_time": "2017-09-11T00:20:30.609074Z",
     "start_time": "2017-09-11T00:20:30.594530Z"
    }
   },
   "outputs": [
    {
     "data": {
      "text/plain": [
       "[('art', 0.11978178),\n",
       " ('politics', 0.2571713),\n",
       " ('finances', 0.15092145),\n",
       " ('strateg_management', 0.27437153),\n",
       " ('law', 0.14367713),\n",
       " ('elaboration', 0.2649323),\n",
       " ('industry', 0.14514737),\n",
       " ('education', 0.29252267),\n",
       " ('charity', 0.11408015),\n",
       " ('public_health', 0.16153345),\n",
       " ('agriculture', 0.21364743),\n",
       " ('government_management', 0.26083517),\n",
       " ('smm', 0.23419189),\n",
       " ('innovations', 0.23632175),\n",
       " ('safety', 0.15871054),\n",
       " ('military', 0.059539381),\n",
       " ('corporative_management', 0.25076938),\n",
       " ('social_safety', 0.12933674),\n",
       " ('building', 0.14101389),\n",
       " ('entrepreneurship', 0.26689848),\n",
       " ('sport', 0.21294023),\n",
       " ('investitions', 0.18971834)]"
      ]
     },
     "execution_count": 41,
     "metadata": {},
     "output_type": "execute_result"
    }
   ],
   "source": [
    "list(zip(categories, [np.mean(a) for a in np.array([np.array(b) for b in dict_for_mean]).T]))"
   ]
  },
  {
   "cell_type": "code",
   "execution_count": 11,
   "metadata": {
    "ExecuteTime": {
     "end_time": "2017-09-11T00:29:38.778433Z",
     "start_time": "2017-09-11T00:29:38.753329Z"
    },
    "collapsed": true
   },
   "outputs": [],
   "source": [
    "# social = pd.read_excel(\"social.xlsx\", names=['id', 'name', 'fb', 'ok', 'vk', 'email', 'twitter'])\n",
    "# social.set_index('id', inplace=True)\n",
    "# social = social[social.vk.notnull()]\n",
    "# social.vk = social.vk.apply(lambda x: str(x).split(\"/\")[-1])\n",
    "# df = social[social.vk.notnull()]\n",
    "# df = df[['name', 'vk']]\n",
    "\n",
    "# def get_id(screen_name):\n",
    "#     try:\n",
    "#         item = vk.users.get(user_ids=screen_name)\n",
    "#         if 'deactivated' not in item:\n",
    "#             return item[0]['id']\n",
    "#     except Exception as e:\n",
    "#         print(e.args)\n",
    "# # Нужно замапить screen_name с их vk_id, поэтому придется обрабатывать по одному\n",
    "\n",
    "# df['vk_id'] = df.vk.progress_apply(get_id)\n",
    "# df.dropna(inplace=True)\n",
    "# df.vk_id = df.vk_id.astype('int')\n",
    "# df.to_msgpack(\"df.msg\")\n",
    "df = pd.read_msgpack(\"assets/df.msg\")\n",
    "known = pd.read_csv(\"assets/known_users.csv\")\n",
    "known = known.merge(df[['vk_id']], left_on='Leader-ID', right_index=True, how='left')"
   ]
  },
  {
   "cell_type": "code",
   "execution_count": 12,
   "metadata": {
    "ExecuteTime": {
     "end_time": "2017-09-11T00:29:40.294150Z",
     "start_time": "2017-09-11T00:29:38.780964Z"
    }
   },
   "outputs": [],
   "source": [
    "result_class = ResultClass()"
   ]
  },
  {
   "cell_type": "code",
   "execution_count": 13,
   "metadata": {
    "ExecuteTime": {
     "end_time": "2017-09-11T00:31:22.009247Z",
     "start_time": "2017-09-11T00:29:40.296635Z"
    },
    "scrolled": true
   },
   "outputs": [
    {
     "name": "stderr",
     "output_type": "stream",
     "text": [
      "\r",
      "  0%|          | 0/44 [00:00<?, ?it/s]"
     ]
    },
    {
     "name": "stdout",
     "output_type": "stream",
     "text": [
      "FB Parse completed.\n",
      "Added to corpora\n",
      "Transformed corpora.\n"
     ]
    },
    {
     "name": "stderr",
     "output_type": "stream",
     "text": [
      "  7%|▋         | 3/44 [00:01<00:26,  1.57it/s]"
     ]
    },
    {
     "name": "stdout",
     "output_type": "stream",
     "text": [
      "FB Parse completed.\n",
      "Added to corpora\n",
      "Transformed corpora.\n",
      "FB Parse completed.\n",
      "Added to corpora\n",
      "FB Parse completed.\n",
      "Added to corpora\n"
     ]
    },
    {
     "name": "stderr",
     "output_type": "stream",
     "text": [
      "\r",
      "  9%|▉         | 4/44 [00:02<00:27,  1.45it/s]"
     ]
    },
    {
     "name": "stdout",
     "output_type": "stream",
     "text": [
      "Transformed corpora.\n"
     ]
    },
    {
     "name": "stderr",
     "output_type": "stream",
     "text": [
      "\r",
      " 11%|█▏        | 5/44 [00:03<00:30,  1.30it/s]"
     ]
    },
    {
     "name": "stdout",
     "output_type": "stream",
     "text": [
      "FB Parse completed.\n",
      "Added to corpora\n",
      "Transformed corpora.\n"
     ]
    },
    {
     "name": "stderr",
     "output_type": "stream",
     "text": [
      "\r",
      " 14%|█▎        | 6/44 [00:03<00:23,  1.61it/s]"
     ]
    },
    {
     "name": "stdout",
     "output_type": "stream",
     "text": [
      "FB Parse completed.\n",
      "Added to corpora\n",
      "Transformed corpora.\n"
     ]
    },
    {
     "name": "stderr",
     "output_type": "stream",
     "text": [
      "\r",
      " 16%|█▌        | 7/44 [00:03<00:18,  1.98it/s]"
     ]
    },
    {
     "name": "stdout",
     "output_type": "stream",
     "text": [
      "FB Parse completed.\n",
      "Added to corpora\n",
      "Transformed corpora.\n",
      "FB Parse completed."
     ]
    },
    {
     "name": "stderr",
     "output_type": "stream",
     "text": [
      "\r",
      " 18%|█▊        | 8/44 [00:04<00:25,  1.42it/s]"
     ]
    },
    {
     "name": "stdout",
     "output_type": "stream",
     "text": [
      "\n",
      "Added to corpora\n",
      "Transformed corpora.\n"
     ]
    },
    {
     "name": "stderr",
     "output_type": "stream",
     "text": [
      "\r",
      " 20%|██        | 9/44 [00:05<00:19,  1.77it/s]"
     ]
    },
    {
     "name": "stdout",
     "output_type": "stream",
     "text": [
      "FB Parse completed.\n",
      "Added to corpora\n",
      "Transformed corpora.\n",
      "FB Parse completed."
     ]
    },
    {
     "name": "stderr",
     "output_type": "stream",
     "text": [
      "\r",
      " 23%|██▎       | 10/44 [00:05<00:17,  1.93it/s]"
     ]
    },
    {
     "name": "stdout",
     "output_type": "stream",
     "text": [
      "\n",
      "Added to corpora\n",
      "Transformed corpora.\n"
     ]
    },
    {
     "name": "stderr",
     "output_type": "stream",
     "text": [
      "\r",
      " 25%|██▌       | 11/44 [00:05<00:14,  2.31it/s]"
     ]
    },
    {
     "name": "stdout",
     "output_type": "stream",
     "text": [
      "FB Parse completed.\n",
      "Added to corpora\n",
      "Transformed corpora.\n",
      "VK Parse completed.\n",
      "FB Parse completed.\n",
      "Added to corpora"
     ]
    },
    {
     "name": "stderr",
     "output_type": "stream",
     "text": [
      "\r",
      " 27%|██▋       | 12/44 [00:07<00:24,  1.29it/s]"
     ]
    },
    {
     "name": "stdout",
     "output_type": "stream",
     "text": [
      "\n",
      "Transformed corpora.\n"
     ]
    },
    {
     "name": "stderr",
     "output_type": "stream",
     "text": [
      "\r",
      " 30%|██▉       | 13/44 [00:07<00:21,  1.42it/s]"
     ]
    },
    {
     "name": "stdout",
     "output_type": "stream",
     "text": [
      "FB Parse completed.\n",
      "Added to corpora\n",
      "Transformed corpora.\n"
     ]
    },
    {
     "name": "stderr",
     "output_type": "stream",
     "text": [
      "\r",
      " 32%|███▏      | 14/44 [00:08<00:21,  1.40it/s]"
     ]
    },
    {
     "name": "stdout",
     "output_type": "stream",
     "text": [
      "FB Parse completed.\n",
      "Added to corpora\n",
      "Transformed corpora.\n"
     ]
    },
    {
     "name": "stderr",
     "output_type": "stream",
     "text": [
      " 36%|███▋      | 16/44 [00:09<00:13,  2.15it/s]"
     ]
    },
    {
     "name": "stdout",
     "output_type": "stream",
     "text": [
      "FB Parse completed.\n",
      "Added to corpora\n",
      "Transformed corpora.\n",
      "FB Parse completed.\n",
      "Added to corpora\n"
     ]
    },
    {
     "name": "stderr",
     "output_type": "stream",
     "text": [
      "\r",
      " 39%|███▊      | 17/44 [00:09<00:12,  2.23it/s]"
     ]
    },
    {
     "name": "stdout",
     "output_type": "stream",
     "text": [
      "FB Parse completed.\n",
      "Added to corpora\n",
      "Transformed corpora.\n",
      "FB Parse completed."
     ]
    },
    {
     "name": "stderr",
     "output_type": "stream",
     "text": [
      "\r",
      " 41%|████      | 18/44 [00:10<00:12,  2.10it/s]"
     ]
    },
    {
     "name": "stdout",
     "output_type": "stream",
     "text": [
      "\n",
      "Added to corpora\n",
      "Transformed corpora.\n"
     ]
    },
    {
     "name": "stderr",
     "output_type": "stream",
     "text": [
      "\r",
      " 43%|████▎     | 19/44 [00:10<00:10,  2.47it/s]"
     ]
    },
    {
     "name": "stdout",
     "output_type": "stream",
     "text": [
      "FB Parse completed.\n",
      "Added to corpora\n",
      "Transformed corpora.\n"
     ]
    },
    {
     "name": "stderr",
     "output_type": "stream",
     "text": [
      "\r",
      " 45%|████▌     | 20/44 [00:12<00:20,  1.17it/s]"
     ]
    },
    {
     "name": "stdout",
     "output_type": "stream",
     "text": [
      "FB Parse completed.\n",
      "Added to corpora\n",
      "Transformed corpora.\n"
     ]
    },
    {
     "name": "stderr",
     "output_type": "stream",
     "text": [
      "\r",
      " 48%|████▊     | 21/44 [00:12<00:15,  1.44it/s]"
     ]
    },
    {
     "name": "stdout",
     "output_type": "stream",
     "text": [
      "FB Parse completed.\n",
      "Added to corpora\n",
      "Transformed corpora.\n",
      "1-th public have been parsed.\n",
      "2-th public have been parsed.\n",
      "3-th public have been parsed.\n",
      "4-th public have been parsed.\n",
      "5-th public have been parsed.\n",
      "VK Parse completed.\n",
      "FB Parse completed.\n",
      "Added to corpora\n",
      "Transformed corpora.\n"
     ]
    },
    {
     "name": "stderr",
     "output_type": "stream",
     "text": [
      " 52%|█████▏    | 23/44 [01:02<03:48, 10.86s/it]"
     ]
    },
    {
     "name": "stdout",
     "output_type": "stream",
     "text": [
      "FB Parse completed.\n",
      "Added to corpora\n",
      "Transformed corpora.\n"
     ]
    },
    {
     "name": "stderr",
     "output_type": "stream",
     "text": [
      "\r",
      " 55%|█████▍    | 24/44 [01:02<02:33,  7.70s/it]"
     ]
    },
    {
     "name": "stdout",
     "output_type": "stream",
     "text": [
      "FB Parse completed.\n",
      "Added to corpora\n",
      "Transformed corpora.\n",
      "FB Parse completed."
     ]
    },
    {
     "name": "stderr",
     "output_type": "stream",
     "text": [
      "\r",
      " 57%|█████▋    | 25/44 [01:02<01:44,  5.50s/it]"
     ]
    },
    {
     "name": "stdout",
     "output_type": "stream",
     "text": [
      "\n",
      "Added to corpora\n",
      "Transformed corpora.\n",
      "FB Parse completed."
     ]
    },
    {
     "name": "stderr",
     "output_type": "stream",
     "text": [
      "\r",
      " 59%|█████▉    | 26/44 [01:03<01:10,  3.91s/it]"
     ]
    },
    {
     "name": "stdout",
     "output_type": "stream",
     "text": [
      "\n",
      "Added to corpora\n",
      "Transformed corpora.\n",
      "FB Parse completed.\n",
      "Added to corpora\n",
      "Transformed corpora.\n"
     ]
    },
    {
     "name": "stderr",
     "output_type": "stream",
     "text": [
      "\r",
      " 61%|██████▏   | 27/44 [01:05<01:00,  3.57s/it]"
     ]
    },
    {
     "name": "stdout",
     "output_type": "stream",
     "text": [
      "FB Parse completed.\n",
      "Added to corpora"
     ]
    },
    {
     "name": "stderr",
     "output_type": "stream",
     "text": [
      "\r",
      " 64%|██████▎   | 28/44 [01:06<00:45,  2.83s/it]"
     ]
    },
    {
     "name": "stdout",
     "output_type": "stream",
     "text": [
      "\n",
      "Transformed corpora.\n",
      "FB Parse completed.\n"
     ]
    },
    {
     "name": "stderr",
     "output_type": "stream",
     "text": [
      "\r",
      " 66%|██████▌   | 29/44 [01:08<00:34,  2.30s/it]"
     ]
    },
    {
     "name": "stdout",
     "output_type": "stream",
     "text": [
      "Added to corpora\n",
      "Transformed corpora.\n",
      "FB Parse completed.\n"
     ]
    },
    {
     "name": "stderr",
     "output_type": "stream",
     "text": [
      "\r",
      " 68%|██████▊   | 30/44 [01:09<00:26,  1.92s/it]"
     ]
    },
    {
     "name": "stdout",
     "output_type": "stream",
     "text": [
      "Added to corpora\n",
      "Transformed corpora.\n"
     ]
    },
    {
     "name": "stderr",
     "output_type": "stream",
     "text": [
      "\r",
      " 70%|███████   | 31/44 [01:09<00:18,  1.40s/it]"
     ]
    },
    {
     "name": "stdout",
     "output_type": "stream",
     "text": [
      "FB Parse completed.\n",
      "Added to corpora\n",
      "Transformed corpora.\n",
      "FB Parse completed.\n"
     ]
    },
    {
     "name": "stderr",
     "output_type": "stream",
     "text": [
      "\r",
      " 73%|███████▎  | 32/44 [01:10<00:15,  1.27s/it]"
     ]
    },
    {
     "name": "stdout",
     "output_type": "stream",
     "text": [
      "Added to corpora\n",
      "Transformed corpora.\n"
     ]
    },
    {
     "name": "stderr",
     "output_type": "stream",
     "text": [
      "\r",
      " 75%|███████▌  | 33/44 [01:10<00:10,  1.02it/s]"
     ]
    },
    {
     "name": "stdout",
     "output_type": "stream",
     "text": [
      "FB Parse completed.\n",
      "Added to corpora\n",
      "Transformed corpora.\n"
     ]
    },
    {
     "name": "stderr",
     "output_type": "stream",
     "text": [
      "\r",
      " 77%|███████▋  | 34/44 [01:11<00:10,  1.01s/it]"
     ]
    },
    {
     "name": "stdout",
     "output_type": "stream",
     "text": [
      "FB Parse completed.\n",
      "Added to corpora\n",
      "Transformed corpora.\n"
     ]
    },
    {
     "name": "stderr",
     "output_type": "stream",
     "text": [
      "\r",
      " 80%|███████▉  | 35/44 [01:12<00:09,  1.01s/it]"
     ]
    },
    {
     "name": "stdout",
     "output_type": "stream",
     "text": [
      "FB Parse completed.\n",
      "Added to corpora\n",
      "Transformed corpora.\n",
      "FB Parse completed.\n",
      "Added to corpora"
     ]
    },
    {
     "name": "stderr",
     "output_type": "stream",
     "text": [
      "\r",
      " 82%|████████▏ | 36/44 [01:13<00:08,  1.01s/it]"
     ]
    },
    {
     "name": "stdout",
     "output_type": "stream",
     "text": [
      "\n",
      "Transformed corpora.\n",
      "FB Parse completed.\n",
      "Added to corpora\n"
     ]
    },
    {
     "name": "stderr",
     "output_type": "stream",
     "text": [
      "\r",
      " 84%|████████▍ | 37/44 [01:15<00:08,  1.26s/it]"
     ]
    },
    {
     "name": "stdout",
     "output_type": "stream",
     "text": [
      "Transformed corpora.\n"
     ]
    },
    {
     "name": "stderr",
     "output_type": "stream",
     "text": [
      "\r",
      " 86%|████████▋ | 38/44 [01:16<00:07,  1.17s/it]"
     ]
    },
    {
     "name": "stdout",
     "output_type": "stream",
     "text": [
      "FB Parse completed.\n",
      "Added to corpora\n",
      "Transformed corpora.\n",
      "FB Parse completed.\n"
     ]
    },
    {
     "name": "stderr",
     "output_type": "stream",
     "text": [
      "\r",
      " 89%|████████▊ | 39/44 [01:17<00:05,  1.16s/it]"
     ]
    },
    {
     "name": "stdout",
     "output_type": "stream",
     "text": [
      "Added to corpora\n",
      "Transformed corpora.\n",
      "FB Parse completed.\n"
     ]
    },
    {
     "name": "stderr",
     "output_type": "stream",
     "text": [
      "\r",
      " 91%|█████████ | 40/44 [01:18<00:04,  1.24s/it]"
     ]
    },
    {
     "name": "stdout",
     "output_type": "stream",
     "text": [
      "Added to corpora\n",
      "Transformed corpora.\n",
      "FB Parse completed.\n",
      "Added to corpora"
     ]
    },
    {
     "name": "stderr",
     "output_type": "stream",
     "text": [
      "\r",
      " 93%|█████████▎| 41/44 [01:20<00:03,  1.26s/it]"
     ]
    },
    {
     "name": "stdout",
     "output_type": "stream",
     "text": [
      "\n",
      "Transformed corpora.\n",
      "FB Parse completed.\n"
     ]
    },
    {
     "name": "stderr",
     "output_type": "stream",
     "text": [
      "\r",
      " 95%|█████████▌| 42/44 [01:21<00:02,  1.24s/it]"
     ]
    },
    {
     "name": "stdout",
     "output_type": "stream",
     "text": [
      "Added to corpora\n",
      "Transformed corpora.\n",
      "FB Parse completed.\n",
      "Added to corpora"
     ]
    },
    {
     "name": "stderr",
     "output_type": "stream",
     "text": [
      "\r",
      " 98%|█████████▊| 43/44 [01:22<00:01,  1.16s/it]"
     ]
    },
    {
     "name": "stdout",
     "output_type": "stream",
     "text": [
      "\n",
      "Transformed corpora.\n",
      "1-th public have been parsed.\n",
      "2-th public have been parsed.\n",
      "3-th public have been parsed.\n",
      "4-th public have been parsed.\n",
      "VK Parse completed.\n",
      "FB Parse completed.\n",
      "Added to corpora\n",
      "Transformed corpora.\n"
     ]
    },
    {
     "name": "stderr",
     "output_type": "stream",
     "text": [
      "100%|██████████| 44/44 [01:41<00:00,  6.58s/it]\n"
     ]
    }
   ],
   "source": [
    "offset = 0\n",
    "for index, row in tqdm.tqdm(known.iloc[offset:, :].iterrows(), total=len(known) - offset):\n",
    "    user_vk = row['vk_id']\n",
    "    if str(user_vk) == \"nan\":\n",
    "        user_vk = None\n",
    "    user_fb = row['FB']\n",
    "    if str(user_fb) == \"nan\":\n",
    "        user_fb = None\n",
    "    try:\n",
    "        verdict = result_class.get_result(user_vk, user_fb)\n",
    "        result_class.texts = []\n",
    "        for cat, value in verdict:\n",
    "            known.loc[index, cat] = value\n",
    "    except ValueError:\n",
    "        for cat in categories:\n",
    "            known.loc[index, cat] = 0\n",
    "    except IndexError:\n",
    "        for cat in categories:\n",
    "            known.loc[index, cat] = 0"
   ]
  },
  {
   "cell_type": "code",
   "execution_count": 14,
   "metadata": {
    "ExecuteTime": {
     "end_time": "2017-09-11T00:31:29.564952Z",
     "start_time": "2017-09-11T00:31:29.091512Z"
    },
    "collapsed": true
   },
   "outputs": [],
   "source": [
    "norm_dict = {\"values\": []}\n",
    "for name in known.ФИ:\n",
    "    results = []\n",
    "    for col in known[known.ФИ == name].iloc[:, 4:].columns:\n",
    "        results.append({\"name\": norm_names[col], \"value\": float(known.loc[known.ФИ == name, col].values[0])})\n",
    "    norm_dict['values'].append({\"name\": name, \"results\": results})"
   ]
  },
  {
   "cell_type": "code",
   "execution_count": 15,
   "metadata": {
    "ExecuteTime": {
     "end_time": "2017-09-11T00:31:30.279525Z",
     "start_time": "2017-09-11T00:31:30.256143Z"
    }
   },
   "outputs": [
    {
     "data": {
      "text/plain": [
       "[('Образование', 'Реклама и маркетинг'),\n",
       " ('Образование', 'Предпринимательство'),\n",
       " ('Инвестиции', 'Спорт'),\n",
       " ('Спорт', 'Благотворительность'),\n",
       " ('Образование', 'Реклама и маркетинг'),\n",
       " ('Исследования и разработки', 'Корпоративное управление'),\n",
       " ('Юриспруденция', 'Образование'),\n",
       " ('Образование', 'Исследования и разработки'),\n",
       " ('Промышленность', 'Образование'),\n",
       " ('Образование', 'Реклама и маркетинг'),\n",
       " ('Реклама и маркетинг', 'Стратегическое управление'),\n",
       " ('Спорт', 'Образование'),\n",
       " ('Образование', 'Предпринимательство'),\n",
       " ('Спорт', 'Предпринимательство'),\n",
       " ('Благотворительность', 'Политика'),\n",
       " ('Инвестиции', 'Спорт'),\n",
       " ('Образование', 'Корпоративное управление'),\n",
       " ('Корпоративное управление', 'Образование'),\n",
       " ('Предпринимательство', 'Социальная защита'),\n",
       " ('Реклама и маркетинг', 'Образование'),\n",
       " ('Благотворительность', 'Здравоохранение'),\n",
       " ('Спорт', 'Предпринимательство'),\n",
       " ('Реклама и маркетинг', 'Предпринимательство'),\n",
       " ('Спорт', 'Образование'),\n",
       " ('Предпринимательство', 'Образование'),\n",
       " ('Безопасность', 'Исследования и разработки'),\n",
       " ('Образование', 'Исследования и разработки'),\n",
       " ('Предпринимательство', 'Образование'),\n",
       " ('Политика', 'Образование'),\n",
       " ('Благотворительность', 'Реклама и маркетинг'),\n",
       " ('Строительство', 'Социальная защита'),\n",
       " ('Реклама и маркетинг', 'Стратегическое управление'),\n",
       " ('Стратегическое управление', 'Предпринимательство'),\n",
       " ('Стратегическое управление', 'Реклама и маркетинг'),\n",
       " ('Образование', 'Предпринимательство'),\n",
       " ('Спорт', 'Стратегическое управление'),\n",
       " ('Благотворительность', 'Стратегическое управление'),\n",
       " ('Образование', 'Исследования и разработки'),\n",
       " ('Образование', 'Предпринимательство'),\n",
       " ('Реклама и маркетинг', 'Образование'),\n",
       " ('Реклама и маркетинг', 'Образование'),\n",
       " ('Реклама и маркетинг', 'Образование'),\n",
       " ('Благотворительность', 'Образование'),\n",
       " ('Образование', 'Стратегическое управление')]"
      ]
     },
     "execution_count": 15,
     "metadata": {},
     "output_type": "execute_result"
    }
   ],
   "source": [
    "[(norm_categories[x.argsort()[-1]], norm_categories[x.argsort()[-2]]) for x in known.loc[:, categories].values]"
   ]
  },
  {
   "cell_type": "code",
   "execution_count": 18,
   "metadata": {
    "ExecuteTime": {
     "end_time": "2017-09-11T00:33:04.972680Z",
     "start_time": "2017-09-11T00:33:04.886435Z"
    }
   },
   "outputs": [
    {
     "data": {
      "text/plain": [
       "('Искусство', 0.12107375)"
      ]
     },
     "execution_count": 18,
     "metadata": {},
     "output_type": "execute_result"
    },
    {
     "data": {
      "text/plain": [
       "('Политика', 0.19178158)"
      ]
     },
     "execution_count": 18,
     "metadata": {},
     "output_type": "execute_result"
    },
    {
     "data": {
      "text/plain": [
       "('Финансы', 0.1489549)"
      ]
     },
     "execution_count": 18,
     "metadata": {},
     "output_type": "execute_result"
    },
    {
     "data": {
      "text/plain": [
       "('Стратегическое управление', 0.25865808)"
      ]
     },
     "execution_count": 18,
     "metadata": {},
     "output_type": "execute_result"
    },
    {
     "data": {
      "text/plain": [
       "('Юриспруденция', 0.16852756)"
      ]
     },
     "execution_count": 18,
     "metadata": {},
     "output_type": "execute_result"
    },
    {
     "data": {
      "text/plain": [
       "('Исследования и разработки', 0.24883546)"
      ]
     },
     "execution_count": 18,
     "metadata": {},
     "output_type": "execute_result"
    },
    {
     "data": {
      "text/plain": [
       "('Промышленность', 0.17513922)"
      ]
     },
     "execution_count": 18,
     "metadata": {},
     "output_type": "execute_result"
    },
    {
     "data": {
      "text/plain": [
       "('Образование', 0.29297134)"
      ]
     },
     "execution_count": 18,
     "metadata": {},
     "output_type": "execute_result"
    },
    {
     "data": {
      "text/plain": [
       "('Благотворительность', 0.15965591)"
      ]
     },
     "execution_count": 18,
     "metadata": {},
     "output_type": "execute_result"
    },
    {
     "data": {
      "text/plain": [
       "('Здравоохранение', 0.12450378)"
      ]
     },
     "execution_count": 18,
     "metadata": {},
     "output_type": "execute_result"
    },
    {
     "data": {
      "text/plain": [
       "('Сельское хозяйство', 0.12930495)"
      ]
     },
     "execution_count": 18,
     "metadata": {},
     "output_type": "execute_result"
    },
    {
     "data": {
      "text/plain": [
       "('Государственное управление', 0.19284435)"
      ]
     },
     "execution_count": 18,
     "metadata": {},
     "output_type": "execute_result"
    },
    {
     "data": {
      "text/plain": [
       "('Реклама и маркетинг', 0.25356916)"
      ]
     },
     "execution_count": 18,
     "metadata": {},
     "output_type": "execute_result"
    },
    {
     "data": {
      "text/plain": [
       "('Инновации и модернизация', 0.22492985)"
      ]
     },
     "execution_count": 18,
     "metadata": {},
     "output_type": "execute_result"
    },
    {
     "data": {
      "text/plain": [
       "('Безопасность', 0.099284083)"
      ]
     },
     "execution_count": 18,
     "metadata": {},
     "output_type": "execute_result"
    },
    {
     "data": {
      "text/plain": [
       "('Военное дело', 0.049133826)"
      ]
     },
     "execution_count": 18,
     "metadata": {},
     "output_type": "execute_result"
    },
    {
     "data": {
      "text/plain": [
       "('Корпоративное управление', 0.23961683)"
      ]
     },
     "execution_count": 18,
     "metadata": {},
     "output_type": "execute_result"
    },
    {
     "data": {
      "text/plain": [
       "('Социальная защита', 0.13141078)"
      ]
     },
     "execution_count": 18,
     "metadata": {},
     "output_type": "execute_result"
    },
    {
     "data": {
      "text/plain": [
       "('Строительство', 0.1177691)"
      ]
     },
     "execution_count": 18,
     "metadata": {},
     "output_type": "execute_result"
    },
    {
     "data": {
      "text/plain": [
       "('Предпринимательство', 0.26709604)"
      ]
     },
     "execution_count": 18,
     "metadata": {},
     "output_type": "execute_result"
    },
    {
     "data": {
      "text/plain": [
       "('Спорт', 0.1504022)"
      ]
     },
     "execution_count": 18,
     "metadata": {},
     "output_type": "execute_result"
    },
    {
     "data": {
      "text/plain": [
       "('Инвестиции', 0.14617349)"
      ]
     },
     "execution_count": 18,
     "metadata": {},
     "output_type": "execute_result"
    }
   ],
   "source": [
    "means = []\n",
    "for col in known.iloc[:, 4:].columns:\n",
    "    norm_names[col], known.loc[:, col].mean()\n",
    "    means.append(known.loc[:, col].mean())"
   ]
  },
  {
   "cell_type": "code",
   "execution_count": 23,
   "metadata": {
    "ExecuteTime": {
     "end_time": "2017-09-11T00:35:06.296323Z",
     "start_time": "2017-09-11T00:35:06.292352Z"
    },
    "collapsed": true
   },
   "outputs": [],
   "source": [
    "# t is from user-gen up\n",
    "means_2 = [(a + b) / 2 for a, b in zip([z[1] for z in t], [b for b in means])]"
   ]
  },
  {
   "cell_type": "code",
   "execution_count": 25,
   "metadata": {
    "ExecuteTime": {
     "end_time": "2017-09-11T00:37:31.035651Z",
     "start_time": "2017-09-11T00:37:31.027953Z"
    }
   },
   "outputs": [],
   "source": [
    "json.dump(dict(zip(categories, means_2)), open(\"margins.json\", \"w\"))"
   ]
  },
  {
   "cell_type": "code",
   "execution_count": 27,
   "metadata": {
    "ExecuteTime": {
     "end_time": "2017-09-11T00:39:56.711929Z",
     "start_time": "2017-09-11T00:39:56.681528Z"
    },
    "collapsed": true
   },
   "outputs": [],
   "source": [
    "known.to_csv(\"assets/known.csv\")\n",
    "json.dump(norm_dict, open(\"assets/temporary_result.json\", \"w\"))"
   ]
  },
  {
   "cell_type": "code",
   "execution_count": 51,
   "metadata": {
    "ExecuteTime": {
     "end_time": "2017-09-11T00:53:20.743312Z",
     "start_time": "2017-09-11T00:53:20.401232Z"
    }
   },
   "outputs": [
    {
     "name": "stdout",
     "output_type": "stream",
     "text": [
      "Александрина Клюс "
     ]
    },
    {
     "data": {
      "text/plain": [
       "array(['education', 'smm', 'entrepreneurship', 'strateg_management',\n",
       "       'politics'],\n",
       "      dtype='<U18')"
      ]
     },
     "execution_count": 51,
     "metadata": {},
     "output_type": "execute_result"
    },
    {
     "name": "stdout",
     "output_type": "stream",
     "text": [
      "Ангелина Зонова "
     ]
    },
    {
     "data": {
      "text/plain": [
       "array(['education', 'entrepreneurship', 'smm', 'corporative_management',\n",
       "       'building'],\n",
       "      dtype='<U22')"
      ]
     },
     "execution_count": 51,
     "metadata": {},
     "output_type": "execute_result"
    },
    {
     "name": "stdout",
     "output_type": "stream",
     "text": [
      "Владислав Широков "
     ]
    },
    {
     "data": {
      "text/plain": [
       "array([], dtype=float64)"
      ]
     },
     "execution_count": 51,
     "metadata": {},
     "output_type": "execute_result"
    },
    {
     "name": "stdout",
     "output_type": "stream",
     "text": [
      "Галина Жукова "
     ]
    },
    {
     "data": {
      "text/plain": [
       "array(['sport'],\n",
       "      dtype='<U5')"
      ]
     },
     "execution_count": 51,
     "metadata": {},
     "output_type": "execute_result"
    },
    {
     "name": "stdout",
     "output_type": "stream",
     "text": [
      "Жанна Кадылева "
     ]
    },
    {
     "data": {
      "text/plain": [
       "array(['education', 'smm', 'entrepreneurship', 'law',\n",
       "       'corporative_management'],\n",
       "      dtype='<U22')"
      ]
     },
     "execution_count": 51,
     "metadata": {},
     "output_type": "execute_result"
    },
    {
     "name": "stdout",
     "output_type": "stream",
     "text": [
      "Ирина Горькова "
     ]
    },
    {
     "data": {
      "text/plain": [
       "array(['elaboration', 'corporative_management', 'strateg_management',\n",
       "       'education', 'innovations'],\n",
       "      dtype='<U22')"
      ]
     },
     "execution_count": 51,
     "metadata": {},
     "output_type": "execute_result"
    },
    {
     "name": "stdout",
     "output_type": "stream",
     "text": [
      "Ирина Григоренко "
     ]
    },
    {
     "data": {
      "text/plain": [
       "array(['law', 'education', 'government_management',\n",
       "       'corporative_management', 'public_health'],\n",
       "      dtype='<U22')"
      ]
     },
     "execution_count": 51,
     "metadata": {},
     "output_type": "execute_result"
    },
    {
     "name": "stdout",
     "output_type": "stream",
     "text": [
      "Наталья Кульбятская "
     ]
    },
    {
     "data": {
      "text/plain": [
       "array(['education', 'elaboration', 'strateg_management',\n",
       "       'entrepreneurship', 'corporative_management'],\n",
       "      dtype='<U22')"
      ]
     },
     "execution_count": 51,
     "metadata": {},
     "output_type": "execute_result"
    },
    {
     "name": "stdout",
     "output_type": "stream",
     "text": [
      "Нелли Бадалян "
     ]
    },
    {
     "data": {
      "text/plain": [
       "array(['industry', 'education', 'elaboration', 'corporative_management',\n",
       "       'law'],\n",
       "      dtype='<U22')"
      ]
     },
     "execution_count": 51,
     "metadata": {},
     "output_type": "execute_result"
    },
    {
     "name": "stdout",
     "output_type": "stream",
     "text": [
      "Юлия Ханьжина "
     ]
    },
    {
     "data": {
      "text/plain": [
       "array(['education', 'smm', 'strateg_management', 'corporative_management',\n",
       "       'finances'],\n",
       "      dtype='<U22')"
      ]
     },
     "execution_count": 51,
     "metadata": {},
     "output_type": "execute_result"
    },
    {
     "name": "stdout",
     "output_type": "stream",
     "text": [
      "Alexey Khoryushin "
     ]
    },
    {
     "data": {
      "text/plain": [
       "array(['smm', 'strateg_management', 'charity', 'art'],\n",
       "      dtype='<U18')"
      ]
     },
     "execution_count": 51,
     "metadata": {},
     "output_type": "execute_result"
    },
    {
     "name": "stdout",
     "output_type": "stream",
     "text": [
      "Andrey Siling "
     ]
    },
    {
     "data": {
      "text/plain": [
       "array(['sport', 'art', 'military'],\n",
       "      dtype='<U8')"
      ]
     },
     "execution_count": 51,
     "metadata": {},
     "output_type": "execute_result"
    },
    {
     "name": "stdout",
     "output_type": "stream",
     "text": [
      "Denis  Trunov "
     ]
    },
    {
     "data": {
      "text/plain": [
       "array(['education', 'entrepreneurship', 'elaboration', 'industry',\n",
       "       'innovations'],\n",
       "      dtype='<U16')"
      ]
     },
     "execution_count": 51,
     "metadata": {},
     "output_type": "execute_result"
    },
    {
     "name": "stdout",
     "output_type": "stream",
     "text": [
      "Denis Unzhakov "
     ]
    },
    {
     "data": {
      "text/plain": [
       "array(['sport', 'charity', 'industry', 'military'],\n",
       "      dtype='<U8')"
      ]
     },
     "execution_count": 51,
     "metadata": {},
     "output_type": "execute_result"
    },
    {
     "name": "stdout",
     "output_type": "stream",
     "text": [
      "Dima Blaginin "
     ]
    },
    {
     "data": {
      "text/plain": [
       "array(['charity', 'politics', 'education', 'law', 'industry'],\n",
       "      dtype='<U11')"
      ]
     },
     "execution_count": 51,
     "metadata": {},
     "output_type": "execute_result"
    },
    {
     "name": "stdout",
     "output_type": "stream",
     "text": [
      "Ekaterina Aksenova "
     ]
    },
    {
     "data": {
      "text/plain": [
       "array([], dtype=float64)"
      ]
     },
     "execution_count": 51,
     "metadata": {},
     "output_type": "execute_result"
    },
    {
     "name": "stdout",
     "output_type": "stream",
     "text": [
      "Ekaterina Shakina "
     ]
    },
    {
     "data": {
      "text/plain": [
       "array(['education', 'corporative_management', 'strateg_management',\n",
       "       'elaboration', 'entrepreneurship'],\n",
       "      dtype='<U22')"
      ]
     },
     "execution_count": 51,
     "metadata": {},
     "output_type": "execute_result"
    },
    {
     "name": "stdout",
     "output_type": "stream",
     "text": [
      "Eugene Colchev "
     ]
    },
    {
     "data": {
      "text/plain": [
       "array(['corporative_management', 'education', 'strateg_management',\n",
       "       'entrepreneurship', 'law'],\n",
       "      dtype='<U22')"
      ]
     },
     "execution_count": 51,
     "metadata": {},
     "output_type": "execute_result"
    },
    {
     "name": "stdout",
     "output_type": "stream",
     "text": [
      "Eugene Kolganov "
     ]
    },
    {
     "data": {
      "text/plain": [
       "array(['entrepreneurship', 'social_safety', 'elaboration', 'finances',\n",
       "       'investitions'],\n",
       "      dtype='<U16')"
      ]
     },
     "execution_count": 51,
     "metadata": {},
     "output_type": "execute_result"
    },
    {
     "name": "stdout",
     "output_type": "stream",
     "text": [
      "Evgeny Kovnir "
     ]
    },
    {
     "data": {
      "text/plain": [
       "array(['smm', 'education', 'corporative_management', 'industry'],\n",
       "      dtype='<U22')"
      ]
     },
     "execution_count": 51,
     "metadata": {},
     "output_type": "execute_result"
    },
    {
     "name": "stdout",
     "output_type": "stream",
     "text": [
      "George Boissonade "
     ]
    },
    {
     "data": {
      "text/plain": [
       "array(['charity', 'public_health'],\n",
       "      dtype='<U13')"
      ]
     },
     "execution_count": 51,
     "metadata": {},
     "output_type": "execute_result"
    },
    {
     "name": "stdout",
     "output_type": "stream",
     "text": [
      "Igor  Ruzhentsev "
     ]
    },
    {
     "data": {
      "text/plain": [
       "array(['sport', 'charity'],\n",
       "      dtype='<U7')"
      ]
     },
     "execution_count": 51,
     "metadata": {},
     "output_type": "execute_result"
    },
    {
     "name": "stdout",
     "output_type": "stream",
     "text": [
      "Irina Gordina-Nevmerzhitskaya "
     ]
    },
    {
     "data": {
      "text/plain": [
       "array(['smm', 'entrepreneurship', 'strateg_management',\n",
       "       'corporative_management', 'industry'],\n",
       "      dtype='<U22')"
      ]
     },
     "execution_count": 51,
     "metadata": {},
     "output_type": "execute_result"
    },
    {
     "name": "stdout",
     "output_type": "stream",
     "text": [
      "Ivan  Aristov "
     ]
    },
    {
     "data": {
      "text/plain": [
       "array(['sport'],\n",
       "      dtype='<U5')"
      ]
     },
     "execution_count": 51,
     "metadata": {},
     "output_type": "execute_result"
    },
    {
     "name": "stdout",
     "output_type": "stream",
     "text": [
      "Katerina  Novikova "
     ]
    },
    {
     "data": {
      "text/plain": [
       "array(['entrepreneurship', 'elaboration', 'sport', 'industry',\n",
       "       'agriculture'],\n",
       "      dtype='<U16')"
      ]
     },
     "execution_count": 51,
     "metadata": {},
     "output_type": "execute_result"
    },
    {
     "name": "stdout",
     "output_type": "stream",
     "text": [
      "Kirill Konev "
     ]
    },
    {
     "data": {
      "text/plain": [
       "array(['safety', 'elaboration', 'innovations', 'building'],\n",
       "      dtype='<U11')"
      ]
     },
     "execution_count": 51,
     "metadata": {},
     "output_type": "execute_result"
    },
    {
     "name": "stdout",
     "output_type": "stream",
     "text": [
      "Ksusha Andreeva "
     ]
    },
    {
     "data": {
      "text/plain": [
       "array(['education', 'elaboration', 'entrepreneurship', 'smm', 'innovations'],\n",
       "      dtype='<U16')"
      ]
     },
     "execution_count": 51,
     "metadata": {},
     "output_type": "execute_result"
    },
    {
     "name": "stdout",
     "output_type": "stream",
     "text": [
      "Liubov Kirienko "
     ]
    },
    {
     "data": {
      "text/plain": [
       "array(['entrepreneurship', 'strateg_management', 'elaboration', 'politics',\n",
       "       'innovations'],\n",
       "      dtype='<U18')"
      ]
     },
     "execution_count": 51,
     "metadata": {},
     "output_type": "execute_result"
    },
    {
     "name": "stdout",
     "output_type": "stream",
     "text": [
      "Maria Dolgikh "
     ]
    },
    {
     "data": {
      "text/plain": [
       "array(['politics', 'smm', 'industry', 'art'],\n",
       "      dtype='<U8')"
      ]
     },
     "execution_count": 51,
     "metadata": {},
     "output_type": "execute_result"
    },
    {
     "name": "stdout",
     "output_type": "stream",
     "text": [
      "Nikita Lebedev "
     ]
    },
    {
     "data": {
      "text/plain": [
       "array(['charity', 'smm', 'sport', 'social_safety'],\n",
       "      dtype='<U13')"
      ]
     },
     "execution_count": 51,
     "metadata": {},
     "output_type": "execute_result"
    },
    {
     "name": "stdout",
     "output_type": "stream",
     "text": [
      "Oleg Podolskiy "
     ]
    },
    {
     "data": {
      "text/plain": [
       "array(['building', 'social_safety', 'entrepreneurship', 'agriculture',\n",
       "       'investitions'],\n",
       "      dtype='<U16')"
      ]
     },
     "execution_count": 51,
     "metadata": {},
     "output_type": "execute_result"
    },
    {
     "name": "stdout",
     "output_type": "stream",
     "text": [
      "Olga Potemkina "
     ]
    },
    {
     "data": {
      "text/plain": [
       "array(['smm', 'strateg_management', 'corporative_management', 'sport',\n",
       "       'finances'],\n",
       "      dtype='<U22')"
      ]
     },
     "execution_count": 51,
     "metadata": {},
     "output_type": "execute_result"
    },
    {
     "name": "stdout",
     "output_type": "stream",
     "text": [
      "Olya  Zaytseva "
     ]
    },
    {
     "data": {
      "text/plain": [
       "array(['strateg_management', 'entrepreneurship', 'smm',\n",
       "       'corporative_management', 'innovations'],\n",
       "      dtype='<U22')"
      ]
     },
     "execution_count": 51,
     "metadata": {},
     "output_type": "execute_result"
    },
    {
     "name": "stdout",
     "output_type": "stream",
     "text": [
      "Ruslan Karmannyy "
     ]
    },
    {
     "data": {
      "text/plain": [
       "array(['strateg_management', 'smm', 'entrepreneurship',\n",
       "       'corporative_management', 'innovations'],\n",
       "      dtype='<U22')"
      ]
     },
     "execution_count": 51,
     "metadata": {},
     "output_type": "execute_result"
    },
    {
     "name": "stdout",
     "output_type": "stream",
     "text": [
      "Sergey Nakvasin "
     ]
    },
    {
     "data": {
      "text/plain": [
       "array(['education', 'entrepreneurship', 'elaboration',\n",
       "       'corporative_management', 'strateg_management'],\n",
       "      dtype='<U22')"
      ]
     },
     "execution_count": 51,
     "metadata": {},
     "output_type": "execute_result"
    },
    {
     "name": "stdout",
     "output_type": "stream",
     "text": [
      "Tatiana Anisimova "
     ]
    },
    {
     "data": {
      "text/plain": [
       "array(['sport', 'strateg_management', 'entrepreneurship', 'smm', 'charity'],\n",
       "      dtype='<U18')"
      ]
     },
     "execution_count": 51,
     "metadata": {},
     "output_type": "execute_result"
    },
    {
     "name": "stdout",
     "output_type": "stream",
     "text": [
      "Tatyana Mazhutis "
     ]
    },
    {
     "data": {
      "text/plain": [
       "array(['charity', 'law', 'finances', 'social_safety'],\n",
       "      dtype='<U13')"
      ]
     },
     "execution_count": 51,
     "metadata": {},
     "output_type": "execute_result"
    },
    {
     "name": "stdout",
     "output_type": "stream",
     "text": [
      "Tretyakov Vasily "
     ]
    },
    {
     "data": {
      "text/plain": [
       "array(['education', 'elaboration', 'strateg_management',\n",
       "       'entrepreneurship', 'smm'],\n",
       "      dtype='<U22')"
      ]
     },
     "execution_count": 51,
     "metadata": {},
     "output_type": "execute_result"
    },
    {
     "name": "stdout",
     "output_type": "stream",
     "text": [
      "Varvara  Lukashina "
     ]
    },
    {
     "data": {
      "text/plain": [
       "array(['education', 'entrepreneurship', 'charity', 'elaboration',\n",
       "       'corporative_management'],\n",
       "      dtype='<U22')"
      ]
     },
     "execution_count": 51,
     "metadata": {},
     "output_type": "execute_result"
    },
    {
     "name": "stdout",
     "output_type": "stream",
     "text": [
      "Yulia  Gudach "
     ]
    },
    {
     "data": {
      "text/plain": [
       "array(['smm', 'education', 'politics', 'elaboration', 'industry'],\n",
       "      dtype='<U11')"
      ]
     },
     "execution_count": 51,
     "metadata": {},
     "output_type": "execute_result"
    },
    {
     "name": "stdout",
     "output_type": "stream",
     "text": [
      "Yury Sushinov "
     ]
    },
    {
     "data": {
      "text/plain": [
       "array(['smm', 'education', 'strateg_management', 'entrepreneurship',\n",
       "       'industry'],\n",
       "      dtype='<U18')"
      ]
     },
     "execution_count": 51,
     "metadata": {},
     "output_type": "execute_result"
    },
    {
     "name": "stdout",
     "output_type": "stream",
     "text": [
      "Песков Дмитрий "
     ]
    },
    {
     "data": {
      "text/plain": [
       "array(['smm', 'education', 'strateg_management', 'entrepreneurship',\n",
       "       'corporative_management'],\n",
       "      dtype='<U22')"
      ]
     },
     "execution_count": 51,
     "metadata": {},
     "output_type": "execute_result"
    },
    {
     "name": "stdout",
     "output_type": "stream",
     "text": [
      "Гнитько Ксения "
     ]
    },
    {
     "data": {
      "text/plain": [
       "array(['charity', 'education', 'law', 'smm', 'industry'],\n",
       "      dtype='<U9')"
      ]
     },
     "execution_count": 51,
     "metadata": {},
     "output_type": "execute_result"
    },
    {
     "name": "stdout",
     "output_type": "stream",
     "text": [
      "Дмитрий Земцов "
     ]
    },
    {
     "data": {
      "text/plain": [
       "array(['strateg_management', 'entrepreneurship', 'elaboration', 'smm',\n",
       "       'innovations'],\n",
       "      dtype='<U18')"
      ]
     },
     "execution_count": 51,
     "metadata": {},
     "output_type": "execute_result"
    }
   ],
   "source": [
    "tt = []\n",
    "for i, item in known.iterrows():\n",
    "    print(item['ФИ'], end=\" \")\n",
    "    accepted_cols = []\n",
    "    for col, margin in dict(zip(categories, means_2)).items():\n",
    "        if item[col] > 1.1 * margin:\n",
    "            accepted_cols.append(col)\n",
    "    np.array(accepted_cols)[item[accepted_cols].argsort()[::-1]][:5]"
   ]
  },
  {
   "cell_type": "code",
   "execution_count": null,
   "metadata": {
    "collapsed": true
   },
   "outputs": [],
   "source": []
  },
  {
   "cell_type": "code",
   "execution_count": null,
   "metadata": {
    "collapsed": true
   },
   "outputs": [],
   "source": []
  },
  {
   "cell_type": "code",
   "execution_count": null,
   "metadata": {
    "ExecuteTime": {
     "end_time": "2017-08-20T22:09:41.691154Z",
     "start_time": "2017-08-20T22:09:41.651791Z"
    },
    "collapsed": true
   },
   "outputs": [],
   "source": [
    "import vk_api\n",
    "from config import VK_TOKEN"
   ]
  },
  {
   "cell_type": "code",
   "execution_count": null,
   "metadata": {
    "ExecuteTime": {
     "end_time": "2017-08-20T22:09:41.764581Z",
     "start_time": "2017-08-20T22:09:41.722894Z"
    },
    "collapsed": true
   },
   "outputs": [],
   "source": [
    "vk = vk_api.VkApi(token=VK_TOKEN)\n",
    "vk = vk.get_api()"
   ]
  },
  {
   "cell_type": "code",
   "execution_count": null,
   "metadata": {
    "ExecuteTime": {
     "end_time": "2017-08-20T22:09:43.840139Z",
     "start_time": "2017-08-20T22:09:41.768188Z"
    },
    "collapsed": true,
    "scrolled": false
   },
   "outputs": [],
   "source": [
    "t = [a['text'] for a in vk.newsfeed.search(q=\"корпоративное управление\", count=200)['items']]"
   ]
  },
  {
   "cell_type": "code",
   "execution_count": null,
   "metadata": {
    "ExecuteTime": {
     "end_time": "2017-08-20T22:09:43.864179Z",
     "start_time": "2017-08-20T22:09:43.843135Z"
    },
    "collapsed": true,
    "scrolled": false
   },
   "outputs": [],
   "source": [
    "with open('t.txt', 'w') as f:\n",
    "    for line in t:\n",
    "        _ = f.write(f'{line}\\n')"
   ]
  },
  {
   "cell_type": "code",
   "execution_count": null,
   "metadata": {
    "collapsed": true
   },
   "outputs": [],
   "source": []
  }
 ],
 "metadata": {
  "hide_input": false,
  "kernelspec": {
   "display_name": "Python 3",
   "language": "python",
   "name": "python3"
  },
  "language_info": {
   "codemirror_mode": {
    "name": "ipython",
    "version": 3
   },
   "file_extension": ".py",
   "mimetype": "text/x-python",
   "name": "python",
   "nbconvert_exporter": "python",
   "pygments_lexer": "ipython3",
   "version": "3.6.2"
  }
 },
 "nbformat": 4,
 "nbformat_minor": 2
}
