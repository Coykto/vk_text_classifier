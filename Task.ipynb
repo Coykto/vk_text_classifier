{
 "cells": [
  {
   "cell_type": "code",
   "execution_count": 1,
   "metadata": {
    "ExecuteTime": {
     "end_time": "2017-08-21T22:23:20.678048Z",
     "start_time": "2017-08-21T22:22:35.129856Z"
    }
   },
   "outputs": [
    {
     "name": "stderr",
     "output_type": "stream",
     "text": [
      "Using TensorFlow backend.\n"
     ]
    }
   ],
   "source": [
    "import itertools\n",
    "import json\n",
    "import warnings\n",
    "warnings.filterwarnings(\"ignore\")\n",
    "\n",
    "from util import *\n",
    "from scipy.sparse import vstack, csr_matrix, coo_matrix\n",
    "from sklearn.model_selection import train_test_split\n",
    "\n",
    "import pandas as pd\n",
    "import numpy as np\n",
    "from sklearn.feature_extraction.text import TfidfVectorizer\n",
    "from keras.models import load_model\n",
    "from sklearn.utils import class_weight\n",
    "from keras.layers import *\n",
    "from keras.models import Model\n",
    "from keras.callbacks import EarlyStopping, ReduceLROnPlateau, ModelCheckpoint, TensorBoard, CSVLogger"
   ]
  },
  {
   "cell_type": "markdown",
   "metadata": {},
   "source": [
    "# Corpora for training model"
   ]
  },
  {
   "cell_type": "code",
   "execution_count": 2,
   "metadata": {
    "ExecuteTime": {
     "end_time": "2017-08-21T22:23:20.787965Z",
     "start_time": "2017-08-21T22:23:20.716340Z"
    },
    "collapsed": true
   },
   "outputs": [],
   "source": [
    "sources = {'art': [60114472, 19191317], \n",
    "           'politics': [29534144, 23482909], \n",
    "           'finances': [62438886, 81354264],\n",
    "           'strateg_management': [\"http://www.stplan.ru/\", \"http://www.30n.ru/2/1.html\"], \n",
    "           'law': [65974416, 79084019],\n",
    "           'elaboration': [\"https://vk.com/\"], \n",
    "           'industry': [67183197, 66233468], \n",
    "           'education': [30558759, 98643656],\n",
    "#            'social_business': [23509868, 56821139],\n",
    "           'charity': [],\n",
    "           'public_health': [78860407, 61490488],\n",
    "           'agriculture': [\"http://www.nsh.ru/\", \"http://россельхоз.рф/\"],\n",
    "           'government_management': [\"http://be5.biz/upravlenie/gosudarstvennoe_upravlenie.html\", 97296142],\n",
    "           'smm': [74686342, 79925455],\n",
    "           'innovations': [98643656, 63337812],\n",
    "           'safety': [37959220, 10933209],\n",
    "           'military': [\"http://www.soldiering.ru\", \"https://voennoe-delo.com\"],\n",
    "           'corporative_management': [\"http://www.cfin.ru/management/\"],\n",
    "           'social_safety': [49582956, 72388807],\n",
    "           'building': [30713157, 26978036],\n",
    "           'entrepreneurship': [69560028, 73537456],\n",
    "           'sport': [29809500, 128350290],\n",
    "           'investitions': [37876217, 3800580]\n",
    "          }"
   ]
  },
  {
   "cell_type": "code",
   "execution_count": 3,
   "metadata": {
    "ExecuteTime": {
     "end_time": "2017-08-21T22:23:20.875759Z",
     "start_time": "2017-08-21T22:23:20.807287Z"
    },
    "scrolled": true
   },
   "outputs": [],
   "source": [
    "# getting data for corpora\n",
    "for tag, ids_ in sources.items():\n",
    "    path = f\"assets/corpora/{tag}.txt\"\n",
    "    s = set()\n",
    "    if not os.path.exists(path):\n",
    "        with open(path, \"w\") as f:\n",
    "            for id_ in ids_:\n",
    "                if isinstance(id_, int):\n",
    "                    wall = ParseClass.getallwall({\"owner_id\": -id_}, 1000)\n",
    "                    for post in tqdm.tqdm(wall):\n",
    "                        if len(post) and post not in s:\n",
    "                            s.add(post)\n",
    "                            _ = f.write(f\"{post}\\n\")\n",
    "                elif isinstance(id_, str):\n",
    "                    links = np.random.choice(list(ParseClass.get_all_links(id_)), 1000)\n",
    "                    for link in tqdm.tqdm(links):\n",
    "                        try:\n",
    "                            page = requests.get(link).text\n",
    "                            soup = BeautifulSoup(page, \"lxml\")\n",
    "                            for text in soup.text.strip().split(\"\\n\"):\n",
    "                                if len(text) and text not in s:\n",
    "                                    s.add(text)\n",
    "                                    _ = f.write(f\"{text}\\n\")\n",
    "                        except: pass"
   ]
  },
  {
   "cell_type": "markdown",
   "metadata": {},
   "source": [
    "Manual processing"
   ]
  },
  {
   "cell_type": "code",
   "execution_count": 4,
   "metadata": {
    "ExecuteTime": {
     "end_time": "2017-08-21T22:23:20.889954Z",
     "start_time": "2017-08-21T22:23:20.884780Z"
    },
    "collapsed": true
   },
   "outputs": [],
   "source": [
    "categories = list(sources.keys())"
   ]
  },
  {
   "cell_type": "markdown",
   "metadata": {},
   "source": [
    "# Making model"
   ]
  },
  {
   "cell_type": "code",
   "execution_count": 5,
   "metadata": {
    "ExecuteTime": {
     "end_time": "2017-08-21T22:23:22.094159Z",
     "start_time": "2017-08-21T22:23:20.900989Z"
    }
   },
   "outputs": [],
   "source": [
    "# Author: Peter Prettenhofer <peter.prettenhofer@gmail.com>\n",
    "#         Olivier Grisel <olivier.grisel@ensta.org>\n",
    "#         Mathieu Blondel <mathieu@mblondel.org>\n",
    "#         Lars Buitinck\n",
    "# License: BSD 3 clause\n",
    "\n",
    "from __future__ import print_function\n",
    "\n",
    "import logging\n",
    "import numpy as np\n",
    "from optparse import OptionParser\n",
    "import sys\n",
    "from time import time\n",
    "import matplotlib.pyplot as plt\n",
    "\n",
    "from sklearn.datasets import fetch_20newsgroups\n",
    "from sklearn.feature_extraction.text import TfidfVectorizer\n",
    "from sklearn.feature_extraction.text import HashingVectorizer\n",
    "from sklearn.feature_selection import SelectFromModel\n",
    "from sklearn.feature_selection import SelectKBest, chi2\n",
    "from sklearn.linear_model import RidgeClassifier\n",
    "from sklearn.pipeline import Pipeline\n",
    "from sklearn.svm import LinearSVC\n",
    "from sklearn.linear_model import SGDClassifier\n",
    "from sklearn.linear_model import Perceptron\n",
    "from sklearn.linear_model import PassiveAggressiveClassifier\n",
    "from sklearn.naive_bayes import BernoulliNB, MultinomialNB\n",
    "from sklearn.neighbors import KNeighborsClassifier\n",
    "from sklearn.neighbors import NearestCentroid\n",
    "from sklearn.ensemble import RandomForestClassifier\n",
    "from sklearn.utils.extmath import density\n",
    "from sklearn import metrics\n",
    "\n",
    "\n",
    "# Display progress logs on stdout\n",
    "logging.basicConfig(level=logging.INFO,\n",
    "                    format='%(asctime)s %(levelname)s %(message)s')\n",
    "\n",
    "# order of labels in `target_names` can be different from `categories`\n",
    "target_names = categories"
   ]
  },
  {
   "cell_type": "code",
   "execution_count": 6,
   "metadata": {
    "ExecuteTime": {
     "end_time": "2017-08-21T22:23:26.979577Z",
     "start_time": "2017-08-21T22:23:26.509967Z"
    }
   },
   "outputs": [],
   "source": [
    "corpora_class = CorporaClass()\n",
    "\n",
    "for filename in categories:\n",
    "    with open(f\"assets/corpora/{filename}.txt\") as f:\n",
    "        corpora_class.add_to_corpora(f)\n",
    "# corpora_class.process_corpora()\n",
    "\n",
    "# json.dump(list(corpora_class.vocab), open(\"assets/vocab.json\", \"w\"))\n",
    "pickle.dump(corpora_class.corpora, open(\"assets/corpora.p\", \"wb\"))"
   ]
  },
  {
   "cell_type": "code",
   "execution_count": 7,
   "metadata": {
    "ExecuteTime": {
     "end_time": "2017-08-21T22:23:31.037693Z",
     "start_time": "2017-08-21T22:23:30.841308Z"
    }
   },
   "outputs": [],
   "source": [
    "corpora = pickle.load(open(\"assets/corpora.p\", \"rb\"))\n",
    "vocab = json.load(open(\"assets/vocab.json\"))"
   ]
  },
  {
   "cell_type": "code",
   "execution_count": 8,
   "metadata": {
    "ExecuteTime": {
     "end_time": "2017-08-21T22:23:31.491588Z",
     "start_time": "2017-08-21T22:23:31.484143Z"
    }
   },
   "outputs": [],
   "source": [
    "corpora_lengths = []\n",
    "for i, x in enumerate(corpora):\n",
    "    corpora_lengths.append(len(x))"
   ]
  },
  {
   "cell_type": "code",
   "execution_count": 14,
   "metadata": {
    "ExecuteTime": {
     "end_time": "2017-08-21T22:27:16.293951Z",
     "start_time": "2017-08-21T22:25:54.538922Z"
    }
   },
   "outputs": [],
   "source": [
    "vectorizer = TfidfVectorizer(tokenizer=corpora_class.full_process, max_df=0.5, sublinear_tf=True)\n",
    "docterm_matrix = vectorizer.fit_transform(list(itertools.chain(*(doc for doc in corpora))))\n",
    "\n",
    "pickle.dump(docterm_matrix, open(\"assets/docterm_matrix.p\", \"wb\"))\n",
    "pickle.dump(vectorizer, open(\"assets/vectorizer.p\", \"wb\"))"
   ]
  },
  {
   "cell_type": "code",
   "execution_count": 17,
   "metadata": {
    "ExecuteTime": {
     "end_time": "2017-08-21T22:27:54.939237Z",
     "start_time": "2017-08-21T22:27:54.926719Z"
    },
    "collapsed": true
   },
   "outputs": [],
   "source": [
    "docterm_matrix = pickle.load(open(\"assets/docterm_matrix.p\", 'rb'))"
   ]
  },
  {
   "cell_type": "code",
   "execution_count": 18,
   "metadata": {
    "ExecuteTime": {
     "end_time": "2017-08-21T22:27:55.742932Z",
     "start_time": "2017-08-21T22:27:55.731433Z"
    },
    "collapsed": true
   },
   "outputs": [],
   "source": [
    "DELIM = 1300\n",
    "NUM_OF_CLASSES = 22\n",
    "vector_size = docterm_matrix[0].shape[1]"
   ]
  },
  {
   "cell_type": "code",
   "execution_count": 74,
   "metadata": {
    "ExecuteTime": {
     "end_time": "2017-08-22T07:33:09.877149Z",
     "start_time": "2017-08-22T07:30:42.312793Z"
    }
   },
   "outputs": [],
   "source": [
    "X = csr_matrix(np.empty(docterm_matrix.shape), dtype='float32')\n",
    "y = csr_matrix(np.empty((docterm_matrix.shape[0], 1)))\n",
    "\n",
    "ind_arr = np.cumsum(np.array(corpora_lengths))\n",
    "for c, item in enumerate(docterm_matrix):\n",
    "    # get index with needed elements\n",
    "    i = np.where(ind_arr > c)[0][0]\n",
    "    num = min(item.shape[0], DELIM)\n",
    "#     for _ in range(num):\n",
    "#         y_ = np.zeros(NUM_OF_CLASSES)\n",
    "#         y_[i] = 1\n",
    "#     y[c] = y_\n",
    "    y[c] = i\n",
    "    X[c] = item[:num]"
   ]
  },
  {
   "cell_type": "code",
   "execution_count": 75,
   "metadata": {
    "ExecuteTime": {
     "end_time": "2017-08-22T07:33:10.526660Z",
     "start_time": "2017-08-22T07:33:09.915155Z"
    },
    "collapsed": true
   },
   "outputs": [],
   "source": [
    "X = X.toarray()\n",
    "y = y.toarray()"
   ]
  },
  {
   "cell_type": "code",
   "execution_count": 76,
   "metadata": {
    "ExecuteTime": {
     "end_time": "2017-08-22T07:33:14.537199Z",
     "start_time": "2017-08-22T07:33:10.535161Z"
    },
    "collapsed": true
   },
   "outputs": [],
   "source": [
    "X_train, X_test, y_train, y_test = train_test_split(X, y, test_size=0.2)"
   ]
  },
  {
   "cell_type": "code",
   "execution_count": 35,
   "metadata": {
    "ExecuteTime": {
     "end_time": "2017-08-21T22:36:31.547356Z",
     "start_time": "2017-08-21T22:36:31.516560Z"
    },
    "collapsed": true
   },
   "outputs": [],
   "source": [
    "%matplotlib inline"
   ]
  },
  {
   "cell_type": "code",
   "execution_count": 78,
   "metadata": {
    "ExecuteTime": {
     "end_time": "2017-08-22T14:03:00.315899Z",
     "start_time": "2017-08-22T14:02:41.932066Z"
    }
   },
   "outputs": [],
   "source": [
    "feature_names = vectorizer.get_feature_names()\n",
    "\n",
    "# Extracting 200 best features by a chi-squared test\"\n",
    "ch2 = SelectKBest(chi2, k=5000)\n",
    "X_train = ch2.fit_transform(X_train, y_train)\n",
    "X_test = ch2.transform(X_test)\n",
    "if feature_names:\n",
    "    # keep selected feature names\n",
    "    feature_names = [feature_names[i] for i\n",
    "                     in ch2.get_support(indices=True)]\n",
    "if feature_names:\n",
    "    feature_names = np.asarray(feature_names)\n",
    "\n",
    "\n",
    "def trim(s):\n",
    "    \"\"\"Trim string to fit on terminal (assuming 80-column display)\"\"\"\n",
    "    return s if len(s) <= 80 else s[:77] + \"...\"\n",
    "\n",
    "\n",
    "# #############################################################################\n",
    "# Benchmark classifiers\n",
    "def benchmark(clf):\n",
    "    print('_' * 80)\n",
    "    print(\"Training: \")\n",
    "    print(clf)\n",
    "    t0 = time()\n",
    "    clf.fit(X_train, y_train)\n",
    "    train_time = time() - t0\n",
    "    print(\"train time: %0.3fs\" % train_time)\n",
    "\n",
    "    t0 = time()\n",
    "    pred = clf.predict(X_test)\n",
    "    test_time = time() - t0\n",
    "    print(\"test time:  %0.3fs\" % test_time)\n",
    "\n",
    "    score = metrics.f1_score(y_test, pred, average='weighted')\n",
    "    print(\"accuracy:   %0.3f\" % score)\n",
    "\n",
    "    if hasattr(clf, 'coef_'):\n",
    "        print(\"dimensionality: %d\" % clf.coef_.shape[1])\n",
    "        print(\"density: %f\" % density(clf.coef_))\n",
    "\n",
    "        if feature_names is not None:\n",
    "            print(\"top 10 keywords per class:\")\n",
    "            for i, label in enumerate(target_names):\n",
    "                top10 = np.argsort(clf.coef_[i])[-10:]\n",
    "                print(trim(\"%s: %s\" % (label, \" \".join(feature_names[top10]))))\n",
    "        print()\n",
    "\n",
    "    print(\"classification report:\")\n",
    "    print(metrics.classification_report(y_test, pred,\n",
    "                                            target_names=target_names))\n",
    "    print(\"confusion matrix:\")\n",
    "    print(metrics.confusion_matrix(y_test, pred))\n",
    "\n",
    "    print()\n",
    "    clf_descr = str(clf).split('(')[0]\n",
    "    return clf_descr, score, train_time, test_time"
   ]
  },
  {
   "cell_type": "code",
   "execution_count": null,
   "metadata": {
    "ExecuteTime": {
     "start_time": "2017-08-22T14:03:02.357Z"
    },
    "scrolled": true
   },
   "outputs": [
    {
     "name": "stdout",
     "output_type": "stream",
     "text": [
      "================================================================================\n",
      "Perceptron\n",
      "________________________________________________________________________________\n",
      "Training: \n",
      "Perceptron(alpha=0.0001, class_weight=None, eta0=1.0, fit_intercept=True,\n",
      "      n_iter=50, n_jobs=1, penalty=None, random_state=0, shuffle=True,\n",
      "      verbose=0, warm_start=False)\n",
      "train time: 151.937s\n",
      "test time:  0.254s\n",
      "accuracy:   0.657\n",
      "dimensionality: 5000\n",
      "density: 0.561136\n",
      "top 10 keywords per class:\n",
      "art: открытие шутливый пользователь принцип неабстрактный универсальный челов...\n",
      "politics: региональный переселенческий донбассгаза гражданство газопровод сро...\n",
      "finances: неверный страховой сектор обрабатывать формироваться стат специфика...\n",
      "strateg_management: европа ботаник классный стадия рыночный сопоставимый крит...\n",
      "law: оштрафовать софт сержант возбудить детектив подсказать официант застройщ...\n",
      "elaboration: рид секретариат павлюченко пролетарский соисполнитель экспертиза...\n",
      "industry: экскаватор экспо мартин несырьевой макс беспилотный совещание камаз...\n",
      "education: вызов телепортация азербайджан уменьшаться мифь наукарфа абитуриен...\n",
      "charity: помогать малыш диагноз клатч гуманитарный реабилитация хлеб нуждающи...\n",
      "public_health: обобщение обусловить истощение асотуров мочевой синтез пародон...\n",
      "agriculture: погреб артемий муравей комбикормовый пчела урожай мотоблок кура ...\n",
      "government_management: доход бюджетный регулирование закупка плательщик финан...\n",
      "smm: корзина вебинар тестировать конверсия неэффективность дэн инфобизнес сло...\n",
      "innovations: университет коалиция горизонт накопитель оригинал ася мотивирова...\n",
      "safety: признанный доступ аппаратный антивирусный безопасность информационный...\n",
      "military: десятилетие незавидный ракетчик ракетный войско рвсна оборона акаде...\n",
      "corporative_management: релиз обретение щит майнер ванстрата трамп разрядный ...\n",
      "social_safety: доплата неработающий капремонт апелляция жилой велосипед стоян...\n",
      "building: интерьер отопление вентилятор ванна строительный леса арматура печь...\n",
      "entrepreneurship: челны английский лана фабрика видеоролик неуверенность докл...\n",
      "sport: сформировать мышца преподаватель самочувствие кроссовок травма трениро...\n",
      "investitions: великобритания гаркуш виталик росляк эстония белиз биржа закрыв...\n",
      "\n",
      "classification report:\n",
      "                        precision    recall  f1-score   support\n",
      "\n",
      "                   art       0.62      0.35      0.44        52\n",
      "              politics       0.78      0.53      0.63        60\n",
      "              finances       0.75      0.44      0.56        68\n",
      "    strateg_management       0.55      0.41      0.47        75\n",
      "                   law       0.42      0.64      0.51       378\n",
      "           elaboration       0.81      0.70      0.75       158\n",
      "              industry       0.70      0.67      0.68       173\n",
      "             education       0.72      0.67      0.69       180\n",
      "               charity       0.76      0.68      0.72       346\n",
      "         public_health       0.80      0.56      0.65        63\n",
      "           agriculture       0.72      0.86      0.78       324\n",
      " government_management       0.40      0.72      0.52        46\n",
      "                   smm       0.72      0.66      0.69       726\n",
      "           innovations       0.73      0.67      0.70        72\n",
      "                safety       0.52      0.56      0.54        45\n",
      "              military       0.83      0.62      0.71        16\n",
      "corporative_management       0.42      0.45      0.43       189\n",
      "         social_safety       0.75      0.52      0.62       351\n",
      "              building       0.85      0.86      0.85       420\n",
      "      entrepreneurship       0.50      0.57      0.53       336\n",
      "                 sport       0.70      0.77      0.73       191\n",
      "          investitions       0.46      0.40      0.43        40\n",
      "\n",
      "           avg / total       0.68      0.65      0.66      4309\n",
      "\n",
      "confusion matrix:\n",
      "[[ 18   0   0   0   1   0   0   1   1   0   1   1  14   0   1   0   5   1\n",
      "    0   6   2   0]\n",
      " [  0  32   0   1   3   2   0   0   0   0   2   6   1   0   1   1   3   1\n",
      "    1   4   2   0]\n",
      " [  1   1  30   3   4   0   1   1   0   1   8   2   3   1   0   0   6   0\n",
      "    1   3   1   1]\n",
      " [  0   2   2  31   5   0   1   0   2   0   2   0   6   2   0   0   5   1\n",
      "    0  12   2   2]\n",
      " [  3   1   0   0 242   6   8   4  10   0   4   8  23   4   5   0  11  22\n",
      "    4  18   4   1]\n",
      " [  0   0   0   2  19 110   6   0   4   0   8   2   1   0   0   0   0   2\n",
      "    0   3   1   0]\n",
      " [  0   0   0   0   7   0 116   5   0   0   9   8   4   3   2   0   7   4\n",
      "    4   2   2   0]\n",
      " [  0   0   0   0  10   7   5 120   1   3   6   2   7   1   0   0   4   5\n",
      "    0   9   0   0]\n",
      " [  0   0   0   1  41   1   1   0 234   0   6   0  14   1   0   0   6   3\n",
      "    7  22   8   1]\n",
      " [  0   0   0   1  14   0   0   0   2  35   5   0   0   0   0   0   0   0\n",
      "    2   2   2   0]\n",
      " [  0   1   0   1   6   0   6   1   1   1 278   0   5   0   0   0   5   2\n",
      "   11   2   4   0]\n",
      " [  0   1   0   0   3   0   2   0   0   0   3  33   1   0   1   0   0   0\n",
      "    1   1   0   0]\n",
      " [  5   1   1   5  70   2   5   3  16   0  14   3 476   2   1   0  29   6\n",
      "   12  53  15   7]\n",
      " [  0   0   1   0   1   0   4   6   0   0   2   0   1  48   0   0   1   0\n",
      "    2   6   0   0]\n",
      " [  0   0   1   1   2   0   0   1   0   0   0   1   4   0  25   0   3   2\n",
      "    4   1   0   0]\n",
      " [  0   1   0   0   2   0   0   1   0   0   0   0   0   0   0  10   0   0\n",
      "    1   0   1   0]\n",
      " [  0   0   2   4  17   2   4   0   5   0   6   5  29   1   5   1  85   4\n",
      "    2  13   1   3]\n",
      " [  0   1   1   0  56   4   5  11  11   2  15   7  19   0   5   0   7 183\n",
      "    7  12   3   2]\n",
      " [  1   0   0   2  16   0   0   0   3   1  10   0   5   0   1   0   6   3\n",
      "  361   9   2   0]\n",
      " [  0   0   2   2  38   2   2  10  13   1   5   4  34   1   0   0  13   2\n",
      "    3 191  11   2]\n",
      " [  0   0   0   1  12   0   0   2   3   0   3   0   6   1   0   0   2   2\n",
      "    3   9 147   0]\n",
      " [  1   0   0   1   2   0   0   0   1   0   0   0   5   1   1   0   5   0\n",
      "    0   6   1  16]]\n",
      "\n",
      "================================================================================\n",
      "Passive-Aggressive\n",
      "________________________________________________________________________________\n",
      "Training: \n",
      "PassiveAggressiveClassifier(C=1.0, class_weight=None, fit_intercept=True,\n",
      "              loss='hinge', n_iter=50, n_jobs=1, random_state=None,\n",
      "              shuffle=True, verbose=0, warm_start=False)\n",
      "train time: 282.728s\n",
      "test time:  0.379s\n",
      "accuracy:   0.647\n",
      "dimensionality: 5000\n",
      "density: 0.669000\n",
      "top 10 keywords per class:\n",
      "art: впечатление неабстрактный большой шрифт объяснение открытие универсальны...\n",
      "politics: гражданство офис территория донбассгаза переселенческий газопровод ...\n",
      "finances: ресурс страховой формироваться стат динамика изменение обрабатывать...\n",
      "strateg_management: рыночный награда читатель руководство вырастить дух рецен...\n",
      "law: оштрафовать преступный адвокат уголовный застройщик реагирование детекти...\n",
      "elaboration: представитель экспертиза анатолий корп павлюченко цитирование те...\n",
      "industry: сеялка замминистра совещание выставочный минпромторг беспилотный ма...\n",
      "education: васильев телепортация юбилей космонавт рана муха аутизм наукарфа м...\n",
      "charity: клатч диагноз гуманитарный доброта тонг реабилитация хлеб малыш затм...\n",
      "public_health: животное острый хельсинкский пародонтит пародонт синтез фармат...\n",
      "agriculture: запчасть мотоблок урожай артемий кура грибной пчела кировец шиит...\n",
      "government_management: бюджетный безработии валовый приоритет мотив независим...\n",
      "smm: вебинар ролик слогать конверсия корзина тестировать дэн инфобизнес аккау...\n",
      "innovations: мегаватт энергетический ася коалиция горизонт накопитель мотивир...\n",
      "safety: касперский организация информационный аппаратный антивирусный признан...\n",
      "military: государство ракетный ракетчик десятилетие рвсна войско оборона воен...\n",
      "corporative_management: увольнение ванстрата релиз майнер разрядный щит трамп...\n",
      "social_safety: обменять банкнот неработающий апелляция жилой стоянка велосипе...\n",
      "building: брус доска арматура строительный интерьер целостность леса печь кир...\n",
      "entrepreneurship: доклад наличность неуверенность композитор гений английский...\n",
      "sport: отягощение преподаватель спортзал кроссовок спорт травма упражнение тр...\n",
      "investitions: виталик росляк гаркуш гик закрываться кампания вычитка слиться ...\n",
      "\n",
      "classification report:\n",
      "                        precision    recall  f1-score   support\n",
      "\n",
      "                   art       0.70      0.37      0.48        52\n",
      "              politics       0.78      0.52      0.62        60\n",
      "              finances       0.60      0.44      0.51        68\n",
      "    strateg_management       0.62      0.40      0.49        75\n",
      "                   law       0.77      0.42      0.55       378\n",
      "           elaboration       0.91      0.59      0.72       158\n",
      "              industry       0.74      0.63      0.68       173\n",
      "             education       0.72      0.68      0.70       180\n",
      "               charity       0.45      0.87      0.59       346\n",
      "         public_health       0.86      0.51      0.64        63\n",
      "           agriculture       0.79      0.79      0.79       324\n",
      " government_management       0.70      0.50      0.58        46\n",
      "                   smm       0.66      0.71      0.69       726\n",
      "           innovations       0.73      0.62      0.67        72\n",
      "                safety       0.63      0.49      0.55        45\n",
      "              military       0.92      0.69      0.79        16\n",
      "corporative_management       0.49      0.35      0.41       189\n",
      "         social_safety       0.53      0.68      0.59       351\n",
      "              building       0.76      0.89      0.82       420\n",
      "      entrepreneurship       0.65      0.51      0.57       336\n",
      "                 sport       0.73      0.79      0.76       191\n",
      "          investitions       0.55      0.28      0.37        40\n",
      "\n",
      "           avg / total       0.68      0.65      0.65      4309\n",
      "\n",
      "confusion matrix:\n",
      "[[ 19   0   0   0   0   0   0   1   4   0   1   0  16   0   0   0   1   2\n",
      "    2   4   2   0]\n",
      " [  0  31   1   0   2   0   0   0   2   0   3   2   3   0   1   0   3   8\n",
      "    1   1   2   0]\n",
      " [  1   1  30   3   0   0   1   1   1   0   7   1   6   1   0   0   7   4\n",
      "    0   3   1   0]\n",
      " [  0   2   6  30   1   0   1   0   7   0   1   0   8   1   0   0   3   5\n",
      "    0   8   2   0]\n",
      " [  2   0   0   1 160   4   7   5  45   0   2   3  44   2   3   0  10  65\n",
      "   14   8   3   0]\n",
      " [  0   0   0   1   4  93   3   7  29   0   4   1   4   0   0   0   0   5\n",
      "    2   4   1   0]\n",
      " [  0   0   0   0   1   0 109   8   7   0   8   3   7   5   2   0   3   9\n",
      "    9   1   1   0]\n",
      " [  0   1   1   0   0   2   4 123   9   2   5   0   8   1   0   0   3  15\n",
      "    3   3   0   0]\n",
      " [  0   0   0   0   1   1   0   0 301   0   4   0  12   0   0   0   2   8\n",
      "    9   3   4   1]\n",
      " [  0   0   0   1   0   0   0   0  20  32   4   0   0   0   0   0   0   2\n",
      "    2   0   2   0]\n",
      " [  0   0   2   1   1   0   3   1  16   1 257   0   5   0   0   0   5  10\n",
      "   18   2   2   0]\n",
      " [  0   1   1   0   0   1   3   0   2   0   2  23   2   1   0   0   0   7\n",
      "    2   1   0   0]\n",
      " [  4   1   2   3   7   0   3   4  84   0   5   0 516   3   0   0   8  24\n",
      "   17  27  13   5]\n",
      " [  0   0   2   0   1   0   4   4   2   0   2   0   4  45   0   0   1   2\n",
      "    1   4   0   0]\n",
      " [  0   0   0   1   0   0   0   1   1   1   1   0   5   0  22   0   4   4\n",
      "    4   1   0   0]\n",
      " [  0   1   0   0   0   0   0   1   0   0   0   0   0   0   0  11   1   0\n",
      "    1   0   1   0]\n",
      " [  0   1   2   3   4   0   3   0  23   0   4   0  37   0   6   1  66  14\n",
      "   10  10   3   2]\n",
      " [  0   1   0   0  19   0   5   8  28   1   7   0  20   0   1   0   6 237\n",
      "   12   3   3   0]\n",
      " [  0   0   0   2   0   0   0   0  13   0   4   0  10   0   0   0   0  12\n",
      "  374   3   2   0]\n",
      " [  0   0   3   1   4   1   1   6  53   0   3   0  56   2   0   0   9  10\n",
      "    5 170  11   1]\n",
      " [  0   0   0   0   1   0   0   2  15   0   3   0   7   0   0   0   1   4\n",
      "    5   3 150   0]\n",
      " [  1   0   0   1   1   0   0   0   6   0   0   0   8   1   0   0   3   2\n",
      "    1   3   2  11]]\n",
      "\n",
      "================================================================================\n",
      "kNN\n",
      "________________________________________________________________________________\n",
      "Training: \n",
      "KNeighborsClassifier(algorithm='auto', leaf_size=30, metric='minkowski',\n",
      "           metric_params=None, n_jobs=1, n_neighbors=10, p=2,\n",
      "           weights='uniform')\n"
     ]
    },
    {
     "name": "stdout",
     "output_type": "stream",
     "text": [
      "train time: 15.368s\n",
      "test time:  807.089s\n",
      "accuracy:   0.277\n",
      "classification report:\n",
      "                        precision    recall  f1-score   support\n",
      "\n",
      "                   art       0.00      0.00      0.00        52\n",
      "              politics       0.00      0.00      0.00        60\n",
      "              finances       0.80      0.06      0.11        68\n",
      "    strateg_management       0.43      0.04      0.07        75\n",
      "                   law       0.22      0.33      0.26       378\n",
      "           elaboration       0.22      0.31      0.26       158\n",
      "              industry       0.82      0.08      0.15       173\n",
      "             education       0.50      0.04      0.07       180\n",
      "               charity       0.19      0.75      0.30       346\n",
      "         public_health       0.10      0.17      0.13        63\n",
      "           agriculture       0.79      0.35      0.49       324\n",
      " government_management       0.00      0.00      0.00        46\n",
      "                   smm       0.32      0.62      0.42       726\n",
      "           innovations       0.67      0.03      0.05        72\n",
      "                safety       1.00      0.02      0.04        45\n",
      "              military       0.00      0.00      0.00        16\n",
      "corporative_management       0.56      0.07      0.13       189\n",
      "         social_safety       0.67      0.13      0.22       351\n",
      "              building       0.65      0.17      0.27       420\n",
      "      entrepreneurship       0.53      0.29      0.37       336\n",
      "                 sport       0.82      0.26      0.40       191\n",
      "          investitions       0.00      0.00      0.00        40\n",
      "\n",
      "           avg / total       0.47      0.31      0.28      4309\n",
      "\n",
      "confusion matrix:\n",
      "[[  0   0   0   0   9   0   0   0  14   0   0   0  27   0   0   0   0   0\n",
      "    0   2   0   0]\n",
      " [  0   0   0   0  11   0   0   0  23   0   1   0  16   0   0   0   2   0\n",
      "    1   5   1   0]\n",
      " [  0   0   4   0   7   4   0   0  16   0   3   0  29   0   0   0   1   0\n",
      "    0   4   0   0]\n",
      " [  0   0   0   3  10   1   0   0  26   4   0   0  29   0   0   0   0   1\n",
      "    0   1   0   0]\n",
      " [  0   0   0   2 124  17   0   0 109   8   0   0  97   0   0   0   1   4\n",
      "    4  12   0   0]\n",
      " [  0   0   0   0  39  49   0   2  32   3   1   0  26   0   0   0   0   2\n",
      "    2   1   1   0]\n",
      " [  0   0   0   0  35  15  14   1  48   5   2   0  49   0   0   0   0   1\n",
      "    2   1   0   0]\n",
      " [  0   0   0   0  32  27   0   7  43   4   1   0  55   0   0   0   2   2\n",
      "    2   3   2   0]\n",
      " [  0   0   0   0  32   7   0   0 260   1   0   0  36   0   0   0   0   3\n",
      "    2   4   1   0]\n",
      " [  0   0   0   0   4   8   0   0  29  11   1   0  10   0   0   0   0   0\n",
      "    0   0   0   0]\n",
      " [  0   0   0   0  32  12   0   0  82   8 114   0  64   0   0   0   0   0\n",
      "    6   5   1   0]\n",
      " [  0   0   0   0   9   9   0   0  14   1   0   0  11   0   0   0   0   1\n",
      "    1   0   0   0]\n",
      " [  0   0   0   1  56  12   0   1 161  10   2   0 451   0   0   0   0   2\n",
      "    5  24   1   0]\n",
      " [  0   0   0   0  16   3   0   0  16   1   1   0  31   2   0   0   0   0\n",
      "    1   1   0   0]\n",
      " [  0   0   0   0   8   2   0   0  12   0   0   0  20   0   1   0   0   0\n",
      "    1   1   0   0]\n",
      " [  0   0   0   0   3   1   0   0   2   0   0   0   8   0   0   0   0   1\n",
      "    0   1   0   0]\n",
      " [  0   0   1   1  14  10   2   0  51   3   1   0  80   0   0   0  14   3\n",
      "    3   6   0   0]\n",
      " [  0   0   0   0  48  26   1   1 102   9   4   0 100   0   0   0   2  46\n",
      "    4   8   0   0]\n",
      " [  0   0   0   0  34  11   0   1 147  19  10   0 116   0   0   0   2   2\n",
      "   72   4   2   0]\n",
      " [  0   0   0   0  23   3   0   1  99  11   2   0  96   0   0   0   0   1\n",
      "    2  97   1   0]\n",
      " [  0   0   0   0  20   3   0   0  62   6   2   0  46   0   0   0   0   0\n",
      "    2   0  50   0]\n",
      " [  0   0   0   0   6   0   0   0  15   2   0   0  12   1   0   0   1   0\n",
      "    0   2   1   0]]\n",
      "\n",
      "================================================================================\n",
      "Random forest\n",
      "________________________________________________________________________________\n",
      "Training: \n",
      "RandomForestClassifier(bootstrap=True, class_weight=None, criterion='gini',\n",
      "            max_depth=None, max_features='auto', max_leaf_nodes=None,\n",
      "            min_impurity_split=1e-07, min_samples_leaf=1,\n",
      "            min_samples_split=2, min_weight_fraction_leaf=0.0,\n",
      "            n_estimators=100, n_jobs=1, oob_score=False, random_state=None,\n",
      "            verbose=0, warm_start=False)\n",
      "train time: 159.039s\n",
      "test time:  2.535s\n",
      "accuracy:   0.617\n",
      "classification report:\n",
      "                        precision    recall  f1-score   support\n",
      "\n",
      "                   art       0.86      0.35      0.49        52\n",
      "              politics       0.81      0.35      0.49        60\n",
      "              finances       0.57      0.47      0.52        68\n",
      "    strateg_management       0.68      0.36      0.47        75\n",
      "                   law       0.53      0.56      0.54       378\n",
      "           elaboration       0.70      0.66      0.68       158\n",
      "              industry       0.67      0.66      0.67       173\n",
      "             education       0.68      0.65      0.66       180\n",
      "               charity       0.51      0.77      0.61       346\n",
      "         public_health       0.78      0.46      0.58        63\n",
      "           agriculture       0.81      0.72      0.76       324\n",
      " government_management       0.92      0.24      0.38        46\n",
      "                   smm       0.54      0.77      0.64       726\n",
      "           innovations       0.80      0.44      0.57        72\n",
      "                safety       0.79      0.33      0.47        45\n",
      "              military       0.78      0.44      0.56        16\n",
      "corporative_management       0.44      0.25      0.32       189\n",
      "         social_safety       0.64      0.55      0.59       351\n",
      "              building       0.77      0.80      0.79       420\n",
      "      entrepreneurship       0.59      0.51      0.55       336\n",
      "                 sport       0.82      0.75      0.78       191\n",
      "          investitions       0.45      0.12      0.20        40\n",
      "\n",
      "           avg / total       0.64      0.62      0.62      4309\n",
      "\n",
      "confusion matrix:\n",
      "[[ 18   0   0   0   2   0   0   0   2   1   0   0  25   0   0   0   0   0\n",
      "    1   3   0   0]\n",
      " [  0  21   1   0  19   1   1   0   2   0   0   0   7   0   0   1   0   3\n",
      "    3   0   1   0]\n",
      " [  1   0  32   0   2   4   5   0   2   1   3   0   7   0   0   0   7   1\n",
      "    0   3   0   0]\n",
      " [  0   2   3  27   2   0   1   0   5   0   1   0  16   0   0   0   5   1\n",
      "    4   7   0   1]\n",
      " [  0   0   3   0 210   1   7   9  32   0   1   1  51   2   1   0   4  41\n",
      "    6   8   1   0]\n",
      " [  0   0   2   0   9 104   3   6  15   0   2   0   8   0   0   0   1   2\n",
      "    2   4   0   0]\n",
      " [  0   0   3   0   8   3 115   4   6   1   5   0   8   2   0   0   2   6\n",
      "    5   5   0   0]\n",
      " [  0   0   2   0   8   5   5 117   9   0   3   0  15   0   0   0   2   5\n",
      "    4   3   2   0]\n",
      " [  0   0   0   0   9   0   2   2 265   1   4   0  28   1   0   1   1   4\n",
      "   10  14   4   0]\n",
      " [  0   0   1   0   1   2   0   2  15  29   3   0   2   0   0   0   0   1\n",
      "    1   4   2   0]\n",
      " [  0   0   1   1   7   2  12   0  10   1 234   0  29   0   0   0   1   3\n",
      "   20   2   1   0]\n",
      " [  0   1   0   1   8   2   4   0   2   0   3  11   4   1   0   0   3   5\n",
      "    1   0   0   0]\n",
      " [  1   1   1   0  20   6   2   6  53   1   6   0 556   0   1   0  13  13\n",
      "   13  28   3   2]\n",
      " [  0   0   0   1   3   1   3  10   0   0   0   0  16  32   0   0   0   1\n",
      "    2   1   2   0]\n",
      " [  0   0   2   1   4   0   2   0   1   0   0   0  14   0  15   0   3   1\n",
      "    2   0   0   0]\n",
      " [  0   0   0   0   1   0   0   4   0   0   0   0   2   0   0   7   0   0\n",
      "    1   1   0   0]\n",
      " [  0   1   2   5  10   4   4   3  16   0   5   0  58   0   2   0  48   9\n",
      "    7  12   2   1]\n",
      " [  0   0   1   1  51   4   2   3  19   1   6   0  49   1   0   0   5 192\n",
      "    4   9   3   0]\n",
      " [  0   0   0   1   5   3   0   1  15   0   6   0  33   0   0   0   2   5\n",
      "  338   8   3   0]\n",
      " [  1   0   2   0  15   6   2   4  34   0   5   0  64   1   0   0   9   6\n",
      "    5 173   8   1]\n",
      " [  0   0   0   0   3   1   1   1  11   1   3   0  11   0   0   0   3   0\n",
      "    6   5 144   1]\n",
      " [  0   0   0   2   3   0   0   0   3   0   0   0  20   0   0   0   1   0\n",
      "    2   4   0   5]]\n",
      "\n",
      "================================================================================\n",
      "L2 penalty\n",
      "________________________________________________________________________________\n",
      "Training: \n",
      "LinearSVC(C=1.0, class_weight=None, dual=False, fit_intercept=True,\n",
      "     intercept_scaling=1, loss='squared_hinge', max_iter=1000,\n",
      "     multi_class='ovr', penalty='l2', random_state=None, tol=0.001,\n",
      "     verbose=0)\n"
     ]
    },
    {
     "name": "stdout",
     "output_type": "stream",
     "text": [
      "train time: 5.821s\n",
      "test time:  0.241s\n",
      "accuracy:   0.701\n",
      "dimensionality: 5000\n",
      "density: 1.000000\n",
      "top 10 keywords per class:\n",
      "art: принцип повседневный хор шрифт человечный универсальный прозрачность диз...\n",
      "politics: переселенческий региональный нерабочий гражданство донбассгаза инте...\n",
      "finances: рисунок обрабатывать дисфункция стат процентный динамика сектор мал...\n",
      "strateg_management: выдающийся стратегический стадия оклад ориентация организ...\n",
      "law: убийство юридический преступник судебный официант застройщик инспектор б...\n",
      "elaboration: рид конкурсный корп соисполнитель киров экспертиза фгбоу предста...\n",
      "industry: машиностроение беспилотный ао господдержка экскаватор экспо камаз м...\n",
      "education: наукарфа инфографик всероссийский олимпиада минобрнаука образовани...\n",
      "charity: нуждающийся милосердие хлеб затмение тонг сбор бархат диагноз малыш ...\n",
      "public_health: активация эритроцит гингивита острый панкреатит панкреонекроз ...\n",
      "agriculture: корма арбуз тег кура зерно муравей шиитака растение погреб пчела\n",
      "government_management: безработии доход регулирование субъект плательщик заку...\n",
      "smm: доверие подписчик вебинар маркетинг аудитория аналогия клиент инфобизнес...\n",
      "innovations: дмитрий дорожный университет энергетический рынок накопитель гор...\n",
      "safety: касперский антивирусный угроза поставщик киберугроза защита информаци...\n",
      "military: ракетчик противник незавидный диспут рвсна войско оборона академия ...\n",
      "corporative_management: релиз маккиннон сми персонал щит корпоративный грузчи...\n",
      "social_safety: ночное фсин жилой апелляция банкнот капремонт сок велосипед ку...\n",
      "building: крыльцо строительный лестница доска фундамент крепление леса баня п...\n",
      "entrepreneurship: урок лана челны неуверенность сувенир видеоролик самопознан...\n",
      "sport: подошва мышца бегать тренировочный кроссовок упражнение спорт трениров...\n",
      "investitions: брокер шаг закрываться эстония биржа криптовалюта росляк блокче...\n",
      "\n",
      "classification report:\n",
      "                        precision    recall  f1-score   support\n",
      "\n",
      "                   art       0.70      0.44      0.54        52\n",
      "              politics       0.83      0.73      0.78        60\n",
      "              finances       0.72      0.63      0.67        68\n",
      "    strateg_management       0.63      0.49      0.55        75\n",
      "                   law       0.65      0.61      0.63       378\n",
      "           elaboration       0.81      0.79      0.80       158\n",
      "              industry       0.76      0.77      0.76       173\n",
      "             education       0.75      0.73      0.74       180\n",
      "               charity       0.72      0.73      0.72       346\n",
      "         public_health       0.80      0.57      0.67        63\n",
      "           agriculture       0.84      0.83      0.84       324\n",
      " government_management       0.83      0.52      0.64        46\n",
      "                   smm       0.59      0.79      0.68       726\n",
      "           innovations       0.76      0.76      0.76        72\n",
      "                safety       0.70      0.58      0.63        45\n",
      "              military       0.85      0.69      0.76        16\n",
      "corporative_management       0.51      0.31      0.38       189\n",
      "         social_safety       0.69      0.64      0.67       351\n",
      "              building       0.87      0.90      0.88       420\n",
      "      entrepreneurship       0.61      0.56      0.58       336\n",
      "                 sport       0.83      0.81      0.82       191\n",
      "          investitions       0.60      0.38      0.46        40\n",
      "\n",
      "           avg / total       0.71      0.71      0.70      4309\n",
      "\n",
      "confusion matrix:\n",
      "[[ 23   0   0   0   0   0   0   0   3   1   1   0  16   0   0   0   1   0\n",
      "    0   5   2   0]\n",
      " [  0  44   0   0   5   0   0   2   0   0   0   2   3   0   0   1   1   1\n",
      "    0   1   0   0]\n",
      " [  1   1  43   1   3   0   4   1   0   0   2   1   3   1   0   0   4   1\n",
      "    0   1   0   1]\n",
      " [  0   3   3  37   2   0   0   0   1   0   1   0  13   1   0   0   4   0\n",
      "    0   9   0   1]\n",
      " [  1   0   1   1 232   4   6   3  10   0   2   1  53   0   3   0   6  40\n",
      "    4   8   2   1]\n",
      " [  0   0   0   1   5 125   5   3   3   0   1   0  12   0   0   0   0   1\n",
      "    0   2   0   0]\n",
      " [  0   0   3   0   2   2 133   6   0   0   6   0   4   3   0   0   2   5\n",
      "    6   1   0   0]\n",
      " [  1   0   2   0   8   4   3 132   3   1   4   0   9   1   0   0   0   5\n",
      "    1   6   0   0]\n",
      " [  0   0   0   0   5   1   1   0 251   0   5   0  57   1   0   0   1   6\n",
      "    5   7   5   1]\n",
      " [  0   0   0   1   0   0   0   0   4  36   3   0  14   0   0   0   1   2\n",
      "    1   0   1   0]\n",
      " [  0   1   2   1   2   3   7   0   1   1 269   0  14   0   0   0   4   4\n",
      "   12   2   1   0]\n",
      " [  0   1   1   0   3   3   3   0   0   0   1  24   2   2   0   0   0   5\n",
      "    1   0   0   0]\n",
      " [  5   1   1   4  20   6   6   4  24   1   2   0 577   3   0   0   5   8\n",
      "    9  40   8   2]\n",
      " [  0   0   0   0   1   0   2   5   0   0   1   0   4  55   0   0   1   0\n",
      "    1   2   0   0]\n",
      " [  0   0   1   1   2   0   0   1   0   0   0   0   6   0  26   0   2   2\n",
      "    3   1   0   0]\n",
      " [  0   1   0   0   1   0   0   1   0   0   0   0   1   0   0  11   1   0\n",
      "    0   0   0   0]\n",
      " [  0   1   1   7  13   2   3   2  12   1   4   1  45   1   6   1  58   9\n",
      "    4  13   1   4]\n",
      " [  0   0   0   1  38   2   2   9  11   1   9   0  28   0   1   0   8 226\n",
      "    7   6   2   0]\n",
      " [  0   0   0   1   4   0   0   0   4   1   3   0  17   0   1   0   2   3\n",
      "  378   5   1   0]\n",
      " [  1   0   2   1  10   2   1   5  16   1   4   0  78   1   0   0   9   8\n",
      "    0 188   9   0]\n",
      " [  0   0   0   0   1   0   0   2   3   1   2   0  16   1   0   0   0   1\n",
      "    3   6 155   0]\n",
      " [  1   0   0   2   0   0   0   0   3   0   0   0   8   2   0   0   4   0\n",
      "    0   5   0  15]]\n",
      "\n",
      "________________________________________________________________________________\n",
      "Training: \n",
      "SGDClassifier(alpha=0.0001, average=False, class_weight=None, epsilon=0.1,\n",
      "       eta0=0.0, fit_intercept=True, l1_ratio=0.15,\n",
      "       learning_rate='optimal', loss='hinge', n_iter=50, n_jobs=1,\n",
      "       penalty='l2', power_t=0.5, random_state=None, shuffle=True,\n",
      "       verbose=0, warm_start=False)\n",
      "train time: 182.832s\n",
      "test time:  0.390s\n",
      "accuracy:   0.674\n",
      "dimensionality: 5000\n",
      "density: 0.652209\n",
      "top 10 keywords per class:\n",
      "art: повседневный принцип универсальный пользователь хоровой ритмический хор ...\n",
      "politics: натяжной партия избиратель служащий региональный переселенец интегр...\n",
      "finances: формироваться стат дисфункция рисунок динамика депрессия обрабатыва...\n",
      "strateg_management: изменяемый стадия потенциал организация ориентация страте...\n",
      "law: госдума варника судья борг юридический уголовный адвокат инспектор юрист...\n",
      "elaboration: некоммерческий индустриальный инновационный конкурсный экспертиз...\n",
      "industry: производство денис экспо ао господдержка мантур машиностроение макс...\n",
      "education: математика чемпионат олимпиада аутизм всероссийский минобрнаука об...\n",
      "charity: диагноз яндекс приют доброта помощь каталог получатель сбор мама пож...\n",
      "public_health: десна гингивита острый половый пародонт эритроцит пародонтит п...\n",
      "agriculture: трава хозяйство выращивание зерно кура корова растение трактор п...\n",
      "government_management: регулирование доход безработица динамик закупка кавказ...\n",
      "smm: подписчик ваш аналогия инфобизнесмен аудитория контент маркетинг аккаунт...\n",
      "innovations: фундаментальный технологический рынок песок инициатива вызов дми...\n",
      "safety: поставщик система веб защита уязвимость угроза безопасность информаци...\n",
      "military: диспут размах ракетный территориальный оборона академия рвсна война...\n",
      "corporative_management: персонал дипломный заказ пароль тендер сми грузчик ко...\n",
      "social_safety: займодавец курортный банкнот должник апелляция капремонт ночно...\n",
      "building: крепление стена насос доска цемент фундамент печь труба баня кирпич\n",
      "entrepreneurship: лана секрет челны бизнес бизнесказань самопознание английск...\n",
      "sport: спортивный бегать мышца кроссовок тренировочный упражнение тренировка ...\n",
      "investitions: закрываться консалтинговый блокчейн бутерин эстония биржа крипт...\n",
      "\n",
      "classification report:\n",
      "                        precision    recall  f1-score   support\n",
      "\n",
      "                   art       0.70      0.40      0.51        52\n",
      "              politics       0.75      0.77      0.76        60\n",
      "              finances       0.68      0.66      0.67        68\n",
      "    strateg_management       0.61      0.48      0.54        75\n",
      "                   law       0.67      0.54      0.60       378\n",
      "           elaboration       0.71      0.79      0.75       158\n",
      "              industry       0.70      0.79      0.74       173\n",
      "             education       0.69      0.75      0.72       180\n",
      "               charity       0.72      0.71      0.72       346\n",
      "         public_health       0.80      0.56      0.65        63\n",
      "           agriculture       0.56      0.86      0.67       324\n",
      " government_management       0.86      0.52      0.65        46\n",
      "                   smm       0.68      0.70      0.69       726\n",
      "           innovations       0.66      0.76      0.71        72\n",
      "                safety       0.59      0.58      0.58        45\n",
      "              military       0.86      0.75      0.80        16\n",
      "corporative_management       0.49      0.25      0.33       189\n",
      "         social_safety       0.65      0.61      0.63       351\n",
      "              building       0.82      0.91      0.86       420\n",
      "      entrepreneurship       0.67      0.56      0.61       336\n",
      "                 sport       0.72      0.81      0.76       191\n",
      "          investitions       0.58      0.38      0.45        40\n",
      "\n",
      "           avg / total       0.68      0.68      0.67      4309\n",
      "\n",
      "confusion matrix:\n",
      "[[ 21   0   0   0   0   0   0   0   3   1   1   0  16   0   1   0   0   1\n",
      "    3   4   1   0]\n",
      " [  0  46   1   0   4   0   1   1   0   0   0   0   0   0   0   0   1   3\n",
      "    1   0   2   0]\n",
      " [  0   0  45   1   1   2   7   0   0   0   3   1   2   1   0   0   1   1\n",
      "    0   2   0   1]\n",
      " [  0   4   2  36   3   1   0   0   3   0   4   0   7   2   0   0   5   0\n",
      "    0   8   0   0]\n",
      " [  1   0   2   0 205  10  10   5  13   0  19   1  29   3   3   0   5  53\n",
      "    7   5   6   1]\n",
      " [  0   0   1   0   3 125   4   6   3   0  12   0   2   0   0   0   0   0\n",
      "    0   2   0   0]\n",
      " [  1   0   1   0   2   2 136   5   1   1   6   1   3   1   0   0   2   3\n",
      "    7   1   0   0]\n",
      " [  1   0   2   0   1   4   6 135   3   1   7   0   5   3   0   0   0   5\n",
      "    3   2   2   0]\n",
      " [  0   0   0   0   4   1   2   1 247   0  41   0  17   2   0   0   1   7\n",
      "    9   6   7   1]\n",
      " [  0   0   0   1   0   0   0   1   2  35  17   0   1   0   0   0   1   2\n",
      "    2   0   1   0]\n",
      " [  0   2   2   1   0   3   5   3   2   0 278   0   7   1   0   0   4   2\n",
      "   13   0   1   0]\n",
      " [  0   1   0   0   1   5   4   0   0   0   3  24   0   3   0   0   0   4\n",
      "    1   0   0   0]\n",
      " [  4   3   3   3  18   8   7  10  25   1  37   0 511   7   0   0  10  13\n",
      "   12  34  16   4]\n",
      " [  0   0   0   0   1   0   2   5   0   0   1   0   3  55   0   0   1   0\n",
      "    2   0   2   0]\n",
      " [  0   1   1   1   2   1   1   1   1   0   0   0   5   0  26   0   2   1\n",
      "    1   1   0   0]\n",
      " [  0   1   0   0   1   1   0   0   0   0   0   0   0   0   0  12   0   0\n",
      "    0   1   0   0]\n",
      " [  0   1   1   9  11   4   5   5   2   2  13   1  39   1   8   1  48  11\n",
      "    6  13   4   4]\n",
      " [  1   0   0   1  39   4   2   9  14   0  18   0  21   0   4   0   6 214\n",
      "   10   2   6   0]\n",
      " [  1   0   0   1   1   2   0   0   1   1   9   0   6   0   1   0   2   1\n",
      "  384   4   6   0]\n",
      " [  0   2   4   4  10   3   2   8  18   2  19   0  54   0   1   1   7   8\n",
      "    1 187   5   0]\n",
      " [  0   0   1   0   0   0   0   2   3   0  12   0   7   1   0   0   0   1\n",
      "    8   2 154   0]\n",
      " [  0   0   0   1   0   0   0   0   2   0   0   0  12   3   0   0   2   0\n",
      "    0   4   1  15]]\n",
      "\n",
      "================================================================================\n",
      "L1 penalty\n",
      "________________________________________________________________________________\n",
      "Training: \n",
      "LinearSVC(C=1.0, class_weight=None, dual=False, fit_intercept=True,\n",
      "     intercept_scaling=1, loss='squared_hinge', max_iter=1000,\n",
      "     multi_class='ovr', penalty='l1', random_state=None, tol=0.001,\n",
      "     verbose=0)\n"
     ]
    },
    {
     "name": "stdout",
     "output_type": "stream",
     "text": [
      "train time: 4.200s\n",
      "test time:  0.259s\n",
      "accuracy:   0.679\n",
      "dimensionality: 5000\n",
      "density: 0.121255\n",
      "top 10 keywords per class:\n",
      "art: обратимый ритмический цветовой строфа песенный шрифтовой шутливый хор че...\n",
      "politics: невыплата избиратель переселенец натяжной донбассгаза переселенческ...\n",
      "finances: разоряться малое равнозначный сектор стат дисфункция малый динамика...\n",
      "strateg_management: молотковый стадия хмельницкий рыночный ханжина дифференци...\n",
      "law: сержант инспектор детектив официант застройщик преступник глум убийство ...\n",
      "elaboration: пниэр шоссе корп рид тематика фгбоу цитирование соисполнитель ка...\n",
      "industry: волга ао рязанцев мартин флот камаз экспо макс минпромторг мантур\n",
      "education: минобрнаука вуз олимпиада космонавт математика урфа школьник наука...\n",
      "charity: ветеринар помощьдеть приют срочныйсбор тонг диагноз бархат малыш зат...\n",
      "public_health: панкреонекроз антиоксидант мочевой пародонтит радикал поджелуд...\n",
      "agriculture: продуктивность мотоблок курятник кура косилка муравей погреб шии...\n",
      "government_management: кавказский независимость приоритет диаграмма республик...\n",
      "smm: заголовок тестировать вебинар доверие ролик дэн аналогия инфобизнес акка...\n",
      "innovations: коалиция мотивированный электростанция офлайн мегаватт ася накоп...\n",
      "safety: безопасность атака атаковать антивирусный всеобъемлющий заслон киберу...\n",
      "military: размах ракетчик военный академия незавидный война оборона запасть в...\n",
      "corporative_management: маккиннон майнер шефер вещание ванстрата коллапс тенд...\n",
      "social_safety: норматив грин апелляция завещание капремонт банкнот велосипед ...\n",
      "building: леса створка вентилятор фундамент доска арматура баня крепление печ...\n",
      "entrepreneurship: лана реалить сувенир роботехнопарк самопознание английский ...\n",
      "sport: гигиена пятка мышца тренировочный кроссовок спорт упражнение тренировк...\n",
      "investitions: вычитка биржа блокчейн бинарный брокер виталик криптовалютный г...\n",
      "\n",
      "classification report:\n",
      "                        precision    recall  f1-score   support\n",
      "\n",
      "                   art       0.71      0.46      0.56        52\n",
      "              politics       0.79      0.73      0.76        60\n",
      "              finances       0.60      0.63      0.61        68\n",
      "    strateg_management       0.70      0.49      0.58        75\n",
      "                   law       0.63      0.58      0.61       378\n",
      "           elaboration       0.74      0.72      0.73       158\n",
      "              industry       0.75      0.74      0.75       173\n",
      "             education       0.69      0.73      0.71       180\n",
      "               charity       0.72      0.70      0.71       346\n",
      "         public_health       0.73      0.51      0.60        63\n",
      "           agriculture       0.87      0.81      0.84       324\n",
      " government_management       0.82      0.50      0.62        46\n",
      "                   smm       0.56      0.80      0.66       726\n",
      "           innovations       0.65      0.69      0.67        72\n",
      "                safety       0.58      0.56      0.57        45\n",
      "              military       0.91      0.62      0.74        16\n",
      "corporative_management       0.49      0.24      0.33       189\n",
      "         social_safety       0.65      0.62      0.63       351\n",
      "              building       0.87      0.88      0.87       420\n",
      "      entrepreneurship       0.61      0.54      0.57       336\n",
      "                 sport       0.82      0.80      0.81       191\n",
      "          investitions       0.62      0.45      0.52        40\n",
      "\n",
      "           avg / total       0.69      0.68      0.68      4309\n",
      "\n",
      "confusion matrix:\n",
      "[[ 24   0   0   0   1   0   0   0   3   1   1   0  16   0   0   0   1   0\n",
      "    0   5   0   0]\n",
      " [  0  44   1   1   6   0   0   1   0   1   0   2   2   0   1   0   1   0\n",
      "    0   0   0   0]\n",
      " [  0   1  43   1   3   1   5   1   0   0   2   1   4   1   1   0   2   1\n",
      "    0   1   0   0]\n",
      " [  0   3   4  37   1   0   0   0   4   0   0   0  12   3   0   0   3   0\n",
      "    0   7   0   1]\n",
      " [  1   0   2   0 219   8   7   3  10   0   1   0  55   4   2   0   5  46\n",
      "    5   7   2   1]\n",
      " [  0   0   1   0   5 113   4   7   5   0   1   0  16   1   1   0   1   1\n",
      "    0   2   0   0]\n",
      " [  1   0   3   0   3   2 128   4   1   0   4   0   6   2   0   0   3   8\n",
      "    6   1   1   0]\n",
      " [  1   0   2   0   3   5   3 132   5   1   3   0   8   1   0   0   1   7\n",
      "    2   4   2   0]\n",
      " [  0   0   0   0   3   1   1   1 242   3   3   0  66   1   0   0   1   6\n",
      "    5   7   6   0]\n",
      " [  0   0   0   1   0   0   0   1   3  32   2   0  15   0   0   0   1   4\n",
      "    1   0   3   0]\n",
      " [  0   1   3   1   2   2   7   2   2   0 264   0  17   1   0   0   2   4\n",
      "   13   2   1   0]\n",
      " [  0   1   1   0   2   4   3   0   1   0   1  23   1   3   1   0   0   4\n",
      "    1   0   0   0]\n",
      " [  5   1   2   1  21   4   2   4  19   1   3   0 579   3   1   0  10  11\n",
      "    5  42   8   4]\n",
      " [  0   0   1   1   1   0   3   4   0   0   1   0   8  50   0   0   0   1\n",
      "    0   2   0   0]\n",
      " [  0   1   1   1   1   0   0   3   0   0   0   0   5   0  25   0   3   3\n",
      "    2   0   0   0]\n",
      " [  0   1   0   0   2   1   0   1   0   0   0   0   1   0   0  10   0   0\n",
      "    0   0   0   0]\n",
      " [  0   1   1   6  16   4   3   4   6   1   4   1  51   0   9   0  46   9\n",
      "    3  18   1   5]\n",
      " [  0   0   1   1  41   5   2   9  11   0   8   1  32   0   2   0   6 216\n",
      "    9   5   2   0]\n",
      " [  1   0   0   1   3   0   1   1   3   1   2   0  26   0   0   0   1   3\n",
      "  368   7   2   0]\n",
      " [  1   2   3   1  10   3   1  12  16   2   3   0  79   3   0   1   5   8\n",
      "    0 180   6   0]\n",
      " [  0   0   1   0   2   0   0   2   4   1   2   0  17   2   0   0   0   2\n",
      "    3   3 152   0]\n",
      " [  0   0   2   0   0   0   0   0   2   0   0   0  10   2   0   0   2   0\n",
      "    0   4   0  18]]\n",
      "\n",
      "________________________________________________________________________________\n",
      "Training: \n",
      "SGDClassifier(alpha=0.0001, average=False, class_weight=None, epsilon=0.1,\n",
      "       eta0=0.0, fit_intercept=True, l1_ratio=0.15,\n",
      "       learning_rate='optimal', loss='hinge', n_iter=50, n_jobs=1,\n",
      "       penalty='l1', power_t=0.5, random_state=None, shuffle=True,\n",
      "       verbose=0, warm_start=False)\n",
      "train time: 482.661s\n",
      "test time:  0.482s\n",
      "accuracy:   0.601\n",
      "dimensionality: 5000\n",
      "density: 0.023518\n",
      "top 10 keywords per class:\n",
      "art: простой наш человек универсальный использование пользователь произведени...\n",
      "politics: экономический текст общество государственный региональный миграцион...\n",
      "finances: специфика капитал рисунок стат обрабатывать сектор динамика депресс...\n",
      "strateg_management: потенциал стадия стратегический ориентация драйв изменяем...\n",
      "law: юридический варника самозанятой застройщик судья борг судебный инспектор...\n",
      "elaboration: доцент казначейский некоммерческий конкурсный рид представитель ...\n",
      "industry: господдержка льготный флот ао экспо машиностроение мантур промышлен...\n",
      "education: юнеско образование чемпионат олимпиада аутизм вуз минобрнаука всер...\n",
      "charity: собака получатель доброта милосердие помощьдеть приют диагноз малыш ...\n",
      "public_health: полиорганный эритроцит пародонт половый панкреонекроз десна ги...\n",
      "agriculture: погреб урожай кролик рыба муравей растение зерно пчела кура выра...\n",
      "government_management: оценка динамик закупка бюджетный округа безработица до...\n",
      "smm: вебинар маркетинг контент аналогия подписчик аудитория инфобизнесмен кли...\n",
      "innovations: компетенция инициатива горизонт энергетика фундаментальный офлай...\n",
      "safety: веб доступ защита поставщик информационный безопасность угроза уязвим...\n",
      "military: комната коммуникация коммуникативный компенсация академия военный в...\n",
      "corporative_management: курсовой сми мат дипломный пароль корпоративный тенде...\n",
      "social_safety: ст пособие ночное займодавец апелляция должник завещание жилой...\n",
      "building: цемент арматура отопление балка крепление баня фундамент труба печь...\n",
      "entrepreneurship: айдар венчурный секрет видеоролик бизнесказань самопознание...\n",
      "sport: подошва болевой тренировочный спорт кроссовок мышца упражнение трениро...\n",
      "investitions: инвестор кампания канал инвестиция биржа эстония росляк криптов...\n",
      "\n",
      "classification report:\n",
      "                        precision    recall  f1-score   support\n",
      "\n",
      "                   art       0.07      0.21      0.10        52\n",
      "              politics       0.65      0.57      0.61        60\n",
      "              finances       0.50      0.37      0.42        68\n",
      "    strateg_management       0.48      0.27      0.34        75\n",
      "                   law       0.60      0.50      0.54       378\n",
      "           elaboration       0.61      0.59      0.60       158\n",
      "              industry       0.77      0.61      0.68       173\n",
      "             education       0.63      0.58      0.61       180\n",
      "               charity       0.59      0.68      0.64       346\n",
      "         public_health       0.86      0.48      0.61        63\n",
      "           agriculture       0.87      0.73      0.80       324\n",
      " government_management       0.80      0.09      0.16        46\n",
      "                   smm       0.66      0.64      0.65       726\n",
      "           innovations       0.48      0.53      0.50        72\n",
      "                safety       0.61      0.42      0.50        45\n",
      "              military       0.60      0.38      0.46        16\n",
      "corporative_management       0.13      0.31      0.18       189\n",
      "         social_safety       0.63      0.54      0.58       351\n",
      "              building       0.69      0.90      0.79       420\n",
      "      entrepreneurship       0.69      0.42      0.52       336\n",
      "                 sport       0.83      0.72      0.77       191\n",
      "          investitions       0.73      0.20      0.31        40\n",
      "\n",
      "           avg / total       0.64      0.59      0.60      4309\n",
      "\n",
      "confusion matrix:\n",
      "[[ 11   0   0   0   2   0   0   0   4   0   1   0  23   0   0   0   4   1\n",
      "    4   2   0   0]\n",
      " [  2  34   0   0   6   1   0   1   2   0   0   0   3   2   1   0   6   0\n",
      "    2   0   0   0]\n",
      " [  5   0  25   5   1   1   4   0   1   0   2   0   2   2   1   0   8   4\n",
      "    4   3   0   0]\n",
      " [  2   5   1  20   3   0   1   0   2   0   0   0  11   2   0   0  12   2\n",
      "    5   9   0   0]\n",
      " [ 17   0   4   1 188   7   7   7  14   1   1   1  19   2   1   0  38  54\n",
      "   10   3   2   1]\n",
      " [  8   0   2   1   6  94   1   8   8   1   1   0   0   1   1   0  20   1\n",
      "    3   2   0   0]\n",
      " [  3   0   2   0   6   3 105   7   3   0   4   0   6   2   1   0  11   4\n",
      "   12   3   1   0]\n",
      " [ 11   0   2   3   2   8   5 105   6   0   2   0   7   3   0   0   9   6\n",
      "    6   1   4   0]\n",
      " [ 11   0   0   0   1   1   2   1 236   0   4   0  15   2   0   0  50   4\n",
      "   13   4   2   0]\n",
      " [  2   0   0   0   0   0   0   1   3  30   2   0   1   0   0   0  16   2\n",
      "    4   0   2   0]\n",
      " [  7   3   0   2   1   4   3   4   8   0 237   0   8   1   0   0  18   2\n",
      "   24   1   1   0]\n",
      " [  0   2   3   0   2   8   2   2   2   1   3   4   1   3   0   0   6   4\n",
      "    2   1   0   0]\n",
      " [ 32   3   5   2  18   8   0   4  33   1   3   0 467   9   0   0  87  13\n",
      "   19  19   3   0]\n",
      " [  2   0   0   2   2   0   1   8   0   0   0   0   7  38   0   0   3   0\n",
      "    3   4   2   0]\n",
      " [  1   0   1   2   2   1   0   0   2   0   0   0   4   0  19   0   6   1\n",
      "    3   3   0   0]\n",
      " [  0   2   0   0   1   1   0   4   0   0   0   0   0   0   0   6   1   0\n",
      "    1   0   0   0]\n",
      " [  8   2   0   4  13   4   4   2   5   0   5   0  44   1   6   1  59   6\n",
      "   16   6   1   2]\n",
      " [ 15   0   0   0  40   4   1   5  25   0   2   0  21   0   1   2  23 189\n",
      "   18   1   4   0]\n",
      " [  3   0   0   0   1   0   0   0   2   0   1   0   7   0   0   0  24   0\n",
      "  380   1   1   0]\n",
      " [ 17   1   3   0  16   8   1   7  29   0   3   0  43   7   0   1  44   5\n",
      "    6 140   5   0]\n",
      " [  5   0   2   0   2   0   0   1   6   1   0   0   5   1   0   0  16   3\n",
      "   11   0 138   0]\n",
      " [  3   0   0   0   2   0   0   0   6   0   0   0  10   3   0   0   5   1\n",
      "    1   1   0   8]]\n",
      "\n",
      "================================================================================\n",
      "Elastic-Net penalty\n",
      "________________________________________________________________________________\n",
      "Training: \n",
      "SGDClassifier(alpha=0.0001, average=False, class_weight=None, epsilon=0.1,\n",
      "       eta0=0.0, fit_intercept=True, l1_ratio=0.15,\n",
      "       learning_rate='optimal', loss='hinge', n_iter=50, n_jobs=1,\n",
      "       penalty='elasticnet', power_t=0.5, random_state=None, shuffle=True,\n",
      "       verbose=0, warm_start=False)\n"
     ]
    }
   ],
   "source": [
    "results = []\n",
    "for clf, name in (\n",
    "#         (RidgeClassifier(tol=1e-2, solver=\"lsqr\"), \"Ridge Classifier\"),\n",
    "        (Perceptron(n_iter=50), \"Perceptron\"),\n",
    "        (PassiveAggressiveClassifier(n_iter=50), \"Passive-Aggressive\"),\n",
    "        (KNeighborsClassifier(n_neighbors=10), \"kNN\"),\n",
    "        (RandomForestClassifier(n_estimators=100), \"Random forest\")):\n",
    "    print('=' * 80)\n",
    "    print(name)\n",
    "    results.append(benchmark(clf))\n",
    "\n",
    "for penalty in [\"l2\", \"l1\"]:\n",
    "    print('=' * 80)\n",
    "    print(\"%s penalty\" % penalty.upper())\n",
    "    # Train Liblinear model\n",
    "    results.append(benchmark(LinearSVC(penalty=penalty, dual=False,\n",
    "                                       tol=1e-3)))\n",
    "\n",
    "    # Train SGD model\n",
    "    results.append(benchmark(SGDClassifier(alpha=.0001, n_iter=50,\n",
    "                                           penalty=penalty)))\n",
    "\n",
    "# Train SGD with Elastic Net penalty\n",
    "print('=' * 80)\n",
    "print(\"Elastic-Net penalty\")\n",
    "results.append(benchmark(SGDClassifier(alpha=.0001, n_iter=50,\n",
    "                                       penalty=\"elasticnet\")))\n",
    "\n",
    "# Train NearestCentroid without threshold\n",
    "print('=' * 80)\n",
    "print(\"NearestCentroid (aka Rocchio classifier)\")\n",
    "results.append(benchmark(NearestCentroid()))\n",
    "\n",
    "# Train sparse Naive Bayes classifiers\n",
    "print('=' * 80)\n",
    "print(\"Naive Bayes\")\n",
    "results.append(benchmark(MultinomialNB(alpha=.01)))\n",
    "results.append(benchmark(BernoulliNB(alpha=.01)))\n",
    "\n",
    "print('=' * 80)\n",
    "print(\"LinearSVC with L1-based feature selection\")\n",
    "# The smaller C, the stronger the regularization.\n",
    "# The more regularization, the more sparsity.\n",
    "results.append(benchmark(Pipeline([\n",
    "  ('feature_selection', SelectFromModel(LinearSVC(penalty=\"l1\", dual=False,\n",
    "                                                  tol=1e-3))),\n",
    "  ('classification', LinearSVC(penalty=\"l2\"))])))"
   ]
  },
  {
   "cell_type": "code",
   "execution_count": 58,
   "metadata": {
    "ExecuteTime": {
     "end_time": "2017-08-22T07:26:21.280053Z",
     "start_time": "2017-08-22T07:26:19.528738Z"
    },
    "collapsed": true
   },
   "outputs": [
    {
     "data": {
      "text/plain": [
       "<matplotlib.figure.Figure at 0x10b9854e0>"
      ]
     },
     "execution_count": 58,
     "metadata": {},
     "output_type": "execute_result"
    },
    {
     "data": {
      "text/plain": [
       "<matplotlib.text.Text at 0x117661f28>"
      ]
     },
     "execution_count": 58,
     "metadata": {},
     "output_type": "execute_result"
    },
    {
     "data": {
      "text/plain": [
       "<Container object of 13 artists>"
      ]
     },
     "execution_count": 58,
     "metadata": {},
     "output_type": "execute_result"
    },
    {
     "data": {
      "text/plain": [
       "<Container object of 13 artists>"
      ]
     },
     "execution_count": 58,
     "metadata": {},
     "output_type": "execute_result"
    },
    {
     "data": {
      "text/plain": [
       "<Container object of 13 artists>"
      ]
     },
     "execution_count": 58,
     "metadata": {},
     "output_type": "execute_result"
    },
    {
     "data": {
      "text/plain": [
       "([], <a list of 0 Text yticklabel objects>)"
      ]
     },
     "execution_count": 58,
     "metadata": {},
     "output_type": "execute_result"
    },
    {
     "data": {
      "text/plain": [
       "<matplotlib.legend.Legend at 0x1178af8d0>"
      ]
     },
     "execution_count": 58,
     "metadata": {},
     "output_type": "execute_result"
    },
    {
     "data": {
      "text/plain": [
       "<matplotlib.text.Text at 0x11798f940>"
      ]
     },
     "execution_count": 58,
     "metadata": {},
     "output_type": "execute_result"
    },
    {
     "data": {
      "text/plain": [
       "<matplotlib.text.Text at 0x11798ff60>"
      ]
     },
     "execution_count": 58,
     "metadata": {},
     "output_type": "execute_result"
    },
    {
     "data": {
      "text/plain": [
       "<matplotlib.text.Text at 0x11799c550>"
      ]
     },
     "execution_count": 58,
     "metadata": {},
     "output_type": "execute_result"
    },
    {
     "data": {
      "text/plain": [
       "<matplotlib.text.Text at 0x11799c630>"
      ]
     },
     "execution_count": 58,
     "metadata": {},
     "output_type": "execute_result"
    },
    {
     "data": {
      "text/plain": [
       "<matplotlib.text.Text at 0x11799cf60>"
      ]
     },
     "execution_count": 58,
     "metadata": {},
     "output_type": "execute_result"
    },
    {
     "data": {
      "text/plain": [
       "<matplotlib.text.Text at 0x1179a15f8>"
      ]
     },
     "execution_count": 58,
     "metadata": {},
     "output_type": "execute_result"
    },
    {
     "data": {
      "text/plain": [
       "<matplotlib.text.Text at 0x1179a1a90>"
      ]
     },
     "execution_count": 58,
     "metadata": {},
     "output_type": "execute_result"
    },
    {
     "data": {
      "text/plain": [
       "<matplotlib.text.Text at 0x1179a1f60>"
      ]
     },
     "execution_count": 58,
     "metadata": {},
     "output_type": "execute_result"
    },
    {
     "data": {
      "text/plain": [
       "<matplotlib.text.Text at 0x1179a1f28>"
      ]
     },
     "execution_count": 58,
     "metadata": {},
     "output_type": "execute_result"
    },
    {
     "data": {
      "text/plain": [
       "<matplotlib.text.Text at 0x1185b1a90>"
      ]
     },
     "execution_count": 58,
     "metadata": {},
     "output_type": "execute_result"
    },
    {
     "data": {
      "text/plain": [
       "<matplotlib.text.Text at 0x1185b19e8>"
      ]
     },
     "execution_count": 58,
     "metadata": {},
     "output_type": "execute_result"
    },
    {
     "data": {
      "text/plain": [
       "<matplotlib.text.Text at 0x1185ad5f8>"
      ]
     },
     "execution_count": 58,
     "metadata": {},
     "output_type": "execute_result"
    },
    {
     "data": {
      "text/plain": [
       "<matplotlib.text.Text at 0x1185ad9e8>"
      ]
     },
     "execution_count": 58,
     "metadata": {},
     "output_type": "execute_result"
    },
    {
     "data": {
      "image/png": "[encoded data removed]",
      "text/plain": [
       "<matplotlib.figure.Figure at 0x10b9854e0>"
      ]
     },
     "metadata": {},
     "output_type": "display_data"
    }
   ],
   "source": [
    "# make some plots\n",
    "\n",
    "indices = np.arange(len(results))\n",
    "\n",
    "results = [[x[i] for x in results] for i in range(4)]\n",
    "\n",
    "clf_names, score, training_time, test_time = results\n",
    "training_time = np.array(training_time) / np.max(training_time)\n",
    "test_time = np.array(test_time) / np.max(test_time)\n",
    "\n",
    "plt.figure(figsize=(12, 8))\n",
    "plt.title(\"Score\")\n",
    "plt.barh(indices, score, .2, label=\"score\", color='navy')\n",
    "plt.barh(indices + .3, training_time, .2, label=\"training time\",\n",
    "         color='c')\n",
    "plt.barh(indices + .6, test_time, .2, label=\"test time\", color='darkorange')\n",
    "plt.yticks(())\n",
    "plt.legend(loc='best')\n",
    "plt.subplots_adjust(left=.25)\n",
    "plt.subplots_adjust(top=.95)\n",
    "plt.subplots_adjust(bottom=.05)\n",
    "\n",
    "for i, c in zip(indices, clf_names):\n",
    "    plt.text(-.3, i, c)\n",
    "\n",
    "plt.show()"
   ]
  },
  {
   "cell_type": "code",
   "execution_count": 62,
   "metadata": {
    "ExecuteTime": {
     "end_time": "2017-08-22T07:28:50.060170Z",
     "start_time": "2017-08-22T07:28:50.051008Z"
    }
   },
   "outputs": [
    {
     "data": {
      "text/plain": [
       "(17233, 1)"
      ]
     },
     "execution_count": 62,
     "metadata": {},
     "output_type": "execute_result"
    }
   ],
   "source": [
    "y_train.shape"
   ]
  },
  {
   "cell_type": "code",
   "execution_count": 72,
   "metadata": {
    "ExecuteTime": {
     "end_time": "2017-08-22T07:30:08.242682Z",
     "start_time": "2017-08-22T07:30:07.948297Z"
    },
    "collapsed": true
   },
   "outputs": [],
   "source": [
    "input_vec = Input(shape=(vector_size,))\n",
    "l1 = Dense(96, activation='relu')(input_vec)\n",
    "l2 = Dense(18, activation='relu')(l1)\n",
    "l3 = Dropout(0.15)(l2)\n",
    "l4 = Dense(64, activation='sigmoid')(l3)\n",
    "output = Dense(NUM_OF_CLASSES, activation='sigmoid')(l4)\n",
    "\n",
    "classifier = Model(input_vec, output)\n",
    "classifier.compile(optimizer='adadelta', loss='categorical_crossentropy', metrics=['categorical_accuracy'])"
   ]
  },
  {
   "cell_type": "code",
   "execution_count": 64,
   "metadata": {
    "ExecuteTime": {
     "end_time": "2017-08-22T07:28:59.725636Z",
     "start_time": "2017-08-22T07:28:59.710479Z"
    },
    "collapsed": true
   },
   "outputs": [],
   "source": [
    "from sklearn.svm import LinearSVC\n",
    "svm = LinearSVC(class_weight='balanced')"
   ]
  },
  {
   "cell_type": "code",
   "execution_count": 66,
   "metadata": {
    "ExecuteTime": {
     "end_time": "2017-08-22T07:29:10.533567Z",
     "start_time": "2017-08-22T07:29:08.822493Z"
    }
   },
   "outputs": [
    {
     "data": {
      "text/plain": [
       "LinearSVC(C=1.0, class_weight='balanced', dual=True, fit_intercept=True,\n",
       "     intercept_scaling=1, loss='squared_hinge', max_iter=1000,\n",
       "     multi_class='ovr', penalty='l2', random_state=None, tol=0.0001,\n",
       "     verbose=0)"
      ]
     },
     "execution_count": 66,
     "metadata": {},
     "output_type": "execute_result"
    }
   ],
   "source": [
    "svm.fit(X_train, y_train)"
   ]
  },
  {
   "cell_type": "code",
   "execution_count": 67,
   "metadata": {
    "ExecuteTime": {
     "end_time": "2017-08-22T07:29:11.312803Z",
     "start_time": "2017-08-22T07:29:11.295902Z"
    },
    "collapsed": true
   },
   "outputs": [],
   "source": [
    "from sklearn.metrics import f1_score"
   ]
  },
  {
   "cell_type": "code",
   "execution_count": 69,
   "metadata": {
    "ExecuteTime": {
     "end_time": "2017-08-22T07:29:21.977141Z",
     "start_time": "2017-08-22T07:29:21.955908Z"
    }
   },
   "outputs": [
    {
     "data": {
      "text/plain": [
       "0.41127600160258343"
      ]
     },
     "execution_count": 69,
     "metadata": {},
     "output_type": "execute_result"
    }
   ],
   "source": [
    "f1_score(y_test, svm.predict(X_test), average=\"weighted\")"
   ]
  },
  {
   "cell_type": "code",
   "execution_count": 73,
   "metadata": {
    "ExecuteTime": {
     "end_time": "2017-08-22T07:30:13.314818Z",
     "start_time": "2017-08-22T07:30:11.074875Z"
    },
    "collapsed": true
   },
   "outputs": [
    {
     "name": "stdout",
     "output_type": "stream",
     "text": [
      "Train on 17233 samples, validate on 4309 samples\n",
      "Epoch 1/75\n"
     ]
    },
    {
     "ename": "InvalidArgumentError",
     "evalue": "Received a label value of 21 which is outside the valid range of [0, 1).  Label values: 4 6 12 19 5 18 12 5 20 12 12 8 19 10 20 12 12 12 17 14 10 12 12 12 20 13 8 13 5 19 4 18 10 20 10 7 19 1 14 19 19 10 8 10 2 8 12 18 19 2 14 1 17 8 17 19 20 12 20 18 12 19 10 18 18 12 4 17 17 5 12 6 6 17 4 12 3 12 19 12 8 18 3 17 19 17 12 12 6 12 20 17 7 10 16 4 4 10 16 17 12 10 10 6 12 19 13 2 12 16 12 13 17 6 15 5 12 10 7 20 7 12 10 0 18 8 17 19 12 5 16 12 20 10 5 8 18 12 9 11 6 4 17 1 1 6 21 18 20 17 4 19 8 17 12 12 12 20 5 12 12 3 12 1 7 8 19 20 1 12 6 19 21 3 18 12 10 19 13 8 12 11 13 10 7 4 12 8 12 7 18 2 8 11 8 17\n\t [[Node: SparseSoftmaxCrossEntropyWithLogits/SparseSoftmaxCrossEntropyWithLogits = SparseSoftmaxCrossEntropyWithLogits[T=DT_FLOAT, Tlabels=DT_INT64, _device=\"/job:localhost/replica:0/task:0/cpu:0\"](Reshape_1, Cast_4)]]\n\nCaused by op 'SparseSoftmaxCrossEntropyWithLogits/SparseSoftmaxCrossEntropyWithLogits', defined at:\n  File \"/usr/local/Cellar/python3/3.6.2/Frameworks/Python.framework/Versions/3.6/lib/python3.6/runpy.py\", line 193, in _run_module_as_main\n    \"__main__\", mod_spec)\n  File \"/usr/local/Cellar/python3/3.6.2/Frameworks/Python.framework/Versions/3.6/lib/python3.6/runpy.py\", line 85, in _run_code\n    exec(code, run_globals)\n  File \"/usr/local/lib/python3.6/site-packages/ipykernel_launcher.py\", line 16, in <module>\n    app.launch_new_instance()\n  File \"/usr/local/lib/python3.6/site-packages/traitlets/config/application.py\", line 658, in launch_instance\n    app.start()\n  File \"/usr/local/lib/python3.6/site-packages/ipykernel/kernelapp.py\", line 477, in start\n    ioloop.IOLoop.instance().start()\n  File \"/usr/local/lib/python3.6/site-packages/zmq/eventloop/ioloop.py\", line 177, in start\n    super(ZMQIOLoop, self).start()\n  File \"/usr/local/lib/python3.6/site-packages/tornado/ioloop.py\", line 888, in start\n    handler_func(fd_obj, events)\n  File \"/usr/local/lib/python3.6/site-packages/tornado/stack_context.py\", line 277, in null_wrapper\n    return fn(*args, **kwargs)\n  File \"/usr/local/lib/python3.6/site-packages/zmq/eventloop/zmqstream.py\", line 440, in _handle_events\n    self._handle_recv()\n  File \"/usr/local/lib/python3.6/site-packages/zmq/eventloop/zmqstream.py\", line 472, in _handle_recv\n    self._run_callback(callback, msg)\n  File \"/usr/local/lib/python3.6/site-packages/zmq/eventloop/zmqstream.py\", line 414, in _run_callback\n    callback(*args, **kwargs)\n  File \"/usr/local/lib/python3.6/site-packages/tornado/stack_context.py\", line 277, in null_wrapper\n    return fn(*args, **kwargs)\n  File \"/usr/local/lib/python3.6/site-packages/ipykernel/kernelbase.py\", line 283, in dispatcher\n    return self.dispatch_shell(stream, msg)\n  File \"/usr/local/lib/python3.6/site-packages/ipykernel/kernelbase.py\", line 235, in dispatch_shell\n    handler(stream, idents, msg)\n  File \"/usr/local/lib/python3.6/site-packages/ipykernel/kernelbase.py\", line 399, in execute_request\n    user_expressions, allow_stdin)\n  File \"/usr/local/lib/python3.6/site-packages/ipykernel/ipkernel.py\", line 196, in do_execute\n    res = shell.run_cell(code, store_history=store_history, silent=silent)\n  File \"/usr/local/lib/python3.6/site-packages/ipykernel/zmqshell.py\", line 533, in run_cell\n    return super(ZMQInteractiveShell, self).run_cell(*args, **kwargs)\n  File \"/usr/local/lib/python3.6/site-packages/IPython/core/interactiveshell.py\", line 2698, in run_cell\n    interactivity=interactivity, compiler=compiler, result=result)\n  File \"/usr/local/lib/python3.6/site-packages/IPython/core/interactiveshell.py\", line 2808, in run_ast_nodes\n    if self.run_code(code, result):\n  File \"/usr/local/lib/python3.6/site-packages/IPython/core/interactiveshell.py\", line 2862, in run_code\n    exec(code_obj, self.user_global_ns, self.user_ns)\n  File \"<ipython-input-72-7f12b39e75e7>\", line 9, in <module>\n    classifier.compile(optimizer='adadelta', loss='sparse_categorical_crossentropy', metrics=['categorical_accuracy'])\n  File \"/usr/local/lib/python3.6/site-packages/keras/engine/training.py\", line 840, in compile\n    sample_weight, mask)\n  File \"/usr/local/lib/python3.6/site-packages/keras/engine/training.py\", line 446, in weighted\n    score_array = fn(y_true, y_pred)\n  File \"/usr/local/lib/python3.6/site-packages/keras/losses.py\", line 53, in sparse_categorical_crossentropy\n    return K.sparse_categorical_crossentropy(y_pred, y_true)\n  File \"/usr/local/lib/python3.6/site-packages/keras/backend/tensorflow_backend.py\", line 2782, in sparse_categorical_crossentropy\n    logits=logits)\n  File \"/usr/local/lib/python3.6/site-packages/tensorflow/python/ops/nn_ops.py\", line 1690, in sparse_softmax_cross_entropy_with_logits\n    precise_logits, labels, name=name)\n  File \"/usr/local/lib/python3.6/site-packages/tensorflow/python/ops/gen_nn_ops.py\", line 2486, in _sparse_softmax_cross_entropy_with_logits\n    features=features, labels=labels, name=name)\n  File \"/usr/local/lib/python3.6/site-packages/tensorflow/python/framework/op_def_library.py\", line 767, in apply_op\n    op_def=op_def)\n  File \"/usr/local/lib/python3.6/site-packages/tensorflow/python/framework/ops.py\", line 2506, in create_op\n    original_op=self._default_original_op, op_def=op_def)\n  File \"/usr/local/lib/python3.6/site-packages/tensorflow/python/framework/ops.py\", line 1269, in __init__\n    self._traceback = _extract_stack()\n\nInvalidArgumentError (see above for traceback): Received a label value of 21 which is outside the valid range of [0, 1).  Label values: 4 6 12 19 5 18 12 5 20 12 12 8 19 10 20 12 12 12 17 14 10 12 12 12 20 13 8 13 5 19 4 18 10 20 10 7 19 1 14 19 19 10 8 10 2 8 12 18 19 2 14 1 17 8 17 19 20 12 20 18 12 19 10 18 18 12 4 17 17 5 12 6 6 17 4 12 3 12 19 12 8 18 3 17 19 17 12 12 6 12 20 17 7 10 16 4 4 10 16 17 12 10 10 6 12 19 13 2 12 16 12 13 17 6 15 5 12 10 7 20 7 12 10 0 18 8 17 19 12 5 16 12 20 10 5 8 18 12 9 11 6 4 17 1 1 6 21 18 20 17 4 19 8 17 12 12 12 20 5 12 12 3 12 1 7 8 19 20 1 12 6 19 21 3 18 12 10 19 13 8 12 11 13 10 7 4 12 8 12 7 18 2 8 11 8 17\n\t [[Node: SparseSoftmaxCrossEntropyWithLogits/SparseSoftmaxCrossEntropyWithLogits = SparseSoftmaxCrossEntropyWithLogits[T=DT_FLOAT, Tlabels=DT_INT64, _device=\"/job:localhost/replica:0/task:0/cpu:0\"](Reshape_1, Cast_4)]]\n",
     "output_type": "error",
     "traceback": [
      "\u001b[0;31m---------------------------------------------------------------------------\u001b[0m",
      "\u001b[0;31mInvalidArgumentError\u001b[0m                      Traceback (most recent call last)",
      "\u001b[0;32m/usr/local/lib/python3.6/site-packages/tensorflow/python/client/session.py\u001b[0m in \u001b[0;36m_do_call\u001b[0;34m(self, fn, *args)\u001b[0m\n\u001b[1;32m   1138\u001b[0m     \u001b[0;32mtry\u001b[0m\u001b[0;34m:\u001b[0m\u001b[0;34m\u001b[0m\u001b[0m\n\u001b[0;32m-> 1139\u001b[0;31m       \u001b[0;32mreturn\u001b[0m \u001b[0mfn\u001b[0m\u001b[0;34m(\u001b[0m\u001b[0;34m*\u001b[0m\u001b[0margs\u001b[0m\u001b[0;34m)\u001b[0m\u001b[0;34m\u001b[0m\u001b[0m\n\u001b[0m\u001b[1;32m   1140\u001b[0m     \u001b[0;32mexcept\u001b[0m \u001b[0merrors\u001b[0m\u001b[0;34m.\u001b[0m\u001b[0mOpError\u001b[0m \u001b[0;32mas\u001b[0m \u001b[0me\u001b[0m\u001b[0;34m:\u001b[0m\u001b[0;34m\u001b[0m\u001b[0m\n",
      "\u001b[0;32m/usr/local/lib/python3.6/site-packages/tensorflow/python/client/session.py\u001b[0m in \u001b[0;36m_run_fn\u001b[0;34m(session, feed_dict, fetch_list, target_list, options, run_metadata)\u001b[0m\n\u001b[1;32m   1120\u001b[0m                                  \u001b[0mfeed_dict\u001b[0m\u001b[0;34m,\u001b[0m \u001b[0mfetch_list\u001b[0m\u001b[0;34m,\u001b[0m \u001b[0mtarget_list\u001b[0m\u001b[0;34m,\u001b[0m\u001b[0;34m\u001b[0m\u001b[0m\n\u001b[0;32m-> 1121\u001b[0;31m                                  status, run_metadata)\n\u001b[0m\u001b[1;32m   1122\u001b[0m \u001b[0;34m\u001b[0m\u001b[0m\n",
      "\u001b[0;32m/usr/local/Cellar/python3/3.6.2/Frameworks/Python.framework/Versions/3.6/lib/python3.6/contextlib.py\u001b[0m in \u001b[0;36m__exit__\u001b[0;34m(self, type, value, traceback)\u001b[0m\n\u001b[1;32m     87\u001b[0m             \u001b[0;32mtry\u001b[0m\u001b[0;34m:\u001b[0m\u001b[0;34m\u001b[0m\u001b[0m\n\u001b[0;32m---> 88\u001b[0;31m                 \u001b[0mnext\u001b[0m\u001b[0;34m(\u001b[0m\u001b[0mself\u001b[0m\u001b[0;34m.\u001b[0m\u001b[0mgen\u001b[0m\u001b[0;34m)\u001b[0m\u001b[0;34m\u001b[0m\u001b[0m\n\u001b[0m\u001b[1;32m     89\u001b[0m             \u001b[0;32mexcept\u001b[0m \u001b[0mStopIteration\u001b[0m\u001b[0;34m:\u001b[0m\u001b[0;34m\u001b[0m\u001b[0m\n",
      "\u001b[0;32m/usr/local/lib/python3.6/site-packages/tensorflow/python/framework/errors_impl.py\u001b[0m in \u001b[0;36mraise_exception_on_not_ok_status\u001b[0;34m()\u001b[0m\n\u001b[1;32m    465\u001b[0m           \u001b[0mcompat\u001b[0m\u001b[0;34m.\u001b[0m\u001b[0mas_text\u001b[0m\u001b[0;34m(\u001b[0m\u001b[0mpywrap_tensorflow\u001b[0m\u001b[0;34m.\u001b[0m\u001b[0mTF_Message\u001b[0m\u001b[0;34m(\u001b[0m\u001b[0mstatus\u001b[0m\u001b[0;34m)\u001b[0m\u001b[0;34m)\u001b[0m\u001b[0;34m,\u001b[0m\u001b[0;34m\u001b[0m\u001b[0m\n\u001b[0;32m--> 466\u001b[0;31m           pywrap_tensorflow.TF_GetCode(status))\n\u001b[0m\u001b[1;32m    467\u001b[0m   \u001b[0;32mfinally\u001b[0m\u001b[0;34m:\u001b[0m\u001b[0;34m\u001b[0m\u001b[0m\n",
      "\u001b[0;31mInvalidArgumentError\u001b[0m: Received a label value of 21 which is outside the valid range of [0, 1).  Label values: 4 6 12 19 5 18 12 5 20 12 12 8 19 10 20 12 12 12 17 14 10 12 12 12 20 13 8 13 5 19 4 18 10 20 10 7 19 1 14 19 19 10 8 10 2 8 12 18 19 2 14 1 17 8 17 19 20 12 20 18 12 19 10 18 18 12 4 17 17 5 12 6 6 17 4 12 3 12 19 12 8 18 3 17 19 17 12 12 6 12 20 17 7 10 16 4 4 10 16 17 12 10 10 6 12 19 13 2 12 16 12 13 17 6 15 5 12 10 7 20 7 12 10 0 18 8 17 19 12 5 16 12 20 10 5 8 18 12 9 11 6 4 17 1 1 6 21 18 20 17 4 19 8 17 12 12 12 20 5 12 12 3 12 1 7 8 19 20 1 12 6 19 21 3 18 12 10 19 13 8 12 11 13 10 7 4 12 8 12 7 18 2 8 11 8 17\n\t [[Node: SparseSoftmaxCrossEntropyWithLogits/SparseSoftmaxCrossEntropyWithLogits = SparseSoftmaxCrossEntropyWithLogits[T=DT_FLOAT, Tlabels=DT_INT64, _device=\"/job:localhost/replica:0/task:0/cpu:0\"](Reshape_1, Cast_4)]]",
      "\nDuring handling of the above exception, another exception occurred:\n",
      "\u001b[0;31mInvalidArgumentError\u001b[0m                      Traceback (most recent call last)",
      "\u001b[0;32m<ipython-input-73-78200db8fc38>\u001b[0m in \u001b[0;36m<module>\u001b[0;34m()\u001b[0m\n\u001b[1;32m     25\u001b[0m                \u001b[0mbatch_size\u001b[0m\u001b[0;34m=\u001b[0m\u001b[0;36m196\u001b[0m\u001b[0;34m,\u001b[0m\u001b[0;34m\u001b[0m\u001b[0m\n\u001b[1;32m     26\u001b[0m                \u001b[0mepochs\u001b[0m\u001b[0;34m=\u001b[0m\u001b[0;36m75\u001b[0m\u001b[0;34m,\u001b[0m\u001b[0;34m\u001b[0m\u001b[0m\n\u001b[0;32m---> 27\u001b[0;31m                \u001b[0mclass_weight\u001b[0m\u001b[0;34m=\u001b[0m\u001b[0;34m'balanced'\u001b[0m\u001b[0;34m\u001b[0m\u001b[0m\n\u001b[0m\u001b[1;32m     28\u001b[0m \u001b[0;31m#                callbacks=callbacks\u001b[0m\u001b[0;34m\u001b[0m\u001b[0;34m\u001b[0m\u001b[0m\n\u001b[1;32m     29\u001b[0m               )\n",
      "\u001b[0;32m/usr/local/lib/python3.6/site-packages/keras/engine/training.py\u001b[0m in \u001b[0;36mfit\u001b[0;34m(self, x, y, batch_size, epochs, verbose, callbacks, validation_split, validation_data, shuffle, class_weight, sample_weight, initial_epoch, **kwargs)\u001b[0m\n\u001b[1;32m   1428\u001b[0m                               \u001b[0mval_f\u001b[0m\u001b[0;34m=\u001b[0m\u001b[0mval_f\u001b[0m\u001b[0;34m,\u001b[0m \u001b[0mval_ins\u001b[0m\u001b[0;34m=\u001b[0m\u001b[0mval_ins\u001b[0m\u001b[0;34m,\u001b[0m \u001b[0mshuffle\u001b[0m\u001b[0;34m=\u001b[0m\u001b[0mshuffle\u001b[0m\u001b[0;34m,\u001b[0m\u001b[0;34m\u001b[0m\u001b[0m\n\u001b[1;32m   1429\u001b[0m                               \u001b[0mcallback_metrics\u001b[0m\u001b[0;34m=\u001b[0m\u001b[0mcallback_metrics\u001b[0m\u001b[0;34m,\u001b[0m\u001b[0;34m\u001b[0m\u001b[0m\n\u001b[0;32m-> 1430\u001b[0;31m                               initial_epoch=initial_epoch)\n\u001b[0m\u001b[1;32m   1431\u001b[0m \u001b[0;34m\u001b[0m\u001b[0m\n\u001b[1;32m   1432\u001b[0m     \u001b[0;32mdef\u001b[0m \u001b[0mevaluate\u001b[0m\u001b[0;34m(\u001b[0m\u001b[0mself\u001b[0m\u001b[0;34m,\u001b[0m \u001b[0mx\u001b[0m\u001b[0;34m,\u001b[0m \u001b[0my\u001b[0m\u001b[0;34m,\u001b[0m \u001b[0mbatch_size\u001b[0m\u001b[0;34m=\u001b[0m\u001b[0;36m32\u001b[0m\u001b[0;34m,\u001b[0m \u001b[0mverbose\u001b[0m\u001b[0;34m=\u001b[0m\u001b[0;36m1\u001b[0m\u001b[0;34m,\u001b[0m \u001b[0msample_weight\u001b[0m\u001b[0;34m=\u001b[0m\u001b[0;32mNone\u001b[0m\u001b[0;34m)\u001b[0m\u001b[0;34m:\u001b[0m\u001b[0;34m\u001b[0m\u001b[0m\n",
      "\u001b[0;32m/usr/local/lib/python3.6/site-packages/keras/engine/training.py\u001b[0m in \u001b[0;36m_fit_loop\u001b[0;34m(self, f, ins, out_labels, batch_size, epochs, verbose, callbacks, val_f, val_ins, shuffle, callback_metrics, initial_epoch)\u001b[0m\n\u001b[1;32m   1077\u001b[0m                 \u001b[0mbatch_logs\u001b[0m\u001b[0;34m[\u001b[0m\u001b[0;34m'size'\u001b[0m\u001b[0;34m]\u001b[0m \u001b[0;34m=\u001b[0m \u001b[0mlen\u001b[0m\u001b[0;34m(\u001b[0m\u001b[0mbatch_ids\u001b[0m\u001b[0;34m)\u001b[0m\u001b[0;34m\u001b[0m\u001b[0m\n\u001b[1;32m   1078\u001b[0m                 \u001b[0mcallbacks\u001b[0m\u001b[0;34m.\u001b[0m\u001b[0mon_batch_begin\u001b[0m\u001b[0;34m(\u001b[0m\u001b[0mbatch_index\u001b[0m\u001b[0;34m,\u001b[0m \u001b[0mbatch_logs\u001b[0m\u001b[0;34m)\u001b[0m\u001b[0;34m\u001b[0m\u001b[0m\n\u001b[0;32m-> 1079\u001b[0;31m                 \u001b[0mouts\u001b[0m \u001b[0;34m=\u001b[0m \u001b[0mf\u001b[0m\u001b[0;34m(\u001b[0m\u001b[0mins_batch\u001b[0m\u001b[0;34m)\u001b[0m\u001b[0;34m\u001b[0m\u001b[0m\n\u001b[0m\u001b[1;32m   1080\u001b[0m                 \u001b[0;32mif\u001b[0m \u001b[0;32mnot\u001b[0m \u001b[0misinstance\u001b[0m\u001b[0;34m(\u001b[0m\u001b[0mouts\u001b[0m\u001b[0;34m,\u001b[0m \u001b[0mlist\u001b[0m\u001b[0;34m)\u001b[0m\u001b[0;34m:\u001b[0m\u001b[0;34m\u001b[0m\u001b[0m\n\u001b[1;32m   1081\u001b[0m                     \u001b[0mouts\u001b[0m \u001b[0;34m=\u001b[0m \u001b[0;34m[\u001b[0m\u001b[0mouts\u001b[0m\u001b[0;34m]\u001b[0m\u001b[0;34m\u001b[0m\u001b[0m\n",
      "\u001b[0;32m/usr/local/lib/python3.6/site-packages/keras/backend/tensorflow_backend.py\u001b[0m in \u001b[0;36m__call__\u001b[0;34m(self, inputs)\u001b[0m\n\u001b[1;32m   2266\u001b[0m         updated = session.run(self.outputs + [self.updates_op],\n\u001b[1;32m   2267\u001b[0m                               \u001b[0mfeed_dict\u001b[0m\u001b[0;34m=\u001b[0m\u001b[0mfeed_dict\u001b[0m\u001b[0;34m,\u001b[0m\u001b[0;34m\u001b[0m\u001b[0m\n\u001b[0;32m-> 2268\u001b[0;31m                               **self.session_kwargs)\n\u001b[0m\u001b[1;32m   2269\u001b[0m         \u001b[0;32mreturn\u001b[0m \u001b[0mupdated\u001b[0m\u001b[0;34m[\u001b[0m\u001b[0;34m:\u001b[0m\u001b[0mlen\u001b[0m\u001b[0;34m(\u001b[0m\u001b[0mself\u001b[0m\u001b[0;34m.\u001b[0m\u001b[0moutputs\u001b[0m\u001b[0;34m)\u001b[0m\u001b[0;34m]\u001b[0m\u001b[0;34m\u001b[0m\u001b[0m\n\u001b[1;32m   2270\u001b[0m \u001b[0;34m\u001b[0m\u001b[0m\n",
      "\u001b[0;32m/usr/local/lib/python3.6/site-packages/tensorflow/python/client/session.py\u001b[0m in \u001b[0;36mrun\u001b[0;34m(self, fetches, feed_dict, options, run_metadata)\u001b[0m\n\u001b[1;32m    787\u001b[0m     \u001b[0;32mtry\u001b[0m\u001b[0;34m:\u001b[0m\u001b[0;34m\u001b[0m\u001b[0m\n\u001b[1;32m    788\u001b[0m       result = self._run(None, fetches, feed_dict, options_ptr,\n\u001b[0;32m--> 789\u001b[0;31m                          run_metadata_ptr)\n\u001b[0m\u001b[1;32m    790\u001b[0m       \u001b[0;32mif\u001b[0m \u001b[0mrun_metadata\u001b[0m\u001b[0;34m:\u001b[0m\u001b[0;34m\u001b[0m\u001b[0m\n\u001b[1;32m    791\u001b[0m         \u001b[0mproto_data\u001b[0m \u001b[0;34m=\u001b[0m \u001b[0mtf_session\u001b[0m\u001b[0;34m.\u001b[0m\u001b[0mTF_GetBuffer\u001b[0m\u001b[0;34m(\u001b[0m\u001b[0mrun_metadata_ptr\u001b[0m\u001b[0;34m)\u001b[0m\u001b[0;34m\u001b[0m\u001b[0m\n",
      "\u001b[0;32m/usr/local/lib/python3.6/site-packages/tensorflow/python/client/session.py\u001b[0m in \u001b[0;36m_run\u001b[0;34m(self, handle, fetches, feed_dict, options, run_metadata)\u001b[0m\n\u001b[1;32m    995\u001b[0m     \u001b[0;32mif\u001b[0m \u001b[0mfinal_fetches\u001b[0m \u001b[0;32mor\u001b[0m \u001b[0mfinal_targets\u001b[0m\u001b[0;34m:\u001b[0m\u001b[0;34m\u001b[0m\u001b[0m\n\u001b[1;32m    996\u001b[0m       results = self._do_run(handle, final_targets, final_fetches,\n\u001b[0;32m--> 997\u001b[0;31m                              feed_dict_string, options, run_metadata)\n\u001b[0m\u001b[1;32m    998\u001b[0m     \u001b[0;32melse\u001b[0m\u001b[0;34m:\u001b[0m\u001b[0;34m\u001b[0m\u001b[0m\n\u001b[1;32m    999\u001b[0m       \u001b[0mresults\u001b[0m \u001b[0;34m=\u001b[0m \u001b[0;34m[\u001b[0m\u001b[0;34m]\u001b[0m\u001b[0;34m\u001b[0m\u001b[0m\n",
      "\u001b[0;32m/usr/local/lib/python3.6/site-packages/tensorflow/python/client/session.py\u001b[0m in \u001b[0;36m_do_run\u001b[0;34m(self, handle, target_list, fetch_list, feed_dict, options, run_metadata)\u001b[0m\n\u001b[1;32m   1130\u001b[0m     \u001b[0;32mif\u001b[0m \u001b[0mhandle\u001b[0m \u001b[0;32mis\u001b[0m \u001b[0;32mNone\u001b[0m\u001b[0;34m:\u001b[0m\u001b[0;34m\u001b[0m\u001b[0m\n\u001b[1;32m   1131\u001b[0m       return self._do_call(_run_fn, self._session, feed_dict, fetch_list,\n\u001b[0;32m-> 1132\u001b[0;31m                            target_list, options, run_metadata)\n\u001b[0m\u001b[1;32m   1133\u001b[0m     \u001b[0;32melse\u001b[0m\u001b[0;34m:\u001b[0m\u001b[0;34m\u001b[0m\u001b[0m\n\u001b[1;32m   1134\u001b[0m       return self._do_call(_prun_fn, self._session, handle, feed_dict,\n",
      "\u001b[0;32m/usr/local/lib/python3.6/site-packages/tensorflow/python/client/session.py\u001b[0m in \u001b[0;36m_do_call\u001b[0;34m(self, fn, *args)\u001b[0m\n\u001b[1;32m   1150\u001b[0m         \u001b[0;32mexcept\u001b[0m \u001b[0mKeyError\u001b[0m\u001b[0;34m:\u001b[0m\u001b[0;34m\u001b[0m\u001b[0m\n\u001b[1;32m   1151\u001b[0m           \u001b[0;32mpass\u001b[0m\u001b[0;34m\u001b[0m\u001b[0m\n\u001b[0;32m-> 1152\u001b[0;31m       \u001b[0;32mraise\u001b[0m \u001b[0mtype\u001b[0m\u001b[0;34m(\u001b[0m\u001b[0me\u001b[0m\u001b[0;34m)\u001b[0m\u001b[0;34m(\u001b[0m\u001b[0mnode_def\u001b[0m\u001b[0;34m,\u001b[0m \u001b[0mop\u001b[0m\u001b[0;34m,\u001b[0m \u001b[0mmessage\u001b[0m\u001b[0;34m)\u001b[0m\u001b[0;34m\u001b[0m\u001b[0m\n\u001b[0m\u001b[1;32m   1153\u001b[0m \u001b[0;34m\u001b[0m\u001b[0m\n\u001b[1;32m   1154\u001b[0m   \u001b[0;32mdef\u001b[0m \u001b[0m_extend_graph\u001b[0m\u001b[0;34m(\u001b[0m\u001b[0mself\u001b[0m\u001b[0;34m)\u001b[0m\u001b[0;34m:\u001b[0m\u001b[0;34m\u001b[0m\u001b[0m\n",
      "\u001b[0;31mInvalidArgumentError\u001b[0m: Received a label value of 21 which is outside the valid range of [0, 1).  Label values: 4 6 12 19 5 18 12 5 20 12 12 8 19 10 20 12 12 12 17 14 10 12 12 12 20 13 8 13 5 19 4 18 10 20 10 7 19 1 14 19 19 10 8 10 2 8 12 18 19 2 14 1 17 8 17 19 20 12 20 18 12 19 10 18 18 12 4 17 17 5 12 6 6 17 4 12 3 12 19 12 8 18 3 17 19 17 12 12 6 12 20 17 7 10 16 4 4 10 16 17 12 10 10 6 12 19 13 2 12 16 12 13 17 6 15 5 12 10 7 20 7 12 10 0 18 8 17 19 12 5 16 12 20 10 5 8 18 12 9 11 6 4 17 1 1 6 21 18 20 17 4 19 8 17 12 12 12 20 5 12 12 3 12 1 7 8 19 20 1 12 6 19 21 3 18 12 10 19 13 8 12 11 13 10 7 4 12 8 12 7 18 2 8 11 8 17\n\t [[Node: SparseSoftmaxCrossEntropyWithLogits/SparseSoftmaxCrossEntropyWithLogits = SparseSoftmaxCrossEntropyWithLogits[T=DT_FLOAT, Tlabels=DT_INT64, _device=\"/job:localhost/replica:0/task:0/cpu:0\"](Reshape_1, Cast_4)]]\n\nCaused by op 'SparseSoftmaxCrossEntropyWithLogits/SparseSoftmaxCrossEntropyWithLogits', defined at:\n  File \"/usr/local/Cellar/python3/3.6.2/Frameworks/Python.framework/Versions/3.6/lib/python3.6/runpy.py\", line 193, in _run_module_as_main\n    \"__main__\", mod_spec)\n  File \"/usr/local/Cellar/python3/3.6.2/Frameworks/Python.framework/Versions/3.6/lib/python3.6/runpy.py\", line 85, in _run_code\n    exec(code, run_globals)\n  File \"/usr/local/lib/python3.6/site-packages/ipykernel_launcher.py\", line 16, in <module>\n    app.launch_new_instance()\n  File \"/usr/local/lib/python3.6/site-packages/traitlets/config/application.py\", line 658, in launch_instance\n    app.start()\n  File \"/usr/local/lib/python3.6/site-packages/ipykernel/kernelapp.py\", line 477, in start\n    ioloop.IOLoop.instance().start()\n  File \"/usr/local/lib/python3.6/site-packages/zmq/eventloop/ioloop.py\", line 177, in start\n    super(ZMQIOLoop, self).start()\n  File \"/usr/local/lib/python3.6/site-packages/tornado/ioloop.py\", line 888, in start\n    handler_func(fd_obj, events)\n  File \"/usr/local/lib/python3.6/site-packages/tornado/stack_context.py\", line 277, in null_wrapper\n    return fn(*args, **kwargs)\n  File \"/usr/local/lib/python3.6/site-packages/zmq/eventloop/zmqstream.py\", line 440, in _handle_events\n    self._handle_recv()\n  File \"/usr/local/lib/python3.6/site-packages/zmq/eventloop/zmqstream.py\", line 472, in _handle_recv\n    self._run_callback(callback, msg)\n  File \"/usr/local/lib/python3.6/site-packages/zmq/eventloop/zmqstream.py\", line 414, in _run_callback\n    callback(*args, **kwargs)\n  File \"/usr/local/lib/python3.6/site-packages/tornado/stack_context.py\", line 277, in null_wrapper\n    return fn(*args, **kwargs)\n  File \"/usr/local/lib/python3.6/site-packages/ipykernel/kernelbase.py\", line 283, in dispatcher\n    return self.dispatch_shell(stream, msg)\n  File \"/usr/local/lib/python3.6/site-packages/ipykernel/kernelbase.py\", line 235, in dispatch_shell\n    handler(stream, idents, msg)\n  File \"/usr/local/lib/python3.6/site-packages/ipykernel/kernelbase.py\", line 399, in execute_request\n    user_expressions, allow_stdin)\n  File \"/usr/local/lib/python3.6/site-packages/ipykernel/ipkernel.py\", line 196, in do_execute\n    res = shell.run_cell(code, store_history=store_history, silent=silent)\n  File \"/usr/local/lib/python3.6/site-packages/ipykernel/zmqshell.py\", line 533, in run_cell\n    return super(ZMQInteractiveShell, self).run_cell(*args, **kwargs)\n  File \"/usr/local/lib/python3.6/site-packages/IPython/core/interactiveshell.py\", line 2698, in run_cell\n    interactivity=interactivity, compiler=compiler, result=result)\n  File \"/usr/local/lib/python3.6/site-packages/IPython/core/interactiveshell.py\", line 2808, in run_ast_nodes\n    if self.run_code(code, result):\n  File \"/usr/local/lib/python3.6/site-packages/IPython/core/interactiveshell.py\", line 2862, in run_code\n    exec(code_obj, self.user_global_ns, self.user_ns)\n  File \"<ipython-input-72-7f12b39e75e7>\", line 9, in <module>\n    classifier.compile(optimizer='adadelta', loss='sparse_categorical_crossentropy', metrics=['categorical_accuracy'])\n  File \"/usr/local/lib/python3.6/site-packages/keras/engine/training.py\", line 840, in compile\n    sample_weight, mask)\n  File \"/usr/local/lib/python3.6/site-packages/keras/engine/training.py\", line 446, in weighted\n    score_array = fn(y_true, y_pred)\n  File \"/usr/local/lib/python3.6/site-packages/keras/losses.py\", line 53, in sparse_categorical_crossentropy\n    return K.sparse_categorical_crossentropy(y_pred, y_true)\n  File \"/usr/local/lib/python3.6/site-packages/keras/backend/tensorflow_backend.py\", line 2782, in sparse_categorical_crossentropy\n    logits=logits)\n  File \"/usr/local/lib/python3.6/site-packages/tensorflow/python/ops/nn_ops.py\", line 1690, in sparse_softmax_cross_entropy_with_logits\n    precise_logits, labels, name=name)\n  File \"/usr/local/lib/python3.6/site-packages/tensorflow/python/ops/gen_nn_ops.py\", line 2486, in _sparse_softmax_cross_entropy_with_logits\n    features=features, labels=labels, name=name)\n  File \"/usr/local/lib/python3.6/site-packages/tensorflow/python/framework/op_def_library.py\", line 767, in apply_op\n    op_def=op_def)\n  File \"/usr/local/lib/python3.6/site-packages/tensorflow/python/framework/ops.py\", line 2506, in create_op\n    original_op=self._default_original_op, op_def=op_def)\n  File \"/usr/local/lib/python3.6/site-packages/tensorflow/python/framework/ops.py\", line 1269, in __init__\n    self._traceback = _extract_stack()\n\nInvalidArgumentError (see above for traceback): Received a label value of 21 which is outside the valid range of [0, 1).  Label values: 4 6 12 19 5 18 12 5 20 12 12 8 19 10 20 12 12 12 17 14 10 12 12 12 20 13 8 13 5 19 4 18 10 20 10 7 19 1 14 19 19 10 8 10 2 8 12 18 19 2 14 1 17 8 17 19 20 12 20 18 12 19 10 18 18 12 4 17 17 5 12 6 6 17 4 12 3 12 19 12 8 18 3 17 19 17 12 12 6 12 20 17 7 10 16 4 4 10 16 17 12 10 10 6 12 19 13 2 12 16 12 13 17 6 15 5 12 10 7 20 7 12 10 0 18 8 17 19 12 5 16 12 20 10 5 8 18 12 9 11 6 4 17 1 1 6 21 18 20 17 4 19 8 17 12 12 12 20 5 12 12 3 12 1 7 8 19 20 1 12 6 19 21 3 18 12 10 19 13 8 12 11 13 10 7 4 12 8 12 7 18 2 8 11 8 17\n\t [[Node: SparseSoftmaxCrossEntropyWithLogits/SparseSoftmaxCrossEntropyWithLogits = SparseSoftmaxCrossEntropyWithLogits[T=DT_FLOAT, Tlabels=DT_INT64, _device=\"/job:localhost/replica:0/task:0/cpu:0\"](Reshape_1, Cast_4)]]\n"
     ]
    }
   ],
   "source": [
    "# callbacks = [EarlyStopping(monitor='val_acc',\n",
    "#                            patience=8,\n",
    "#                            verbose=1,\n",
    "#                            min_delta=1e-4,\n",
    "#                            mode='max'),\n",
    "#              ReduceLROnPlateau(monitor='val_acc',\n",
    "#                                factor=0.1,\n",
    "#                                patience=4,\n",
    "#                                verbose=1,\n",
    "#                                epsilon=1e-4,\n",
    "#                                mode='max'),\n",
    "#              ModelCheckpoint(monitor='val_acc',\n",
    "#                              filepath='assets/vk_texts_classifier.h5',\n",
    "#                              save_best_only=True,\n",
    "#                              save_weights_only=False,\n",
    "#                              mode='max'),\n",
    "#              # TensorBoard(log_dir='logs'),\n",
    "#              CSVLogger('assets/last_training_log.csv', separator=',', append=False)\n",
    "#             ]\n",
    "\n",
    "# classifier.load_weights('vk_texts_classifier.h5')\n",
    "classifier.fit(X_train, \n",
    "               y_train, \n",
    "               validation_data=(X_test, y_test), \n",
    "               batch_size=196, \n",
    "               epochs=75, \n",
    "               class_weight='balanced'\n",
    "#                callbacks=callbacks\n",
    "              )"
   ]
  },
  {
   "cell_type": "code",
   "execution_count": 15,
   "metadata": {
    "ExecuteTime": {
     "end_time": "2017-08-20T22:03:48.894279Z",
     "start_time": "2017-08-20T22:03:48.725052Z"
    },
    "collapsed": true
   },
   "outputs": [],
   "source": [
    "classifier.save(\"assets/vk_texts_classifier.h5\")"
   ]
  },
  {
   "cell_type": "code",
   "execution_count": null,
   "metadata": {
    "collapsed": true
   },
   "outputs": [],
   "source": []
  },
  {
   "cell_type": "markdown",
   "metadata": {},
   "source": [
    "# Result"
   ]
  },
  {
   "cell_type": "code",
   "execution_count": 16,
   "metadata": {
    "ExecuteTime": {
     "end_time": "2017-08-20T22:03:49.087675Z",
     "start_time": "2017-08-20T22:03:48.902935Z"
    },
    "collapsed": true
   },
   "outputs": [],
   "source": [
    "# social = pd.read_excel(\"social.xlsx\", names=['id', 'name', 'fb', 'ok', 'vk', 'email', 'twitter'])\n",
    "# social.set_index('id', inplace=True)\n",
    "# social = social[social.vk.notnull()]\n",
    "# social.vk = social.vk.apply(lambda x: str(x).split(\"/\")[-1])\n",
    "# df = social[social.vk.notnull()]\n",
    "# df = df[['name', 'vk']]\n",
    "\n",
    "# def get_id(screen_name):\n",
    "#     try:\n",
    "#         item = vk.users.get(user_ids=screen_name)\n",
    "#         if 'deactivated' not in item:\n",
    "#             return item[0]['id']\n",
    "#     except Exception as e:\n",
    "#         print(e.args)\n",
    "# # Нужно замапить screen_name с их vk_id, поэтому придется обрабатывать по одному\n",
    "\n",
    "# df['vk_id'] = df.vk.progress_apply(get_id)\n",
    "# df.dropna(inplace=True)\n",
    "# df.vk_id = df.vk_id.astype('int')\n",
    "# df.to_msgpack(\"df.msg\")\n",
    "df = pd.read_msgpack(\"assets/df.msg\")\n",
    "known = pd.read_csv(\"assets/known_users.csv\")\n",
    "known = known.merge(df[['vk_id']], left_on='Leader-ID', right_index=True, how='left')"
   ]
  },
  {
   "cell_type": "code",
   "execution_count": 17,
   "metadata": {
    "ExecuteTime": {
     "end_time": "2017-08-20T22:03:52.800876Z",
     "start_time": "2017-08-20T22:03:49.091638Z"
    },
    "collapsed": true
   },
   "outputs": [],
   "source": [
    "result_class = ResultClass()"
   ]
  },
  {
   "cell_type": "code",
   "execution_count": 103,
   "metadata": {
    "ExecuteTime": {
     "end_time": "2017-08-21T19:27:59.681431Z",
     "start_time": "2017-08-21T19:26:55.594742Z"
    },
    "scrolled": false
   },
   "outputs": [
    {
     "name": "stderr",
     "output_type": "stream",
     "text": [
      "100%|██████████| 1/1 [00:00<00:00, 324.89it/s]\n",
      "100%|██████████| 1/1 [00:00<00:00, 1964.55it/s]\n",
      "100%|██████████| 1/1 [00:00<00:00, 1630.76it/s]\n",
      "100%|██████████| 1/1 [00:00<00:00, 781.94it/s]\n",
      "100%|██████████| 1/1 [00:00<00:00, 430.49it/s]\n",
      "100%|██████████| 1/1 [00:00<00:00, 1848.53it/s]\n",
      "100%|██████████| 1/1 [00:00<00:00, 553.41it/s]\n",
      "100%|██████████| 1/1 [00:00<00:00, 705.28it/s]\n",
      "100%|██████████| 1/1 [00:00<00:00, 3010.99it/s]\n",
      "100%|██████████| 1/1 [00:00<00:00, 2857.16it/s]\n",
      "100%|██████████| 1/1 [00:00<00:00, 2281.99it/s]\n",
      "100%|██████████| 1/1 [00:00<00:00, 155.33it/s]\n",
      "100%|██████████| 1/1 [00:00<00:00, 1901.32it/s]\n",
      "100%|██████████| 1/1 [00:00<00:00, 22.87it/s]\n",
      "100%|██████████| 1/1 [00:00<00:00, 1416.04it/s]\n",
      "100%|██████████| 1/1 [00:00<00:00, 2309.64it/s]\n",
      "100%|██████████| 1/1 [00:00<00:00, 1886.78it/s]\n",
      "100%|██████████| 1/1 [00:00<00:00, 585.14it/s]\n",
      "100%|██████████| 1/1 [00:00<00:00, 8473.34it/s]\n",
      "100%|██████████| 1/1 [00:00<00:00, 549.42it/s]\n",
      "100%|██████████| 1/1 [00:00<00:00, 5315.97it/s]\n",
      "100%|██████████| 1/1 [00:00<00:00, 66.93it/s]\n",
      "100%|██████████| 1/1 [00:00<00:00, 687.70it/s]\n",
      "100%|██████████| 1/1 [00:00<00:00, 3404.47it/s]\n",
      "100%|██████████| 1/1 [00:00<00:00, 2257.43it/s]\n",
      "100%|██████████| 1/1 [00:00<00:00, 1529.09it/s]\n",
      "100%|██████████| 1/1 [00:00<00:00, 260.69it/s]\n",
      "100%|██████████| 1/1 [00:00<00:00, 677.16it/s]\n",
      "100%|██████████| 1/1 [00:00<00:00, 678.47it/s]\n",
      "100%|██████████| 1/1 [00:00<00:00, 823.87it/s]\n",
      "100%|██████████| 1/1 [00:00<00:00, 1283.45it/s]\n",
      "100%|██████████| 1/1 [00:00<00:00, 569.03it/s]\n",
      "100%|██████████| 1/1 [00:00<00:00, 1037.17it/s]\n",
      "100%|██████████| 1/1 [00:00<00:00, 673.35it/s]\n",
      "100%|██████████| 1/1 [00:00<00:00, 681.23it/s]\n",
      "100%|██████████| 1/1 [00:00<00:00, 1461.94it/s]\n",
      "100%|██████████| 1/1 [00:00<00:00, 319.37it/s]\n",
      "100%|██████████| 1/1 [00:00<00:00, 689.63it/s]\n",
      "100%|██████████| 1/1 [00:00<00:00, 286.95it/s]\n",
      "100%|██████████| 1/1 [00:00<00:00, 608.31it/s]\n",
      "100%|██████████| 1/1 [00:00<00:00, 287.85it/s]\n",
      "100%|██████████| 1/1 [00:00<00:00, 768.05it/s]\n",
      "100%|██████████| 1/1 [00:00<00:00, 911.61it/s]\n",
      "100%|██████████| 1/1 [00:00<00:00, 217.30it/s]\n"
     ]
    }
   ],
   "source": [
    "categories = json.load(open(\"assets/categories.json\"))\n",
    "classifier = load_model(\"assets/vk_texts_classifier.h5\")\n",
    "vectorizer = pickle.load(open(\"assets/vectorizer.p\", \"rb\"))\n",
    "\n",
    "with open(\"t.txt\", \"w\") as f:\n",
    "    for user_fb in known.FB:\n",
    "        user_vk = None\n",
    "        texts = []\n",
    "        parse_class = ParseClass()\n",
    "        if user_vk:\n",
    "            texts.extend(parse_class.process_owner_vk(user_vk, owner_type='user'))\n",
    "            public_ids = parse_class.get_publics(user_vk, 6)\n",
    "            for public_id in public_ids:\n",
    "                texts.extend(parse_class.process_owner_vk(public_id, owner_type='public', n_wall=2000))\n",
    "        if user_fb:\n",
    "            # texts.extend(parse_class.get_posts_fb(user_fb))\n",
    "            texts.extend(parse_class.get_posts_fb_temp(user_fb))\n",
    "        corpora_class = CorporaClass()\n",
    "        corpora_class.add_to_corpora(texts)\n",
    "        corpora_class.process_corpora()\n",
    "        pred = categories[svm.predict(vectorizer.transform([\" \".join(corpora_class.corpora[0])]).toarray())[0]]\n",
    "        _ = f.write(f\"{known.loc[known.FB == user_fb, 'ФИ']} – {pred}\")\n",
    "    #     verdict = normalize(np.sum(svm.predict(vectorizer.transform(corpora_class.corpora[0]).toarray()),\n",
    "    #                                axis=0).reshape(1, -1))[0]\n",
    "    #     list(zip(categories, verdict))"
   ]
  },
  {
   "cell_type": "code",
   "execution_count": 18,
   "metadata": {
    "ExecuteTime": {
     "end_time": "2017-08-20T22:09:40.704017Z",
     "start_time": "2017-08-20T22:03:52.819177Z"
    },
    "scrolled": true
   },
   "outputs": [
    {
     "name": "stderr",
     "output_type": "stream",
     "text": [
      "  0%|          | 0/44 [00:00<?, ?it/s]\n",
      "  0%|          | 0/1 [00:00<?, ?it/s]\u001b[A\n",
      "  2%|▏         | 1/44 [00:02<01:55,  2.69s/it][A\n",
      "  0%|          | 0/1 [00:00<?, ?it/s]\u001b[A\n",
      "  5%|▍         | 2/44 [00:03<01:24,  2.01s/it]]\u001b[A\n",
      "  0%|          | 0/1 [00:00<?, ?it/s]\u001b[A\n",
      "  7%|▋         | 3/44 [00:03<01:00,  1.47s/it]]\u001b[A\n",
      "  0%|          | 0/1 [00:00<?, ?it/s]\u001b[A\n",
      "  9%|▉         | 4/44 [00:04<01:00,  1.52s/it]\u001b[A\n",
      "  0%|          | 0/1 [00:00<?, ?it/s]\u001b[A\n",
      " 11%|█▏        | 5/44 [00:06<00:59,  1.51s/it]\u001b[A\n",
      "  0%|          | 0/1 [00:00<?, ?it/s]\u001b[A\n",
      " 14%|█▎        | 6/44 [00:06<00:44,  1.18s/it]]\u001b[A\n",
      "  0%|          | 0/1 [00:00<?, ?it/s]\u001b[A\n",
      " 16%|█▌        | 7/44 [00:07<00:34,  1.06it/s]]\u001b[A\n",
      "  0%|          | 0/1 [00:00<?, ?it/s]\u001b[A\n",
      " 18%|█▊        | 8/44 [00:09<00:42,  1.18s/it]\u001b[A\n",
      "  0%|          | 0/1 [00:00<?, ?it/s]\u001b[A\n",
      " 20%|██        | 9/44 [00:09<00:32,  1.07it/s]]\u001b[A\n",
      "  0%|          | 0/1 [00:00<?, ?it/s]\u001b[A\n",
      " 23%|██▎       | 10/44 [00:09<00:27,  1.24it/s]\u001b[A\n",
      "  0%|          | 0/1 [00:00<?, ?it/s]\u001b[A\n",
      " 25%|██▌       | 11/44 [00:10<00:21,  1.53it/s]\u001b[A\n",
      "  0%|          | 0/1 [00:00<?, ?it/s]\u001b[A\n",
      " 27%|██▋       | 12/44 [00:59<08:10, 15.32s/it]A\n",
      "  0%|          | 0/1 [00:00<?, ?it/s]\u001b[A\n",
      " 30%|██▉       | 13/44 [01:00<05:39, 10.97s/it]\u001b[A\n",
      "  0%|          | 0/1 [00:00<?, ?it/s]\u001b[A\n",
      " 32%|███▏      | 14/44 [01:01<03:59,  7.99s/it][A\n",
      "  0%|          | 0/1 [00:00<?, ?it/s]\u001b[A\n",
      " 34%|███▍      | 15/44 [01:01<02:45,  5.71s/it]\u001b[A\n",
      "  0%|          | 0/1 [00:00<?, ?it/s]\u001b[A\n",
      " 36%|███▋      | 16/44 [01:02<01:53,  4.07s/it]]\u001b[A\n",
      "  0%|          | 0/1 [00:00<?, ?it/s]\u001b[A\n",
      " 39%|███▊      | 17/44 [01:02<01:21,  3.01s/it]\u001b[A\n",
      "  0%|          | 0/1 [00:00<?, ?it/s]\u001b[A\n",
      " 41%|████      | 18/44 [01:03<01:00,  2.33s/it][A\n",
      "  0%|          | 0/1 [00:00<?, ?it/s]\u001b[A\n",
      " 43%|████▎     | 19/44 [01:03<00:43,  1.72s/it]\u001b[A\n",
      "  0%|          | 0/1 [00:00<?, ?it/s]\u001b[A\n",
      " 45%|████▌     | 20/44 [01:06<00:47,  1.99s/it][A\n",
      "  0%|          | 0/1 [00:00<?, ?it/s]\u001b[A\n",
      " 48%|████▊     | 21/44 [01:06<00:34,  1.51s/it]\u001b[A\n",
      "  0%|          | 0/1 [00:00<?, ?it/s]\u001b[A\n",
      "100%|██████████| 1/1 [00:00<00:00,  4.24it/s]\u001b[A\n",
      " 50%|█████     | 22/44 [03:04<13:19, 36.36s/it]\n",
      "  0%|          | 0/1 [00:00<?, ?it/s]\u001b[A\n",
      " 52%|█████▏    | 23/44 [03:06<09:04, 25.95s/it][A\n",
      "  0%|          | 0/1 [00:00<?, ?it/s]\u001b[A\n",
      " 55%|█████▍    | 24/44 [03:06<06:05, 18.27s/it]\u001b[A\n",
      "  0%|          | 0/1 [00:00<?, ?it/s]\u001b[A\n",
      " 57%|█████▋    | 25/44 [03:06<04:06, 12.95s/it][A\n",
      "  0%|          | 0/1 [00:00<?, ?it/s]\u001b[A\n",
      " 59%|█████▉    | 26/44 [03:07<02:44,  9.15s/it]\u001b[A\n",
      "  0%|          | 0/1 [00:00<?, ?it/s]\u001b[A\n",
      " 61%|██████▏   | 27/44 [03:09<02:00,  7.11s/it][A\n",
      "  0%|          | 0/1 [00:00<?, ?it/s]\u001b[A\n",
      " 64%|██████▎   | 28/44 [03:10<01:22,  5.17s/it]\u001b[A\n",
      "  0%|          | 0/1 [00:00<?, ?it/s]\u001b[A\n",
      " 66%|██████▌   | 29/44 [03:11<01:00,  4.03s/it][A\n",
      "  0%|          | 0/1 [00:00<?, ?it/s]\u001b[A\n",
      " 68%|██████▊   | 30/44 [03:12<00:44,  3.18s/it]\u001b[A\n",
      "  0%|          | 0/1 [00:00<?, ?it/s]\u001b[A\n",
      " 70%|███████   | 31/44 [03:13<00:29,  2.31s/it]]\u001b[A\n",
      "  0%|          | 0/1 [00:00<?, ?it/s]\u001b[A\n",
      " 73%|███████▎  | 32/44 [03:14<00:24,  2.03s/it][A\n",
      "  0%|          | 0/1 [00:00<?, ?it/s]\u001b[A\n",
      " 75%|███████▌  | 33/44 [03:14<00:16,  1.51s/it]\u001b[A\n",
      "  0%|          | 0/1 [00:00<?, ?it/s]\u001b[A\n",
      " 77%|███████▋  | 34/44 [03:16<00:14,  1.50s/it][A\n",
      "  0%|          | 0/1 [00:00<?, ?it/s]\u001b[A\n",
      " 80%|███████▉  | 35/44 [03:17<00:12,  1.41s/it]\u001b[A\n",
      "  0%|          | 0/1 [00:00<?, ?it/s]\u001b[A\n",
      " 82%|████████▏ | 36/44 [03:18<00:10,  1.26s/it]\u001b[A\n",
      "  0%|          | 0/1 [00:00<?, ?it/s]\u001b[A\n",
      " 84%|████████▍ | 37/44 [03:20<00:10,  1.48s/it][A\n",
      "  0%|          | 0/1 [00:00<?, ?it/s]\u001b[A\n",
      " 86%|████████▋ | 38/44 [03:21<00:08,  1.40s/it]\u001b[A\n",
      "  0%|          | 0/1 [00:00<?, ?it/s]\u001b[A\n",
      " 89%|████████▊ | 39/44 [03:22<00:06,  1.40s/it]\u001b[A\n",
      "  0%|          | 0/1 [00:00<?, ?it/s]\u001b[A\n",
      " 91%|█████████ | 40/44 [03:24<00:05,  1.42s/it]\u001b[A\n",
      "  0%|          | 0/1 [00:00<?, ?it/s]\u001b[A\n",
      " 93%|█████████▎| 41/44 [03:25<00:04,  1.45s/it][A\n",
      "  0%|          | 0/1 [00:00<?, ?it/s]\u001b[A\n",
      " 95%|█████████▌| 42/44 [03:27<00:02,  1.44s/it]\u001b[A\n",
      "  0%|          | 0/1 [00:00<?, ?it/s]\u001b[A\n",
      " 98%|█████████▊| 43/44 [03:28<00:01,  1.39s/it]\u001b[A\n",
      "  0%|          | 0/1 [00:00<?, ?it/s]\u001b[A\n",
      "100%|██████████| 44/44 [05:47<00:00, 42.72s/it]A\n"
     ]
    }
   ],
   "source": [
    "offset = 0\n",
    "for index, row in tqdm.tqdm(known.iloc[offset:, :].iterrows(), total=len(known) - offset):\n",
    "    user_vk = row['vk_id']\n",
    "    if np.isnan(user_vk):\n",
    "        user_vk = None\n",
    "    user_fb = row['FB']\n",
    "    try:\n",
    "        verdict = result_class.get_result(user_vk, user_fb)\n",
    "        for cat, value in verdict:\n",
    "            known.loc[index, cat] = value\n",
    "    except ValueError:\n",
    "        for cat in categories:\n",
    "            known.loc[index, cat] = 0"
   ]
  },
  {
   "cell_type": "code",
   "execution_count": 19,
   "metadata": {
    "ExecuteTime": {
     "end_time": "2017-08-20T22:09:41.393051Z",
     "start_time": "2017-08-20T22:09:40.707694Z"
    }
   },
   "outputs": [],
   "source": [
    "norm_names = dict(zip(categories, \n",
    "         [\"Искусство\", \"Политика\", \"Финансы\", \"Стратегическое управление\", \"Юриспруденция\", \"Исследования и разработки\",\n",
    "          \"Промышленность\", \"Образование\", \"Благотворительность\", \"Здравоохранение\", \"Сельское хозяйство\", \n",
    "          \"Государственное управление\", \"Реклама и маркетинг\", \"Инновации и модернизация\", \"Безопасность\", \n",
    "          \"Военное дело\", \"Корпоративное управление\", \"Социальная защита\", \"Строительство\", \"Предпринимательство\",\n",
    "          \"Спорт\", \"Инвестиции\"]))\n",
    "norm_names_reversed = dict([(a[1], a[0]) for a in norm_names.items()])\n",
    "\n",
    "norm_dict = {\"values\": []}\n",
    "for name in known.ФИ:\n",
    "    results = []\n",
    "    for col in known[known.ФИ == name].iloc[:, 4:].columns:\n",
    "        results.append({\"name\": norm_names[col], \"value\": float(known.loc[known.ФИ == name, col].values[0])})\n",
    "    norm_dict['values'].append({\"name\": name, \"results\": results})"
   ]
  },
  {
   "cell_type": "code",
   "execution_count": 20,
   "metadata": {
    "ExecuteTime": {
     "end_time": "2017-08-20T22:09:41.567596Z",
     "start_time": "2017-08-20T22:09:41.401472Z"
    }
   },
   "outputs": [
    {
     "data": {
      "text/plain": [
       "('Искусство', 0.014755845)"
      ]
     },
     "execution_count": 20,
     "metadata": {},
     "output_type": "execute_result"
    },
    {
     "data": {
      "text/plain": [
       "('Политика', 0.026561856)"
      ]
     },
     "execution_count": 20,
     "metadata": {},
     "output_type": "execute_result"
    },
    {
     "data": {
      "text/plain": [
       "('Финансы', 0.039396241)"
      ]
     },
     "execution_count": 20,
     "metadata": {},
     "output_type": "execute_result"
    },
    {
     "data": {
      "text/plain": [
       "('Стратегическое управление', 0.039121598)"
      ]
     },
     "execution_count": 20,
     "metadata": {},
     "output_type": "execute_result"
    },
    {
     "data": {
      "text/plain": [
       "('Юриспруденция', 0.071112327)"
      ]
     },
     "execution_count": 20,
     "metadata": {},
     "output_type": "execute_result"
    },
    {
     "data": {
      "text/plain": [
       "('Исследования и разработки', 0.088504076)"
      ]
     },
     "execution_count": 20,
     "metadata": {},
     "output_type": "execute_result"
    },
    {
     "data": {
      "text/plain": [
       "('Промышленность', 0.29107782)"
      ]
     },
     "execution_count": 20,
     "metadata": {},
     "output_type": "execute_result"
    },
    {
     "data": {
      "text/plain": [
       "('Образование', 0.62175745)"
      ]
     },
     "execution_count": 20,
     "metadata": {},
     "output_type": "execute_result"
    },
    {
     "data": {
      "text/plain": [
       "('Благотворительность', 0.10370329)"
      ]
     },
     "execution_count": 20,
     "metadata": {},
     "output_type": "execute_result"
    },
    {
     "data": {
      "text/plain": [
       "('Здравоохранение', 0.052846637)"
      ]
     },
     "execution_count": 20,
     "metadata": {},
     "output_type": "execute_result"
    },
    {
     "data": {
      "text/plain": [
       "('Сельское хозяйство', 0.032095235)"
      ]
     },
     "execution_count": 20,
     "metadata": {},
     "output_type": "execute_result"
    },
    {
     "data": {
      "text/plain": [
       "('Государственное управление', 0.026598753)"
      ]
     },
     "execution_count": 20,
     "metadata": {},
     "output_type": "execute_result"
    },
    {
     "data": {
      "text/plain": [
       "('Реклама и маркетинг', 0.064131789)"
      ]
     },
     "execution_count": 20,
     "metadata": {},
     "output_type": "execute_result"
    },
    {
     "data": {
      "text/plain": [
       "('Инновации и модернизация', 0.16241147)"
      ]
     },
     "execution_count": 20,
     "metadata": {},
     "output_type": "execute_result"
    },
    {
     "data": {
      "text/plain": [
       "('Безопасность', 0.025394594)"
      ]
     },
     "execution_count": 20,
     "metadata": {},
     "output_type": "execute_result"
    },
    {
     "data": {
      "text/plain": [
       "('Военное дело', 0.017704837)"
      ]
     },
     "execution_count": 20,
     "metadata": {},
     "output_type": "execute_result"
    },
    {
     "data": {
      "text/plain": [
       "('Корпоративное управление', 0.1330671)"
      ]
     },
     "execution_count": 20,
     "metadata": {},
     "output_type": "execute_result"
    },
    {
     "data": {
      "text/plain": [
       "('Социальная защита', 0.12280205)"
      ]
     },
     "execution_count": 20,
     "metadata": {},
     "output_type": "execute_result"
    },
    {
     "data": {
      "text/plain": [
       "('Строительство', 0.060238123)"
      ]
     },
     "execution_count": 20,
     "metadata": {},
     "output_type": "execute_result"
    },
    {
     "data": {
      "text/plain": [
       "('Предпринимательство', 0.1269815)"
      ]
     },
     "execution_count": 20,
     "metadata": {},
     "output_type": "execute_result"
    },
    {
     "data": {
      "text/plain": [
       "('Спорт', 0.10918298)"
      ]
     },
     "execution_count": 20,
     "metadata": {},
     "output_type": "execute_result"
    },
    {
     "data": {
      "text/plain": [
       "('Инвестиции', 0.026866633)"
      ]
     },
     "execution_count": 20,
     "metadata": {},
     "output_type": "execute_result"
    }
   ],
   "source": [
    "for col in known.iloc[:, 4:].columns:\n",
    "    norm_names[col], known.loc[:, col].mean()"
   ]
  },
  {
   "cell_type": "code",
   "execution_count": 54,
   "metadata": {
    "ExecuteTime": {
     "end_time": "2017-08-21T17:18:24.341722Z",
     "start_time": "2017-08-21T17:18:24.271307Z"
    },
    "scrolled": false
   },
   "outputs": [
    {
     "name": "stdout",
     "output_type": "stream",
     "text": [
      "Открылись!!!! Приветствуем Точку кипения в Петрозаводске!\n",
      "\n"
     ]
    },
    {
     "ename": "AttributeError",
     "evalue": "'tuple' object has no attribute 'values'",
     "output_type": "error",
     "traceback": [
      "\u001b[0;31m---------------------------------------------------------------------------\u001b[0m",
      "\u001b[0;31mAttributeError\u001b[0m                            Traceback (most recent call last)",
      "\u001b[0;32m<ipython-input-54-32a930bbfe36>\u001b[0m in \u001b[0;36m<module>\u001b[0;34m()\u001b[0m\n\u001b[1;32m      3\u001b[0m         \u001b[0;32mfor\u001b[0m \u001b[0mline\u001b[0m \u001b[0;32min\u001b[0m \u001b[0mf\u001b[0m\u001b[0;34m:\u001b[0m\u001b[0;34m\u001b[0m\u001b[0m\n\u001b[1;32m      4\u001b[0m             \u001b[0mprint\u001b[0m\u001b[0;34m(\u001b[0m\u001b[0mline\u001b[0m\u001b[0;34m)\u001b[0m\u001b[0;34m\u001b[0m\u001b[0m\n\u001b[0;32m----> 5\u001b[0;31m     \u001b[0mprint\u001b[0m\u001b[0;34m(\u001b[0m\u001b[0;34m[\u001b[0m\u001b[0ma\u001b[0m\u001b[0;34m.\u001b[0m\u001b[0mvalues\u001b[0m \u001b[0;32mfor\u001b[0m \u001b[0ma\u001b[0m \u001b[0;32min\u001b[0m \u001b[0mknown\u001b[0m\u001b[0;34m.\u001b[0m\u001b[0mloc\u001b[0m\u001b[0;34m[\u001b[0m\u001b[0mknown\u001b[0m\u001b[0;34m[\u001b[0m\u001b[0;34m'FB'\u001b[0m\u001b[0;34m]\u001b[0m \u001b[0;34m==\u001b[0m \u001b[0mfb\u001b[0m\u001b[0;34m,\u001b[0m \u001b[0;34m:\u001b[0m\u001b[0;34m]\u001b[0m\u001b[0;34m.\u001b[0m\u001b[0mitems\u001b[0m\u001b[0;34m(\u001b[0m\u001b[0;34m)\u001b[0m\u001b[0;34m]\u001b[0m\u001b[0;34m)\u001b[0m\u001b[0;34m\u001b[0m\u001b[0m\n\u001b[0m\u001b[1;32m      6\u001b[0m     \u001b[0mprint\u001b[0m\u001b[0;34m(\u001b[0m\u001b[0;34m\"End of file\"\u001b[0m\u001b[0;34m)\u001b[0m\u001b[0;34m\u001b[0m\u001b[0m\n",
      "\u001b[0;32m<ipython-input-54-32a930bbfe36>\u001b[0m in \u001b[0;36m<listcomp>\u001b[0;34m(.0)\u001b[0m\n\u001b[1;32m      3\u001b[0m         \u001b[0;32mfor\u001b[0m \u001b[0mline\u001b[0m \u001b[0;32min\u001b[0m \u001b[0mf\u001b[0m\u001b[0;34m:\u001b[0m\u001b[0;34m\u001b[0m\u001b[0m\n\u001b[1;32m      4\u001b[0m             \u001b[0mprint\u001b[0m\u001b[0;34m(\u001b[0m\u001b[0mline\u001b[0m\u001b[0;34m)\u001b[0m\u001b[0;34m\u001b[0m\u001b[0m\n\u001b[0;32m----> 5\u001b[0;31m     \u001b[0mprint\u001b[0m\u001b[0;34m(\u001b[0m\u001b[0;34m[\u001b[0m\u001b[0ma\u001b[0m\u001b[0;34m.\u001b[0m\u001b[0mvalues\u001b[0m \u001b[0;32mfor\u001b[0m \u001b[0ma\u001b[0m \u001b[0;32min\u001b[0m \u001b[0mknown\u001b[0m\u001b[0;34m.\u001b[0m\u001b[0mloc\u001b[0m\u001b[0;34m[\u001b[0m\u001b[0mknown\u001b[0m\u001b[0;34m[\u001b[0m\u001b[0;34m'FB'\u001b[0m\u001b[0;34m]\u001b[0m \u001b[0;34m==\u001b[0m \u001b[0mfb\u001b[0m\u001b[0;34m,\u001b[0m \u001b[0;34m:\u001b[0m\u001b[0;34m]\u001b[0m\u001b[0;34m.\u001b[0m\u001b[0mitems\u001b[0m\u001b[0;34m(\u001b[0m\u001b[0;34m)\u001b[0m\u001b[0;34m]\u001b[0m\u001b[0;34m)\u001b[0m\u001b[0;34m\u001b[0m\u001b[0m\n\u001b[0m\u001b[1;32m      6\u001b[0m     \u001b[0mprint\u001b[0m\u001b[0;34m(\u001b[0m\u001b[0;34m\"End of file\"\u001b[0m\u001b[0;34m)\u001b[0m\u001b[0;34m\u001b[0m\u001b[0m\n",
      "\u001b[0;31mAttributeError\u001b[0m: 'tuple' object has no attribute 'values'"
     ]
    }
   ],
   "source": [
    "for fb in known.loc[known['education'] < 0.1, 'FB']:\n",
    "    with open(f\"assets/corpora_cached_fb_users/{fb}.txt\") as f:\n",
    "        for line in f:\n",
    "            print(line)\n",
    "    print([a.values for a in known.loc[known['FB'] == fb, :].items()])\n",
    "    print(\"End of file\")"
   ]
  },
  {
   "cell_type": "code",
   "execution_count": 21,
   "metadata": {
    "ExecuteTime": {
     "end_time": "2017-08-20T22:09:41.631117Z",
     "start_time": "2017-08-20T22:09:41.570307Z"
    },
    "collapsed": true
   },
   "outputs": [],
   "source": [
    "known.to_csv(\"assets/known.csv\")\n",
    "json.dump(norm_dict, open(\"assets/temporary_result.json\", \"w\"))"
   ]
  },
  {
   "cell_type": "code",
   "execution_count": 22,
   "metadata": {
    "ExecuteTime": {
     "end_time": "2017-08-20T22:09:41.691154Z",
     "start_time": "2017-08-20T22:09:41.651791Z"
    },
    "collapsed": true
   },
   "outputs": [],
   "source": [
    "import vk_api\n",
    "from config import VK_TOKEN"
   ]
  },
  {
   "cell_type": "code",
   "execution_count": 23,
   "metadata": {
    "ExecuteTime": {
     "end_time": "2017-08-20T22:09:41.764581Z",
     "start_time": "2017-08-20T22:09:41.722894Z"
    },
    "collapsed": true
   },
   "outputs": [],
   "source": [
    "vk = vk_api.VkApi(token=VK_TOKEN)\n",
    "vk = vk.get_api()"
   ]
  },
  {
   "cell_type": "code",
   "execution_count": 24,
   "metadata": {
    "ExecuteTime": {
     "end_time": "2017-08-20T22:09:43.840139Z",
     "start_time": "2017-08-20T22:09:41.768188Z"
    },
    "scrolled": false
   },
   "outputs": [],
   "source": [
    "t = [a['text'] for a in vk.newsfeed.search(q=\"корпоративное управление\", count=200)['items']]"
   ]
  },
  {
   "cell_type": "code",
   "execution_count": 25,
   "metadata": {
    "ExecuteTime": {
     "end_time": "2017-08-20T22:09:43.864179Z",
     "start_time": "2017-08-20T22:09:43.843135Z"
    },
    "collapsed": true,
    "scrolled": false
   },
   "outputs": [],
   "source": [
    "with open('t.txt', 'w') as f:\n",
    "    for line in t:\n",
    "        _ = f.write(f'{line}\\n')"
   ]
  },
  {
   "cell_type": "code",
   "execution_count": null,
   "metadata": {
    "collapsed": true
   },
   "outputs": [],
   "source": []
  }
 ],
 "metadata": {
  "hide_input": false,
  "kernelspec": {
   "display_name": "Python 3",
   "language": "python",
   "name": "python3"
  },
  "language_info": {
   "codemirror_mode": {
    "name": "ipython",
    "version": 3
   },
   "file_extension": ".py",
   "mimetype": "text/x-python",
   "name": "python",
   "nbconvert_exporter": "python",
   "pygments_lexer": "ipython3",
   "version": "3.6.2"
  }
 },
 "nbformat": 4,
 "nbformat_minor": 2
}
